{
 "cells": [
  {
   "cell_type": "markdown",
   "id": "a22084d3-94e8-4542-832a-35a32b5dbc52",
   "metadata": {},
   "source": [
    "# RNN Encoder - Decoder"
   ]
  },
  {
   "cell_type": "code",
   "execution_count": 2,
   "id": "4085848d-8c7b-451f-92f3-9be7766b8794",
   "metadata": {},
   "outputs": [],
   "source": [
    "import torch\n",
    "import torch.nn as nn\n",
    "import torch.optim as optim\n",
    "from torch.utils.data import Dataset, DataLoader\n",
    "\n",
    "import numpy as np\n",
    "import pandas as pd\n",
    "from collections import defaultdict\n",
    "from transformers import BertModel, BertConfig, BertTokenizer\n",
    "import matplotlib.pyplot as plt"
   ]
  },
  {
   "cell_type": "markdown",
   "id": "66b10fde-78c1-4c77-a95b-7c297dc4c223",
   "metadata": {},
   "source": [
    "## Recent in NLP Area\n",
    "\n",
    "- PML(Pretrained Language Model)\n",
    "    - first train a big language model with huge dataset\n",
    "    - second 'fine-tuning' with down-stream task, like classficiation ...\n",
    "    - similar with 'Transfer Learning'\n",
    "- Well organized packages: Transfomers\n",
    "    - link: https://huggingface.co/transformers/"
   ]
  },
  {
   "cell_type": "markdown",
   "id": "edf61ec1-28c6-4b9d-bc6a-a38c697f1325",
   "metadata": {},
   "source": [
    "## QA Data: \n",
    "\n",
    "A dataset which have questions and answers questions across multiple domains (restaurants, retail, complaints, etc.)\n",
    "\n",
    "```\n",
    "# Example 1:\n",
    "Q: 너무 비싼데 개인 헤드셋 가져와서 사용해도 되나요? \n",
    "A: 개인 헤드셋을 가져오셔서 사용하시는 건 자유입니다\n",
    "# Example 2:\n",
    "Q: 물티슈도 있나요? \n",
    "A: 아니요 물티슈는 따로 구비되어 있지 않습니다\n",
    "```"
   ]
  },
  {
   "cell_type": "code",
   "execution_count": 3,
   "id": "8aabc122-3bdb-4840-afd4-4a04fad4ec0c",
   "metadata": {},
   "outputs": [
    {
     "data": {
      "text/html": [
       "<div>\n",
       "<style scoped>\n",
       "    .dataframe tbody tr th:only-of-type {\n",
       "        vertical-align: middle;\n",
       "    }\n",
       "\n",
       "    .dataframe tbody tr th {\n",
       "        vertical-align: top;\n",
       "    }\n",
       "\n",
       "    .dataframe thead th {\n",
       "        text-align: right;\n",
       "    }\n",
       "</style>\n",
       "<table border=\"1\" class=\"dataframe\">\n",
       "  <thead>\n",
       "    <tr style=\"text-align: right;\">\n",
       "      <th></th>\n",
       "      <th>Q</th>\n",
       "      <th>A</th>\n",
       "    </tr>\n",
       "  </thead>\n",
       "  <tbody>\n",
       "    <tr>\n",
       "      <th>0</th>\n",
       "      <td>너무 비싼데 개인 헤드셋 가져와서 사용해도 되나요?</td>\n",
       "      <td>개인 헤드셋을 가져오셔서 사용하시는 건 자유입니다</td>\n",
       "    </tr>\n",
       "    <tr>\n",
       "      <th>1</th>\n",
       "      <td>물티슈도 있나요?</td>\n",
       "      <td>아니요 물티슈는 따로 구비되어 있지 않습니다</td>\n",
       "    </tr>\n",
       "    <tr>\n",
       "      <th>2</th>\n",
       "      <td>그럼 여기 베그도 가맹점인가요?</td>\n",
       "      <td>네 그렇습니다</td>\n",
       "    </tr>\n",
       "    <tr>\n",
       "      <th>3</th>\n",
       "      <td>가맹점 혜택이 뭔데요?</td>\n",
       "      <td>몇 가지 아이템을 더 사용하실 수 있어요</td>\n",
       "    </tr>\n",
       "    <tr>\n",
       "      <th>4</th>\n",
       "      <td>여기 피파온라인 가맹점인가요?</td>\n",
       "      <td>네 피파 가맹점입니다</td>\n",
       "    </tr>\n",
       "  </tbody>\n",
       "</table>\n",
       "</div>"
      ],
      "text/plain": [
       "                              Q                            A\n",
       "0  너무 비싼데 개인 헤드셋 가져와서 사용해도 되나요?  개인 헤드셋을 가져오셔서 사용하시는 건 자유입니다\n",
       "1                     물티슈도 있나요?     아니요 물티슈는 따로 구비되어 있지 않습니다\n",
       "2             그럼 여기 베그도 가맹점인가요?                      네 그렇습니다\n",
       "3                  가맹점 혜택이 뭔데요?       몇 가지 아이템을 더 사용하실 수 있어요\n",
       "4              여기 피파온라인 가맹점인가요?                  네 피파 가맹점입니다"
      ]
     },
     "execution_count": 3,
     "metadata": {},
     "output_type": "execute_result"
    }
   ],
   "source": [
    "data = pd.read_csv(\"./data/dialog.tsv\", sep=\"\\t\", encoding=\"utf-8\", header=None).rename(columns=dict(enumerate([\"Q\", \"A\"])))\n",
    "data.head()"
   ]
  },
  {
   "cell_type": "markdown",
   "id": "171ffb54-a24d-43ef-96fc-7bff69e43aa1",
   "metadata": {},
   "source": [
    "## Transfomers Tokenizer"
   ]
  },
  {
   "cell_type": "code",
   "execution_count": 4,
   "id": "bc4208dd-d8ea-42ae-b72e-7e606c94207b",
   "metadata": {},
   "outputs": [
    {
     "name": "stderr",
     "output_type": "stream",
     "text": [
      "Special tokens have been added in the vocabulary, make sure the associated word embeddings are fine-tuned or trained.\n",
      "Some weights of the model checkpoint at beomi/kcbert-base were not used when initializing BertModel: ['cls.predictions.transform.LayerNorm.bias', 'cls.predictions.transform.dense.weight', 'cls.seq_relationship.weight', 'cls.seq_relationship.bias', 'cls.predictions.decoder.bias', 'cls.predictions.bias', 'cls.predictions.transform.LayerNorm.weight', 'cls.predictions.transform.dense.bias', 'cls.predictions.decoder.weight']\n",
      "- This IS expected if you are initializing BertModel from the checkpoint of a model trained on another task or with another architecture (e.g. initializing a BertForSequenceClassification model from a BertForPreTraining model).\n",
      "- This IS NOT expected if you are initializing BertModel from the checkpoint of a model that you expect to be exactly identical (initializing a BertForSequenceClassification model from a BertForSequenceClassification model).\n"
     ]
    },
    {
     "data": {
      "text/plain": [
       "Embedding(30002, 768)"
      ]
     },
     "execution_count": 4,
     "metadata": {},
     "output_type": "execute_result"
    }
   ],
   "source": [
    "model_path = \"beomi/kcbert-base\"\n",
    "tokenizer = BertTokenizer.from_pretrained(model_path, add_special_tokens=True, additional_special_tokens=[\"[S]\", \"[E]\"])\n",
    "model = BertModel.from_pretrained(model_path)\n",
    "model.resize_token_embeddings(len(tokenizer))"
   ]
  },
  {
   "cell_type": "code",
   "execution_count": 7,
   "id": "55ae0965-4fb9-432c-ba49-f85de88bf7f3",
   "metadata": {},
   "outputs": [
    {
     "data": {
      "text/plain": [
       "{'input_ids': [2, 8225, 10258, 313, 9410, 32, 3], 'token_type_ids': [0, 0, 0, 0, 0, 0, 0], 'attention_mask': [1, 1, 1, 1, 1, 1, 1]}"
      ]
     },
     "execution_count": 7,
     "metadata": {},
     "output_type": "execute_result"
    }
   ],
   "source": [
    "# use tokenizer as function\n",
    "tokenizer(\"여기 뭐하는 곳인가요?\")"
   ]
  },
  {
   "cell_type": "code",
   "execution_count": 8,
   "id": "5c4249d3-9cfc-4f27-97e5-1c43cb70e3b1",
   "metadata": {},
   "outputs": [],
   "source": [
    "class QADataset(Dataset):\n",
    "    def __init__(self, data_path, fmt=\"\\t\", end_tkn=\"[E]\"):\n",
    "        # read files\n",
    "        data = pd.read_csv(data_path, sep=fmt, encoding=\"utf-8\", header=None).rename(columns=dict(enumerate([\"Q\", \"A\"])))\n",
    "        self.Q = data[\"Q\"].tolist()\n",
    "        self.A = (data[\"A\"] + end_tkn).tolist()\n",
    "        \n",
    "    def __getitem__(self, index):\n",
    "        # return the matched index data\n",
    "        return self.Q[index], self.A[index]\n",
    "        \n",
    "    def __len__(self):\n",
    "        # length of dataset\n",
    "        return len(self.Q)"
   ]
  },
  {
   "cell_type": "code",
   "execution_count": 9,
   "id": "375d63a4-d2ab-43cc-a8ee-ec065ca70138",
   "metadata": {},
   "outputs": [],
   "source": [
    "data_path = \"./data/dialog.tsv\"\n",
    "qads = QADataset(data_path, fmt=\"\\t\", end_tkn=\"[E]\")\n",
    "data_loader = DataLoader(qads, batch_size=128, shuffle=True)"
   ]
  },
  {
   "cell_type": "code",
   "execution_count": 10,
   "id": "0cc5ef49-2d30-4a82-9ac1-1129ad718cc1",
   "metadata": {},
   "outputs": [
    {
     "name": "stdout",
     "output_type": "stream",
     "text": [
      "UNK Tokens in Questions:  3.12 %\n",
      "UNK Tokens in Answers:  0.24 %\n"
     ]
    }
   ],
   "source": [
    "# See if our dataset has too much untokenizable sentences\n",
    "unk_tokens_q = 0\n",
    "unk_tokens_a = 0\n",
    "total_tokens_q = 0\n",
    "total_tokens_a = 0\n",
    "for q, a in data_loader:\n",
    "    \n",
    "    q = tokenizer(q, return_tensors=\"pt\", add_special_tokens=False, padding=True, return_token_type_ids=False, return_attention_mask=False)[\"input_ids\"]\n",
    "    a = tokenizer(a, return_tensors=\"pt\", add_special_tokens=False, padding=True, return_token_type_ids=False, return_attention_mask=False)[\"input_ids\"]\n",
    "    unk_tokens_q += (q == tokenizer.unk_token_id).sum().item()\n",
    "    unk_tokens_a += (a == tokenizer.unk_token_id).sum().item()\n",
    "    total_tokens_q = q.size(0) * q.size(1)\n",
    "    total_tokens_a = a.size(0) * a.size(1)\n",
    "\n",
    "print(f\"UNK Tokens in Questions: {unk_tokens_q / total_tokens_q * 100: .2f} %\")\n",
    "print(f\"UNK Tokens in Answers: {unk_tokens_a / total_tokens_a * 100: .2f} %\")"
   ]
  },
  {
   "cell_type": "code",
   "execution_count": 11,
   "id": "62377404-9aad-4c86-9dd1-cc7aad038e03",
   "metadata": {},
   "outputs": [],
   "source": [
    "for q, a in data_loader:\n",
    "    q = tokenizer(q, return_tensors=\"pt\", add_special_tokens=False, padding=True, return_token_type_ids=False, return_attention_mask=False)[\"input_ids\"]\n",
    "    a = tokenizer(a, return_tensors=\"pt\", add_special_tokens=False, padding=True, return_token_type_ids=False, return_attention_mask=False)[\"input_ids\"]\n",
    "    break"
   ]
  },
  {
   "cell_type": "code",
   "execution_count": 14,
   "id": "56b3a2b2-6aa4-4d4f-be6f-5b595964617d",
   "metadata": {},
   "outputs": [
    {
     "data": {
      "text/plain": [
       "tensor([[ 8245,  1052,  9364,  ...,     0,     0,     0],\n",
       "        [ 8614, 11703,  8105,  ...,     0,     0,     0],\n",
       "        [ 8225,  2269,  9068,  ...,     0,     0,     0],\n",
       "        ...,\n",
       "        [ 3354,  4216, 13344,  ...,     0,     0,     0],\n",
       "        [ 9703,  1849,  4681,  ...,     0,     0,     0],\n",
       "        [19975,  9703, 13747,  ...,     0,     0,     0]])"
      ]
     },
     "execution_count": 14,
     "metadata": {},
     "output_type": "execute_result"
    }
   ],
   "source": [
    "q"
   ]
  },
  {
   "cell_type": "code",
   "execution_count": 19,
   "id": "44ec6c5f-1989-4968-8084-3b8c0b2f76fd",
   "metadata": {},
   "outputs": [
    {
     "data": {
      "text/plain": [
       "'거봉 국내산이에요? [PAD] [PAD] [PAD] [PAD] [PAD] [PAD] [PAD] [PAD] [PAD] [PAD] [PAD] [PAD] [PAD] [PAD] [PAD] [PAD] [PAD] [PAD] [PAD] [PAD] [PAD] [PAD] [PAD] [PAD] [PAD] [PAD] [PAD] [PAD] [PAD] [PAD] [PAD] [PAD] [PAD] [PAD] [PAD] [PAD] [PAD] [PAD] [PAD] [PAD] [PAD] [PAD] [PAD]'"
      ]
     },
     "execution_count": 19,
     "metadata": {},
     "output_type": "execute_result"
    }
   ],
   "source": [
    "tokenizer.decode(q[22])"
   ]
  },
  {
   "cell_type": "code",
   "execution_count": 15,
   "id": "312a18c1-1935-40b7-bfa6-0608b46c9547",
   "metadata": {},
   "outputs": [
    {
     "data": {
      "text/plain": [
       "tensor([[11237, 29034, 10676,  ...,     0,     0,     0],\n",
       "        [11076, 11090,  8476,  ...,     0,     0,     0],\n",
       "        [  654,   786, 11061,  ...,     0,     0,     0],\n",
       "        ...,\n",
       "        [  654,    15, 13344,  ...,     0,     0,     0],\n",
       "        [ 1849,  4681,  8982,  ...,     0,     0,     0],\n",
       "        [  654, 13747, 19523,  ...,     0,     0,     0]])"
      ]
     },
     "execution_count": 15,
     "metadata": {},
     "output_type": "execute_result"
    }
   ],
   "source": [
    "a"
   ]
  },
  {
   "cell_type": "code",
   "execution_count": 20,
   "id": "c18eda98-89c9-43e2-956f-883288486db4",
   "metadata": {},
   "outputs": [
    {
     "data": {
      "text/plain": [
       "'네 국내산이에요. [E] [PAD] [PAD] [PAD] [PAD] [PAD] [PAD] [PAD] [PAD] [PAD] [PAD] [PAD] [PAD] [PAD] [PAD] [PAD] [PAD] [PAD] [PAD] [PAD] [PAD] [PAD] [PAD] [PAD] [PAD] [PAD] [PAD] [PAD] [PAD] [PAD] [PAD] [PAD] [PAD] [PAD] [PAD] [PAD] [PAD] [PAD] [PAD] [PAD] [PAD] [PAD] [PAD] [PAD] [PAD] [PAD] [PAD] [PAD] [PAD] [PAD] [PAD] [PAD] [PAD] [PAD] [PAD] [PAD] [PAD] [PAD] [PAD] [PAD] [PAD] [PAD] [PAD] [PAD]'"
      ]
     },
     "execution_count": 20,
     "metadata": {},
     "output_type": "execute_result"
    }
   ],
   "source": [
    "tokenizer.decode(a[22])"
   ]
  },
  {
   "cell_type": "markdown",
   "id": "1da792d6-3d8e-4a46-ba9d-3f3b34d6d3f6",
   "metadata": {},
   "source": [
    "## Encoder"
   ]
  },
  {
   "cell_type": "code",
   "execution_count": 21,
   "id": "5c7203a5-abab-44b1-a83e-c316db35f818",
   "metadata": {},
   "outputs": [],
   "source": [
    "class Encoder(nn.Module):\n",
    "    \"\"\"Encoder\"\"\"\n",
    "    def __init__(self, embedding_weight, vocab_size, hidden_size, bidirec=False):\n",
    "        super().__init__()        \n",
    "        self.hidden_size = hidden_size\n",
    "        self.n_direc = 2 if bidirec else 1\n",
    "        \n",
    "        # Embedding Layer: Embedding(30002, 768, padding_idx=0)\n",
    "        self.embedding = nn.Embedding(vocab_size, hidden_size, padding_idx=0)\n",
    "        self.embedding.weight.data = embedding_weight\n",
    "        # Encoder RNN\n",
    "        self.gru = nn.GRU(hidden_size, \n",
    "                          hidden_size, \n",
    "                          bidirectional=bidirec, \n",
    "                          batch_first=True)\n",
    "\n",
    "    def forward(self, inputs):\n",
    "        \"\"\"\n",
    "        Inputs:\n",
    "        - inputs: (B, T_e)\n",
    "        Outputs:\n",
    "        - hiddens: (1, B, H_e)\n",
    "        ==========================================\n",
    "        B: Mini Batch size\n",
    "        T_e: Encoder Max Length of Tokens\n",
    "        E_e: Encoder Embedding Size\n",
    "        H_e: Encoder Hidden Size\n",
    "        \"\"\"\n",
    "        # (B, T_e) > (B, T_e, E_e)\n",
    "        inputs = self.embedding(inputs)\n",
    "        \n",
    "        # gru \n",
    "        # outputs: (B, T_e, n_direc*H_e)\n",
    "        # hiddens: (n_direc*n_layers, B, H_e)\n",
    "        _, hiddens = self.gru(inputs)\n",
    "        \n",
    "        # Take the last hidden vector\n",
    "        # last_hidden: (n_direc*n_layers, B, H_e) > (B, H_e)\n",
    "        # summation the last hidden\n",
    "        last_hidden = hiddens[-self.n_direc:].sum(0)\n",
    "        \n",
    "        # unsqueeze last_hidden: (1, B, H_e)\n",
    "        return last_hidden.unsqueeze(0)"
   ]
  },
  {
   "cell_type": "code",
   "execution_count": 22,
   "id": "750e65da-7925-42ee-9da6-d523c66f3a8a",
   "metadata": {},
   "outputs": [
    {
     "data": {
      "text/plain": [
       "torch.Size([1, 128, 768])"
      ]
     },
     "execution_count": 22,
     "metadata": {},
     "output_type": "execute_result"
    }
   ],
   "source": [
    "encoder = Encoder(\n",
    "    embedding_weight=model.embeddings.word_embeddings.weight.data,\n",
    "    vocab_size=len(tokenizer), \n",
    "    hidden_size=768,\n",
    "    bidirec=True\n",
    ")\n",
    "enc_hiddens = encoder(q)\n",
    "enc_hiddens.size()"
   ]
  },
  {
   "cell_type": "markdown",
   "id": "1c474fc1-5e3b-4573-984a-fa63397183f4",
   "metadata": {},
   "source": [
    "## Decoder"
   ]
  },
  {
   "cell_type": "code",
   "execution_count": 23,
   "id": "062961a0-aaba-4263-bbae-1e42e30129bd",
   "metadata": {},
   "outputs": [],
   "source": [
    "class Decoder(nn.Module):\n",
    "    \"\"\"Decoder\"\"\"\n",
    "    def __init__(self, embedding_weight, vocab_size, hidden_size, start_idx, end_idx):\n",
    "        super().__init__()\n",
    "        self.hidden_size = hidden_size\n",
    "        self.start_idx = start_idx\n",
    "        self.end_idx = end_idx\n",
    "        # Embedding Layer: Embedding(30002, 768, padding_idx=0)\n",
    "        self.embedding = nn.Embedding(vocab_size, hidden_size, padding_idx=0)\n",
    "        self.embedding.weight.data = embedding_weight\n",
    "        # Decoder RNN\n",
    "        self.gru = nn.GRU(\n",
    "            hidden_size, \n",
    "            hidden_size, \n",
    "            bidirectional=False, \n",
    "            batch_first=True\n",
    "        )\n",
    "        # Final Linear Layer\n",
    "        self.linear = nn.Linear(hidden_size, vocab_size, bias=False)\n",
    "        self.linear.weight.data = embedding_weight\n",
    "\n",
    "    def init_sos(self, batch_size, device):\n",
    "        # Create Tensor with start token: [S]\n",
    "        return torch.LongTensor([self.start_idx]*batch_size).unsqueeze(1).to(device)\n",
    "    \n",
    "    def forward(self, enc_hiddens, gold=None, max_len=None):\n",
    "        \"\"\"\n",
    "        Inputs:\n",
    "        - enc_hiddens: (1, B, H_d)\n",
    "        - max_len: T_d, if it is None means at training phase\n",
    "        - gold: answer token if it is not None means using Teacher Force Model\n",
    "        Outputs:\n",
    "        - scores: results of all predictions = (B, T_d, vocab_size)\n",
    "        ==========================================\n",
    "        B: Mini Batch size\n",
    "        T_d: Decoder Max Length of Tokens\n",
    "        E_d: Decoder Embedding Size\n",
    "        H_d: Decoder Hidden Size\n",
    "        V_d: Vocab Length\n",
    "        \"\"\"\n",
    "        max_len = gold.size(1) if max_len is None else max_len\n",
    "        batch_size = enc_hiddens.size(1)\n",
    "        # initialize input tokens with start token [S]: (B, 1)\n",
    "        inputs = self.init_sos(batch_size, device=enc_hiddens.device)\n",
    "        \n",
    "        # (B, 1) > (B, 1, E_d)\n",
    "        inputs = self.embedding(inputs)\n",
    "        \n",
    "        scores = []\n",
    "        hiddens = enc_hiddens\n",
    "        for i in range(0, max_len):\n",
    "            # hiddens = (1, B, H_d)\n",
    "            _, hiddens = self.gru(inputs, hiddens)\n",
    "            \n",
    "            # score = (1, B, H_d) > (B, H_d) > (B, V_d)\n",
    "            score = self.linear(hiddens.squeeze(0))\n",
    "            scores.append(score)\n",
    "            \n",
    "            if gold is not None:\n",
    "                # Training\n",
    "                pred = gold[:, i]  # (B,)\n",
    "            else:\n",
    "                # Testing\n",
    "                # predict next token score\n",
    "                pred = score.softmax(-1).argmax(-1)  # (B,)\n",
    "                # stop when the token is end_idx\n",
    "                if (pred == self.end_idx).sum() == batch_size:  # all stop\n",
    "                    break\n",
    "                \n",
    "            inputs = self.embedding(pred.unsqueeze(1))\n",
    "\n",
    "        # (T_d, B, vocab_size) > (B, T_d, vocab_size)\n",
    "        scores = torch.stack(scores).transpose(0, 1)\n",
    "        return scores"
   ]
  },
  {
   "cell_type": "code",
   "execution_count": 24,
   "id": "68e7c396-ceef-4f45-b65c-e1bac204d9c3",
   "metadata": {},
   "outputs": [
    {
     "data": {
      "text/plain": [
       "torch.Size([128, 69, 30002])"
      ]
     },
     "execution_count": 24,
     "metadata": {},
     "output_type": "execute_result"
    }
   ],
   "source": [
    "decoder = Decoder(\n",
    "    embedding_weight=model.embeddings.word_embeddings.weight.data,\n",
    "    vocab_size=len(tokenizer), \n",
    "    hidden_size=768,\n",
    "    start_idx=tokenizer.all_special_ids[-2],\n",
    "    end_idx=tokenizer.all_special_ids[-1]\n",
    ")\n",
    "scores = decoder(enc_hiddens, gold=a, max_len=None)\n",
    "scores.size()"
   ]
  },
  {
   "cell_type": "markdown",
   "id": "1a1bf0f0-779e-46b7-b432-0e50ebf93e08",
   "metadata": {},
   "source": [
    "## Model: Encoder-Decoder"
   ]
  },
  {
   "cell_type": "code",
   "execution_count": 25,
   "id": "e101692b-e627-443d-9e0e-c32072569010",
   "metadata": {},
   "outputs": [],
   "source": [
    "class EncoderDecoder(nn.Module):\n",
    "    \"\"\"Encoder - Decoder\"\"\"\n",
    "    def __init__(self, embedding_weight, vocab_size, hidden_size, start_idx, end_idx, bidirec=False):\n",
    "        \"\"\"\n",
    "        Class for linking encoder and decoder\n",
    "        \"\"\"\n",
    "        super().__init__()\n",
    "        self.encoder = Encoder(\n",
    "            embedding_weight=embedding_weight,\n",
    "            vocab_size=vocab_size,\n",
    "            hidden_size=hidden_size,\n",
    "            bidirec=bidirec\n",
    "        )\n",
    "        self.decoder = Decoder(\n",
    "            embedding_weight=embedding_weight,\n",
    "            vocab_size=vocab_size,\n",
    "            hidden_size=hidden_size,\n",
    "            start_idx=start_idx,\n",
    "            end_idx=end_idx\n",
    "        )\n",
    "        \n",
    "    def forward(self, input_qs, input_as, max_len=None):\n",
    "        \"\"\"\n",
    "        scores 크기: (B*(T_d), vocab_size)\n",
    "        \"\"\"\n",
    "        enc_hiddens = self.encoder(input_qs)\n",
    "        scores = self.decoder(enc_hiddens, gold=input_as, max_len=max_len)\n",
    "        return scores\n",
    "    \n",
    "    def load_embeddings(self, state_dict):\n",
    "        self.encoder.embedding.weight.data = state_dict['encoder.embedding.weight']\n",
    "        self.decoder.embedding.weight.data = state_dict['decoder.embedding.weight']"
   ]
  },
  {
   "cell_type": "markdown",
   "id": "3d2e6db0-c182-4c8c-add3-09a893ba52ce",
   "metadata": {},
   "source": [
    "## Define Dataset and model"
   ]
  },
  {
   "cell_type": "code",
   "execution_count": 26,
   "id": "90e7bf3f-fef8-4ca4-a7d9-48008414f0da",
   "metadata": {},
   "outputs": [
    {
     "name": "stderr",
     "output_type": "stream",
     "text": [
      "Special tokens have been added in the vocabulary, make sure the associated word embeddings are fine-tuned or trained.\n",
      "Some weights of the model checkpoint at beomi/kcbert-base were not used when initializing BertModel: ['cls.predictions.transform.LayerNorm.bias', 'cls.predictions.transform.dense.weight', 'cls.seq_relationship.weight', 'cls.seq_relationship.bias', 'cls.predictions.decoder.bias', 'cls.predictions.bias', 'cls.predictions.transform.LayerNorm.weight', 'cls.predictions.transform.dense.bias', 'cls.predictions.decoder.weight']\n",
      "- This IS expected if you are initializing BertModel from the checkpoint of a model trained on another task or with another architecture (e.g. initializing a BertForSequenceClassification model from a BertForPreTraining model).\n",
      "- This IS NOT expected if you are initializing BertModel from the checkpoint of a model that you expect to be exactly identical (initializing a BertForSequenceClassification model from a BertForSequenceClassification model).\n"
     ]
    }
   ],
   "source": [
    "data_path = \"./data/dialog.tsv\"\n",
    "qads = QADataset(data_path, fmt=\"\\t\", end_tkn=\"[E]\")\n",
    "data_loader = DataLoader(qads, batch_size=25, shuffle=True)\n",
    "\n",
    "device = \"cuda\" if torch.cuda.is_available() else \"cpu\"\n",
    "model_path = \"beomi/kcbert-base\"\n",
    "tokenizer = BertTokenizer.from_pretrained(model_path, add_special_tokens=True, additional_special_tokens=[\"[S]\", \"[E]\"])\n",
    "model_bert = BertModel.from_pretrained(model_path)\n",
    "model_bert.resize_token_embeddings(len(tokenizer))\n",
    "hidden_size = 768\n",
    "vocab_size = len(tokenizer)\n",
    "bidirec = True"
   ]
  },
  {
   "cell_type": "code",
   "execution_count": 27,
   "id": "1ec36b8d-1278-4605-8164-abc56bfd63cd",
   "metadata": {},
   "outputs": [],
   "source": [
    "# define model\n",
    "model = EncoderDecoder(\n",
    "    embedding_weight=model_bert.embeddings.word_embeddings.weight.data, \n",
    "    vocab_size=vocab_size,\n",
    "    hidden_size=hidden_size, \n",
    "    start_idx=tokenizer.all_special_ids[-2], \n",
    "    end_idx=tokenizer.all_special_ids[-1], \n",
    "    bidirec=bidirec\n",
    ").to(device)\n",
    "\n",
    "# define optimizer and loss function\n",
    "loss_function = nn.CrossEntropyLoss(ignore_index=tokenizer.pad_token_id)\n",
    "optimizer = optim.Adam(model.parameters(), lr=0.001, weight_decay=1e-5)"
   ]
  },
  {
   "cell_type": "markdown",
   "id": "3e54b0f9-3af0-414c-89d4-3498549642e2",
   "metadata": {},
   "source": [
    "## Model Training\n",
    "\n",
    "### Train function"
   ]
  },
  {
   "cell_type": "code",
   "execution_count": 13,
   "id": "08d6f30b-f7b4-436b-acac-f44c19de765a",
   "metadata": {},
   "outputs": [],
   "source": [
    "def train(model, tokenizer, data_loader, loss_function, optimizer, print_step, device):\n",
    "    # Training\n",
    "    total_loss = 0\n",
    "    vocab_size = len(tokenizer)\n",
    "    n_train = len(data_loader.dataset)\n",
    "    model.train()\n",
    "    \n",
    "    for batch_idx, (q, a) in enumerate(data_loader):\n",
    "        # Tokenize\n",
    "        input_qs = tokenizer(q, return_tensors=\"pt\", add_special_tokens=False, padding=True, return_token_type_ids=False, return_attention_mask=False)[\"input_ids\"]\n",
    "        input_as = tokenizer(a, return_tensors=\"pt\", add_special_tokens=False, padding=True, return_token_type_ids=False, return_attention_mask=False)[\"input_ids\"]\n",
    "        input_qs, input_as = input_qs.to(device), input_as.to(device)\n",
    "        \n",
    "        optimizer.zero_grad()\n",
    "        scores = model(input_qs, input_as, max_len=None)\n",
    "        loss = loss_function(scores.contiguous().view(-1, vocab_size), input_as.contiguous().view(-1))\n",
    "        loss.backward()\n",
    "        optimizer.step()\n",
    "        \n",
    "        total_loss += loss.item()\n",
    "        \n",
    "        if batch_idx % print_step == 0:\n",
    "            percentage = (batch_idx*data_loader.batch_size / n_train) * 100\n",
    "            print(f\" - [{percentage:.2f}%] train loss: {loss:.4f}\")\n",
    "    return total_loss"
   ]
  },
  {
   "cell_type": "code",
   "execution_count": 14,
   "id": "18f1a8d3-60e5-4a45-96f8-0adb294a01c6",
   "metadata": {},
   "outputs": [
    {
     "name": "stdout",
     "output_type": "stream",
     "text": [
      "[Step] 1/10\n",
      " - [0.00%] train loss: 10.3081\n",
      " - [11.36%] train loss: 5.0474\n",
      " - [22.72%] train loss: 4.5721\n",
      " - [34.07%] train loss: 4.3695\n",
      " - [45.43%] train loss: 4.1076\n",
      " - [56.79%] train loss: 4.0945\n",
      " - [68.15%] train loss: 4.0843\n",
      " - [79.51%] train loss: 3.8699\n",
      " - [90.87%] train loss: 3.5343\n",
      " - Train Average Loss: 8172.8449\n",
      "[Alert] Best Model Saved\n",
      "[Step] 2/10\n",
      " - [0.00%] train loss: 3.7011\n",
      " - [11.36%] train loss: 3.2771\n",
      " - [22.72%] train loss: 2.7020\n",
      " - [34.07%] train loss: 3.9001\n",
      " - [45.43%] train loss: 3.7935\n",
      " - [56.79%] train loss: 3.2162\n",
      " - [68.15%] train loss: 3.5063\n",
      " - [79.51%] train loss: 3.9732\n",
      " - [90.87%] train loss: 3.5043\n",
      " - Train Average Loss: 6142.2792\n",
      "[Alert] Best Model Saved\n",
      "[Step] 3/10\n",
      " - [0.00%] train loss: 2.4753\n",
      " - [11.36%] train loss: 2.3496\n",
      " - [22.72%] train loss: 3.4115\n",
      " - [34.07%] train loss: 2.7826\n",
      " - [45.43%] train loss: 2.9063\n",
      " - [56.79%] train loss: 2.7584\n",
      " - [68.15%] train loss: 2.6779\n",
      " - [79.51%] train loss: 2.5897\n",
      " - [90.87%] train loss: 3.4225\n",
      " - Train Average Loss: 5077.2090\n",
      "[Alert] Best Model Saved\n",
      "[Step] 4/10\n",
      " - [0.00%] train loss: 1.8983\n",
      " - [11.36%] train loss: 1.9344\n",
      " - [22.72%] train loss: 1.8795\n",
      " - [34.07%] train loss: 2.7409\n",
      " - [45.43%] train loss: 2.6227\n",
      " - [56.79%] train loss: 2.1320\n",
      " - [68.15%] train loss: 2.6096\n",
      " - [79.51%] train loss: 2.4729\n",
      " - [90.87%] train loss: 2.5711\n",
      " - Train Average Loss: 4189.0874\n",
      "[Alert] Best Model Saved\n",
      "[Step] 5/10\n",
      " - [0.00%] train loss: 1.9240\n",
      " - [11.36%] train loss: 1.7144\n",
      " - [22.72%] train loss: 1.8586\n",
      " - [34.07%] train loss: 1.5927\n",
      " - [45.43%] train loss: 1.8011\n",
      " - [56.79%] train loss: 2.0886\n",
      " - [68.15%] train loss: 2.4430\n",
      " - [79.51%] train loss: 1.8203\n",
      " - [90.87%] train loss: 2.1430\n",
      " - Train Average Loss: 3447.5645\n",
      "[Alert] Best Model Saved\n",
      "[Step] 6/10\n",
      " - [0.00%] train loss: 1.3755\n",
      " - [11.36%] train loss: 1.5622\n",
      " - [22.72%] train loss: 1.2564\n",
      " - [34.07%] train loss: 1.6045\n",
      " - [45.43%] train loss: 1.8815\n",
      " - [56.79%] train loss: 1.8191\n",
      " - [68.15%] train loss: 1.9047\n",
      " - [79.51%] train loss: 1.6503\n",
      " - [90.87%] train loss: 1.8233\n",
      " - Train Average Loss: 2843.0328\n",
      "[Alert] Best Model Saved\n",
      "[Step] 7/10\n",
      " - [0.00%] train loss: 1.1039\n",
      " - [11.36%] train loss: 1.0174\n",
      " - [22.72%] train loss: 1.3048\n",
      " - [34.07%] train loss: 1.2107\n",
      " - [45.43%] train loss: 1.3913\n",
      " - [56.79%] train loss: 1.3136\n",
      " - [68.15%] train loss: 1.5938\n",
      " - [79.51%] train loss: 1.6528\n",
      " - [90.87%] train loss: 1.7797\n",
      " - Train Average Loss: 2367.7096\n",
      "[Alert] Best Model Saved\n",
      "[Step] 8/10\n",
      " - [0.00%] train loss: 0.8676\n",
      " - [11.36%] train loss: 0.9297\n",
      " - [22.72%] train loss: 0.9586\n",
      " - [34.07%] train loss: 1.0659\n",
      " - [45.43%] train loss: 1.0552\n",
      " - [56.79%] train loss: 1.3420\n",
      " - [68.15%] train loss: 1.1279\n",
      " - [79.51%] train loss: 1.2157\n",
      " - [90.87%] train loss: 1.2482\n",
      " - Train Average Loss: 2012.0057\n",
      "[Alert] Best Model Saved\n",
      "[Step] 9/10\n",
      " - [0.00%] train loss: 0.6678\n",
      " - [11.36%] train loss: 0.7503\n",
      " - [22.72%] train loss: 0.8190\n",
      " - [34.07%] train loss: 0.7680\n",
      " - [45.43%] train loss: 0.8723\n",
      " - [56.79%] train loss: 1.0453\n",
      " - [68.15%] train loss: 1.1669\n",
      " - [79.51%] train loss: 1.0831\n",
      " - [90.87%] train loss: 0.8301\n",
      " - Train Average Loss: 1734.0262\n",
      "[Alert] Best Model Saved\n",
      "[Step] 10/10\n",
      " - [0.00%] train loss: 0.4471\n",
      " - [11.36%] train loss: 0.6266\n",
      " - [22.72%] train loss: 0.6125\n",
      " - [34.07%] train loss: 0.7664\n",
      " - [45.43%] train loss: 0.7516\n",
      " - [56.79%] train loss: 0.8997\n",
      " - [68.15%] train loss: 0.8793\n",
      " - [79.51%] train loss: 1.3131\n",
      " - [90.87%] train loss: 1.1508\n",
      " - Train Average Loss: 1534.1703\n",
      "[Alert] Best Model Saved\n"
     ]
    }
   ],
   "source": [
    "n_step = 10\n",
    "print_step = 200\n",
    "best_loss = 999999\n",
    "\n",
    "for step in range(n_step):\n",
    "    print(f\"[Step] {step+1}/{n_step}\")\n",
    "    train_loss = train(model, tokenizer, data_loader, loss_function, optimizer, print_step, device)\n",
    "    print(f\" - Train Average Loss: {train_loss:.4f}\")\n",
    "    \n",
    "    if train_loss < best_loss:\n",
    "        best_loss = train_loss\n",
    "        torch.save(model.state_dict(), \"./states/best_model-chat.pt\")\n",
    "        print(\"[Alert] Best Model Saved\")"
   ]
  },
  {
   "cell_type": "code",
   "execution_count": 55,
   "id": "801fbd61-b374-40ef-a68a-7781040335aa",
   "metadata": {},
   "outputs": [],
   "source": [
    "load_path = \"./states/best_model-chat.pt\"\n",
    "device = torch.device('cpu')\n",
    "model = EncoderDecoder(\n",
    "    embedding_weight=model_bert.embeddings.word_embeddings.weight.data, \n",
    "    vocab_size=vocab_size,\n",
    "    hidden_size=hidden_size, \n",
    "    start_idx=tokenizer.all_special_ids[-2], \n",
    "    end_idx=tokenizer.all_special_ids[-1], \n",
    "    bidirec=bidirec\n",
    ").to(device)\n",
    "state_dict = torch.load(load_path, map_location=device)\n",
    "model.load_state_dict(state_dict)\n",
    "model.load_embeddings(state_dict)\n",
    "model.eval()\n",
    "\n",
    "def chat_program(model, tokenizer, max_len, device):\n",
    "    model.eval()\n",
    "    print(\"[exit() 를 입력하면 종료할 수 있습니다.]\")\n",
    "    print()\n",
    "    switch = True\n",
    "    while switch:\n",
    "        txt = input(\"질의: \")\n",
    "        input_qs = tokenizer([txt], return_tensors=\"pt\", add_special_tokens=False, padding=True, return_token_type_ids=False, return_attention_mask=False)[\"input_ids\"]\n",
    "        with torch.no_grad():\n",
    "            scores = model(input_qs.to(device), input_as=None, max_len=max_len)\n",
    "        preds = scores.argmax(-1).squeeze().detach()\n",
    "        if txt == \"exit()\":\n",
    "            switch=False\n",
    "        else:\n",
    "            print(f'대답:  {tokenizer.decode(preds).strip(\"[E]\")}')"
   ]
  },
  {
   "cell_type": "code",
   "execution_count": 56,
   "id": "c29797d1-a4ea-49b7-ad42-37666abbf115",
   "metadata": {},
   "outputs": [
    {
     "name": "stdout",
     "output_type": "stream",
     "text": [
      "[exit() 를 입력하면 종료할 수 있습니다.]\n",
      "\n"
     ]
    },
    {
     "name": "stdin",
     "output_type": "stream",
     "text": [
      "질의:  안녕하세요\n"
     ]
    },
    {
     "name": "stdout",
     "output_type": "stream",
     "text": [
      "대답:  안녕. \n"
     ]
    },
    {
     "name": "stdin",
     "output_type": "stream",
     "text": [
      "질의:  여기 던파 가맹점임?\n"
     ]
    },
    {
     "name": "stdout",
     "output_type": "stream",
     "text": [
      "대답:  피클 본사에서 내려와요 \n"
     ]
    },
    {
     "name": "stdin",
     "output_type": "stream",
     "text": [
      "질의:  뭐라구요?\n"
     ]
    },
    {
     "name": "stdout",
     "output_type": "stream",
     "text": [
      "대답:  아뇨 앉으시면 돼요 \n"
     ]
    },
    {
     "name": "stdin",
     "output_type": "stream",
     "text": [
      "질의:  뭐하면 될까요?\n"
     ]
    },
    {
     "name": "stdout",
     "output_type": "stream",
     "text": [
      "대답:  과일주스나 같이 드시려면게요 \n"
     ]
    },
    {
     "name": "stdin",
     "output_type": "stream",
     "text": [
      "질의:  커피 있나요?\n"
     ]
    },
    {
     "name": "stdout",
     "output_type": "stream",
     "text": [
      "대답:  커피는 셀프였으면 좋겠어요 \n"
     ]
    },
    {
     "name": "stdin",
     "output_type": "stream",
     "text": [
      "질의:  exit()\n"
     ]
    }
   ],
   "source": [
    "chat_program(model, tokenizer, max_len=50, device=device)"
   ]
  },
  {
   "cell_type": "markdown",
   "id": "f6d8f6c9-e646-4015-9f2d-69bb4ee72784",
   "metadata": {},
   "source": [
    "---"
   ]
  },
  {
   "cell_type": "markdown",
   "id": "6387241a-47b2-4798-912c-245f0fb7ddb0",
   "metadata": {},
   "source": [
    "# Attention Machanisim"
   ]
  },
  {
   "cell_type": "markdown",
   "id": "66ed96bb-9366-42dd-a42a-db3d9e24eb23",
   "metadata": {},
   "source": [
    "## Attention\n",
    "\n",
    "How to create context?\n",
    "\n",
    "* Batch Size=1, Embedding Size=30, Max Length of Tokens=5, Hidden Size=50\n",
    "* RNN: 1 layer single direction"
   ]
  },
  {
   "cell_type": "code",
   "execution_count": 58,
   "id": "6b75ca80-7032-485c-8137-3c1d8937ee3f",
   "metadata": {},
   "outputs": [],
   "source": [
    "torch.manual_seed(77)\n",
    "B = 2\n",
    "E = 30\n",
    "T = 5\n",
    "H = 50\n",
    "\n",
    "inputs = torch.randn(B, T, E)\n",
    "hiddens = torch.zeros(1, B, H)\n",
    "\n",
    "rnn_layer = nn.RNN(E, H, batch_first=True)"
   ]
  },
  {
   "cell_type": "code",
   "execution_count": 59,
   "id": "f2e75396-0420-47a9-b5bd-c1dbce63700b",
   "metadata": {},
   "outputs": [
    {
     "name": "stdout",
     "output_type": "stream",
     "text": [
      "Encoder All Time Stpes Hiddem Size: torch.Size([2, 5, 50])\n",
      "Decoder Certain Stpe Hiddem Size: torch.Size([1, 2, 50])\n"
     ]
    }
   ],
   "source": [
    "torch.manual_seed(77)\n",
    "encoder_hiddens, hiddens = rnn_layer(inputs, hiddens)\n",
    "decoder_hiddens = torch.randn(1, B, H)  # decoder at t-timestamp for example\n",
    "\n",
    "print(f\"Encoder All Time Stpes Hiddem Size: {encoder_hiddens.size()}\")\n",
    "print(f\"Decoder Certain Stpe Hiddem Size: {decoder_hiddens.size()}\")"
   ]
  },
  {
   "cell_type": "markdown",
   "id": "a6a29ac6-807c-4f44-aee1-097d3addaf5b",
   "metadata": {},
   "source": [
    "### 1. Attention Score\n",
    "\n",
    "$$s_{ij} = \\alpha(d_{i-1}, e_j) = d_{i-1} \\cdot e_j^T$$\n",
    "\n",
    "* `bmm` 배치 끼리 매트릭스 곱을 수행한다. \n",
    "\n",
    "```\n",
    "matrix1 = (B, 10, 5)\n",
    "matrix2 = (B, 5, 2)\n",
    "torch.bmm(matrix1, matrix2) = (B, 10, 5) x (B, 5, 2) = (B, 10, 2)\n",
    "```"
   ]
  },
  {
   "cell_type": "code",
   "execution_count": 60,
   "id": "7db68246-e30d-4ed1-be73-6e003ed48d10",
   "metadata": {},
   "outputs": [
    {
     "name": "stdout",
     "output_type": "stream",
     "text": [
      "torch.Size([2, 1, 5])\n",
      "\n",
      "tensor([[[-0.7028, -2.8749, -3.6744, -4.6765, -3.1657]],\n",
      "\n",
      "        [[-0.4469,  1.2336, -2.0815, -0.0484, -5.5157]]])\n"
     ]
    }
   ],
   "source": [
    "e = encoder_hiddens   # (B, T, H)\n",
    "d = decoder_hiddens.transpose(1, 0)  # (1, B, H) > (B, 1, H)\n",
    "scores = torch.bmm(d, e.transpose(1, 2))\n",
    "print(scores.size())\n",
    "print()\n",
    "print(scores.data)"
   ]
  },
  {
   "cell_type": "code",
   "execution_count": 61,
   "id": "671374f7-ac05-4db3-bd15-6cac900cbf09",
   "metadata": {},
   "outputs": [
    {
     "name": "stdout",
     "output_type": "stream",
     "text": [
      "torch.Size([2, 1, 5])\n",
      "\n",
      "tensor([[[-0.7028, -2.8749, -3.6744, -4.6765, -3.1657]],\n",
      "\n",
      "        [[-0.4469,  1.2336, -2.0815, -0.0484, -5.5157]]])\n"
     ]
    }
   ],
   "source": [
    "# using for loop(loop each batch data) to see if it is same\n",
    "batch = []\n",
    "for single_e, single_d in zip(e, d):\n",
    "    score = []\n",
    "    for e_j in single_e:\n",
    "        # e_j = 50, d_{i-1}=50\n",
    "        s = single_d.squeeze().dot(e_j)\n",
    "        score.append(s)\n",
    "    batch.append(torch.stack(score).unsqueeze(0))\n",
    "scores = torch.stack(batch)\n",
    "\n",
    "print(scores.size())\n",
    "print()\n",
    "print(scores.data)"
   ]
  },
  {
   "cell_type": "markdown",
   "id": "1ea2c836-52f6-49d4-8971-a0891cebb1ed",
   "metadata": {},
   "source": [
    "### 2. Attention distribution\n",
    "\n",
    "$$a_{ij} = \\dfrac{\\exp(s_{ij})}{\\sum_{k=1}^N s_{ik}}$$"
   ]
  },
  {
   "cell_type": "code",
   "execution_count": 62,
   "id": "bd444d48-d224-4bb6-b4ba-b8f6d6efee2a",
   "metadata": {},
   "outputs": [],
   "source": [
    "attn_dist = scores.softmax(-1)  # (B, 1, T)"
   ]
  },
  {
   "cell_type": "code",
   "execution_count": 86,
   "id": "08faec8a-e9fb-4863-872f-05be7cbf60b8",
   "metadata": {},
   "outputs": [
    {
     "data": {
      "text/plain": [
       "array([-0.6, -0.4, -0.2,  0. ,  0.2,  0.4,  0.6])"
      ]
     },
     "execution_count": 86,
     "metadata": {},
     "output_type": "execute_result"
    }
   ],
   "source": [
    "ax.get_yticks()"
   ]
  },
  {
   "cell_type": "code",
   "execution_count": 87,
   "id": "9b3747b8-5172-408a-931f-c7478417122c",
   "metadata": {},
   "outputs": [
    {
     "data": {
      "image/png": "[encoded data removed]",
      "text/plain": [
       "<Figure size 720x288 with 2 Axes>"
      ]
     },
     "metadata": {
      "needs_background": "light"
     },
     "output_type": "display_data"
    }
   ],
   "source": [
    "# draw attention distribution\n",
    "data = attn_dist.detach()\n",
    "fig, axes = plt.subplots(2, 1, figsize=(10, 4))\n",
    "for batch_i, ax in enumerate(axes.flatten()):\n",
    "    ax.matshow(data[batch_i], cmap=\"coolwarm\", alpha=0.8)\n",
    "    ax.set_title(f\"Batch Number {batch_i+1}\")\n",
    "    ax.set_yticks([0])\n",
    "    ax.set_yticklabels([batch_i])\n",
    "    for (i, j), z in np.ndenumerate(data[batch_i]):\n",
    "        ax.text(j, i, '{:0.1f}'.format(z), ha='center', va='center')\n",
    "        \n",
    "plt.tight_layout(h_pad=1.5)\n",
    "plt.show()"
   ]
  },
  {
   "cell_type": "markdown",
   "id": "1e274e47-2c88-41b6-8ff0-8af27bac8883",
   "metadata": {},
   "source": [
    "### 3. Context Vector\n",
    "\n",
    "$$c_t = \\sum_{i=1}^N a_i^t e_i$$"
   ]
  },
  {
   "cell_type": "code",
   "execution_count": 88,
   "id": "df954787-e522-4004-95e5-7ebd52082ab3",
   "metadata": {},
   "outputs": [
    {
     "name": "stdout",
     "output_type": "stream",
     "text": [
      "torch.Size([2, 1, 50])\n"
     ]
    }
   ],
   "source": [
    "# (B, 1, T) * (B, T, H) = (B, 1, H)\n",
    "context = torch.bmm(attn_dist, e)\n",
    "print(context.size())"
   ]
  },
  {
   "cell_type": "markdown",
   "id": "cc9bf13b-e759-4f7f-91bf-588817d48d18",
   "metadata": {},
   "source": [
    "### 4. Concat Context"
   ]
  },
  {
   "cell_type": "code",
   "execution_count": 89,
   "id": "ca00beba-a5b2-48e0-b098-a085b3ea326b",
   "metadata": {},
   "outputs": [
    {
     "name": "stdout",
     "output_type": "stream",
     "text": [
      "torch.Size([2, 1, 80])\n"
     ]
    }
   ],
   "source": [
    "torch.manual_seed(77)\n",
    "new_embeded = torch.randn(B, 1, E)\n",
    "new_inputs = torch.cat([context, new_embeded], dim=2)\n",
    "print(new_inputs.size())  # (B, 1, H + E)"
   ]
  },
  {
   "cell_type": "markdown",
   "id": "048a8833-a833-4ab3-8c6a-2ebc82c7dbb1",
   "metadata": {},
   "source": [
    "## QA Data\n",
    "\n",
    "### Redefine Encoder"
   ]
  },
  {
   "cell_type": "code",
   "execution_count": 4,
   "id": "ecb1fe35-5348-4a89-9b40-d4536ff8f506",
   "metadata": {},
   "outputs": [],
   "source": [
    "class EncoderAttn(nn.Module):\n",
    "    \"\"\"Encoder\"\"\"\n",
    "    def __init__(self, embedding_weight, vocab_size, hidden_size, bidirec=False):\n",
    "        super().__init__()        \n",
    "        self.hidden_size = hidden_size\n",
    "        self.n_direc = 2 if bidirec else 1\n",
    "        \n",
    "        # Embedding Layer: Embedding(30002, 768, padding_idx=0)\n",
    "        self.embedding = nn.Embedding(vocab_size, hidden_size, padding_idx=0)\n",
    "        self.embedding.weight.data = embedding_weight\n",
    "        # Encoder RNN\n",
    "        self.gru = nn.GRU(hidden_size, \n",
    "                          hidden_size, \n",
    "                          bidirectional=bidirec, \n",
    "                          batch_first=True)\n",
    "\n",
    "    def forward(self, inputs):\n",
    "        \"\"\"\n",
    "        Inputs:\n",
    "        - inputs: (B, T_e)\n",
    "        Outputs:\n",
    "        - outputs: (B, T, H_e)\n",
    "        - hiddens: (1, B, H_e)\n",
    "        ==========================================\n",
    "        B: Mini Batch size\n",
    "        T_e: Encoder Max Length of Tokens\n",
    "        E_e: Encoder Embedding Size\n",
    "        H_e: Encoder Hidden Size\n",
    "        \"\"\"\n",
    "        # (B, T_e) > (B, T_e, E_e)\n",
    "        inputs = self.embedding(inputs)\n",
    "        \n",
    "        # gru \n",
    "        # outputs: (B, T_e, n_direc*H_e)\n",
    "        # hiddens: (n_direc*n_layers, B, H_e)\n",
    "        outputs, hiddens = self.gru(inputs)\n",
    "        \n",
    "        # Take the last hidden vector\n",
    "        # last_hidden: (B, H)\n",
    "        # summation the last hidden\n",
    "        outputs = torch.stack(torch.chunk(outputs, chunks=2, dim=2)).sum(0)\n",
    "        last_hidden = hiddens[-self.n_direc:].sum(0)\n",
    "        \n",
    "        # unsqueeze last_hidden: (1, B, H)\n",
    "        return outputs, last_hidden.unsqueeze(0)"
   ]
  },
  {
   "cell_type": "markdown",
   "id": "37c4bed0-fb05-4fb3-ae28-c3008421f2ca",
   "metadata": {},
   "source": [
    "### Redefine Decoder with Context"
   ]
  },
  {
   "cell_type": "code",
   "execution_count": 5,
   "id": "7d22af45-4fb9-4a6b-9e79-42520525667c",
   "metadata": {},
   "outputs": [],
   "source": [
    "class DecoderAttn(nn.Module):\n",
    "    \"\"\"Decoder\"\"\"\n",
    "    def __init__(self, embedding_weight, vocab_size, hidden_size, start_idx, end_idx):\n",
    "        super().__init__()\n",
    "        self.hidden_size = hidden_size\n",
    "        self.start_idx = start_idx\n",
    "        self.end_idx = end_idx\n",
    "        # Embedding Layer: Embedding(30002, 768, padding_idx=0)\n",
    "        self.embedding = nn.Embedding(vocab_size, hidden_size, padding_idx=0)\n",
    "        self.embedding.weight.data = embedding_weight\n",
    "        # Decoder RNN\n",
    "        self.gru = nn.GRU(\n",
    "            2*hidden_size, \n",
    "            hidden_size, \n",
    "            bidirectional=False, \n",
    "            batch_first=True\n",
    "        )\n",
    "        # Final Linear Layer\n",
    "        self.linear = nn.Linear(hidden_size, vocab_size, bias=False)\n",
    "        self.linear.weight.data = embedding_weight\n",
    "\n",
    "    def init_sos(self, batch_size, device):\n",
    "        # Create Tensor with start token: [S]\n",
    "        return torch.LongTensor([self.start_idx]*batch_size).unsqueeze(1).to(device)\n",
    "    \n",
    "    def forward(self, enc_outputs, enc_hiddens, gold=None, max_len=None, rt_attn=False):\n",
    "        \"\"\"\n",
    "        Inputs:\n",
    "        - enc_outputs: (B, T_e, H_d)\n",
    "        - enc_hiddens: (1, B, H_d)\n",
    "        - max_len: T_d, if it is None means at training phase\n",
    "        - gold: answer token if it is not None means using Teacher Force Model\n",
    "        Outputs:\n",
    "        - scores: results of all predictions = (B, T_d, vocab_size)\n",
    "        ==========================================\n",
    "        B: Mini Batch size\n",
    "        T_d: Decoder Max Length of Tokens\n",
    "        E_d: Decoder Embedding Size\n",
    "        H_d: Decoder Hidden Size\n",
    "        V_d: Vocab Length\n",
    "        \"\"\"\n",
    "        max_len = gold.size(1) if max_len is None else max_len\n",
    "        batch_size = enc_hiddens.size(1)\n",
    "        # initialize input tokens with start token [S]: (B, 1)\n",
    "        inputs = self.init_sos(batch_size, device=enc_hiddens.device)\n",
    "        \n",
    "        # (B, 1) > (B, 1, E_d)\n",
    "        inputs = self.embedding(inputs)\n",
    "        \n",
    "        scores = []\n",
    "        attn_weights = []\n",
    "        \n",
    "        hiddens = enc_hiddens\n",
    "        for i in range(0, max_len):\n",
    "            # Create context\n",
    "            # 1. attention scores: (B, 1, H_d) x (B, H_d, T_e) = (B, 1, T_e)\n",
    "            attn_score = torch.bmm(\n",
    "                hiddens.transpose(0, 1), enc_outputs.transpose(1, 2)\n",
    "            )\n",
    "            # 2. attention distribution: (B, 1, T_e)\n",
    "            attn_dist = attn_score.softmax(-1)\n",
    "            \n",
    "            # 3. context matrix: (B, 1, T_e) x (B, T_e, H_d) = (B, 1, H_d)\n",
    "            context = torch.bmm(attn_dist, enc_outputs)\n",
    "            \n",
    "            # 4. context concat: (B, 1, E_d + H_d)\n",
    "            inputs = torch.cat([context, inputs], dim=2)\n",
    "            \n",
    "            # hiddens = (1, B, H_d)\n",
    "            _, hiddens = self.gru(inputs, hiddens)\n",
    "            \n",
    "            # score = (1, B, H_d) > (B, H_d) > (B, V_d)\n",
    "            score = self.linear(hiddens.squeeze(0))\n",
    "            scores.append(score)\n",
    "            attn_weights.append(attn_dist.data)\n",
    "            \n",
    "            if gold is not None:\n",
    "                # Training\n",
    "                pred = gold[:, i]  # (B,)\n",
    "            else:\n",
    "                # Testing\n",
    "                # predict next token score\n",
    "                pred = score.softmax(-1).argmax(-1)  # (B,)\n",
    "                # stop when the token is end_idx\n",
    "                if (pred == self.end_idx).sum() == batch_size:  # all stop\n",
    "                    break\n",
    "                \n",
    "            inputs = self.embedding(pred.unsqueeze(1))\n",
    "\n",
    "        # (T_d, B, vocab_size) > (B, T_d, vocab_size)\n",
    "        scores = torch.stack(scores).transpose(0, 1)\n",
    "        if rt_attn:\n",
    "            attn_weights = torch.cat(attn_weights, 1)\n",
    "            return scores, attn_weights\n",
    "        return scores, None"
   ]
  },
  {
   "cell_type": "markdown",
   "id": "d23f3154-256a-430a-ac10-9bb70b4b56b2",
   "metadata": {},
   "source": [
    "### Model: Encoder-Decoder"
   ]
  },
  {
   "cell_type": "code",
   "execution_count": 6,
   "id": "575ad5e6-7689-4edc-a3a6-34351269fb51",
   "metadata": {},
   "outputs": [],
   "source": [
    "class EncoderDecoderAttn(nn.Module):\n",
    "    \"\"\"Encoder - Decoder\"\"\"\n",
    "    def __init__(self, embedding_weight, vocab_size, hidden_size, start_idx, end_idx, bidirec=False):\n",
    "        \"\"\"\n",
    "        Class for linking encoder and decoder\n",
    "        \"\"\"\n",
    "        super().__init__()\n",
    "        self.encoder = EncoderAttn(\n",
    "            embedding_weight=embedding_weight,\n",
    "            vocab_size=vocab_size,\n",
    "            hidden_size=hidden_size,\n",
    "            bidirec=bidirec\n",
    "        )\n",
    "        self.decoder = DecoderAttn(\n",
    "            embedding_weight=embedding_weight,\n",
    "            vocab_size=vocab_size,\n",
    "            hidden_size=hidden_size,\n",
    "            start_idx=start_idx,\n",
    "            end_idx=end_idx\n",
    "        )\n",
    "        \n",
    "    def forward(self, input_qs, input_as, max_len=None, rt_attn=False):\n",
    "        \"\"\"\n",
    "        scores 크기: (B*(T_d), vocab_size)\n",
    "        \"\"\"\n",
    "        enc_outputs, enc_hiddens = self.encoder(input_qs)\n",
    "        scores, attn = self.decoder(enc_outputs, enc_hiddens, gold=input_as, max_len=max_len, rt_attn=rt_attn)\n",
    "        return scores, attn\n",
    "    \n",
    "    def load_embeddings(self, state_dict):\n",
    "        self.encoder.embedding.weight.data = state_dict['encoder.embedding.weight']\n",
    "        self.decoder.embedding.weight.data = state_dict['decoder.embedding.weight']"
   ]
  },
  {
   "cell_type": "markdown",
   "id": "818a04c5-1e25-4456-a402-6387712126ad",
   "metadata": {},
   "source": [
    "### Define Dataset and model"
   ]
  },
  {
   "cell_type": "code",
   "execution_count": 1,
   "id": "1702798d-1497-4dbb-a011-9f326248eae5",
   "metadata": {},
   "outputs": [],
   "source": [
    "import torch\n",
    "import torch.nn as nn\n",
    "import torch.optim as optim\n",
    "from torch.utils.data import Dataset, DataLoader\n",
    "\n",
    "import numpy as np\n",
    "import pandas as pd\n",
    "from collections import defaultdict\n",
    "from transformers import BertModel, BertConfig, BertTokenizer\n",
    "from seq2seq import QADataset, EncoderAttn, DecoderAttn, EncoderDecoderAttn, train_attn\n",
    "import matplotlib.pyplot as plt"
   ]
  },
  {
   "cell_type": "code",
   "execution_count": 2,
   "id": "9dbe1307-8d0c-4069-8388-933a02474d89",
   "metadata": {},
   "outputs": [
    {
     "name": "stderr",
     "output_type": "stream",
     "text": [
      "Special tokens have been added in the vocabulary, make sure the associated word embeddings are fine-tuned or trained.\n",
      "Some weights of the model checkpoint at beomi/kcbert-base were not used when initializing BertModel: ['cls.predictions.transform.LayerNorm.weight', 'cls.predictions.transform.dense.bias', 'cls.predictions.transform.dense.weight', 'cls.seq_relationship.weight', 'cls.predictions.decoder.weight', 'cls.predictions.bias', 'cls.predictions.transform.LayerNorm.bias', 'cls.predictions.decoder.bias', 'cls.seq_relationship.bias']\n",
      "- This IS expected if you are initializing BertModel from the checkpoint of a model trained on another task or with another architecture (e.g. initializing a BertForSequenceClassification model from a BertForPreTraining model).\n",
      "- This IS NOT expected if you are initializing BertModel from the checkpoint of a model that you expect to be exactly identical (initializing a BertForSequenceClassification model from a BertForSequenceClassification model).\n"
     ]
    }
   ],
   "source": [
    "data_path = \"./data/dialog.tsv\"\n",
    "qads = QADataset(data_path, fmt=\"\\t\", end_tkn=\"[E]\")\n",
    "data_loader = DataLoader(qads, batch_size=25, shuffle=True)\n",
    "\n",
    "device = \"cuda\" if torch.cuda.is_available() else \"cpu\"\n",
    "model_path = \"beomi/kcbert-base\"\n",
    "tokenizer = BertTokenizer.from_pretrained(model_path, add_special_tokens=True, additional_special_tokens=[\"[S]\", \"[E]\"])\n",
    "model_bert = BertModel.from_pretrained(model_path)\n",
    "model_bert.resize_token_embeddings(len(tokenizer))\n",
    "hidden_size = 768\n",
    "vocab_size = len(tokenizer)\n",
    "bidirec = True"
   ]
  },
  {
   "cell_type": "code",
   "execution_count": 3,
   "id": "572395b3-8c27-4642-97e8-4342b4707be4",
   "metadata": {},
   "outputs": [],
   "source": [
    "# define model\n",
    "model = EncoderDecoderAttn(\n",
    "    embedding_weight=model_bert.embeddings.word_embeddings.weight.data, \n",
    "    vocab_size=vocab_size,\n",
    "    hidden_size=hidden_size, \n",
    "    start_idx=tokenizer.all_special_ids[-2], \n",
    "    end_idx=tokenizer.all_special_ids[-1], \n",
    "    bidirec=bidirec\n",
    ").to(device)\n",
    "\n",
    "# define optimizer and loss function\n",
    "loss_function = nn.CrossEntropyLoss(ignore_index=tokenizer.pad_token_id)\n",
    "optimizer = optim.Adam(model.parameters(), lr=0.001, weight_decay=1e-5)"
   ]
  },
  {
   "cell_type": "markdown",
   "id": "addde15f-e92a-4cb2-b4ba-dddece698dab",
   "metadata": {},
   "source": [
    "### Training"
   ]
  },
  {
   "cell_type": "code",
   "execution_count": 4,
   "id": "c1455ac9-a879-44fd-8c22-48170716a07d",
   "metadata": {},
   "outputs": [
    {
     "name": "stdout",
     "output_type": "stream",
     "text": [
      "[Step] 1/10\n",
      " - [0.00%] train loss: 10.3033\n",
      " - [11.36%] train loss: 5.8855\n",
      " - [22.72%] train loss: 4.8343\n",
      " - [34.07%] train loss: 4.7663\n",
      " - [45.43%] train loss: 4.6188\n",
      " - [56.79%] train loss: 4.5900\n",
      " - [68.15%] train loss: 4.6846\n",
      " - [79.51%] train loss: 3.7652\n",
      " - [90.87%] train loss: 3.8265\n",
      " - Train Average Loss: 8200.0318\n",
      "[Alert] Best Model Saved\n",
      "[Step] 2/10\n",
      " - [0.00%] train loss: 3.5500\n",
      " - [11.36%] train loss: 3.2685\n",
      " - [22.72%] train loss: 3.0067\n",
      " - [34.07%] train loss: 3.6866\n",
      " - [45.43%] train loss: 3.2183\n",
      " - [56.79%] train loss: 3.6421\n",
      " - [68.15%] train loss: 2.9920\n",
      " - [79.51%] train loss: 3.7807\n",
      " - [90.87%] train loss: 3.1597\n",
      " - Train Average Loss: 6183.0205\n",
      "[Alert] Best Model Saved\n",
      "[Step] 3/10\n",
      " - [0.00%] train loss: 2.7957\n",
      " - [11.36%] train loss: 2.3387\n",
      " - [22.72%] train loss: 2.3950\n",
      " - [34.07%] train loss: 3.2834\n",
      " - [45.43%] train loss: 3.1261\n",
      " - [56.79%] train loss: 2.9489\n",
      " - [68.15%] train loss: 2.8510\n",
      " - [79.51%] train loss: 3.1012\n",
      " - [90.87%] train loss: 2.9077\n",
      " - Train Average Loss: 5140.2483\n",
      "[Alert] Best Model Saved\n",
      "[Step] 4/10\n",
      " - [0.00%] train loss: 2.2920\n",
      " - [11.36%] train loss: 2.2151\n",
      " - [22.72%] train loss: 2.6689\n",
      " - [34.07%] train loss: 2.8565\n",
      " - [45.43%] train loss: 2.2870\n",
      " - [56.79%] train loss: 2.7252\n",
      " - [68.15%] train loss: 2.3930\n",
      " - [79.51%] train loss: 2.5283\n",
      " - [90.87%] train loss: 2.4571\n",
      " - Train Average Loss: 4313.1687\n",
      "[Alert] Best Model Saved\n",
      "[Step] 5/10\n",
      " - [0.00%] train loss: 1.6838\n",
      " - [11.36%] train loss: 1.9977\n",
      " - [22.72%] train loss: 2.2003\n",
      " - [34.07%] train loss: 2.4447\n",
      " - [45.43%] train loss: 2.2470\n",
      " - [56.79%] train loss: 2.0690\n",
      " - [68.15%] train loss: 2.2680\n",
      " - [79.51%] train loss: 2.0859\n",
      " - [90.87%] train loss: 2.0807\n",
      " - Train Average Loss: 3621.6980\n",
      "[Alert] Best Model Saved\n",
      "[Step] 6/10\n",
      " - [0.00%] train loss: 1.5441\n",
      " - [11.36%] train loss: 1.3502\n",
      " - [22.72%] train loss: 1.6925\n",
      " - [34.07%] train loss: 1.5738\n",
      " - [45.43%] train loss: 1.6873\n",
      " - [56.79%] train loss: 1.7703\n",
      " - [68.15%] train loss: 1.7826\n",
      " - [79.51%] train loss: 1.7566\n",
      " - [90.87%] train loss: 1.8658\n",
      " - Train Average Loss: 3066.0301\n",
      "[Alert] Best Model Saved\n",
      "[Step] 7/10\n",
      " - [0.00%] train loss: 1.1012\n",
      " - [11.36%] train loss: 1.2005\n",
      " - [22.72%] train loss: 1.3913\n",
      " - [34.07%] train loss: 1.1841\n",
      " - [45.43%] train loss: 1.3654\n",
      " - [56.79%] train loss: 1.4894\n",
      " - [68.15%] train loss: 1.6510\n",
      " - [79.51%] train loss: 1.6937\n",
      " - [90.87%] train loss: 1.7221\n",
      " - Train Average Loss: 2645.2444\n",
      "[Alert] Best Model Saved\n",
      "[Step] 8/10\n",
      " - [0.00%] train loss: 1.1504\n",
      " - [11.36%] train loss: 1.0480\n",
      " - [22.72%] train loss: 1.1223\n",
      " - [34.07%] train loss: 1.4144\n",
      " - [45.43%] train loss: 1.2213\n",
      " - [56.79%] train loss: 1.4401\n",
      " - [68.15%] train loss: 1.4009\n",
      " - [79.51%] train loss: 1.3473\n",
      " - [90.87%] train loss: 1.4197\n",
      " - Train Average Loss: 2292.4496\n",
      "[Alert] Best Model Saved\n",
      "[Step] 9/10\n",
      " - [0.00%] train loss: 0.8852\n",
      " - [11.36%] train loss: 0.8729\n",
      " - [22.72%] train loss: 1.0999\n",
      " - [34.07%] train loss: 0.9980\n",
      " - [45.43%] train loss: 1.1863\n",
      " - [56.79%] train loss: 1.2732\n",
      " - [68.15%] train loss: 1.3278\n",
      " - [79.51%] train loss: 1.6348\n",
      " - [90.87%] train loss: 1.3000\n",
      " - Train Average Loss: 2036.7233\n",
      "[Alert] Best Model Saved\n",
      "[Step] 10/10\n",
      " - [0.00%] train loss: 0.7380\n",
      " - [11.36%] train loss: 0.9951\n",
      " - [22.72%] train loss: 0.8633\n",
      " - [34.07%] train loss: 0.9961\n",
      " - [45.43%] train loss: 0.9457\n",
      " - [56.79%] train loss: 1.1377\n",
      " - [68.15%] train loss: 1.1265\n",
      " - [79.51%] train loss: 1.2108\n",
      " - [90.87%] train loss: 1.2491\n",
      " - Train Average Loss: 1837.3252\n",
      "[Alert] Best Model Saved\n"
     ]
    }
   ],
   "source": [
    "n_step = 10\n",
    "print_step = 200\n",
    "best_loss = 999999\n",
    "\n",
    "for step in range(n_step):\n",
    "    print(f\"[Step] {step+1}/{n_step}\")\n",
    "    train_loss = train_attn(model, tokenizer, data_loader, loss_function, optimizer, print_step, device)\n",
    "    print(f\" - Train Average Loss: {train_loss:.4f}\")\n",
    "    \n",
    "    if train_loss < best_loss:\n",
    "        best_loss = train_loss\n",
    "        torch.save(model.state_dict(), \"./states/best_model-chat-attn.pt\")\n",
    "        print(\"[Alert] Best Model Saved\")"
   ]
  },
  {
   "cell_type": "code",
   "execution_count": 32,
   "id": "4911da40-b30c-4a2f-b197-4a3436757eda",
   "metadata": {},
   "outputs": [],
   "source": [
    "load_path = \"./states/best_model-chat-attn.pt\"\n",
    "device = torch.device('cpu')\n",
    "model = EncoderDecoderAttn(\n",
    "    embedding_weight=model_bert.embeddings.word_embeddings.weight.data, \n",
    "    vocab_size=vocab_size,\n",
    "    hidden_size=hidden_size, \n",
    "    start_idx=tokenizer.all_special_ids[-2], \n",
    "    end_idx=tokenizer.all_special_ids[-1], \n",
    "    bidirec=bidirec\n",
    ").to(device)\n",
    "state_dict = torch.load(load_path, map_location=device)\n",
    "model.load_state_dict(state_dict)\n",
    "model.load_embeddings(state_dict)\n",
    "model.eval()\n",
    "\n",
    "def chat_program(model, tokenizer, max_len, device):\n",
    "    vocab = list(tokenizer.vocab) + tokenizer.all_special_tokens[-2:]\n",
    "    model.eval()\n",
    "    print(\"[exit() 를 입력하면 종료할 수 있습니다.]\")\n",
    "    print()\n",
    "    switch = True\n",
    "    while switch:\n",
    "        txt = input(\"질의: \")\n",
    "        input_qs = tokenizer([txt], return_tensors=\"pt\", add_special_tokens=False, padding=True, return_token_type_ids=False, return_attention_mask=False)[\"input_ids\"]\n",
    "        with torch.no_grad():\n",
    "            scores, attn = model(input_qs.to(device), input_as=None, max_len=max_len, rt_attn=True)\n",
    "        preds = scores.argmax(-1).squeeze().detach()\n",
    "        if txt == \"exit()\":\n",
    "            switch=False\n",
    "        else:\n",
    "            input_tokens = tokenizer.tokenize(txt)\n",
    "            output_tokens = [vocab[k.item()] for k in preds]\n",
    "            output_txt = tokenizer.decode(preds).strip(\"[E]\")\n",
    "            print(f'대답:  {output_txt}')\n",
    "            # Draw Attention\n",
    "            plt.close()\n",
    "            attn = attn.squeeze(0).numpy()\n",
    "            \n",
    "            fig, ax = plt.subplots(1, 1, figsize=(8, 8))\n",
    "            ax.matshow(attn, cmap=\"coolwarm\", alpha=0.8)\n",
    "            ax.set_title(\"Attention Matrix\", fontsize=12)\n",
    "            for (i, j), z in np.ndenumerate(attn):\n",
    "                ax.text(j, i, '{:0.2f}'.format(z), ha='center', va='center')\n",
    "            ax.set_xticks(list(range(len(input_tokens))))\n",
    "            ax.set_xticklabels(input_tokens)\n",
    "            ax.set_yticks(list(range(len(output_tokens))))\n",
    "            ax.set_yticklabels(output_tokens)\n",
    "            plt.tight_layout()\n",
    "            plt.show()"
   ]
  },
  {
   "cell_type": "code",
   "execution_count": 33,
   "id": "9ebb2e1f-0fb5-495a-bde8-1defa36072a3",
   "metadata": {},
   "outputs": [],
   "source": [
    "plt.rcParams[\"font.family\"] = 'NanumBarunGothic'"
   ]
  },
  {
   "cell_type": "code",
   "execution_count": 34,
   "id": "02325203-5ddc-44e2-a2f9-4fb5b58372a8",
   "metadata": {},
   "outputs": [
    {
     "name": "stdout",
     "output_type": "stream",
     "text": [
      "[exit() 를 입력하면 종료할 수 있습니다.]\n",
      "\n"
     ]
    },
    {
     "name": "stdin",
     "output_type": "stream",
     "text": [
      "질의:  안녕\n"
     ]
    },
    {
     "name": "stdout",
     "output_type": "stream",
     "text": [
      "대답:  안녕하세요. \n"
     ]
    },
    {
     "data": {
      "image/png": "[encoded data removed]",
      "text/plain": [
       "<Figure size 576x576 with 1 Axes>"
      ]
     },
     "metadata": {
      "needs_background": "light"
     },
     "output_type": "display_data"
    },
    {
     "name": "stdin",
     "output_type": "stream",
     "text": [
      "질의:  여기가 어디에요?\n"
     ]
    },
    {
     "name": "stdout",
     "output_type": "stream",
     "text": [
      "대답:  여기는 정가에서예요 \n"
     ]
    },
    {
     "data": {
      "image/png": "[encoded data removed]",
      "text/plain": [
       "<Figure size 576x576 with 1 Axes>"
      ]
     },
     "metadata": {
      "needs_background": "light"
     },
     "output_type": "display_data"
    },
    {
     "name": "stdin",
     "output_type": "stream",
     "text": [
      "질의:  여기 물티슈 있나요?\n"
     ]
    },
    {
     "name": "stdout",
     "output_type": "stream",
     "text": [
      "대답:  물티슈는 이쪽에 있습니다 \n"
     ]
    },
    {
     "data": {
      "image/png": "[encoded data removed]",
      "text/plain": [
       "<Figure size 576x576 with 1 Axes>"
      ]
     },
     "metadata": {
      "needs_background": "light"
     },
     "output_type": "display_data"
    },
    {
     "name": "stdin",
     "output_type": "stream",
     "text": [
      "질의:  exit()\n"
     ]
    }
   ],
   "source": [
    "chat_program(model, tokenizer, max_len=50, device=device)"
   ]
  },
  {
   "cell_type": "code",
   "execution_count": null,
   "id": "a6fb08a0-e84c-4e14-974d-a499c388ea0a",
   "metadata": {},
   "outputs": [],
   "source": []
  }
 ],
 "metadata": {
  "kernelspec": {
   "display_name": "Python 3",
   "language": "python",
   "name": "python3"
  },
  "language_info": {
   "codemirror_mode": {
    "name": "ipython",
    "version": 3
   },
   "file_extension": ".py",
   "mimetype": "text/x-python",
   "name": "python",
   "nbconvert_exporter": "python",
   "pygments_lexer": "ipython3",
   "version": "3.8.10"
  }
 },
 "nbformat": 4,
 "nbformat_minor": 5
}
