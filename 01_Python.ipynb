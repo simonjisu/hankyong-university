{
 "cells": [
  {
   "cell_type": "markdown",
   "id": "ca5d8750-022e-4f77-93be-f00bcae4b41e",
   "metadata": {},
   "source": [
    "# Python"
   ]
  },
  {
   "cell_type": "markdown",
   "id": "a4ebce56-f998-44df-a542-ec7beb7c5832",
   "metadata": {},
   "source": [
    "## Vairable Assignment"
   ]
  },
  {
   "cell_type": "code",
   "execution_count": 39,
   "id": "22fd1a96-868f-48f2-9fd1-174a5bb40ac2",
   "metadata": {},
   "outputs": [
    {
     "name": "stdout",
     "output_type": "stream",
     "text": [
      "1 2 3 4\n"
     ]
    }
   ],
   "source": [
    "a = 1 \n",
    "b = 2\n",
    "c = a + 2\n",
    "d = b + 2\n",
    "\n",
    "print(a, b, c, d)"
   ]
  },
  {
   "cell_type": "markdown",
   "id": "68f31d05-7829-44a9-897a-2d3e256266b9",
   "metadata": {},
   "source": [
    "\n",
    "## Operators"
   ]
  },
  {
   "cell_type": "markdown",
   "id": "7224f1c7-cc90-4caa-af18-0d7de8b3f1b8",
   "metadata": {},
   "source": [
    "Operators: `+`, `-`, `*`, `/`, `%`, `//`, `**`"
   ]
  },
  {
   "cell_type": "code",
   "execution_count": 9,
   "id": "335d4ce3-0383-4ef2-90e0-987c3aa00539",
   "metadata": {},
   "outputs": [
    {
     "data": {
      "text/plain": [
       "4"
      ]
     },
     "execution_count": 9,
     "metadata": {},
     "output_type": "execute_result"
    }
   ],
   "source": [
    "# 더하기\n",
    "1 + 3"
   ]
  },
  {
   "cell_type": "code",
   "execution_count": 20,
   "id": "9c273327-fa56-4bac-8763-b80a66018e45",
   "metadata": {},
   "outputs": [
    {
     "data": {
      "text/plain": [
       "2"
      ]
     },
     "execution_count": 20,
     "metadata": {},
     "output_type": "execute_result"
    }
   ],
   "source": [
    "# 빼기\n",
    "3 - 1"
   ]
  },
  {
   "cell_type": "code",
   "execution_count": 21,
   "id": "2f566c05-f016-4ebc-ba04-0716e1ab25e0",
   "metadata": {},
   "outputs": [
    {
     "data": {
      "text/plain": [
       "12"
      ]
     },
     "execution_count": 21,
     "metadata": {},
     "output_type": "execute_result"
    }
   ],
   "source": [
    "# 곱하기\n",
    "3 * 4"
   ]
  },
  {
   "cell_type": "code",
   "execution_count": 22,
   "id": "231fe7e7-3b1d-4f53-9ede-68456845edd3",
   "metadata": {},
   "outputs": [
    {
     "data": {
      "text/plain": [
       "0.75"
      ]
     },
     "execution_count": 22,
     "metadata": {},
     "output_type": "execute_result"
    }
   ],
   "source": [
    "# 나누기\n",
    "3 / 4"
   ]
  },
  {
   "cell_type": "code",
   "execution_count": 27,
   "id": "976af613-86e6-4a20-988d-643c08a6ae2f",
   "metadata": {},
   "outputs": [
    {
     "data": {
      "text/plain": [
       "7"
      ]
     },
     "execution_count": 27,
     "metadata": {},
     "output_type": "execute_result"
    }
   ],
   "source": [
    "# 몫 구하기\n",
    "43 // 6"
   ]
  },
  {
   "cell_type": "code",
   "execution_count": 28,
   "id": "9f3cc591-f393-4820-a855-c256732761b5",
   "metadata": {},
   "outputs": [
    {
     "data": {
      "text/plain": [
       "1"
      ]
     },
     "execution_count": 28,
     "metadata": {},
     "output_type": "execute_result"
    }
   ],
   "source": [
    "# 나머지 구하기, Mod\n",
    "43 % 6"
   ]
  },
  {
   "cell_type": "markdown",
   "id": "2bc77017-ecfc-494d-82f3-3365bcdc34a9",
   "metadata": {},
   "source": [
    "## Types"
   ]
  },
  {
   "cell_type": "markdown",
   "id": "d972fb9a-7a23-4231-b14e-158129f1272d",
   "metadata": {},
   "source": [
    "### String"
   ]
  },
  {
   "cell_type": "code",
   "execution_count": 32,
   "id": "88a5f50f-cf56-4eec-9b8c-7e3144d77179",
   "metadata": {},
   "outputs": [
    {
     "data": {
      "text/plain": [
       "(str, str)"
      ]
     },
     "execution_count": 32,
     "metadata": {},
     "output_type": "execute_result"
    }
   ],
   "source": [
    "# 두 가지 선언 방법\n",
    "type(\"abc\"), type('abc')"
   ]
  },
  {
   "cell_type": "code",
   "execution_count": 34,
   "id": "b19a5661-7211-4485-a45f-4bd127d39cef",
   "metadata": {},
   "outputs": [
    {
     "data": {
      "text/plain": [
       "\"I said 'hi' at that moment.\""
      ]
     },
     "execution_count": 34,
     "metadata": {},
     "output_type": "execute_result"
    }
   ],
   "source": [
    "# '를 문자로 써야할 경우, 반대도 마찬가지\n",
    "\"I said 'hi' at that moment.\""
   ]
  },
  {
   "cell_type": "markdown",
   "id": "c898822e-b8ac-42ef-a916-f01d28f38c77",
   "metadata": {},
   "source": [
    "### Integer"
   ]
  },
  {
   "cell_type": "code",
   "execution_count": 2,
   "id": "9135c083-f349-4c6a-b662-68c062f14ed5",
   "metadata": {},
   "outputs": [
    {
     "data": {
      "text/plain": [
       "int"
      ]
     },
     "execution_count": 2,
     "metadata": {},
     "output_type": "execute_result"
    }
   ],
   "source": [
    "type(1)"
   ]
  },
  {
   "cell_type": "markdown",
   "id": "f81946a5-ac68-4f1a-a3cc-a83e0f490e09",
   "metadata": {},
   "source": [
    "### Floating Point"
   ]
  },
  {
   "cell_type": "code",
   "execution_count": 3,
   "id": "7b6b7c7b-07e9-4fed-9d4d-0ca403883330",
   "metadata": {},
   "outputs": [
    {
     "data": {
      "text/plain": [
       "float"
      ]
     },
     "execution_count": 3,
     "metadata": {},
     "output_type": "execute_result"
    }
   ],
   "source": [
    "type(3.4)"
   ]
  },
  {
   "cell_type": "code",
   "execution_count": 29,
   "id": "0f066fd2-155b-4d69-b669-f7deba725a55",
   "metadata": {},
   "outputs": [
    {
     "data": {
      "text/plain": [
       "(inf, -inf)"
      ]
     },
     "execution_count": 29,
     "metadata": {},
     "output_type": "execute_result"
    }
   ],
   "source": [
    "# 무한대 선언하기\n",
    "float(\"inf\"), float(\"-inf\")"
   ]
  },
  {
   "cell_type": "markdown",
   "id": "f5359a59-f5b8-4bfc-a7fc-508d0413e25c",
   "metadata": {},
   "source": [
    "python3 부터는 interger 와 float 연산시 알아서 float로 type 전환후에 계산한다."
   ]
  },
  {
   "cell_type": "code",
   "execution_count": 41,
   "id": "0ba2d6b8-d1b0-4d2b-b031-9f918f3fa13f",
   "metadata": {},
   "outputs": [
    {
     "data": {
      "text/plain": [
       "0.8823529411764706"
      ]
     },
     "execution_count": 41,
     "metadata": {},
     "output_type": "execute_result"
    }
   ],
   "source": [
    "3 / 3.4"
   ]
  },
  {
   "cell_type": "markdown",
   "id": "9275137c-733f-4fe7-ae74-ee8dfe3ce5d5",
   "metadata": {},
   "source": [
    "### Boolean\n",
    "\n",
    "`True` 와 `False`가 있음"
   ]
  },
  {
   "cell_type": "code",
   "execution_count": 14,
   "id": "a8fe342e-f801-4bfe-ab14-daef5c78f3de",
   "metadata": {},
   "outputs": [
    {
     "data": {
      "text/plain": [
       "(bool, bool)"
      ]
     },
     "execution_count": 14,
     "metadata": {},
     "output_type": "execute_result"
    }
   ],
   "source": [
    "type(True), type(False)"
   ]
  },
  {
   "cell_type": "markdown",
   "id": "c9664481-abd0-4307-8e4a-3bd0f37b472c",
   "metadata": {},
   "source": [
    "### None"
   ]
  },
  {
   "cell_type": "code",
   "execution_count": 8,
   "id": "9f3ec062-0c90-4f7b-a51e-4866fc38a894",
   "metadata": {},
   "outputs": [
    {
     "data": {
      "text/plain": [
       "NoneType"
      ]
     },
     "execution_count": 8,
     "metadata": {},
     "output_type": "execute_result"
    }
   ],
   "source": [
    "type(None)"
   ]
  },
  {
   "cell_type": "markdown",
   "id": "38f21ec5-c07c-4979-bf93-8c5dbf651b5c",
   "metadata": {},
   "source": [
    "### Tuple\n",
    "\n",
    "* 순서가 있는 데이터를 담는 자료구조\n",
    "* 특징: immutable(한 번 생성하면 데이터를 바꿀 수 없음), ordered, iterable, subscriptable"
   ]
  },
  {
   "cell_type": "code",
   "execution_count": 43,
   "id": "d25314d9-b887-4a6b-a3bb-3dd571d115d2",
   "metadata": {},
   "outputs": [
    {
     "data": {
      "text/plain": [
       "tuple"
      ]
     },
     "execution_count": 43,
     "metadata": {},
     "output_type": "execute_result"
    }
   ],
   "source": [
    "x = (1, 2, 3)\n",
    "type(x)"
   ]
  },
  {
   "cell_type": "code",
   "execution_count": 44,
   "id": "3c79ce59-bd4d-4add-8475-3c0f35c4ff5b",
   "metadata": {},
   "outputs": [
    {
     "ename": "TypeError",
     "evalue": "'tuple' object does not support item assignment",
     "output_type": "error",
     "traceback": [
      "\u001b[0;31m---------------------------------------------------------------------------\u001b[0m",
      "\u001b[0;31mTypeError\u001b[0m                                 Traceback (most recent call last)",
      "\u001b[0;32m<ipython-input-44-183f722b7e6f>\u001b[0m in \u001b[0;36m<module>\u001b[0;34m\u001b[0m\n\u001b[0;32m----> 1\u001b[0;31m \u001b[0mx\u001b[0m\u001b[0;34m[\u001b[0m\u001b[0;36m2\u001b[0m\u001b[0;34m]\u001b[0m \u001b[0;34m=\u001b[0m \u001b[0;36m4\u001b[0m\u001b[0;34m\u001b[0m\u001b[0;34m\u001b[0m\u001b[0m\n\u001b[0m",
      "\u001b[0;31mTypeError\u001b[0m: 'tuple' object does not support item assignment"
     ]
    }
   ],
   "source": [
    "x[2] = 4"
   ]
  },
  {
   "cell_type": "markdown",
   "id": "a23b5330-0952-4b66-a948-cf489d5e1783",
   "metadata": {},
   "source": [
    "### List\n",
    "\n",
    "* 순서가 있는 데이터를 담는 자료구조\n",
    "* 특징: mutable(생성 후에도 데이터를 바꿀 수 있음), ordered, iterable, subscriptable"
   ]
  },
  {
   "cell_type": "code",
   "execution_count": 50,
   "id": "c503c1d2-87f9-47ba-9bb1-1edaacbb97f9",
   "metadata": {},
   "outputs": [
    {
     "data": {
      "text/plain": [
       "list"
      ]
     },
     "execution_count": 50,
     "metadata": {},
     "output_type": "execute_result"
    }
   ],
   "source": [
    "x = [1, 2]\n",
    "type(x)"
   ]
  },
  {
   "cell_type": "markdown",
   "id": "760d0b2e-7b45-444c-bcaf-86f19a65ee3d",
   "metadata": {},
   "source": [
    "### Set\n",
    "\n",
    "* 정렬되지 않고(unordered) 고유한(distinct) 데이터으로 이루어진 자료 구조\n",
    "* 특징: mutable, unordered, iterable"
   ]
  },
  {
   "cell_type": "code",
   "execution_count": 51,
   "id": "c8e30c79-e492-4779-adeb-0d9ec9d180b4",
   "metadata": {},
   "outputs": [
    {
     "data": {
      "text/plain": [
       "set"
      ]
     },
     "execution_count": 51,
     "metadata": {},
     "output_type": "execute_result"
    }
   ],
   "source": [
    "x = {1, 2, 3}\n",
    "type(x)"
   ]
  },
  {
   "cell_type": "markdown",
   "id": "69ae4a0f-963a-4614-ab0e-fa7e9f7e6fa1",
   "metadata": {},
   "source": [
    "### Dictionary\n",
    "\n",
    "* 중복되지 않는 key와 value 쌍을 데이터로 가진 정렬되지 않은(unordered) 변경가능한(mutable) 자료구조\n",
    "* 특징: mutable, unordered, iterable"
   ]
  },
  {
   "cell_type": "code",
   "execution_count": 52,
   "id": "22307530-4353-44fe-ad83-bfabeb6019e6",
   "metadata": {},
   "outputs": [
    {
     "data": {
      "text/plain": [
       "dict"
      ]
     },
     "execution_count": 52,
     "metadata": {},
     "output_type": "execute_result"
    }
   ],
   "source": [
    "x = {\"a\": 1, \"b\": 2}\n",
    "type(x)"
   ]
  }
 ],
 "metadata": {
  "kernelspec": {
   "display_name": "Python 3",
   "language": "python",
   "name": "python3"
  },
  "language_info": {
   "codemirror_mode": {
    "name": "ipython",
    "version": 3
   },
   "file_extension": ".py",
   "mimetype": "text/x-python",
   "name": "python",
   "nbconvert_exporter": "python",
   "pygments_lexer": "ipython3",
   "version": "3.8.10"
  }
 },
 "nbformat": 4,
 "nbformat_minor": 5
}
