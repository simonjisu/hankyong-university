{
 "cells": [
  {
   "cell_type": "markdown",
   "id": "ca5d8750-022e-4f77-93be-f00bcae4b41e",
   "metadata": {},
   "source": [
    "# Python"
   ]
  },
  {
   "cell_type": "markdown",
   "id": "a4ebce56-f998-44df-a542-ec7beb7c5832",
   "metadata": {},
   "source": [
    "## Vairable Assignment"
   ]
  },
  {
   "cell_type": "code",
   "execution_count": 106,
   "id": "22fd1a96-868f-48f2-9fd1-174a5bb40ac2",
   "metadata": {},
   "outputs": [
    {
     "name": "stdout",
     "output_type": "stream",
     "text": [
      "1 2 3 4\n"
     ]
    }
   ],
   "source": [
    "a = 1 \n",
    "b = 2\n",
    "c = a + 2\n",
    "d = b + 2   \n",
    "\n",
    "print(a, b, c, d)"
   ]
  },
  {
   "cell_type": "markdown",
   "id": "68f31d05-7829-44a9-897a-2d3e256266b9",
   "metadata": {},
   "source": [
    "\n",
    "## Operators"
   ]
  },
  {
   "cell_type": "markdown",
   "id": "7224f1c7-cc90-4caa-af18-0d7de8b3f1b8",
   "metadata": {},
   "source": [
    "Operators: `+`, `-`, `*`, `/`, `%`, `//`, `**`"
   ]
  },
  {
   "cell_type": "code",
   "execution_count": 2,
   "id": "335d4ce3-0383-4ef2-90e0-987c3aa00539",
   "metadata": {},
   "outputs": [
    {
     "data": {
      "text/plain": [
       "4"
      ]
     },
     "execution_count": 2,
     "metadata": {},
     "output_type": "execute_result"
    }
   ],
   "source": [
    "# plus\n",
    "1 + 3"
   ]
  },
  {
   "cell_type": "code",
   "execution_count": 3,
   "id": "9c273327-fa56-4bac-8763-b80a66018e45",
   "metadata": {},
   "outputs": [
    {
     "data": {
      "text/plain": [
       "2"
      ]
     },
     "execution_count": 3,
     "metadata": {},
     "output_type": "execute_result"
    }
   ],
   "source": [
    "# minus\n",
    "3 - 1"
   ]
  },
  {
   "cell_type": "code",
   "execution_count": 4,
   "id": "2f566c05-f016-4ebc-ba04-0716e1ab25e0",
   "metadata": {},
   "outputs": [
    {
     "data": {
      "text/plain": [
       "12"
      ]
     },
     "execution_count": 4,
     "metadata": {},
     "output_type": "execute_result"
    }
   ],
   "source": [
    "# multiplication\n",
    "3 * 4"
   ]
  },
  {
   "cell_type": "code",
   "execution_count": 5,
   "id": "231fe7e7-3b1d-4f53-9ede-68456845edd3",
   "metadata": {},
   "outputs": [
    {
     "data": {
      "text/plain": [
       "0.75"
      ]
     },
     "execution_count": 5,
     "metadata": {},
     "output_type": "execute_result"
    }
   ],
   "source": [
    "# devision\n",
    "3 / 4"
   ]
  },
  {
   "cell_type": "code",
   "execution_count": 6,
   "id": "976af613-86e6-4a20-988d-643c08a6ae2f",
   "metadata": {},
   "outputs": [
    {
     "data": {
      "text/plain": [
       "7"
      ]
     },
     "execution_count": 6,
     "metadata": {},
     "output_type": "execute_result"
    }
   ],
   "source": [
    "# quotient\n",
    "43 // 6"
   ]
  },
  {
   "cell_type": "code",
   "execution_count": 7,
   "id": "9f3cc591-f393-4820-a855-c256732761b5",
   "metadata": {},
   "outputs": [
    {
     "data": {
      "text/plain": [
       "1"
      ]
     },
     "execution_count": 7,
     "metadata": {},
     "output_type": "execute_result"
    }
   ],
   "source": [
    "# Remainder, Mod\n",
    "43 % 6"
   ]
  },
  {
   "cell_type": "markdown",
   "id": "2bc77017-ecfc-494d-82f3-3365bcdc34a9",
   "metadata": {},
   "source": [
    "## Types\n",
    "\n",
    "- Integer\n",
    "- Floating point\n",
    "- Boolean\n",
    "- String\n",
    "- NoneType\n",
    "- Tuple\n",
    "- List\n",
    "- Set\n",
    "- Dictionary\n"
   ]
  },
  {
   "cell_type": "markdown",
   "id": "d972fb9a-7a23-4231-b14e-158129f1272d",
   "metadata": {},
   "source": [
    "### String"
   ]
  },
  {
   "cell_type": "code",
   "execution_count": 8,
   "id": "88a5f50f-cf56-4eec-9b8c-7e3144d77179",
   "metadata": {},
   "outputs": [
    {
     "data": {
      "text/plain": [
       "(str, str)"
      ]
     },
     "execution_count": 8,
     "metadata": {},
     "output_type": "execute_result"
    }
   ],
   "source": [
    "# two types of declaring a string\n",
    "type(\"abc\"), type('abc')"
   ]
  },
  {
   "cell_type": "code",
   "execution_count": 9,
   "id": "b19a5661-7211-4485-a45f-4bd127d39cef",
   "metadata": {},
   "outputs": [
    {
     "name": "stdout",
     "output_type": "stream",
     "text": [
      "I said 'hi' at that moment.\n",
      "I said 'hi' at that moment.\n"
     ]
    }
   ],
   "source": [
    "# if you want to use ' letter in the string use \", vice versea / or add \\(escape letter) with '\n",
    "print(\"I said 'hi' at that moment.\")\n",
    "print('I said \\'hi\\' at that moment.')"
   ]
  },
  {
   "cell_type": "code",
   "execution_count": 10,
   "id": "d23c2c23-c9f6-47a7-9389-62863a58ce9f",
   "metadata": {},
   "outputs": [
    {
     "data": {
      "text/plain": [
       "'hello'"
      ]
     },
     "execution_count": 10,
     "metadata": {},
     "output_type": "execute_result"
    }
   ],
   "source": [
    "# can add two strings\n",
    "\"he\" + \"llo\""
   ]
  },
  {
   "cell_type": "code",
   "execution_count": 11,
   "id": "cac94819-f686-431e-a75d-58d04d26d82c",
   "metadata": {},
   "outputs": [
    {
     "data": {
      "text/plain": [
       "7"
      ]
     },
     "execution_count": 11,
     "metadata": {},
     "output_type": "execute_result"
    }
   ],
   "source": [
    "# can calculate length of string\n",
    "len(\"abcdefg\")"
   ]
  },
  {
   "cell_type": "code",
   "execution_count": 75,
   "id": "53ae8ae6-ba7e-48e8-b0b4-149b4e2f7a50",
   "metadata": {},
   "outputs": [
    {
     "data": {
      "text/plain": [
       "'abc def'"
      ]
     },
     "execution_count": 75,
     "metadata": {},
     "output_type": "execute_result"
    }
   ],
   "source": [
    "# can use `strip` to remove some parts on the left&right side of string, like newline letter `\\n`\n",
    "\"abc def\\n\".strip('\\n')"
   ]
  },
  {
   "cell_type": "code",
   "execution_count": 76,
   "id": "1d86cd44-b53d-4138-9d11-0a759f22eca3",
   "metadata": {},
   "outputs": [
    {
     "data": {
      "text/plain": [
       "['abc', ' def']"
      ]
     },
     "execution_count": 76,
     "metadata": {},
     "output_type": "execute_result"
    }
   ],
   "source": [
    "# can use `split` split the string\n",
    "\"abc, def\".split(\",\")"
   ]
  },
  {
   "cell_type": "code",
   "execution_count": 12,
   "id": "26babdbc-fadc-4267-995c-56fe301016cd",
   "metadata": {},
   "outputs": [
    {
     "name": "stdout",
     "output_type": "stream",
     "text": [
      "정수\n",
      "034\n",
      "034\n",
      "-----\n",
      "소수\n",
      "34.5100\n",
      "34.5100\n"
     ]
    }
   ],
   "source": [
    "# format string: when you want to use a certain format for a variable\n",
    "# add 'f' letter in the front of astring / use `.format` method at the back of a string\n",
    "# 정수 = d\n",
    "x = 34\n",
    "print(\"정수\")\n",
    "print(f\"{x:03d}\")\n",
    "print(\"{:03d}\".format(x))\n",
    "print(\"-----\")\n",
    "# 소수점 4자리 = .4f\n",
    "x = 34.51\n",
    "print(\"소수\")\n",
    "print(f\"{x:.4f}\")\n",
    "print(\"{:.4f}\".format(x))"
   ]
  },
  {
   "cell_type": "markdown",
   "id": "c898822e-b8ac-42ef-a916-f01d28f38c77",
   "metadata": {},
   "source": [
    "### Integer"
   ]
  },
  {
   "cell_type": "code",
   "execution_count": 13,
   "id": "9135c083-f349-4c6a-b662-68c062f14ed5",
   "metadata": {},
   "outputs": [
    {
     "data": {
      "text/plain": [
       "int"
      ]
     },
     "execution_count": 13,
     "metadata": {},
     "output_type": "execute_result"
    }
   ],
   "source": [
    "type(1)"
   ]
  },
  {
   "cell_type": "code",
   "execution_count": 116,
   "id": "2bd843ba-962d-4c15-bfdb-912f58f3b7bd",
   "metadata": {},
   "outputs": [
    {
     "data": {
      "text/plain": [
       "'1'"
      ]
     },
     "execution_count": 116,
     "metadata": {},
     "output_type": "execute_result"
    }
   ],
   "source": [
    "# type change\n",
    "x = 1\n",
    "str(x)"
   ]
  },
  {
   "cell_type": "markdown",
   "id": "f81946a5-ac68-4f1a-a3cc-a83e0f490e09",
   "metadata": {},
   "source": [
    "### Floating Point"
   ]
  },
  {
   "cell_type": "code",
   "execution_count": 14,
   "id": "7b6b7c7b-07e9-4fed-9d4d-0ca403883330",
   "metadata": {},
   "outputs": [
    {
     "data": {
      "text/plain": [
       "float"
      ]
     },
     "execution_count": 14,
     "metadata": {},
     "output_type": "execute_result"
    }
   ],
   "source": [
    "type(3.4)"
   ]
  },
  {
   "cell_type": "code",
   "execution_count": 15,
   "id": "0f066fd2-155b-4d69-b669-f7deba725a55",
   "metadata": {},
   "outputs": [
    {
     "data": {
      "text/plain": [
       "(inf, -inf)"
      ]
     },
     "execution_count": 15,
     "metadata": {},
     "output_type": "execute_result"
    }
   ],
   "source": [
    "# declare infinity\n",
    "float(\"inf\"), float(\"-inf\")"
   ]
  },
  {
   "cell_type": "code",
   "execution_count": 16,
   "id": "0ba2d6b8-d1b0-4d2b-b031-9f918f3fa13f",
   "metadata": {},
   "outputs": [
    {
     "data": {
      "text/plain": [
       "0.8823529411764706"
      ]
     },
     "execution_count": 16,
     "metadata": {},
     "output_type": "execute_result"
    }
   ],
   "source": [
    "# from python3, interger will be automatically transfter to float type\n",
    "3 / 3.4"
   ]
  },
  {
   "cell_type": "markdown",
   "id": "9275137c-733f-4fe7-ae74-ee8dfe3ce5d5",
   "metadata": {},
   "source": [
    "### Boolean\n",
    "\n",
    "`True` 와 `False`가 있음"
   ]
  },
  {
   "cell_type": "code",
   "execution_count": 17,
   "id": "a8fe342e-f801-4bfe-ab14-daef5c78f3de",
   "metadata": {},
   "outputs": [
    {
     "data": {
      "text/plain": [
       "(bool, bool)"
      ]
     },
     "execution_count": 17,
     "metadata": {},
     "output_type": "execute_result"
    }
   ],
   "source": [
    "type(True), type(False)"
   ]
  },
  {
   "cell_type": "markdown",
   "id": "c9664481-abd0-4307-8e4a-3bd0f37b472c",
   "metadata": {},
   "source": [
    "### None"
   ]
  },
  {
   "cell_type": "code",
   "execution_count": 18,
   "id": "9f3ec062-0c90-4f7b-a51e-4866fc38a894",
   "metadata": {},
   "outputs": [
    {
     "data": {
      "text/plain": [
       "NoneType"
      ]
     },
     "execution_count": 18,
     "metadata": {},
     "output_type": "execute_result"
    }
   ],
   "source": [
    "type(None)"
   ]
  },
  {
   "cell_type": "markdown",
   "id": "38f21ec5-c07c-4979-bf93-8c5dbf651b5c",
   "metadata": {},
   "source": [
    "### Tuple\n",
    "\n",
    "* 순서가 있는 데이터를 담는 자료구조\n",
    "* 특징: immutable(한 번 생성하면 데이터를 바꿀 수 없음), ordered, iterable, subscriptable"
   ]
  },
  {
   "cell_type": "code",
   "execution_count": 19,
   "id": "d25314d9-b887-4a6b-a3bb-3dd571d115d2",
   "metadata": {},
   "outputs": [
    {
     "data": {
      "text/plain": [
       "float"
      ]
     },
     "execution_count": 19,
     "metadata": {},
     "output_type": "execute_result"
    }
   ],
   "source": [
    "x_tuple = (1, 2, 3)\n",
    "type(x)"
   ]
  },
  {
   "cell_type": "code",
   "execution_count": 20,
   "id": "3c79ce59-bd4d-4add-8475-3c0f35c4ff5b",
   "metadata": {},
   "outputs": [
    {
     "ename": "TypeError",
     "evalue": "'tuple' object does not support item assignment",
     "output_type": "error",
     "traceback": [
      "\u001b[1;31m---------------------------------------------------------------------------\u001b[0m",
      "\u001b[1;31mTypeError\u001b[0m                                 Traceback (most recent call last)",
      "\u001b[1;32m<ipython-input-20-2c028fb7b40c>\u001b[0m in \u001b[0;36m<module>\u001b[1;34m\u001b[0m\n\u001b[0;32m      1\u001b[0m \u001b[1;31m# `tuple` is immutable data structure\u001b[0m\u001b[1;33m\u001b[0m\u001b[1;33m\u001b[0m\u001b[1;33m\u001b[0m\u001b[0m\n\u001b[1;32m----> 2\u001b[1;33m \u001b[0mx_tuple\u001b[0m\u001b[1;33m[\u001b[0m\u001b[1;36m2\u001b[0m\u001b[1;33m]\u001b[0m \u001b[1;33m=\u001b[0m \u001b[1;36m4\u001b[0m\u001b[1;33m\u001b[0m\u001b[1;33m\u001b[0m\u001b[0m\n\u001b[0m",
      "\u001b[1;31mTypeError\u001b[0m: 'tuple' object does not support item assignment"
     ]
    }
   ],
   "source": [
    "# `tuple` is immutable data structure\n",
    "x_tuple[2] = 4"
   ]
  },
  {
   "cell_type": "code",
   "execution_count": 21,
   "id": "f79d78c6-d69b-49c9-af64-df507433767f",
   "metadata": {},
   "outputs": [
    {
     "data": {
      "text/plain": [
       "3"
      ]
     },
     "execution_count": 21,
     "metadata": {},
     "output_type": "execute_result"
    }
   ],
   "source": [
    "# using len function to get the length of `tuple`\n",
    "len(x_tuple)"
   ]
  },
  {
   "cell_type": "markdown",
   "id": "a23b5330-0952-4b66-a948-cf489d5e1783",
   "metadata": {},
   "source": [
    "### List\n",
    "\n",
    "* 순서가 있는 데이터를 담는 자료구조\n",
    "* 특징: mutable(생성 후에도 데이터를 바꿀 수 있음), ordered, iterable, subscriptable"
   ]
  },
  {
   "cell_type": "code",
   "execution_count": 3,
   "id": "c503c1d2-87f9-47ba-9bb1-1edaacbb97f9",
   "metadata": {},
   "outputs": [
    {
     "data": {
      "text/plain": [
       "list"
      ]
     },
     "execution_count": 3,
     "metadata": {},
     "output_type": "execute_result"
    }
   ],
   "source": [
    "x_list = [1, 2, 3]\n",
    "type(x_list)"
   ]
  },
  {
   "cell_type": "code",
   "execution_count": 4,
   "id": "a0ed2a6f-0c65-4409-a687-399d24938bd2",
   "metadata": {},
   "outputs": [
    {
     "name": "stdout",
     "output_type": "stream",
     "text": [
      "[1, 2, 3, 4]\n",
      "[1, 2, 3]\n"
     ]
    }
   ],
   "source": [
    "# add new element at end of list\n",
    "x_list.append(4)\n",
    "print(x_list)\n",
    "# remove a certain index in the list\n",
    "x_list.remove(4)\n",
    "print(x_list)"
   ]
  },
  {
   "cell_type": "code",
   "execution_count": 23,
   "id": "0564e074-33ff-4c73-9823-f08b5f0ad714",
   "metadata": {},
   "outputs": [
    {
     "data": {
      "text/plain": [
       "True"
      ]
     },
     "execution_count": 23,
     "metadata": {},
     "output_type": "execute_result"
    }
   ],
   "source": [
    "# check if an element is in a list\n",
    "4 in [1, 2, 3, 4]"
   ]
  },
  {
   "cell_type": "code",
   "execution_count": 23,
   "id": "cc336069-5d52-4993-b3b5-f71ca2fdcaac",
   "metadata": {},
   "outputs": [
    {
     "data": {
      "text/plain": [
       "[3, 3, 3, 3, 3, 3, 3, 3, 3, 3, 3, 3, 3, 3, 3, 3, 3, 3, 3, 3]"
      ]
     },
     "execution_count": 23,
     "metadata": {},
     "output_type": "execute_result"
    }
   ],
   "source": [
    "# create a list with duplicated numbers\n",
    "[3] * 20"
   ]
  },
  {
   "cell_type": "code",
   "execution_count": 24,
   "id": "5f4855de-560a-49be-97db-3e17d65e8258",
   "metadata": {},
   "outputs": [
    {
     "data": {
      "text/plain": [
       "[1, 2, 5]"
      ]
     },
     "execution_count": 24,
     "metadata": {},
     "output_type": "execute_result"
    }
   ],
   "source": [
    "# `list` is mutable data structure\n",
    "x_list[2] = 5\n",
    "x_list"
   ]
  },
  {
   "cell_type": "code",
   "execution_count": 25,
   "id": "8a81f926-a844-43fe-aafc-2e4cee46cab6",
   "metadata": {},
   "outputs": [
    {
     "data": {
      "text/plain": [
       "3"
      ]
     },
     "execution_count": 25,
     "metadata": {},
     "output_type": "execute_result"
    }
   ],
   "source": [
    "# using len function to get the length of `list`\n",
    "len(x_list)"
   ]
  },
  {
   "cell_type": "markdown",
   "id": "4ac6a9ed-e3a0-4a55-89cd-2f0780a6c0f4",
   "metadata": {},
   "source": [
    "Python에서 index는 0부터 시작한다"
   ]
  },
  {
   "cell_type": "code",
   "execution_count": 128,
   "id": "6a264c1a-3671-4475-8ed3-35527c44df83",
   "metadata": {},
   "outputs": [
    {
     "data": {
      "text/plain": [
       "[2, 3, 4, 5]"
      ]
     },
     "execution_count": 128,
     "metadata": {},
     "output_type": "execute_result"
    }
   ],
   "source": [
    "x_list = [1, 2, 3, 4, 5, 6]\n",
    "# slice index from 1 ~ 4 \n",
    "#      1  2  3  4\n",
    "#  [1, 2, 3, 4, 5, 6]\n",
    "x_list[1:5]"
   ]
  },
  {
   "cell_type": "code",
   "execution_count": 123,
   "id": "db408802-deb8-4fbd-b0d3-c4f2872797b9",
   "metadata": {},
   "outputs": [
    {
     "data": {
      "text/plain": [
       "[1, 2, 3]"
      ]
     },
     "execution_count": 123,
     "metadata": {},
     "output_type": "execute_result"
    }
   ],
   "source": [
    "# slice index from begining ~ 2 \n",
    "#   0  1  2\n",
    "#  [1, 2, 3, 4, 5, 6]\n",
    "x_list[:3]"
   ]
  },
  {
   "cell_type": "code",
   "execution_count": 124,
   "id": "1e6ac33d-d645-41e6-ac73-28da0048875d",
   "metadata": {},
   "outputs": [
    {
     "data": {
      "text/plain": [
       "[5, 6]"
      ]
     },
     "execution_count": 124,
     "metadata": {},
     "output_type": "execute_result"
    }
   ],
   "source": [
    "# slice index from behind\n",
    "#              -2  -1\n",
    "#  [1, 2, 3, 4, 5, 6]\n",
    "x_list[-2:]"
   ]
  },
  {
   "cell_type": "code",
   "execution_count": 127,
   "id": "1efa1f6f-4046-4d67-beb0-70406e59363c",
   "metadata": {},
   "outputs": [
    {
     "data": {
      "text/plain": [
       "[1, 3, 5]"
      ]
     },
     "execution_count": 127,
     "metadata": {},
     "output_type": "execute_result"
    }
   ],
   "source": [
    "# slice even index(0, 2, 4)\n",
    "#   0     2     4 \n",
    "#  [1, 2, 3, 4, 5, 6]\n",
    "x_list[0:6:2]"
   ]
  },
  {
   "cell_type": "code",
   "execution_count": 26,
   "id": "f9aababa-38df-4a40-ae7f-24eb43ecc5b0",
   "metadata": {},
   "outputs": [
    {
     "name": "stdout",
     "output_type": "stream",
     "text": [
      "Memory size of `x_tuple`: 64 bytes\n",
      "Memory size of `x_list`: 80 bytes\n"
     ]
    }
   ],
   "source": [
    "# tuple VS list\n",
    "import sys\n",
    "print(f\"Memory size of `x_tuple`: {sys.getsizeof(x_tuple)} bytes\")\n",
    "print(f\"Memory size of `x_list`: {sys.getsizeof(x_list)} bytes\")"
   ]
  },
  {
   "cell_type": "code",
   "execution_count": 83,
   "id": "c0cf7287-692f-4a9f-8feb-62c81aa1fd1a",
   "metadata": {},
   "outputs": [
    {
     "name": "stdout",
     "output_type": "stream",
     "text": [
      "877 ns ± 25 ns per loop (mean ± std. dev. of 7 runs, 1000000 loops each)\n"
     ]
    }
   ],
   "source": [
    "%%timeit\n",
    "\n",
    "# list comprehension: Faster way to create list\n",
    "data = []\n",
    "for i in range(10):\n",
    "    data.append(i)"
   ]
  },
  {
   "cell_type": "code",
   "execution_count": 84,
   "id": "570954c2-e74e-4d56-b88d-de2f1ba4d502",
   "metadata": {},
   "outputs": [
    {
     "name": "stdout",
     "output_type": "stream",
     "text": [
      "625 ns ± 17.1 ns per loop (mean ± std. dev. of 7 runs, 1000000 loops each)\n"
     ]
    }
   ],
   "source": [
    "%%timeit\n",
    "\n",
    "data = [i for i in range(10)]"
   ]
  },
  {
   "cell_type": "markdown",
   "id": "760d0b2e-7b45-444c-bcaf-86f19a65ee3d",
   "metadata": {},
   "source": [
    "### Set\n",
    "\n",
    "* 정렬되지 않고(unordered, python3.6 이후로는 아님) 고유한(distinct) 데이터으로 이루어진 자료 구조\n",
    "* 특징: mutable, unordered(python3.6 이후로는 아님), iterable"
   ]
  },
  {
   "cell_type": "code",
   "execution_count": 27,
   "id": "c8e30c79-e492-4779-adeb-0d9ec9d180b4",
   "metadata": {},
   "outputs": [
    {
     "data": {
      "text/plain": [
       "set"
      ]
     },
     "execution_count": 27,
     "metadata": {},
     "output_type": "execute_result"
    }
   ],
   "source": [
    "x_set = {5, 2, 3}\n",
    "type(x_set)"
   ]
  },
  {
   "cell_type": "code",
   "execution_count": 28,
   "id": "ab962560-2874-495e-9827-3502bc9dc62a",
   "metadata": {},
   "outputs": [
    {
     "ename": "TypeError",
     "evalue": "'set' object does not support item assignment",
     "output_type": "error",
     "traceback": [
      "\u001b[1;31m---------------------------------------------------------------------------\u001b[0m",
      "\u001b[1;31mTypeError\u001b[0m                                 Traceback (most recent call last)",
      "\u001b[1;32m<ipython-input-28-bea5fa590766>\u001b[0m in \u001b[0;36m<module>\u001b[1;34m\u001b[0m\n\u001b[0;32m      1\u001b[0m \u001b[1;31m# `set` is immutable data structure\u001b[0m\u001b[1;33m\u001b[0m\u001b[1;33m\u001b[0m\u001b[1;33m\u001b[0m\u001b[0m\n\u001b[1;32m----> 2\u001b[1;33m \u001b[0mx_set\u001b[0m\u001b[1;33m[\u001b[0m\u001b[1;36m2\u001b[0m\u001b[1;33m]\u001b[0m \u001b[1;33m=\u001b[0m \u001b[1;36m4\u001b[0m\u001b[1;33m\u001b[0m\u001b[1;33m\u001b[0m\u001b[0m\n\u001b[0m",
      "\u001b[1;31mTypeError\u001b[0m: 'set' object does not support item assignment"
     ]
    }
   ],
   "source": [
    "# `set` is immutable data structure\n",
    "x_set[2] = 4"
   ]
  },
  {
   "cell_type": "code",
   "execution_count": 29,
   "id": "9a96bf78-df03-4f01-ab88-58b7d1f403ae",
   "metadata": {},
   "outputs": [
    {
     "data": {
      "text/plain": [
       "3"
      ]
     },
     "execution_count": 29,
     "metadata": {},
     "output_type": "execute_result"
    }
   ],
   "source": [
    "# using len function to get the length of `set`\n",
    "len(x_set)"
   ]
  },
  {
   "cell_type": "markdown",
   "id": "69ae4a0f-963a-4614-ab0e-fa7e9f7e6fa1",
   "metadata": {},
   "source": [
    "### Dictionary\n",
    "\n",
    "* 중복되지 않는 key와 value 쌍을 데이터로 가진 정렬되지 않은(unordered) 변경가능한(mutable) 자료구조\n",
    "* 특징: mutable, unordered(python3.6 이후로는 아님), iterable"
   ]
  },
  {
   "cell_type": "code",
   "execution_count": 30,
   "id": "22307530-4353-44fe-ad83-bfabeb6019e6",
   "metadata": {},
   "outputs": [
    {
     "data": {
      "text/plain": [
       "dict"
      ]
     },
     "execution_count": 30,
     "metadata": {},
     "output_type": "execute_result"
    }
   ],
   "source": [
    "x_dict = {\"a\": 1, \"b\": 2}\n",
    "type(x_dict)"
   ]
  },
  {
   "cell_type": "code",
   "execution_count": 31,
   "id": "0b5e342b-67c3-4075-98c1-4aef5f7f4217",
   "metadata": {},
   "outputs": [
    {
     "data": {
      "text/plain": [
       "{'a': 1, 'b': 2, 'c': 3}"
      ]
     },
     "execution_count": 31,
     "metadata": {},
     "output_type": "execute_result"
    }
   ],
   "source": [
    "# add a new key-value pair\n",
    "x_dict[\"c\"] = 3\n",
    "x_dict"
   ]
  },
  {
   "cell_type": "code",
   "execution_count": 32,
   "id": "cfaf6e20-2374-42d1-85bf-a8559b6b59e5",
   "metadata": {},
   "outputs": [
    {
     "name": "stdout",
     "output_type": "stream",
     "text": [
      "1\n",
      "None\n"
     ]
    }
   ],
   "source": [
    "# can get dictionary value by using get method\n",
    "# if there is nothing with a certain key it will return `None` value\n",
    "print(x_dict.get(\"a\"))\n",
    "print(x_dict.get(\"d\"))"
   ]
  },
  {
   "cell_type": "code",
   "execution_count": 33,
   "id": "d8f89844-bc68-4622-9bae-4d0a72c37427",
   "metadata": {},
   "outputs": [
    {
     "name": "stdout",
     "output_type": "stream",
     "text": [
      "2\n"
     ]
    },
    {
     "ename": "KeyError",
     "evalue": "'d'",
     "output_type": "error",
     "traceback": [
      "\u001b[1;31m---------------------------------------------------------------------------\u001b[0m",
      "\u001b[1;31mKeyError\u001b[0m                                  Traceback (most recent call last)",
      "\u001b[1;32m<ipython-input-33-7ca1dd1fd55e>\u001b[0m in \u001b[0;36m<module>\u001b[1;34m\u001b[0m\n\u001b[0;32m      2\u001b[0m \u001b[1;31m# if there is nothing with a certain key it will return KeyError\u001b[0m\u001b[1;33m\u001b[0m\u001b[1;33m\u001b[0m\u001b[1;33m\u001b[0m\u001b[0m\n\u001b[0;32m      3\u001b[0m \u001b[0mprint\u001b[0m\u001b[1;33m(\u001b[0m\u001b[0mx_dict\u001b[0m\u001b[1;33m[\u001b[0m\u001b[1;34m\"b\"\u001b[0m\u001b[1;33m]\u001b[0m\u001b[1;33m)\u001b[0m\u001b[1;33m\u001b[0m\u001b[1;33m\u001b[0m\u001b[0m\n\u001b[1;32m----> 4\u001b[1;33m \u001b[0mx_dict\u001b[0m\u001b[1;33m[\u001b[0m\u001b[1;34m\"d\"\u001b[0m\u001b[1;33m]\u001b[0m\u001b[1;33m\u001b[0m\u001b[1;33m\u001b[0m\u001b[0m\n\u001b[0m",
      "\u001b[1;31mKeyError\u001b[0m: 'd'"
     ]
    }
   ],
   "source": [
    "# can insert key into '[]' to get dictionary value\n",
    "# if there is nothing with a certain key it will return KeyError\n",
    "print(x_dict[\"b\"])\n",
    "x_dict[\"d\"]"
   ]
  },
  {
   "cell_type": "code",
   "execution_count": 34,
   "id": "c0e14b63-83f9-4d3a-83a3-87f96c3a96ba",
   "metadata": {},
   "outputs": [
    {
     "data": {
      "text/plain": [
       "dict_keys(['a', 'b', 'c'])"
      ]
     },
     "execution_count": 34,
     "metadata": {},
     "output_type": "execute_result"
    }
   ],
   "source": [
    "x_dict.keys()"
   ]
  },
  {
   "cell_type": "code",
   "execution_count": 35,
   "id": "d099d77a-e983-4577-a1b3-7c7cad168a88",
   "metadata": {},
   "outputs": [
    {
     "data": {
      "text/plain": [
       "dict_values([1, 2, 3])"
      ]
     },
     "execution_count": 35,
     "metadata": {},
     "output_type": "execute_result"
    }
   ],
   "source": [
    "x_dict.values()"
   ]
  },
  {
   "cell_type": "code",
   "execution_count": 36,
   "id": "aa6d177b-e194-45ff-a9e9-c718dfada100",
   "metadata": {},
   "outputs": [
    {
     "data": {
      "text/plain": [
       "dict_items([('a', 1), ('b', 2), ('c', 3)])"
      ]
     },
     "execution_count": 36,
     "metadata": {},
     "output_type": "execute_result"
    }
   ],
   "source": [
    "x_dict.items()"
   ]
  },
  {
   "cell_type": "markdown",
   "id": "3a1e496a-b9a3-4a8c-8830-2db31004f919",
   "metadata": {},
   "source": [
    "---"
   ]
  },
  {
   "cell_type": "markdown",
   "id": "1a291772-2fec-481c-b0a9-e72ce64f0991",
   "metadata": {},
   "source": [
    "## Useful Operations\n",
    "\n",
    "* Logical operation\n",
    "* Relation operation\n",
    "* If\n",
    "* Iterator for & while"
   ]
  },
  {
   "cell_type": "markdown",
   "id": "f1b2c4a2-898e-4c13-8fc1-10091ba10206",
   "metadata": {},
   "source": [
    "### Logical operation\n",
    "\n",
    "**AND**: `A and B`\n",
    "\n",
    "|A|B|Result|\n",
    "|---|---|---|\n",
    "|True|True|True|\n",
    "|True|False|False|\n",
    "|False|True|False|\n",
    "|False|False|False|\n",
    "\n",
    "**OR**: `A or B`\n",
    "\n",
    "|A|B|Result|\n",
    "|---|---|---|\n",
    "|True|True|True|\n",
    "|True|False|True|\n",
    "|False|True|True|\n",
    "|False|False|False|\n",
    "\n",
    "**NOT**: `not A`\n",
    "\n",
    "|A|Result|\n",
    "|---|---|\n",
    "|True|False|\n",
    "|False|True|"
   ]
  },
  {
   "cell_type": "code",
   "execution_count": 42,
   "id": "97813a0c-593b-43df-8629-f38170e39b64",
   "metadata": {},
   "outputs": [
    {
     "data": {
      "text/plain": [
       "0"
      ]
     },
     "execution_count": 42,
     "metadata": {},
     "output_type": "execute_result"
    }
   ],
   "source": [
    "# In Python `1=True`, `0=False`\n",
    "1 and 0"
   ]
  },
  {
   "cell_type": "code",
   "execution_count": 51,
   "id": "a6f11a48-ee08-4ca1-8b82-9c81fa5f9226",
   "metadata": {},
   "outputs": [
    {
     "data": {
      "text/plain": [
       "True"
      ]
     },
     "execution_count": 51,
     "metadata": {},
     "output_type": "execute_result"
    }
   ],
   "source": [
    "True or False"
   ]
  },
  {
   "cell_type": "code",
   "execution_count": 5,
   "id": "8d6cd5a7-d138-4b0e-9bfb-00ca727f20ed",
   "metadata": {},
   "outputs": [
    {
     "data": {
      "text/plain": [
       "False"
      ]
     },
     "execution_count": 5,
     "metadata": {},
     "output_type": "execute_result"
    }
   ],
   "source": [
    "not True"
   ]
  },
  {
   "cell_type": "markdown",
   "id": "52e9452c-361f-4819-9d79-e9fe09030ac1",
   "metadata": {},
   "source": [
    "### Relation operations\n",
    "\n",
    "* `>`, `<`, `>=`, `<=`, `==`, `!=` \n",
    "* `is`"
   ]
  },
  {
   "cell_type": "code",
   "execution_count": 52,
   "id": "34208670-38d2-47c0-821e-d6b864e9b662",
   "metadata": {},
   "outputs": [
    {
     "data": {
      "text/plain": [
       "False"
      ]
     },
     "execution_count": 52,
     "metadata": {},
     "output_type": "execute_result"
    }
   ],
   "source": [
    "213 == 3"
   ]
  },
  {
   "cell_type": "code",
   "execution_count": 53,
   "id": "46dc0ff3-ae0f-4369-aa5f-c97e91cc5619",
   "metadata": {},
   "outputs": [
    {
     "data": {
      "text/plain": [
       "False"
      ]
     },
     "execution_count": 53,
     "metadata": {},
     "output_type": "execute_result"
    }
   ],
   "source": [
    "2 != 2"
   ]
  },
  {
   "cell_type": "code",
   "execution_count": 70,
   "id": "aadca398-171a-4358-825e-65ab13c7ddb3",
   "metadata": {},
   "outputs": [
    {
     "name": "stdout",
     "output_type": "stream",
     "text": [
      "True\n"
     ]
    }
   ],
   "source": [
    "# check if it is empty list\n",
    "[] is not None"
   ]
  },
  {
   "cell_type": "code",
   "execution_count": 22,
   "id": "9ef0c9a9-bb81-4733-bb49-6e107481ff26",
   "metadata": {},
   "outputs": [
    {
     "data": {
      "text/plain": [
       "False"
      ]
     },
     "execution_count": 22,
     "metadata": {},
     "output_type": "execute_result"
    }
   ],
   "source": [
    "[] == True"
   ]
  },
  {
   "cell_type": "code",
   "execution_count": 86,
   "id": "b448a3a6-f5ee-4ad3-96c3-5721d041ab8c",
   "metadata": {},
   "outputs": [
    {
     "data": {
      "text/plain": [
       "True"
      ]
     },
     "execution_count": 86,
     "metadata": {},
     "output_type": "execute_result"
    }
   ],
   "source": [
    "# if something exist it will return True\n",
    "[\"d\", 2] is not None"
   ]
  },
  {
   "cell_type": "code",
   "execution_count": 69,
   "id": "5fccb366-e655-4437-987d-17e3db853fea",
   "metadata": {},
   "outputs": [
    {
     "name": "stdout",
     "output_type": "stream",
     "text": [
      "Are `a` and `b` same objects? True\n",
      "  ID a: 2114698177088 | ID b: 2114698177088\n",
      "Are `a` and `c` same objects? False\n",
      "  ID a: 2114698177088 | ID c: 2114691088960\n",
      "\n",
      "Do `a` and `b` have same values? True\n",
      "Do `a` and `c` have same values? True\n"
     ]
    }
   ],
   "source": [
    "# `is` VS `==`\n",
    "# `is`: if variables are pointing same object return True (same object means pointing same memory point)\n",
    "# `==`: if variables have same value return True\n",
    "a = [1, 2, 3]\n",
    "b = a\n",
    "c = [1, 2, 3]\n",
    "print(f\"Are `a` and `b` same objects? {a is b}\")\n",
    "print(f\"  ID a: {id(a)} | ID b: {id(b)}\")\n",
    "print(f\"Are `a` and `c` same objects? {a is c}\")\n",
    "print(f\"  ID a: {id(a)} | ID c: {id(c)}\")\n",
    "print()\n",
    "print(f\"Do `a` and `b` have same values? {a == b}\")\n",
    "print(f\"Do `a` and `c` have same values? {a == c}\")"
   ]
  },
  {
   "cell_type": "code",
   "execution_count": 88,
   "id": "35665ac6-f77b-4750-9ee0-552337cd5cf1",
   "metadata": {},
   "outputs": [
    {
     "name": "stdout",
     "output_type": "stream",
     "text": [
      "1) Runned\n",
      "2) 1\n",
      "3) Runned\n",
      "4) 1\n",
      "5) 1\n"
     ]
    }
   ],
   "source": [
    "# Short-circuit evaluation\n",
    "def check_if_run():\n",
    "    return \"Runned\"\n",
    "\n",
    "print(f\"1) {1 and check_if_run()}\")       # need to check both condition\n",
    "print(f\"2) {1 or check_if_run()}\")        # can skip second condition since first is always True\n",
    "print(f\"3) {0 or check_if_run() or 1}\")   # can skip third condition since second is always True\n",
    "print(f\"4) {0 or 1 or check_if_run()}\")   # can skip third condition since second is always True\n",
    "print(f\"5) {0 or check_if_run() and 1}\")  # need to check all condition"
   ]
  },
  {
   "cell_type": "markdown",
   "id": "9a92fdb4-a5cb-4bef-a8ff-c0c1de5e03d9",
   "metadata": {},
   "source": [
    "### If"
   ]
  },
  {
   "cell_type": "code",
   "execution_count": 54,
   "id": "365e6ca3-e557-4b38-911f-b9cc7c4e00ee",
   "metadata": {},
   "outputs": [
    {
     "name": "stdout",
     "output_type": "stream",
     "text": [
      "This is True\n"
     ]
    }
   ],
   "source": [
    "if True:\n",
    "    print(\"This is True\")\n",
    "elif True:\n",
    "    print(\"This is elif True\")\n",
    "else:\n",
    "    print(\"This is else\")"
   ]
  },
  {
   "cell_type": "code",
   "execution_count": 47,
   "id": "cffbf3a7-308d-4e02-88cf-fbe0cb2db175",
   "metadata": {},
   "outputs": [
    {
     "name": "stdout",
     "output_type": "stream",
     "text": [
      "equivalent to `False` in if statement\n",
      "None\n",
      "Empty List\n",
      "Empty Set\n",
      "Zeros\n"
     ]
    }
   ],
   "source": [
    "# equivalent to `False` in if statement\n",
    "print(\"equivalent to `False` in if statement\")\n",
    "if not None:\n",
    "    print(\"None\")\n",
    "if not []:\n",
    "    print(\"Empty List\")\n",
    "if not {}:\n",
    "    print(\"Empty Set\")\n",
    "if not 0:\n",
    "    print(\"Zeros\")"
   ]
  },
  {
   "cell_type": "markdown",
   "id": "73cc84c8-706e-4686-8269-8bd4cce1851f",
   "metadata": {},
   "source": [
    "### Iterator and for, while\n",
    "\n",
    "* Iterable: 반복 가능한 객체\n",
    "* `list`, `dict`, `set`, `str`, `tuple`, `range`, `enumerate`\n",
    "* 모든 Iterable 객체는 `iter` 함수로 iteration을 할 수 있다."
   ]
  },
  {
   "cell_type": "code",
   "execution_count": 112,
   "id": "0f402464-6c3c-4f16-b9df-c9322ba96000",
   "metadata": {},
   "outputs": [
    {
     "data": {
      "text/plain": [
       "<list_iterator at 0x1ec5d6fa6a0>"
      ]
     },
     "execution_count": 112,
     "metadata": {},
     "output_type": "execute_result"
    }
   ],
   "source": [
    "# all iterable objects, can be iterated by `iter` function\n",
    "x = [1, 2, 3]\n",
    "iter(x)"
   ]
  },
  {
   "cell_type": "code",
   "execution_count": 55,
   "id": "b03e72ef-ccf6-44c5-8449-35f41ede55eb",
   "metadata": {},
   "outputs": [
    {
     "name": "stdout",
     "output_type": "stream",
     "text": [
      "1\n",
      "2\n",
      "3\n"
     ]
    }
   ],
   "source": [
    "# range: include first value, not include the last value\n",
    "for i in range(1, 4):\n",
    "    print(i)"
   ]
  },
  {
   "cell_type": "code",
   "execution_count": 110,
   "id": "b7151b7e-e0e2-47e8-95bf-0941fa29e027",
   "metadata": {},
   "outputs": [
    {
     "name": "stdout",
     "output_type": "stream",
     "text": [
      "1\n",
      "3\n",
      "5\n",
      "7\n",
      "9\n"
     ]
    }
   ],
   "source": [
    "# loop 1 to 9 by 2 step\n",
    "for i in range(1, 10, 2):\n",
    "    print(i)"
   ]
  },
  {
   "cell_type": "code",
   "execution_count": 115,
   "id": "cd9e56e2-c1a1-454b-9099-7abeebe4f79e",
   "metadata": {},
   "outputs": [
    {
     "name": "stdout",
     "output_type": "stream",
     "text": [
      "0\n",
      "2\n",
      "4\n",
      "6\n",
      "8\n"
     ]
    }
   ],
   "source": [
    "# while loop: find the even number from 0 ~ 9\n",
    "i = 0\n",
    "while (i < 10):\n",
    "    if i % 2 == 0:\n",
    "        print(i)\n",
    "    i += 1"
   ]
  },
  {
   "cell_type": "code",
   "execution_count": 56,
   "id": "8703a879-801c-4784-943e-693c0446c286",
   "metadata": {},
   "outputs": [
    {
     "name": "stdout",
     "output_type": "stream",
     "text": [
      "0 1\n",
      "1 2\n",
      "2 3\n"
     ]
    }
   ],
   "source": [
    "# use enumerate when you want to iterate the index with the values\n",
    "for i, v in enumerate([1, 2, 3]):\n",
    "    print(i, v)"
   ]
  },
  {
   "cell_type": "markdown",
   "id": "34e9f376-bd19-4dab-bed4-1b7ab213bbf5",
   "metadata": {},
   "source": [
    "* `in` operation"
   ]
  },
  {
   "cell_type": "markdown",
   "id": "21edf0c7-1d70-44f1-801f-9d1a4bd14ec5",
   "metadata": {},
   "source": [
    "### other functions"
   ]
  },
  {
   "cell_type": "code",
   "execution_count": 2,
   "id": "515687e1-323d-4e16-aedb-efe06deddf80",
   "metadata": {},
   "outputs": [
    {
     "name": "stdout",
     "output_type": "stream",
     "text": [
      "Summation: 6\n",
      "Maximum: 3\n",
      "Minimum: 1\n"
     ]
    }
   ],
   "source": [
    "x = [1, 2, 3]\n",
    "print(f\"Summation: {sum(x)}\")\n",
    "print(f\"Maximum: {max(x)}\")\n",
    "print(f\"Minimum: {min(x)}\")"
   ]
  },
  {
   "cell_type": "markdown",
   "id": "7f974d62-6f6e-4093-b3be-6ca35e00e4d3",
   "metadata": {},
   "source": [
    "# Exercise 1"
   ]
  },
  {
   "cell_type": "code",
   "execution_count": 132,
   "id": "c57b6f35-ef09-4d83-9476-85fbe0c554b2",
   "metadata": {},
   "outputs": [],
   "source": [
    "def getIDnumber(data: dict) -> str:\n",
    "    r\"\"\"\n",
    "    Given dictionary data\n",
    "    - year, month, day: int, assume no error data in month=(1~12), day=(1~31)\n",
    "    - gender: str (male / female), always lower form\n",
    "    return the personal id\n",
    "        \n",
    "    format id: A-B\n",
    "        part A: last 2 digits of year + 2 digits month(with zero padded) + 2 digits day(with zero padded)\n",
    "        part B: 1 digit calculated by gender and birth + post_id_number\n",
    "        \n",
    "        1 digit in part B is calculated by following table\n",
    "        \n",
    "        |  year   | male | female |\n",
    "        |---------|------|--------|\n",
    "        |  < 2000 |  1   |    2   |\n",
    "        | >= 2000 |  3   |    4   |\n",
    "    \n",
    "    example)\n",
    "    ```\n",
    "    data = {\n",
    "        'year': 2002,\n",
    "        'month': 4,\n",
    "        'day': 3,\n",
    "        'gender': 'male',\n",
    "        'post_id_number': 681355\n",
    "    }\n",
    "    ```\n",
    "\n",
    "    return the id '020403-3681355' with string type\n",
    "    \"\"\"\n",
    "    # write the code from here\n",
    "    \n",
    "    \n",
    "    return "
   ]
  },
  {
   "cell_type": "code",
   "execution_count": null,
   "id": "9c4023c3-b3e8-4360-8872-e13571937f60",
   "metadata": {},
   "outputs": [],
   "source": [
    "# Test the function\n",
    "\n",
    "test_data = [\n",
    "    ({'year': 2002,'month':  4,'day':  3, 'gender':   'male', 'post_id_number': 681355}, '020403-3681355'),\n",
    "    ({'year': 1990,'month': 12,'day':  1, 'gender': 'female', 'post_id_number': 654682}, '901201-2654682'),\n",
    "    ({'year': 1998,'month':  9,'day': 13, 'gender':   'male', 'post_id_number': 987132}, '980913-1987132'),\n",
    "    ({'year': 2010,'month':  3,'day': 31, 'gender': 'female', 'post_id_number': 874682}, '100331-4874682')\n",
    "]\n",
    "\n",
    "answer_list = []\n",
    "for data, answer in test_data:\n",
    "    answer_list.append(getIDnumber(data) == answer)\n",
    "\n",
    "print(f\"Correct: {sum(answer_list)}\")"
   ]
  },
  {
   "cell_type": "markdown",
   "id": "5371dfa6-c239-4b7c-bdf0-8167882a0b40",
   "metadata": {},
   "source": [
    "---"
   ]
  },
  {
   "cell_type": "markdown",
   "id": "008f9b28-8b8e-4319-9037-06edd94841b0",
   "metadata": {},
   "source": [
    "# Modules, Functions and Class "
   ]
  },
  {
   "cell_type": "markdown",
   "id": "64580fe9-d2b7-4a5e-8230-68244c7c083e",
   "metadata": {},
   "source": [
    "## How to write a custom functions?\n",
    "\n",
    "```python\n",
    "def my_func_name(parameter1, parameter2, ...):\n",
    "    \n",
    "    # do something\n",
    "    return\n",
    "\n",
    "# Example\n",
    "def plus_absolute(x, y):\n",
    "    return abs(x + y)\n",
    "```"
   ]
  },
  {
   "cell_type": "code",
   "execution_count": 12,
   "id": "43944fc3-d8b3-4897-823e-6702f3dca1ac",
   "metadata": {},
   "outputs": [
    {
     "ename": "IndentationError",
     "evalue": "unindent does not match any outer indentation level (<tokenize>, line 4)",
     "output_type": "error",
     "traceback": [
      "\u001b[1;36m  File \u001b[1;32m\"<tokenize>\"\u001b[1;36m, line \u001b[1;32m4\u001b[0m\n\u001b[1;33m    return 3\u001b[0m\n\u001b[1;37m    ^\u001b[0m\n\u001b[1;31mIndentationError\u001b[0m\u001b[1;31m:\u001b[0m unindent does not match any outer indentation level\n"
     ]
    }
   ],
   "source": [
    "# same Intendant block is important\n",
    "def a():\n",
    "    print(3)\n",
    "  return 3"
   ]
  },
  {
   "cell_type": "markdown",
   "id": "b198dac9-2e60-4abd-ae97-dd5287b88341",
   "metadata": {},
   "source": [
    "## How to import Modules?"
   ]
  },
  {
   "cell_type": "code",
   "execution_count": 26,
   "id": "daf08bb1-49a5-4ced-8a33-bbed1a342f59",
   "metadata": {},
   "outputs": [
    {
     "data": {
      "text/plain": [
       "module"
      ]
     },
     "execution_count": 26,
     "metadata": {},
     "output_type": "execute_result"
    }
   ],
   "source": [
    "import math\n",
    "type(math)"
   ]
  },
  {
   "cell_type": "code",
   "execution_count": 34,
   "id": "4a726a5d-a578-4856-9d68-b31a9bceacfa",
   "metadata": {},
   "outputs": [
    {
     "name": "stdout",
     "output_type": "stream",
     "text": [
      "# Attributes\n",
      "This module provides access to the mathematical functions\n",
      "defined by the C standard.\n",
      "3.141592653589793\n",
      "\n",
      "# Methods\n",
      "2.0\n"
     ]
    }
   ],
   "source": [
    "# module is also an object, it has attributes and methods\n",
    "print(\"# Attributes\")\n",
    "print(math.__doc__)\n",
    "print(math.pi)\n",
    "print()\n",
    "print(\"# Methods\")\n",
    "\n",
    "print(math.sqrt(4))"
   ]
  },
  {
   "cell_type": "code",
   "execution_count": 36,
   "id": "06bc0fec-9163-45bf-bbaa-f487fe6ec7ef",
   "metadata": {},
   "outputs": [
    {
     "name": "stdout",
     "output_type": "stream",
     "text": [
      "sqrt function from math module: 2.0\n"
     ]
    },
    {
     "ename": "TypeError",
     "evalue": "'int' object is not callable",
     "output_type": "error",
     "traceback": [
      "\u001b[1;31m---------------------------------------------------------------------------\u001b[0m",
      "\u001b[1;31mTypeError\u001b[0m                                 Traceback (most recent call last)",
      "\u001b[1;32m<ipython-input-36-56093e81a150>\u001b[0m in \u001b[0;36m<module>\u001b[1;34m\u001b[0m\n\u001b[0;32m      8\u001b[0m \u001b[0msqrt\u001b[0m \u001b[1;33m=\u001b[0m \u001b[1;36m123\u001b[0m\u001b[1;33m\u001b[0m\u001b[1;33m\u001b[0m\u001b[0m\n\u001b[0;32m      9\u001b[0m \u001b[1;33m\u001b[0m\u001b[0m\n\u001b[1;32m---> 10\u001b[1;33m \u001b[0mprint\u001b[0m\u001b[1;33m(\u001b[0m\u001b[1;34mf\"overrided `sqrt` {sqrt(4)}\"\u001b[0m\u001b[1;33m)\u001b[0m\u001b[1;33m\u001b[0m\u001b[1;33m\u001b[0m\u001b[0m\n\u001b[0m",
      "\u001b[1;31mTypeError\u001b[0m: 'int' object is not callable"
     ]
    }
   ],
   "source": [
    "# can also import certain function from module\n",
    "from math import sqrt\n",
    "\n",
    "print(f\"sqrt function from math module: {sqrt(4)}\")  \n",
    "\n",
    "# but do not override the imported function\n",
    "sqrt = 123\n",
    "\n",
    "print(f\"overrided `sqrt` {sqrt(4)}\")"
   ]
  },
  {
   "cell_type": "markdown",
   "id": "4e05f867-cbbf-45f0-a4ae-b5ff091c32bf",
   "metadata": {},
   "source": [
    "## How to create a module?\n",
    "\n",
    "1. create a new file\n",
    "2. write a function\n",
    "\n",
    "    ```python\n",
    "    def calculate_square_root(x):\n",
    "        return x**(1/2)\n",
    "    ```\n",
    "3. save with \".py\" extention\n",
    "4. import the module"
   ]
  },
  {
   "cell_type": "code",
   "execution_count": 37,
   "id": "b68f656c-4eb3-4094-ab1a-fa8868bcb6a0",
   "metadata": {},
   "outputs": [
    {
     "data": {
      "text/plain": [
       "2.0"
      ]
     },
     "execution_count": 37,
     "metadata": {},
     "output_type": "execute_result"
    }
   ],
   "source": [
    "from custom_model import calculate_square_root\n",
    "\n",
    "calculate_square_root(4)"
   ]
  },
  {
   "cell_type": "markdown",
   "id": "e846026a-19ed-4739-8cca-7ebe4a8ecd04",
   "metadata": {},
   "source": [
    "## Class\n",
    "\n",
    "* Class is another type of object that has variables and functions similar to module\n",
    "* Class VS Class object\n",
    "    - A class is a blueprint, definition of its attributes and methods (but not real yet)\n",
    "    - A class object is a class' instance (realization of a blueprint)"
   ]
  },
  {
   "cell_type": "code",
   "execution_count": 72,
   "id": "8b25bb15-e6a6-4f38-b2bb-fb47d16a5b5f",
   "metadata": {},
   "outputs": [
    {
     "name": "stdout",
     "output_type": "stream",
     "text": [
      "<class '__main__.Math'>\n"
     ]
    }
   ],
   "source": [
    "# Blue print\n",
    "class Math():\n",
    "    def __init__(self):\n",
    "        self.document = \"this is a math module\"  # attributes\n",
    "    \n",
    "    def sqrt(self, x):  # methods, first argument must be `self` to point the class object\n",
    "        return x**(1/2)\n",
    "    \n",
    "print(Math)"
   ]
  },
  {
   "cell_type": "code",
   "execution_count": 73,
   "id": "9cf3ab2c-8b2d-497e-b6b9-80cc680fe22a",
   "metadata": {},
   "outputs": [
    {
     "name": "stdout",
     "output_type": "stream",
     "text": [
      "<class '__main__.Math'>\n",
      "this is a math module\n",
      "2.0\n"
     ]
    }
   ],
   "source": [
    "# declare a class instance object\n",
    "# `__init__` function will be called when it declared \n",
    "math = Math()\n",
    "print(type(math))\n",
    "print(math.document) # can get the attribute `document`\n",
    "print(math.sqrt(4))"
   ]
  },
  {
   "cell_type": "markdown",
   "id": "546f5151-414f-4736-ad9a-d0781f4b55f6",
   "metadata": {},
   "source": [
    "# File IO\n",
    "\n",
    "## How to read a file?\n",
    "\n",
    "\"cardata.txt\"\n",
    "\n",
    "```text\n",
    "Model, Company, Type, Price\n",
    "Model3, Tesla, electronic, 55000000\n",
    "Genesis GV70, Hyundai, diesel, 48000000\n",
    "K7, Kia, gasoline, 40000000\n",
    "```"
   ]
  },
  {
   "cell_type": "code",
   "execution_count": 63,
   "id": "9aa502cf-3bca-4008-9b18-decb5d085a80",
   "metadata": {},
   "outputs": [
    {
     "data": {
      "text/plain": [
       "'Model, Company, Type, Price\\nModel3, Tesla, electronic, 55000000\\nGenesis GV70, Hyundai, diesel, 48000000\\nK7, Kia, gasoline, 40000000\\n'"
      ]
     },
     "execution_count": 63,
     "metadata": {},
     "output_type": "execute_result"
    }
   ],
   "source": [
    "# open a file\n",
    "fileIO = open('./cardata.txt', mode='r', encoding=\"utf-8\")\n",
    "fileIO.read() "
   ]
  },
  {
   "cell_type": "code",
   "execution_count": 64,
   "id": "92b31ab1-ac1b-41fd-92aa-5d39e4cfeb53",
   "metadata": {},
   "outputs": [
    {
     "data": {
      "text/plain": [
       "''"
      ]
     },
     "execution_count": 64,
     "metadata": {},
     "output_type": "execute_result"
    }
   ],
   "source": [
    "# once read, fileIO will not contains any data \n",
    "fileIO.read()"
   ]
  },
  {
   "cell_type": "code",
   "execution_count": 65,
   "id": "c8091293-d8c6-4615-b5a7-cb65f3df6b3f",
   "metadata": {},
   "outputs": [],
   "source": [
    "fileIO.close()"
   ]
  },
  {
   "cell_type": "code",
   "execution_count": 66,
   "id": "c61c57ab-52e0-41c2-8e90-1156a3649178",
   "metadata": {},
   "outputs": [
    {
     "data": {
      "text/plain": [
       "['Model, Company, Type, Price\\n',\n",
       " 'Model3, Tesla, electronic, 55000000\\n',\n",
       " 'Genesis GV70, Hyundai, diesel, 48000000\\n',\n",
       " 'K7, Kia, gasoline, 40000000\\n']"
      ]
     },
     "execution_count": 66,
     "metadata": {},
     "output_type": "execute_result"
    }
   ],
   "source": [
    "# using `with` statement can open file without close the file manually\n",
    "with open('./cardata.txt', mode='r', encoding=\"utf-8\") as fileIO:\n",
    "    data = fileIO.readlines()  # readlines will return a list by new line\n",
    "    \n",
    "data"
   ]
  },
  {
   "cell_type": "markdown",
   "id": "096cba32-465b-432d-8889-94927c88b18c",
   "metadata": {},
   "source": [
    "## How to write a file?"
   ]
  },
  {
   "cell_type": "code",
   "execution_count": 69,
   "id": "52eee935-fb1e-42f0-8bdf-53cffda8a3d0",
   "metadata": {},
   "outputs": [],
   "source": [
    "with open('./write_excercise.txt', mode='w', encoding='utf-8') as fileIO:\n",
    "    # 2 ways to do it\n",
    "    # if using fileIO must add newline letter '\\n'\n",
    "    fileIO.write(\"Write using `write` method.\")\n",
    "    # when using print it will automatically create a new line\n",
    "    print(\"Write using `print` function.\", file=fileIO)\n",
    "    \n",
    "    fileIO.write(\"End of document\")"
   ]
  },
  {
   "cell_type": "code",
   "execution_count": 70,
   "id": "cc0d1993-9567-4a7b-a8e2-218a28b82cc0",
   "metadata": {},
   "outputs": [
    {
     "name": "stdout",
     "output_type": "stream",
     "text": [
      "Write using `write` method.Write using `print` function.\n",
      "End of document\n"
     ]
    }
   ],
   "source": [
    "with open('./write_excercise.txt', mode='r', encoding='utf-8') as fileIO:\n",
    "    print(fileIO.read())"
   ]
  },
  {
   "cell_type": "markdown",
   "id": "d6fc1a33-a8eb-49f0-92ea-95372ddd6676",
   "metadata": {},
   "source": [
    "# Excercise 2"
   ]
  },
  {
   "cell_type": "code",
   "execution_count": 79,
   "id": "69e22ca2-36e7-4947-be70-7713e1a2d524",
   "metadata": {},
   "outputs": [],
   "source": [
    "class CarDataset():\n",
    "    def __init__(self, data_path):\n",
    "        \"\"\"\n",
    "        1. read data from `data_path` and save it to `self.data` attribute\n",
    "        2. complete `calculate_average_price`\n",
    "            (55000000 + 48000000 + 40000000) / 3\n",
    "        \n",
    "        \"cardata.txt\"\n",
    "\n",
    "        ```\n",
    "        Model, Company, Type, Price\n",
    "        Model3, Tesla, electronic, 55000000\n",
    "        Genesis GV70, Hyundai, diesel, 48000000\n",
    "        K7, Kia, gasoline, 40000000\n",
    "        ```\n",
    "        \n",
    "        \"\"\"\n",
    "        with open(data_path, mode='r', encoding='utf-8') as file:\n",
    "            data = [line.strip() for line in file.readlines()]\n",
    "            \n",
    "        self.data = data\n",
    "        \n",
    "    def calculate_average_price(self):\n",
    "        \n",
    "        price_list = []\n",
    "        for line in self.data[1:]:\n",
    "            # fill the code\n",
    "            row_data = line.split(\",\")\n",
    "            price_list.append(int(row_data[-1].strip()))\n",
    "            \n",
    "        return sum(price_list) / 3"
   ]
  },
  {
   "cell_type": "code",
   "execution_count": 80,
   "id": "59372c58-14c7-444c-8525-d62ca7fdc396",
   "metadata": {},
   "outputs": [
    {
     "data": {
      "text/plain": [
       "47666666.666666664"
      ]
     },
     "execution_count": 80,
     "metadata": {},
     "output_type": "execute_result"
    }
   ],
   "source": [
    "car_ds = CarDataset(data_path=\"./cardata.txt\")\n",
    "car_ds.calculate_average_price()"
   ]
  }
 ],
 "metadata": {
  "kernelspec": {
   "display_name": "Python 3",
   "language": "python",
   "name": "python3"
  },
  "language_info": {
   "codemirror_mode": {
    "name": "ipython",
    "version": 3
   },
   "file_extension": ".py",
   "mimetype": "text/x-python",
   "name": "python",
   "nbconvert_exporter": "python",
   "pygments_lexer": "ipython3",
   "version": "3.8.10"
  }
 },
 "nbformat": 4,
 "nbformat_minor": 5
}
