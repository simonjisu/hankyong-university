{
 "cells": [
  {
   "cell_type": "markdown",
   "id": "4beaaf7f",
   "metadata": {},
   "source": [
    "# Python"
   ]
  },
  {
   "cell_type": "markdown",
   "id": "4b554654",
   "metadata": {},
   "source": [
    "## Vairable Assignment"
   ]
  },
  {
   "cell_type": "code",
   "execution_count": 106,
   "id": "438929c6",
   "metadata": {},
   "outputs": [
    {
     "name": "stdout",
     "output_type": "stream",
     "text": [
      "1 2 3 4\n"
     ]
    }
   ],
   "source": [
    "a = 1 \n",
    "b = 2\n",
    "c = a + 2\n",
    "d = b + 2   \n",
    "\n",
    "print(a, b, c, d)"
   ]
  },
  {
   "cell_type": "markdown",
   "id": "e75ce6a6",
   "metadata": {},
   "source": [
    "\n",
    "## Operators"
   ]
  },
  {
   "cell_type": "markdown",
   "id": "508920e0",
   "metadata": {},
   "source": [
    "Operators: `+`, `-`, `*`, `/`, `%`, `//`, `**`"
   ]
  },
  {
   "cell_type": "code",
   "execution_count": 2,
   "id": "b281191f",
   "metadata": {},
   "outputs": [
    {
     "data": {
      "text/plain": [
       "4"
      ]
     },
     "execution_count": 2,
     "metadata": {},
     "output_type": "execute_result"
    }
   ],
   "source": [
    "# plus\n",
    "1 + 3"
   ]
  },
  {
   "cell_type": "code",
   "execution_count": 3,
   "id": "26413e6c",
   "metadata": {},
   "outputs": [
    {
     "data": {
      "text/plain": [
       "2"
      ]
     },
     "execution_count": 3,
     "metadata": {},
     "output_type": "execute_result"
    }
   ],
   "source": [
    "# minus\n",
    "3 - 1"
   ]
  },
  {
   "cell_type": "code",
   "execution_count": 4,
   "id": "359c0472",
   "metadata": {},
   "outputs": [
    {
     "data": {
      "text/plain": [
       "12"
      ]
     },
     "execution_count": 4,
     "metadata": {},
     "output_type": "execute_result"
    }
   ],
   "source": [
    "# multiplication\n",
    "3 * 4"
   ]
  },
  {
   "cell_type": "code",
   "execution_count": 5,
   "id": "a07d5a14",
   "metadata": {},
   "outputs": [
    {
     "data": {
      "text/plain": [
       "0.75"
      ]
     },
     "execution_count": 5,
     "metadata": {},
     "output_type": "execute_result"
    }
   ],
   "source": [
    "# devision\n",
    "3 / 4"
   ]
  },
  {
   "cell_type": "code",
   "execution_count": 6,
   "id": "058a15a3",
   "metadata": {},
   "outputs": [
    {
     "data": {
      "text/plain": [
       "7"
      ]
     },
     "execution_count": 6,
     "metadata": {},
     "output_type": "execute_result"
    }
   ],
   "source": [
    "# quotient\n",
    "43 // 6"
   ]
  },
  {
   "cell_type": "code",
   "execution_count": 7,
   "id": "bd86b449",
   "metadata": {},
   "outputs": [
    {
     "data": {
      "text/plain": [
       "1"
      ]
     },
     "execution_count": 7,
     "metadata": {},
     "output_type": "execute_result"
    }
   ],
   "source": [
    "# Remainder, Mod\n",
    "43 % 6"
   ]
  },
  {
   "cell_type": "markdown",
   "id": "8ade62a5",
   "metadata": {},
   "source": [
    "## Types\n",
    "\n",
    "- Integer\n",
    "- Floating point\n",
    "- Boolean\n",
    "- String\n",
    "- NoneType\n",
    "- Tuple\n",
    "- List\n",
    "- Set\n",
    "- Dictionary\n"
   ]
  },
  {
   "cell_type": "markdown",
   "id": "7904dd21",
   "metadata": {},
   "source": [
    "### String"
   ]
  },
  {
   "cell_type": "code",
   "execution_count": 8,
   "id": "f2124051",
   "metadata": {},
   "outputs": [
    {
     "data": {
      "text/plain": [
       "(str, str)"
      ]
     },
     "execution_count": 8,
     "metadata": {},
     "output_type": "execute_result"
    }
   ],
   "source": [
    "# two types of declaring a string\n",
    "type(\"abc\"), type('abc')"
   ]
  },
  {
   "cell_type": "code",
   "execution_count": 9,
   "id": "3563b61b",
   "metadata": {},
   "outputs": [
    {
     "name": "stdout",
     "output_type": "stream",
     "text": [
      "I said 'hi' at that moment.\n",
      "I said 'hi' at that moment.\n"
     ]
    }
   ],
   "source": [
    "# if you want to use ' letter in the string use \", vice versea / or add \\(escape letter) with '\n",
    "print(\"I said 'hi' at that moment.\")\n",
    "print('I said \\'hi\\' at that moment.')"
   ]
  },
  {
   "cell_type": "code",
   "execution_count": 10,
   "id": "714bd9a1",
   "metadata": {},
   "outputs": [
    {
     "data": {
      "text/plain": [
       "'hello'"
      ]
     },
     "execution_count": 10,
     "metadata": {},
     "output_type": "execute_result"
    }
   ],
   "source": [
    "# can add two strings\n",
    "\"he\" + \"llo\""
   ]
  },
  {
   "cell_type": "code",
   "execution_count": 11,
   "id": "d8b76cb3",
   "metadata": {},
   "outputs": [
    {
     "data": {
      "text/plain": [
       "7"
      ]
     },
     "execution_count": 11,
     "metadata": {},
     "output_type": "execute_result"
    }
   ],
   "source": [
    "# can calculate length of string\n",
    "len(\"abcdefg\")"
   ]
  },
  {
   "cell_type": "code",
   "execution_count": 75,
   "id": "2e699036",
   "metadata": {},
   "outputs": [
    {
     "data": {
      "text/plain": [
       "'abc def'"
      ]
     },
     "execution_count": 75,
     "metadata": {},
     "output_type": "execute_result"
    }
   ],
   "source": [
    "# can use `strip` to remove some parts on the left&right side of string, like newline letter `\\n`\n",
    "\"abc def\\n\".strip('\\n')"
   ]
  },
  {
   "cell_type": "code",
   "execution_count": 76,
   "id": "a5fb56d0",
   "metadata": {},
   "outputs": [
    {
     "data": {
      "text/plain": [
       "['abc', ' def']"
      ]
     },
     "execution_count": 76,
     "metadata": {},
     "output_type": "execute_result"
    }
   ],
   "source": [
    "# can use `split` split the string\n",
    "\"abc, def\".split(\",\")"
   ]
  },
  {
   "cell_type": "code",
   "execution_count": 12,
   "id": "15fd0b72",
   "metadata": {},
   "outputs": [
    {
     "name": "stdout",
     "output_type": "stream",
     "text": [
      "정수\n",
      "034\n",
      "034\n",
      "-----\n",
      "소수\n",
      "34.5100\n",
      "34.5100\n"
     ]
    }
   ],
   "source": [
    "# format string: when you want to use a certain format for a variable\n",
    "# add 'f' letter in the front of astring / use `.format` method at the back of a string\n",
    "# 정수 = d\n",
    "x = 34\n",
    "print(\"Integer\")\n",
    "print(f\"{x:03d}\")\n",
    "print(\"{:03d}\".format(x))\n",
    "print(\"-----\")\n",
    "# 소수점 4자리 = .4f\n",
    "x = 34.51\n",
    "print(\"Floating Point\")\n",
    "print(f\"{x:.4f}\")\n",
    "print(\"{:.4f}\".format(x))"
   ]
  },
  {
   "cell_type": "markdown",
   "id": "8d0e98db",
   "metadata": {},
   "source": [
    "### Integer"
   ]
  },
  {
   "cell_type": "code",
   "execution_count": 13,
   "id": "1a1e30ef",
   "metadata": {},
   "outputs": [
    {
     "data": {
      "text/plain": [
       "int"
      ]
     },
     "execution_count": 13,
     "metadata": {},
     "output_type": "execute_result"
    }
   ],
   "source": [
    "type(1)"
   ]
  },
  {
   "cell_type": "code",
   "execution_count": 116,
   "id": "b9c597c8",
   "metadata": {},
   "outputs": [
    {
     "data": {
      "text/plain": [
       "'1'"
      ]
     },
     "execution_count": 116,
     "metadata": {},
     "output_type": "execute_result"
    }
   ],
   "source": [
    "# type change\n",
    "x = 1\n",
    "str(x)"
   ]
  },
  {
   "cell_type": "markdown",
   "id": "be50020b",
   "metadata": {},
   "source": [
    "### Floating Point"
   ]
  },
  {
   "cell_type": "code",
   "execution_count": 14,
   "id": "a6343169",
   "metadata": {},
   "outputs": [
    {
     "data": {
      "text/plain": [
       "float"
      ]
     },
     "execution_count": 14,
     "metadata": {},
     "output_type": "execute_result"
    }
   ],
   "source": [
    "type(3.4)"
   ]
  },
  {
   "cell_type": "code",
   "execution_count": 15,
   "id": "b811f60c",
   "metadata": {},
   "outputs": [
    {
     "data": {
      "text/plain": [
       "(inf, -inf)"
      ]
     },
     "execution_count": 15,
     "metadata": {},
     "output_type": "execute_result"
    }
   ],
   "source": [
    "# declare infinity\n",
    "float(\"inf\"), float(\"-inf\")"
   ]
  },
  {
   "cell_type": "code",
   "execution_count": 16,
   "id": "17b3d493",
   "metadata": {},
   "outputs": [
    {
     "data": {
      "text/plain": [
       "0.8823529411764706"
      ]
     },
     "execution_count": 16,
     "metadata": {},
     "output_type": "execute_result"
    }
   ],
   "source": [
    "# from python3, interger will be automatically transfter to float type\n",
    "3 / 3.4"
   ]
  },
  {
   "cell_type": "markdown",
   "id": "04348388",
   "metadata": {},
   "source": [
    "### Boolean\n",
    "\n",
    "`True` 와 `False`가 있음"
   ]
  },
  {
   "cell_type": "code",
   "execution_count": 17,
   "id": "ab838959",
   "metadata": {},
   "outputs": [
    {
     "data": {
      "text/plain": [
       "(bool, bool)"
      ]
     },
     "execution_count": 17,
     "metadata": {},
     "output_type": "execute_result"
    }
   ],
   "source": [
    "type(True), type(False)"
   ]
  },
  {
   "cell_type": "markdown",
   "id": "00179c65",
   "metadata": {},
   "source": [
    "### None"
   ]
  },
  {
   "cell_type": "code",
   "execution_count": 18,
   "id": "1ed7147b",
   "metadata": {},
   "outputs": [
    {
     "data": {
      "text/plain": [
       "NoneType"
      ]
     },
     "execution_count": 18,
     "metadata": {},
     "output_type": "execute_result"
    }
   ],
   "source": [
    "type(None)"
   ]
  },
  {
   "cell_type": "markdown",
   "id": "66b49cae",
   "metadata": {},
   "source": [
    "### Tuple\n",
    "\n",
    "* 순서가 있는 데이터를 담는 자료구조\n",
    "* 특징: immutable(한 번 생성하면 데이터를 바꿀 수 없음), ordered, iterable, subscriptable"
   ]
  },
  {
   "cell_type": "code",
   "execution_count": 19,
   "id": "800e6445",
   "metadata": {},
   "outputs": [
    {
     "data": {
      "text/plain": [
       "float"
      ]
     },
     "execution_count": 19,
     "metadata": {},
     "output_type": "execute_result"
    }
   ],
   "source": [
    "x_tuple = (1, 2, 3)\n",
    "type(x)"
   ]
  },
  {
   "cell_type": "code",
   "execution_count": 20,
   "id": "a92e54e0",
   "metadata": {},
   "outputs": [
    {
     "ename": "TypeError",
     "evalue": "'tuple' object does not support item assignment",
     "output_type": "error",
     "traceback": [
      "\u001b[1;31m---------------------------------------------------------------------------\u001b[0m",
      "\u001b[1;31mTypeError\u001b[0m                                 Traceback (most recent call last)",
      "\u001b[1;32m<ipython-input-20-2c028fb7b40c>\u001b[0m in \u001b[0;36m<module>\u001b[1;34m\u001b[0m\n\u001b[0;32m      1\u001b[0m \u001b[1;31m# `tuple` is immutable data structure\u001b[0m\u001b[1;33m\u001b[0m\u001b[1;33m\u001b[0m\u001b[1;33m\u001b[0m\u001b[0m\n\u001b[1;32m----> 2\u001b[1;33m \u001b[0mx_tuple\u001b[0m\u001b[1;33m[\u001b[0m\u001b[1;36m2\u001b[0m\u001b[1;33m]\u001b[0m \u001b[1;33m=\u001b[0m \u001b[1;36m4\u001b[0m\u001b[1;33m\u001b[0m\u001b[1;33m\u001b[0m\u001b[0m\n\u001b[0m",
      "\u001b[1;31mTypeError\u001b[0m: 'tuple' object does not support item assignment"
     ]
    }
   ],
   "source": [
    "# `tuple` is immutable data structure\n",
    "x_tuple[2] = 4"
   ]
  },
  {
   "cell_type": "code",
   "execution_count": 21,
   "id": "b96fb639",
   "metadata": {},
   "outputs": [
    {
     "data": {
      "text/plain": [
       "3"
      ]
     },
     "execution_count": 21,
     "metadata": {},
     "output_type": "execute_result"
    }
   ],
   "source": [
    "# using len function to get the length of `tuple`\n",
    "len(x_tuple)"
   ]
  },
  {
   "cell_type": "markdown",
   "id": "f3a59b76",
   "metadata": {},
   "source": [
    "### List\n",
    "\n",
    "* 순서가 있는 데이터를 담는 자료구조\n",
    "* 특징: mutable(생성 후에도 데이터를 바꿀 수 있음), ordered, iterable, subscriptable"
   ]
  },
  {
   "cell_type": "code",
   "execution_count": 3,
   "id": "915b1387",
   "metadata": {},
   "outputs": [
    {
     "data": {
      "text/plain": [
       "list"
      ]
     },
     "execution_count": 3,
     "metadata": {},
     "output_type": "execute_result"
    }
   ],
   "source": [
    "x_list = [1, 2, 3]\n",
    "type(x_list)"
   ]
  },
  {
   "cell_type": "code",
   "execution_count": 4,
   "id": "149beb4d",
   "metadata": {},
   "outputs": [
    {
     "name": "stdout",
     "output_type": "stream",
     "text": [
      "[1, 2, 3, 4]\n",
      "[1, 2, 3]\n"
     ]
    }
   ],
   "source": [
    "# add new element at end of list\n",
    "x_list.append(4)\n",
    "print(x_list)\n",
    "# remove a certain index in the list\n",
    "x_list.remove(4)\n",
    "print(x_list)"
   ]
  },
  {
   "cell_type": "code",
   "execution_count": 23,
   "id": "f99a8dc6",
   "metadata": {},
   "outputs": [
    {
     "data": {
      "text/plain": [
       "True"
      ]
     },
     "execution_count": 23,
     "metadata": {},
     "output_type": "execute_result"
    }
   ],
   "source": [
    "# check if an element is in a list\n",
    "4 in [1, 2, 3, 4]"
   ]
  },
  {
   "cell_type": "code",
   "execution_count": 23,
   "id": "73610de8",
   "metadata": {},
   "outputs": [
    {
     "data": {
      "text/plain": [
       "[3, 3, 3, 3, 3, 3, 3, 3, 3, 3, 3, 3, 3, 3, 3, 3, 3, 3, 3, 3]"
      ]
     },
     "execution_count": 23,
     "metadata": {},
     "output_type": "execute_result"
    }
   ],
   "source": [
    "# create a list with duplicated numbers\n",
    "[3] * 20"
   ]
  },
  {
   "cell_type": "code",
   "execution_count": 24,
   "id": "56ecb1f2",
   "metadata": {},
   "outputs": [
    {
     "data": {
      "text/plain": [
       "[1, 2, 5]"
      ]
     },
     "execution_count": 24,
     "metadata": {},
     "output_type": "execute_result"
    }
   ],
   "source": [
    "# `list` is mutable data structure\n",
    "x_list[2] = 5\n",
    "x_list"
   ]
  },
  {
   "cell_type": "code",
   "execution_count": 25,
   "id": "9c407c54",
   "metadata": {},
   "outputs": [
    {
     "data": {
      "text/plain": [
       "3"
      ]
     },
     "execution_count": 25,
     "metadata": {},
     "output_type": "execute_result"
    }
   ],
   "source": [
    "# using len function to get the length of `list`\n",
    "len(x_list)"
   ]
  },
  {
   "cell_type": "markdown",
   "id": "fb99a508",
   "metadata": {},
   "source": [
    "Python에서 index는 0부터 시작한다"
   ]
  },
  {
   "cell_type": "code",
   "execution_count": 128,
   "id": "97aa307c",
   "metadata": {},
   "outputs": [
    {
     "data": {
      "text/plain": [
       "[2, 3, 4, 5]"
      ]
     },
     "execution_count": 128,
     "metadata": {},
     "output_type": "execute_result"
    }
   ],
   "source": [
    "x_list = [1, 2, 3, 4, 5, 6]\n",
    "# slice index from 1 ~ 4 \n",
    "#      1  2  3  4\n",
    "#  [1, 2, 3, 4, 5, 6]\n",
    "x_list[1:5]"
   ]
  },
  {
   "cell_type": "code",
   "execution_count": 123,
   "id": "3aa43f78",
   "metadata": {},
   "outputs": [
    {
     "data": {
      "text/plain": [
       "[1, 2, 3]"
      ]
     },
     "execution_count": 123,
     "metadata": {},
     "output_type": "execute_result"
    }
   ],
   "source": [
    "# slice index from begining ~ 2 \n",
    "#   0  1  2\n",
    "#  [1, 2, 3, 4, 5, 6]\n",
    "x_list[:3]"
   ]
  },
  {
   "cell_type": "code",
   "execution_count": 124,
   "id": "254bb06f",
   "metadata": {},
   "outputs": [
    {
     "data": {
      "text/plain": [
       "[5, 6]"
      ]
     },
     "execution_count": 124,
     "metadata": {},
     "output_type": "execute_result"
    }
   ],
   "source": [
    "# slice index from behind\n",
    "#              -2  -1\n",
    "#  [1, 2, 3, 4, 5, 6]\n",
    "x_list[-2:]"
   ]
  },
  {
   "cell_type": "code",
   "execution_count": 127,
   "id": "e8f3d1fd",
   "metadata": {},
   "outputs": [
    {
     "data": {
      "text/plain": [
       "[1, 3, 5]"
      ]
     },
     "execution_count": 127,
     "metadata": {},
     "output_type": "execute_result"
    }
   ],
   "source": [
    "# slice even index(0, 2, 4)\n",
    "#   0     2     4 \n",
    "#  [1, 2, 3, 4, 5, 6]\n",
    "x_list[0:6:2]"
   ]
  },
  {
   "cell_type": "code",
   "execution_count": 26,
   "id": "555a3ed8",
   "metadata": {},
   "outputs": [
    {
     "name": "stdout",
     "output_type": "stream",
     "text": [
      "Memory size of `x_tuple`: 64 bytes\n",
      "Memory size of `x_list`: 80 bytes\n"
     ]
    }
   ],
   "source": [
    "# tuple VS list\n",
    "import sys\n",
    "print(f\"Memory size of `x_tuple`: {sys.getsizeof(x_tuple)} bytes\")\n",
    "print(f\"Memory size of `x_list`: {sys.getsizeof(x_list)} bytes\")"
   ]
  },
  {
   "cell_type": "code",
   "execution_count": 83,
   "id": "7fae85ba",
   "metadata": {},
   "outputs": [
    {
     "name": "stdout",
     "output_type": "stream",
     "text": [
      "877 ns ± 25 ns per loop (mean ± std. dev. of 7 runs, 1000000 loops each)\n"
     ]
    }
   ],
   "source": [
    "%%timeit\n",
    "\n",
    "# list comprehension: Faster way to create list\n",
    "data = []\n",
    "for i in range(10):\n",
    "    data.append(i)"
   ]
  },
  {
   "cell_type": "code",
   "execution_count": 84,
   "id": "f640bcd2",
   "metadata": {},
   "outputs": [
    {
     "name": "stdout",
     "output_type": "stream",
     "text": [
      "625 ns ± 17.1 ns per loop (mean ± std. dev. of 7 runs, 1000000 loops each)\n"
     ]
    }
   ],
   "source": [
    "%%timeit\n",
    "\n",
    "data = [i for i in range(10)]"
   ]
  },
  {
   "cell_type": "markdown",
   "id": "3bd97b35",
   "metadata": {},
   "source": [
    "### Set\n",
    "\n",
    "* 정렬되지 않고(unordered, python3.6 이후로는 아님) 고유한(distinct) 데이터으로 이루어진 자료 구조\n",
    "* 특징: mutable, unordered(python3.6 이후로는 아님), iterable"
   ]
  },
  {
   "cell_type": "code",
   "execution_count": 27,
   "id": "4766a020",
   "metadata": {},
   "outputs": [
    {
     "data": {
      "text/plain": [
       "set"
      ]
     },
     "execution_count": 27,
     "metadata": {},
     "output_type": "execute_result"
    }
   ],
   "source": [
    "x_set = {5, 2, 3}\n",
    "type(x_set)"
   ]
  },
  {
   "cell_type": "code",
   "execution_count": 28,
   "id": "3f7bfbfb",
   "metadata": {},
   "outputs": [
    {
     "ename": "TypeError",
     "evalue": "'set' object does not support item assignment",
     "output_type": "error",
     "traceback": [
      "\u001b[1;31m---------------------------------------------------------------------------\u001b[0m",
      "\u001b[1;31mTypeError\u001b[0m                                 Traceback (most recent call last)",
      "\u001b[1;32m<ipython-input-28-bea5fa590766>\u001b[0m in \u001b[0;36m<module>\u001b[1;34m\u001b[0m\n\u001b[0;32m      1\u001b[0m \u001b[1;31m# `set` is immutable data structure\u001b[0m\u001b[1;33m\u001b[0m\u001b[1;33m\u001b[0m\u001b[1;33m\u001b[0m\u001b[0m\n\u001b[1;32m----> 2\u001b[1;33m \u001b[0mx_set\u001b[0m\u001b[1;33m[\u001b[0m\u001b[1;36m2\u001b[0m\u001b[1;33m]\u001b[0m \u001b[1;33m=\u001b[0m \u001b[1;36m4\u001b[0m\u001b[1;33m\u001b[0m\u001b[1;33m\u001b[0m\u001b[0m\n\u001b[0m",
      "\u001b[1;31mTypeError\u001b[0m: 'set' object does not support item assignment"
     ]
    }
   ],
   "source": [
    "# `set` is immutable data structure\n",
    "x_set[2] = 4"
   ]
  },
  {
   "cell_type": "code",
   "execution_count": 29,
   "id": "1548ea0f",
   "metadata": {},
   "outputs": [
    {
     "data": {
      "text/plain": [
       "3"
      ]
     },
     "execution_count": 29,
     "metadata": {},
     "output_type": "execute_result"
    }
   ],
   "source": [
    "# using len function to get the length of `set`\n",
    "len(x_set)"
   ]
  },
  {
   "cell_type": "markdown",
   "id": "d6ba0594",
   "metadata": {},
   "source": [
    "### Dictionary\n",
    "\n",
    "* 중복되지 않는 key와 value 쌍을 데이터로 가진 정렬되지 않은(unordered) 변경가능한(mutable) 자료구조\n",
    "* 특징: mutable, unordered(python3.6 이후로는 아님), iterable"
   ]
  },
  {
   "cell_type": "code",
   "execution_count": 30,
   "id": "a57266cc",
   "metadata": {},
   "outputs": [
    {
     "data": {
      "text/plain": [
       "dict"
      ]
     },
     "execution_count": 30,
     "metadata": {},
     "output_type": "execute_result"
    }
   ],
   "source": [
    "x_dict = {\"a\": 1, \"b\": 2}\n",
    "type(x_dict)"
   ]
  },
  {
   "cell_type": "code",
   "execution_count": 31,
   "id": "3569cbec",
   "metadata": {},
   "outputs": [
    {
     "data": {
      "text/plain": [
       "{'a': 1, 'b': 2, 'c': 3}"
      ]
     },
     "execution_count": 31,
     "metadata": {},
     "output_type": "execute_result"
    }
   ],
   "source": [
    "# add a new key-value pair\n",
    "x_dict[\"c\"] = 3\n",
    "x_dict"
   ]
  },
  {
   "cell_type": "code",
   "execution_count": 32,
   "id": "a2f1dd86",
   "metadata": {},
   "outputs": [
    {
     "name": "stdout",
     "output_type": "stream",
     "text": [
      "1\n",
      "None\n"
     ]
    }
   ],
   "source": [
    "# can get dictionary value by using get method\n",
    "# if there is nothing with a certain key it will return `None` value\n",
    "print(x_dict.get(\"a\"))\n",
    "print(x_dict.get(\"d\"))"
   ]
  },
  {
   "cell_type": "code",
   "execution_count": 33,
   "id": "bee96271",
   "metadata": {},
   "outputs": [
    {
     "name": "stdout",
     "output_type": "stream",
     "text": [
      "2\n"
     ]
    },
    {
     "ename": "KeyError",
     "evalue": "'d'",
     "output_type": "error",
     "traceback": [
      "\u001b[1;31m---------------------------------------------------------------------------\u001b[0m",
      "\u001b[1;31mKeyError\u001b[0m                                  Traceback (most recent call last)",
      "\u001b[1;32m<ipython-input-33-7ca1dd1fd55e>\u001b[0m in \u001b[0;36m<module>\u001b[1;34m\u001b[0m\n\u001b[0;32m      2\u001b[0m \u001b[1;31m# if there is nothing with a certain key it will return KeyError\u001b[0m\u001b[1;33m\u001b[0m\u001b[1;33m\u001b[0m\u001b[1;33m\u001b[0m\u001b[0m\n\u001b[0;32m      3\u001b[0m \u001b[0mprint\u001b[0m\u001b[1;33m(\u001b[0m\u001b[0mx_dict\u001b[0m\u001b[1;33m[\u001b[0m\u001b[1;34m\"b\"\u001b[0m\u001b[1;33m]\u001b[0m\u001b[1;33m)\u001b[0m\u001b[1;33m\u001b[0m\u001b[1;33m\u001b[0m\u001b[0m\n\u001b[1;32m----> 4\u001b[1;33m \u001b[0mx_dict\u001b[0m\u001b[1;33m[\u001b[0m\u001b[1;34m\"d\"\u001b[0m\u001b[1;33m]\u001b[0m\u001b[1;33m\u001b[0m\u001b[1;33m\u001b[0m\u001b[0m\n\u001b[0m",
      "\u001b[1;31mKeyError\u001b[0m: 'd'"
     ]
    }
   ],
   "source": [
    "# can insert key into '[]' to get dictionary value\n",
    "# if there is nothing with a certain key it will return KeyError\n",
    "print(x_dict[\"b\"])\n",
    "x_dict[\"d\"]"
   ]
  },
  {
   "cell_type": "code",
   "execution_count": 34,
   "id": "6e51f544",
   "metadata": {},
   "outputs": [
    {
     "data": {
      "text/plain": [
       "dict_keys(['a', 'b', 'c'])"
      ]
     },
     "execution_count": 34,
     "metadata": {},
     "output_type": "execute_result"
    }
   ],
   "source": [
    "x_dict.keys()"
   ]
  },
  {
   "cell_type": "code",
   "execution_count": 35,
   "id": "6c8b3ac0",
   "metadata": {},
   "outputs": [
    {
     "data": {
      "text/plain": [
       "dict_values([1, 2, 3])"
      ]
     },
     "execution_count": 35,
     "metadata": {},
     "output_type": "execute_result"
    }
   ],
   "source": [
    "x_dict.values()"
   ]
  },
  {
   "cell_type": "code",
   "execution_count": 36,
   "id": "8f1a24cc",
   "metadata": {},
   "outputs": [
    {
     "data": {
      "text/plain": [
       "dict_items([('a', 1), ('b', 2), ('c', 3)])"
      ]
     },
     "execution_count": 36,
     "metadata": {},
     "output_type": "execute_result"
    }
   ],
   "source": [
    "x_dict.items()"
   ]
  },
  {
   "cell_type": "markdown",
   "id": "3f98f722",
   "metadata": {},
   "source": [
    "---"
   ]
  },
  {
   "cell_type": "markdown",
   "id": "62d04091",
   "metadata": {},
   "source": [
    "## Useful Operations\n",
    "\n",
    "* Logical operation\n",
    "* Relation operation\n",
    "* If\n",
    "* Iterator for & while"
   ]
  },
  {
   "cell_type": "markdown",
   "id": "bae3224e",
   "metadata": {},
   "source": [
    "### Logical operation\n",
    "\n",
    "**AND**: `A and B`\n",
    "\n",
    "|A|B|Result|\n",
    "|---|---|---|\n",
    "|True|True|True|\n",
    "|True|False|False|\n",
    "|False|True|False|\n",
    "|False|False|False|\n",
    "\n",
    "**OR**: `A or B`\n",
    "\n",
    "|A|B|Result|\n",
    "|---|---|---|\n",
    "|True|True|True|\n",
    "|True|False|True|\n",
    "|False|True|True|\n",
    "|False|False|False|\n",
    "\n",
    "**NOT**: `not A`\n",
    "\n",
    "|A|Result|\n",
    "|---|---|\n",
    "|True|False|\n",
    "|False|True|"
   ]
  },
  {
   "cell_type": "code",
   "execution_count": 42,
   "id": "8558e2bd",
   "metadata": {},
   "outputs": [
    {
     "data": {
      "text/plain": [
       "0"
      ]
     },
     "execution_count": 42,
     "metadata": {},
     "output_type": "execute_result"
    }
   ],
   "source": [
    "# In Python `1=True`, `0=False`\n",
    "1 and 0"
   ]
  },
  {
   "cell_type": "code",
   "execution_count": 51,
   "id": "80759e37",
   "metadata": {},
   "outputs": [
    {
     "data": {
      "text/plain": [
       "True"
      ]
     },
     "execution_count": 51,
     "metadata": {},
     "output_type": "execute_result"
    }
   ],
   "source": [
    "True or False"
   ]
  },
  {
   "cell_type": "code",
   "execution_count": 5,
   "id": "eab4df2a",
   "metadata": {},
   "outputs": [
    {
     "data": {
      "text/plain": [
       "False"
      ]
     },
     "execution_count": 5,
     "metadata": {},
     "output_type": "execute_result"
    }
   ],
   "source": [
    "not True"
   ]
  },
  {
   "cell_type": "markdown",
   "id": "8823acd9",
   "metadata": {},
   "source": [
    "### Relation operations\n",
    "\n",
    "* `>`, `<`, `>=`, `<=`, `==`, `!=` \n",
    "* `is`"
   ]
  },
  {
   "cell_type": "code",
   "execution_count": 52,
   "id": "d236b8ec",
   "metadata": {},
   "outputs": [
    {
     "data": {
      "text/plain": [
       "False"
      ]
     },
     "execution_count": 52,
     "metadata": {},
     "output_type": "execute_result"
    }
   ],
   "source": [
    "213 == 3"
   ]
  },
  {
   "cell_type": "code",
   "execution_count": 53,
   "id": "0afd6cfa",
   "metadata": {},
   "outputs": [
    {
     "data": {
      "text/plain": [
       "False"
      ]
     },
     "execution_count": 53,
     "metadata": {},
     "output_type": "execute_result"
    }
   ],
   "source": [
    "2 != 2"
   ]
  },
  {
   "cell_type": "code",
   "execution_count": 70,
   "id": "a119f5ce",
   "metadata": {},
   "outputs": [
    {
     "name": "stdout",
     "output_type": "stream",
     "text": [
      "True\n"
     ]
    }
   ],
   "source": [
    "# check if it is empty list\n",
    "[] is not None"
   ]
  },
  {
   "cell_type": "code",
   "execution_count": 22,
   "id": "926c1e95",
   "metadata": {},
   "outputs": [
    {
     "data": {
      "text/plain": [
       "False"
      ]
     },
     "execution_count": 22,
     "metadata": {},
     "output_type": "execute_result"
    }
   ],
   "source": [
    "[] == True"
   ]
  },
  {
   "cell_type": "code",
   "execution_count": 86,
   "id": "dd768b1a",
   "metadata": {},
   "outputs": [
    {
     "data": {
      "text/plain": [
       "True"
      ]
     },
     "execution_count": 86,
     "metadata": {},
     "output_type": "execute_result"
    }
   ],
   "source": [
    "# if something exist it will return True\n",
    "[\"d\", 2] is not None"
   ]
  },
  {
   "cell_type": "code",
   "execution_count": 69,
   "id": "7b7ad0e3",
   "metadata": {},
   "outputs": [
    {
     "name": "stdout",
     "output_type": "stream",
     "text": [
      "Are `a` and `b` same objects? True\n",
      "  ID a: 2114698177088 | ID b: 2114698177088\n",
      "Are `a` and `c` same objects? False\n",
      "  ID a: 2114698177088 | ID c: 2114691088960\n",
      "\n",
      "Do `a` and `b` have same values? True\n",
      "Do `a` and `c` have same values? True\n"
     ]
    }
   ],
   "source": [
    "# `is` VS `==`\n",
    "# `is`: if variables are pointing same object return True (same object means pointing same memory point)\n",
    "# `==`: if variables have same value return True\n",
    "a = [1, 2, 3]\n",
    "b = a\n",
    "c = [1, 2, 3]\n",
    "print(f\"Are `a` and `b` same objects? {a is b}\")\n",
    "print(f\"  ID a: {id(a)} | ID b: {id(b)}\")\n",
    "print(f\"Are `a` and `c` same objects? {a is c}\")\n",
    "print(f\"  ID a: {id(a)} | ID c: {id(c)}\")\n",
    "print()\n",
    "print(f\"Do `a` and `b` have same values? {a == b}\")\n",
    "print(f\"Do `a` and `c` have same values? {a == c}\")"
   ]
  },
  {
   "cell_type": "code",
   "execution_count": 88,
   "id": "1de572c6",
   "metadata": {},
   "outputs": [
    {
     "name": "stdout",
     "output_type": "stream",
     "text": [
      "1) Runned\n",
      "2) 1\n",
      "3) Runned\n",
      "4) 1\n",
      "5) 1\n"
     ]
    }
   ],
   "source": [
    "# Short-circuit evaluation\n",
    "def check_if_run():\n",
    "    return \"Runned\"\n",
    "\n",
    "print(f\"1) {1 and check_if_run()}\")       # need to check both condition\n",
    "print(f\"2) {1 or check_if_run()}\")        # can skip second condition since first is always True\n",
    "print(f\"3) {0 or check_if_run() or 1}\")   # can skip third condition since second is always True\n",
    "print(f\"4) {0 or 1 or check_if_run()}\")   # can skip third condition since second is always True\n",
    "print(f\"5) {0 or check_if_run() and 1}\")  # need to check all condition"
   ]
  },
  {
   "cell_type": "markdown",
   "id": "e5db2898",
   "metadata": {},
   "source": [
    "### If"
   ]
  },
  {
   "cell_type": "code",
   "execution_count": 54,
   "id": "b0f8c431",
   "metadata": {},
   "outputs": [
    {
     "name": "stdout",
     "output_type": "stream",
     "text": [
      "This is True\n"
     ]
    }
   ],
   "source": [
    "if True:\n",
    "    print(\"This is True\")\n",
    "elif True:\n",
    "    print(\"This is elif True\")\n",
    "else:\n",
    "    print(\"This is else\")"
   ]
  },
  {
   "cell_type": "code",
   "execution_count": 47,
   "id": "c04a907e",
   "metadata": {},
   "outputs": [
    {
     "name": "stdout",
     "output_type": "stream",
     "text": [
      "equivalent to `False` in if statement\n",
      "None\n",
      "Empty List\n",
      "Empty Set\n",
      "Zeros\n"
     ]
    }
   ],
   "source": [
    "# equivalent to `False` in if statement\n",
    "print(\"equivalent to `False` in if statement\")\n",
    "if not None:\n",
    "    print(\"None\")\n",
    "if not []:\n",
    "    print(\"Empty List\")\n",
    "if not {}:\n",
    "    print(\"Empty Set\")\n",
    "if not 0:\n",
    "    print(\"Zeros\")"
   ]
  },
  {
   "cell_type": "markdown",
   "id": "788e93e8",
   "metadata": {},
   "source": [
    "### Iterator and for, while\n",
    "\n",
    "* Iterable: 반복 가능한 객체\n",
    "* `list`, `dict`, `set`, `str`, `tuple`, `range`, `enumerate`\n",
    "* 모든 Iterable 객체는 `iter` 함수로 iteration을 할 수 있다."
   ]
  },
  {
   "cell_type": "code",
   "execution_count": 112,
   "id": "a428763c",
   "metadata": {},
   "outputs": [
    {
     "data": {
      "text/plain": [
       "<list_iterator at 0x1ec5d6fa6a0>"
      ]
     },
     "execution_count": 112,
     "metadata": {},
     "output_type": "execute_result"
    }
   ],
   "source": [
    "# all iterable objects, can be iterated by `iter` function\n",
    "x = [1, 2, 3]\n",
    "iter(x)"
   ]
  },
  {
   "cell_type": "code",
   "execution_count": 55,
   "id": "236f73d5",
   "metadata": {},
   "outputs": [
    {
     "name": "stdout",
     "output_type": "stream",
     "text": [
      "1\n",
      "2\n",
      "3\n"
     ]
    }
   ],
   "source": [
    "# range: include first value, not include the last value\n",
    "for i in range(1, 4):\n",
    "    print(i)"
   ]
  },
  {
   "cell_type": "code",
   "execution_count": 110,
   "id": "b009c24c",
   "metadata": {},
   "outputs": [
    {
     "name": "stdout",
     "output_type": "stream",
     "text": [
      "1\n",
      "3\n",
      "5\n",
      "7\n",
      "9\n"
     ]
    }
   ],
   "source": [
    "# loop 1 to 9 by 2 step\n",
    "for i in range(1, 10, 2):\n",
    "    print(i)"
   ]
  },
  {
   "cell_type": "code",
   "execution_count": 115,
   "id": "f4a268a0",
   "metadata": {},
   "outputs": [
    {
     "name": "stdout",
     "output_type": "stream",
     "text": [
      "0\n",
      "2\n",
      "4\n",
      "6\n",
      "8\n"
     ]
    }
   ],
   "source": [
    "# while loop: find the even number from 0 ~ 9\n",
    "i = 0\n",
    "while (i < 10):\n",
    "    if i % 2 == 0:\n",
    "        print(i)\n",
    "    i += 1"
   ]
  },
  {
   "cell_type": "code",
   "execution_count": 56,
   "id": "3746b1f9",
   "metadata": {},
   "outputs": [
    {
     "name": "stdout",
     "output_type": "stream",
     "text": [
      "0 1\n",
      "1 2\n",
      "2 3\n"
     ]
    }
   ],
   "source": [
    "# use enumerate when you want to iterate the index with the values\n",
    "for i, v in enumerate([1, 2, 3]):\n",
    "    print(i, v)"
   ]
  },
  {
   "cell_type": "markdown",
   "id": "505686b6",
   "metadata": {},
   "source": [
    "* `in` operation"
   ]
  },
  {
   "cell_type": "markdown",
   "id": "c4d1f20c",
   "metadata": {},
   "source": [
    "### other functions"
   ]
  },
  {
   "cell_type": "code",
   "execution_count": 2,
   "id": "1b665cd1",
   "metadata": {},
   "outputs": [
    {
     "name": "stdout",
     "output_type": "stream",
     "text": [
      "Summation: 6\n",
      "Maximum: 3\n",
      "Minimum: 1\n"
     ]
    }
   ],
   "source": [
    "x = [1, 2, 3]\n",
    "print(f\"Summation: {sum(x)}\")\n",
    "print(f\"Maximum: {max(x)}\")\n",
    "print(f\"Minimum: {min(x)}\")"
   ]
  },
  {
   "cell_type": "markdown",
   "id": "3e3e53ea",
   "metadata": {},
   "source": [
    "# Exercise 1"
   ]
  },
  {
   "cell_type": "code",
   "execution_count": 132,
   "id": "4492a5fb",
   "metadata": {},
   "outputs": [],
   "source": [
    "def getIDnumber(data: dict) -> str:\n",
    "    r\"\"\"\n",
    "    Given dictionary data\n",
    "    - year, month, day: int, assume no error data in month=(1~12), day=(1~31)\n",
    "    - gender: str (male / female), always lower form\n",
    "    return the personal id\n",
    "        \n",
    "    format id: A-B\n",
    "        part A: last 2 digits of year + 2 digits month(with zero padded) + 2 digits day(with zero padded)\n",
    "        part B: 1 digit calculated by gender and birth + post_id_number\n",
    "        \n",
    "        1 digit in part B is calculated by following table\n",
    "        \n",
    "        |  year   | male | female |\n",
    "        |---------|------|--------|\n",
    "        |  < 2000 |  1   |    2   |\n",
    "        | >= 2000 |  3   |    4   |\n",
    "    \n",
    "    example)\n",
    "    ```\n",
    "    data = {\n",
    "        'year': 2002,\n",
    "        'month': 4,\n",
    "        'day': 3,\n",
    "        'gender': 'male',\n",
    "        'post_id_number': 681355\n",
    "    }\n",
    "    ```\n",
    "\n",
    "    return the id '020403-3681355' with string type\n",
    "    \"\"\"\n",
    "    # write the code from here\n",
    "    \n",
    "    \n",
    "    return "
   ]
  },
  {
   "cell_type": "code",
   "execution_count": null,
   "id": "72a351bf",
   "metadata": {},
   "outputs": [],
   "source": [
    "# Test the function\n",
    "\n",
    "test_data = [\n",
    "    ({'year': 2002,'month':  4,'day':  3, 'gender':   'male', 'post_id_number': 681355}, '020403-3681355'),\n",
    "    ({'year': 1990,'month': 12,'day':  1, 'gender': 'female', 'post_id_number': 654682}, '901201-2654682'),\n",
    "    ({'year': 1998,'month':  9,'day': 13, 'gender':   'male', 'post_id_number': 987132}, '980913-1987132'),\n",
    "    ({'year': 2010,'month':  3,'day': 31, 'gender': 'female', 'post_id_number': 874682}, '100331-4874682')\n",
    "]\n",
    "\n",
    "answer_list = []\n",
    "for data, answer in test_data:\n",
    "    answer_list.append(getIDnumber(data) == answer)\n",
    "\n",
    "print(f\"Correct: {sum(answer_list)}\")"
   ]
  },
  {
   "cell_type": "markdown",
   "id": "072eefd0",
   "metadata": {},
   "source": [
    "---"
   ]
  },
  {
   "cell_type": "markdown",
   "id": "3323fb5e",
   "metadata": {},
   "source": [
    "# Modules, Functions and Class "
   ]
  },
  {
   "cell_type": "markdown",
   "id": "e8268694",
   "metadata": {},
   "source": [
    "## How to write a custom functions?\n",
    "\n",
    "```python\n",
    "def my_func_name(parameter1, parameter2, ...):\n",
    "    \n",
    "    # do something\n",
    "    return\n",
    "\n",
    "# Example\n",
    "def plus_absolute(x, y):\n",
    "    return abs(x + y)\n",
    "```"
   ]
  },
  {
   "cell_type": "code",
   "execution_count": 12,
   "id": "a2adad3c",
   "metadata": {},
   "outputs": [
    {
     "ename": "IndentationError",
     "evalue": "unindent does not match any outer indentation level (<tokenize>, line 4)",
     "output_type": "error",
     "traceback": [
      "\u001b[1;36m  File \u001b[1;32m\"<tokenize>\"\u001b[1;36m, line \u001b[1;32m4\u001b[0m\n\u001b[1;33m    return 3\u001b[0m\n\u001b[1;37m    ^\u001b[0m\n\u001b[1;31mIndentationError\u001b[0m\u001b[1;31m:\u001b[0m unindent does not match any outer indentation level\n"
     ]
    }
   ],
   "source": [
    "# same Intendant block is important in python coding\n",
    "def a():\n",
    "    print(3)\n",
    "  return 3"
   ]
  },
  {
   "cell_type": "code",
   "execution_count": 3,
   "id": "69c26d23",
   "metadata": {},
   "outputs": [],
   "source": [
    "def function_with_args(*args):\n",
    "    \"\"\"args: arugments\"\"\"\n",
    "    print(type(args))\n",
    "    print(args)\n",
    "    return \n",
    "\n",
    "function_with_args(1, 3, 4)"
   ]
  },
  {
   "cell_type": "code",
   "execution_count": 9,
   "id": "3f7d4891",
   "metadata": {},
   "outputs": [
    {
     "name": "stdout",
     "output_type": "stream",
     "text": [
      "<class 'dict'>\n",
      "{'a': 3, 'b': 2, 'arg': 'a'}\n"
     ]
    }
   ],
   "source": [
    "def function_with_kwargs(**kwargs):\n",
    "    \"\"\"kwargs: keyword arguments\"\"\"\n",
    "    print(type(kwargs))\n",
    "    print(kwargs)\n",
    "    return \n",
    "\n",
    "function_with_kwargs(a=3, b=2, arg=\"a\")"
   ]
  },
  {
   "cell_type": "markdown",
   "id": "2b59f307",
   "metadata": {},
   "source": [
    "## How to import Modules?"
   ]
  },
  {
   "cell_type": "code",
   "execution_count": 26,
   "id": "b8f3a1cb",
   "metadata": {},
   "outputs": [
    {
     "data": {
      "text/plain": [
       "module"
      ]
     },
     "execution_count": 26,
     "metadata": {},
     "output_type": "execute_result"
    }
   ],
   "source": [
    "import math\n",
    "type(math)"
   ]
  },
  {
   "cell_type": "code",
   "execution_count": 34,
   "id": "e466d6de",
   "metadata": {},
   "outputs": [
    {
     "name": "stdout",
     "output_type": "stream",
     "text": [
      "# Attributes\n",
      "This module provides access to the mathematical functions\n",
      "defined by the C standard.\n",
      "3.141592653589793\n",
      "\n",
      "# Methods\n",
      "2.0\n"
     ]
    }
   ],
   "source": [
    "# module is also an object, it has attributes and methods\n",
    "print(\"# Attributes\")\n",
    "print(math.__doc__)\n",
    "print(math.pi)\n",
    "print()\n",
    "print(\"# Methods\")\n",
    "\n",
    "print(math.sqrt(4))"
   ]
  },
  {
   "cell_type": "code",
   "execution_count": 36,
   "id": "e3623f54",
   "metadata": {},
   "outputs": [
    {
     "name": "stdout",
     "output_type": "stream",
     "text": [
      "sqrt function from math module: 2.0\n"
     ]
    },
    {
     "ename": "TypeError",
     "evalue": "'int' object is not callable",
     "output_type": "error",
     "traceback": [
      "\u001b[1;31m---------------------------------------------------------------------------\u001b[0m",
      "\u001b[1;31mTypeError\u001b[0m                                 Traceback (most recent call last)",
      "\u001b[1;32m<ipython-input-36-56093e81a150>\u001b[0m in \u001b[0;36m<module>\u001b[1;34m\u001b[0m\n\u001b[0;32m      8\u001b[0m \u001b[0msqrt\u001b[0m \u001b[1;33m=\u001b[0m \u001b[1;36m123\u001b[0m\u001b[1;33m\u001b[0m\u001b[1;33m\u001b[0m\u001b[0m\n\u001b[0;32m      9\u001b[0m \u001b[1;33m\u001b[0m\u001b[0m\n\u001b[1;32m---> 10\u001b[1;33m \u001b[0mprint\u001b[0m\u001b[1;33m(\u001b[0m\u001b[1;34mf\"overrided `sqrt` {sqrt(4)}\"\u001b[0m\u001b[1;33m)\u001b[0m\u001b[1;33m\u001b[0m\u001b[1;33m\u001b[0m\u001b[0m\n\u001b[0m",
      "\u001b[1;31mTypeError\u001b[0m: 'int' object is not callable"
     ]
    }
   ],
   "source": [
    "# can also import certain function from module\n",
    "from math import sqrt\n",
    "\n",
    "print(f\"sqrt function from math module: {sqrt(4)}\")  \n",
    "\n",
    "# but do not override the imported function\n",
    "sqrt = 123\n",
    "\n",
    "print(f\"overrided `sqrt` {sqrt(4)}\")"
   ]
  },
  {
   "cell_type": "markdown",
   "id": "aa2d25e2",
   "metadata": {},
   "source": [
    "## How to create a module?\n",
    "\n",
    "1. create a new file\n",
    "2. write a function\n",
    "\n",
    "    ```python\n",
    "    def calculate_square_root(x):\n",
    "        return x**(1/2)\n",
    "    ```\n",
    "3. save with \".py\" extention\n",
    "4. import the module"
   ]
  },
  {
   "cell_type": "code",
   "execution_count": 37,
   "id": "9c0bd5c8",
   "metadata": {},
   "outputs": [
    {
     "data": {
      "text/plain": [
       "2.0"
      ]
     },
     "execution_count": 37,
     "metadata": {},
     "output_type": "execute_result"
    }
   ],
   "source": [
    "from custom_model import calculate_square_root\n",
    "\n",
    "calculate_square_root(4)"
   ]
  },
  {
   "cell_type": "markdown",
   "id": "0cbfb795",
   "metadata": {},
   "source": [
    "## Class\n",
    "\n",
    "* Class is another type of object that has variables and functions similar to module\n",
    "* Class VS Class object\n",
    "    - A class is a blueprint, definition of its attributes and methods (but not real yet)\n",
    "    - A class object is a class' instance (realization of a blueprint)"
   ]
  },
  {
   "cell_type": "code",
   "execution_count": 12,
   "id": "1f007bf2",
   "metadata": {},
   "outputs": [
    {
     "name": "stdout",
     "output_type": "stream",
     "text": [
      "<class '__main__.Power'>\n"
     ]
    }
   ],
   "source": [
    "# Blue print\n",
    "class Power():\n",
    "    def __init__(self, k):\n",
    "        self.document = \"calculate x to the k power\"  # attributes\n",
    "        self.k = k\n",
    "        \n",
    "    def calculate(self, x):  # methods, first argument must be `self` to point the class object\n",
    "        return x**(self.k)\n",
    "    \n",
    "print(Power)"
   ]
  },
  {
   "cell_type": "code",
   "execution_count": 22,
   "id": "d24f11ae",
   "metadata": {},
   "outputs": [
    {
     "name": "stdout",
     "output_type": "stream",
     "text": [
      "<class '__main__.Power'>\n",
      "calculate x to the k power\n",
      "k = 2\n",
      "16\n"
     ]
    }
   ],
   "source": [
    "# declare a class instance object\n",
    "# `__init__` function will be called when it declared \n",
    "power = Power(2)\n",
    "print(type(power))\n",
    "print(power.document) # can get the attribute `document`\n",
    "print(f\"k = {power.k}\")\n",
    "print(power.calculate(4))"
   ]
  },
  {
   "cell_type": "markdown",
   "id": "9d38d07f",
   "metadata": {},
   "source": [
    "### transfer attributes and methods from parent class"
   ]
  },
  {
   "cell_type": "code",
   "execution_count": 24,
   "id": "75086893",
   "metadata": {},
   "outputs": [],
   "source": [
    "class Sqrt(Power):\n",
    "    def __init__(self):\n",
    "        super().__init__(k=1/2)  # it will take over all attributes and methods from `Power` class\n",
    "        \n",
    "    def __call__(self, x):  # use __call__ function to make a class instance like a function style\n",
    "        return self.calculate(x)  "
   ]
  },
  {
   "cell_type": "code",
   "execution_count": 27,
   "id": "c4534b35",
   "metadata": {},
   "outputs": [
    {
     "name": "stdout",
     "output_type": "stream",
     "text": [
      "<class '__main__.Sqrt'>\n",
      "calculate x to the k power\n",
      "k = 0.5\n",
      "use parent class(Power) method: 2.0\n",
      "use Sqrt __call__ method: 4.0\n"
     ]
    }
   ],
   "source": [
    "sqrt = Sqrt()\n",
    "print(type(sqrt))\n",
    "print(sqrt.document)\n",
    "print(f\"k = {sqrt.k}\")\n",
    "print(f\"use parent class(Power) method: {sqrt.calculate(4)}\")\n",
    "print(f\"use Sqrt __call__ method: {sqrt(16)}\")"
   ]
  },
  {
   "cell_type": "markdown",
   "id": "a1c5281f",
   "metadata": {},
   "source": [
    "# File IO\n",
    "\n",
    "## How to read a file?\n",
    "\n",
    "\"cardata.txt\"\n",
    "\n",
    "```text\n",
    "Model, Company, Type, Price\n",
    "Model3, Tesla, electronic, 55000000\n",
    "Genesis GV70, Hyundai, diesel, 48000000\n",
    "K7, Kia, gasoline, 40000000\n",
    "```"
   ]
  },
  {
   "cell_type": "code",
   "execution_count": 63,
   "id": "c4bd04e1",
   "metadata": {},
   "outputs": [
    {
     "data": {
      "text/plain": [
       "'Model, Company, Type, Price\\nModel3, Tesla, electronic, 55000000\\nGenesis GV70, Hyundai, diesel, 48000000\\nK7, Kia, gasoline, 40000000\\n'"
      ]
     },
     "execution_count": 63,
     "metadata": {},
     "output_type": "execute_result"
    }
   ],
   "source": [
    "# open a file\n",
    "fileIO = open('./cardata.txt', mode='r', encoding=\"utf-8\")\n",
    "fileIO.read() "
   ]
  },
  {
   "cell_type": "code",
   "execution_count": 64,
   "id": "f1533d5f",
   "metadata": {},
   "outputs": [
    {
     "data": {
      "text/plain": [
       "''"
      ]
     },
     "execution_count": 64,
     "metadata": {},
     "output_type": "execute_result"
    }
   ],
   "source": [
    "# once read, fileIO will not contains any data \n",
    "fileIO.read()"
   ]
  },
  {
   "cell_type": "code",
   "execution_count": 65,
   "id": "ce9fe564",
   "metadata": {},
   "outputs": [],
   "source": [
    "fileIO.close()"
   ]
  },
  {
   "cell_type": "code",
   "execution_count": 66,
   "id": "4471dfaa",
   "metadata": {},
   "outputs": [
    {
     "data": {
      "text/plain": [
       "['Model, Company, Type, Price\\n',\n",
       " 'Model3, Tesla, electronic, 55000000\\n',\n",
       " 'Genesis GV70, Hyundai, diesel, 48000000\\n',\n",
       " 'K7, Kia, gasoline, 40000000\\n']"
      ]
     },
     "execution_count": 66,
     "metadata": {},
     "output_type": "execute_result"
    }
   ],
   "source": [
    "# using `with` statement can open file without close the file manually\n",
    "with open('./cardata.txt', mode='r', encoding=\"utf-8\") as fileIO:\n",
    "    data = fileIO.readlines()  # readlines will return a list by new line\n",
    "    \n",
    "data"
   ]
  },
  {
   "cell_type": "markdown",
   "id": "90a398f3",
   "metadata": {},
   "source": [
    "## How to write a file?"
   ]
  },
  {
   "cell_type": "code",
   "execution_count": 69,
   "id": "06ebf3ba",
   "metadata": {},
   "outputs": [],
   "source": [
    "with open('./write_excercise.txt', mode='w', encoding='utf-8') as fileIO:\n",
    "    # 2 ways to do it\n",
    "    # if using fileIO must add newline letter '\\n'\n",
    "    fileIO.write(\"Write using `write` method.\")\n",
    "    # when using print it will automatically create a new line\n",
    "    print(\"Write using `print` function.\", file=fileIO)\n",
    "    \n",
    "    fileIO.write(\"End of document\")"
   ]
  },
  {
   "cell_type": "code",
   "execution_count": 70,
   "id": "638d2b9b",
   "metadata": {},
   "outputs": [
    {
     "name": "stdout",
     "output_type": "stream",
     "text": [
      "Write using `write` method.Write using `print` function.\n",
      "End of document\n"
     ]
    }
   ],
   "source": [
    "with open('./write_excercise.txt', mode='r', encoding='utf-8') as fileIO:\n",
    "    print(fileIO.read())"
   ]
  },
  {
   "cell_type": "markdown",
   "id": "da8a34ae",
   "metadata": {},
   "source": [
    "# Excercise 2"
   ]
  },
  {
   "cell_type": "code",
   "execution_count": 79,
   "id": "4f77cf5c",
   "metadata": {},
   "outputs": [],
   "source": [
    "class CarDataset():\n",
    "    def __init__(self, data_path):\n",
    "        \"\"\"\n",
    "        1. read data from `data_path` and save it to `self.data` attribute\n",
    "        2. complete `calculate_average_price`\n",
    "            (55000000 + 48000000 + 40000000) / 3\n",
    "        \n",
    "        \"cardata.txt\"\n",
    "\n",
    "        ```\n",
    "        Model, Company, Type, Price\n",
    "        Model3, Tesla, electronic, 55000000\n",
    "        Genesis GV70, Hyundai, diesel, 48000000\n",
    "        K7, Kia, gasoline, 40000000\n",
    "        ```\n",
    "        \n",
    "        \"\"\"\n",
    "        with open(data_path, mode='r', encoding='utf-8') as file:\n",
    "            data = [line.strip() for line in file.readlines()]\n",
    "            \n",
    "        self.data = data\n",
    "        \n",
    "    def calculate_average_price(self):\n",
    "        \n",
    "        price_list = []\n",
    "        for line in self.data[1:]:\n",
    "            # fill the code\n",
    "            row_data = line.split(\",\")\n",
    "            price_list.append(int(row_data[-1].strip()))\n",
    "            \n",
    "        return sum(price_list) / 3"
   ]
  },
  {
   "cell_type": "code",
   "execution_count": 80,
   "id": "b61c6c3e",
   "metadata": {},
   "outputs": [
    {
     "data": {
      "text/plain": [
       "47666666.666666664"
      ]
     },
     "execution_count": 80,
     "metadata": {},
     "output_type": "execute_result"
    }
   ],
   "source": [
    "car_ds = CarDataset(data_path=\"./cardata.txt\")\n",
    "car_ds.calculate_average_price()"
   ]
  }
 ],
 "metadata": {
  "kernelspec": {
   "display_name": "Python 3",
   "language": "python",
   "name": "python3"
  },
  "language_info": {
   "codemirror_mode": {
    "name": "ipython",
    "version": 3
   },
   "file_extension": ".py",
   "mimetype": "text/x-python",
   "name": "python",
   "nbconvert_exporter": "python",
   "pygments_lexer": "ipython3",
   "version": "3.8.10"
  }
 },
 "nbformat": 4,
 "nbformat_minor": 5
}
