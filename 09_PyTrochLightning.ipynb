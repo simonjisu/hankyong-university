{
 "cells": [
  {
   "cell_type": "markdown",
   "id": "8a9d5ef3-834a-4c21-b36f-5b65cb32657c",
   "metadata": {},
   "source": [
    "# PyTorch Lightning with CIFAR10\n",
    "\n",
    "Easier to managing experiments, and hardware settings\n",
    "\n",
    "https://www.pytorchlightning.ai/"
   ]
  },
  {
   "cell_type": "code",
   "execution_count": 12,
   "id": "22f868e2-36fc-4e3f-a664-a2c7c629e6de",
   "metadata": {},
   "outputs": [],
   "source": [
    "import os\n",
    "\n",
    "import torch\n",
    "import torch.nn as nn\n",
    "import torch.optim as optim\n",
    "\n",
    "from torchvision import datasets, transforms\n",
    "from torch.utils.data import DataLoader\n",
    "\n",
    "import pytorch_lightning as pl\n",
    "import torchmetrics"
   ]
  },
  {
   "cell_type": "code",
   "execution_count": 20,
   "id": "4384494e-65a3-4150-b68d-1d6b1a0ba9e7",
   "metadata": {},
   "outputs": [],
   "source": [
    "class CNNModel(nn.Module):\n",
    "    def __init__(self):\n",
    "        super().__init__()\n",
    "        # Construct Layers\n",
    "        self.convs = nn.Sequential(\n",
    "            # Conv1\n",
    "            nn.Conv2d(in_channels=3, out_channels=8, kernel_size=3, stride=1, padding=1),\n",
    "            nn.BatchNorm2d(8),\n",
    "            #(B, 3, 32, 32) > (B, 8, 32, 32)\n",
    "            nn.ReLU(),\n",
    "            # (B, 8, 32, 32)\n",
    "            nn.MaxPool2d(kernel_size=2, stride=2),\n",
    "            # (B, 8, 16, 16)\n",
    "            # Conv2\n",
    "            nn.Conv2d(in_channels=8, out_channels=16, kernel_size=3, stride=1, padding=0),\n",
    "            nn.BatchNorm2d(16),\n",
    "            # (B, 8, 16, 16) > (B, 16, 14, 14)\n",
    "            nn.ReLU(),\n",
    "            nn.MaxPool2d(kernel_size=2, stride=2),\n",
    "            # (B, 16, 14, 14) > (B, 16, 7, 7)\n",
    "            # Conv3\n",
    "            nn.Conv2d(in_channels=16, out_channels=32, kernel_size=2, stride=1, padding=0),\n",
    "            nn.BatchNorm2d(32),\n",
    "            # (7+0-2)/1 + 1\n",
    "            # (B, 16, 7, 7) > (B, 32, 6, 6)\n",
    "            nn.ReLU(),\n",
    "            nn.MaxPool2d(kernel_size=2, stride=2),\n",
    "            # (B, 32, 3, 3)\n",
    "        )\n",
    "        self.fc = nn.Sequential(\n",
    "            nn.Linear(in_features=32*3*3, out_features=100),  # tensor size ?\n",
    "            nn.ReLU(), #(B, 100)\n",
    "            nn.Linear(100, 100), #(B, 100) > (B, 100) weight(100, 100)\n",
    "            nn.ReLU(),  \n",
    "            nn.Linear(100, 10), \n",
    "        )\n",
    "        \n",
    "    def forward(self, x):\n",
    "        # forward propagation\n",
    "        # Conv Layers\n",
    "        x = self.convs(x)\n",
    "        # resize to (batch_size, 32*3*3)\n",
    "        x = x.view(x.size(0), -1)\n",
    "        # FC Layers\n",
    "        x = self.fc(x)\n",
    "        return x"
   ]
  },
  {
   "cell_type": "code",
   "execution_count": 21,
   "id": "afc48701-e85f-4520-99c3-3012e6d562a7",
   "metadata": {},
   "outputs": [],
   "source": [
    "class PLNetwork(pl.LightningModule):\n",
    "    def __init__(self, **kwargs) -> None:\n",
    "        super().__init__()\n",
    "        self.save_hyperparameters()\n",
    "        self.model = CNNModel()\n",
    "        self.loss_function = nn.CrossEntropyLoss()\n",
    "        self.accuracy = torchmetrics.Accuracy(num_classes=10)\n",
    "        \n",
    "    def forward(self, inputs, targets):\n",
    "        outputs = self.model(inputs)\n",
    "        loss = self.loss_function(outputs, targets)  # when calculate loss must need gold answer\n",
    "        preds = outputs.argmax(1)\n",
    "        self.accuracy(preds.view(-1), targets.view(-1))\n",
    "        return loss\n",
    "    \n",
    "    def training_step(self, batch, batch_idx):\n",
    "        inputs, targets = batch\n",
    "        loss = self(inputs, targets)\n",
    "        self.log(\"tr_loss\", loss, on_step=True, on_epoch=True, prog_bar=True, logger=True, sync_dist=False)\n",
    "        return {\"loss\": loss}\n",
    "\n",
    "    def train_epoch_end(self, outputs):\n",
    "        loss = 0\n",
    "        for out in outputs:\n",
    "            loss += out[\"loss\"].detach()\n",
    "        loss = loss / len(outputs)\n",
    "        \n",
    "        self.log(\"train_loss\", loss, on_step=False, on_epoch=True, prog_bar=True, logger=True, sync_dist=True)\n",
    "        self.log(\"train_accuracy\", self.accuracy, on_step=False, on_epoch=True, prog_bar=True, logger=True, sync_dist=True)\n",
    "    \n",
    "    def validation_step(self, batch, batch_idx):\n",
    "        inputs, targets = batch\n",
    "        loss = self(inputs, targets)\n",
    "        \n",
    "        return {\"loss\": loss}\n",
    "\n",
    "    def validation_epoch_end(self, outputs):\n",
    "        loss = 0\n",
    "        for out in outputs:\n",
    "            loss += out[\"loss\"].detach()\n",
    "        loss = loss / len(outputs)\n",
    "        \n",
    "        self.log(\"val_loss\", loss, on_step=False, on_epoch=True, prog_bar=True, logger=True, sync_dist=True)\n",
    "        self.log(\"val_accuracy\", self.accuracy, on_step=False, on_epoch=True, prog_bar=True, logger=True, sync_dist=True)\n",
    "    \n",
    "    def create_dataloader(self, mode):  \n",
    "        self.cifar10_mean = (0.4914, 0.4822, 0.4465)\n",
    "        self.cifar10_std = (0.2470, 0.2435, 0.2616)        \n",
    "        num_workers = 0 if os.name == \"nt\" else self.hparams.num_workers\n",
    "        if mode == \"train\":\n",
    "            shuffle = True\n",
    "            batch_size = self.hparams.train_batch_size\n",
    "            img_transformer = transforms.Compose([\n",
    "                transforms.RandomHorizontalFlip(),  # random(with probability of 0.5) horizontal flip\n",
    "                transforms.ToTensor(),  # change PIL Ojbect into Tensor (32, 32, 3) > (3, 32, 32)\n",
    "                transforms.Normalize(mean=self.cifar10_mean, std=self.cifar10_std)  # normalizing with mean & std\n",
    "            ])\n",
    "            mode_train = True\n",
    "        else:\n",
    "            shuffle = False\n",
    "            batch_size = self.hparams.eval_batch_size\n",
    "            img_transformer = transforms.Compose([\n",
    "                transforms.ToTensor(),  # change PIL Ojbect into Tensor (32, 32, 3) > (3, 32, 32)\n",
    "                transforms.Normalize(mean=self.cifar10_mean, std=self.cifar10_std)  # normalizing with mean & std\n",
    "            ])\n",
    "            mode_train = False\n",
    "            \n",
    "        dataset = datasets.CIFAR10(\n",
    "            root=self.hparams.data_path,\n",
    "            train=mode_train, \n",
    "            transform=img_transformer,\n",
    "            download=True\n",
    "        )\n",
    "        data_loader = torch.utils.data.DataLoader(\n",
    "            batch_size=batch_size,\n",
    "            dataset=dataset,\n",
    "            shuffle=shuffle,\n",
    "            num_workers=num_workers,\n",
    "        )\n",
    "        return data_loader\n",
    "\n",
    "    def train_dataloader(self):\n",
    "        return self.create_dataloader(mode=\"train\")\n",
    "\n",
    "    def val_dataloader(self):\n",
    "        return self.create_dataloader(mode=\"eval\")\n",
    "    \n",
    "    def configure_optimizers(self):\n",
    "        optimizer = torch.optim.Adam(self.model.parameters(), lr=self.hparams.lr, weight_decay=self.hparams.weight_decay)\n",
    "        return optimizer"
   ]
  },
  {
   "cell_type": "code",
   "execution_count": 22,
   "id": "ef5a28e1-6b35-4be7-9c89-43cabd047248",
   "metadata": {},
   "outputs": [
    {
     "name": "stderr",
     "output_type": "stream",
     "text": [
      "Global seed set to 884\n",
      "GPU available: True, used: True\n",
      "TPU available: False, using: 0 TPU cores\n",
      "LOCAL_RANK: 0 - CUDA_VISIBLE_DEVICES: [0]\n",
      "\n",
      "  | Name          | Type             | Params\n",
      "---------------------------------------------------\n",
      "0 | model         | CNNModel         | 43.6 K\n",
      "1 | loss_function | CrossEntropyLoss | 0     \n",
      "2 | accuracy      | Accuracy         | 0     \n",
      "---------------------------------------------------\n",
      "43.6 K    Trainable params\n",
      "0         Non-trainable params\n",
      "43.6 K    Total params\n",
      "0.174     Total estimated model params size (MB)\n"
     ]
    },
    {
     "name": "stdout",
     "output_type": "stream",
     "text": [
      "Files already downloaded and verified\n",
      "Files already downloaded and verified\n"
     ]
    },
    {
     "data": {
      "application/vnd.jupyter.widget-view+json": {
       "model_id": "cd61443b0c434233a4df8dd56334ca91",
       "version_major": 2,
       "version_minor": 0
      },
      "text/plain": [
       "Training: 0it [00:00, ?it/s]"
      ]
     },
     "metadata": {},
     "output_type": "display_data"
    },
    {
     "data": {
      "application/vnd.jupyter.widget-view+json": {
       "model_id": "",
       "version_major": 2,
       "version_minor": 0
      },
      "text/plain": [
       "Validating: 0it [00:00, ?it/s]"
      ]
     },
     "metadata": {},
     "output_type": "display_data"
    },
    {
     "name": "stderr",
     "output_type": "stream",
     "text": [
      "Metric val_accuracy improved. New best score: 0.452\n",
      "Epoch 0, global step 195: val_accuracy reached 0.45237 (best 0.45237), saving model to \"./logs\\default\\version_3\\checkpoints\\epoch=00-val_accuracy=0.4524.ckpt\" as top 3\n"
     ]
    },
    {
     "data": {
      "application/vnd.jupyter.widget-view+json": {
       "model_id": "",
       "version_major": 2,
       "version_minor": 0
      },
      "text/plain": [
       "Validating: 0it [00:00, ?it/s]"
      ]
     },
     "metadata": {},
     "output_type": "display_data"
    },
    {
     "name": "stderr",
     "output_type": "stream",
     "text": [
      "Metric val_accuracy improved by 0.113 >= min_delta = 0.01. New best score: 0.565\n",
      "Epoch 1, global step 391: val_accuracy reached 0.56492 (best 0.56492), saving model to \"./logs\\default\\version_3\\checkpoints\\epoch=01-val_accuracy=0.5649.ckpt\" as top 3\n"
     ]
    },
    {
     "data": {
      "application/vnd.jupyter.widget-view+json": {
       "model_id": "",
       "version_major": 2,
       "version_minor": 0
      },
      "text/plain": [
       "Validating: 0it [00:00, ?it/s]"
      ]
     },
     "metadata": {},
     "output_type": "display_data"
    },
    {
     "name": "stderr",
     "output_type": "stream",
     "text": [
      "Metric val_accuracy improved by 0.040 >= min_delta = 0.01. New best score: 0.605\n",
      "Epoch 2, global step 587: val_accuracy reached 0.60455 (best 0.60455), saving model to \"./logs\\default\\version_3\\checkpoints\\epoch=02-val_accuracy=0.6046.ckpt\" as top 3\n"
     ]
    },
    {
     "data": {
      "application/vnd.jupyter.widget-view+json": {
       "model_id": "",
       "version_major": 2,
       "version_minor": 0
      },
      "text/plain": [
       "Validating: 0it [00:00, ?it/s]"
      ]
     },
     "metadata": {},
     "output_type": "display_data"
    },
    {
     "name": "stderr",
     "output_type": "stream",
     "text": [
      "Metric val_accuracy improved by 0.026 >= min_delta = 0.01. New best score: 0.631\n",
      "Epoch 3, global step 783: val_accuracy reached 0.63095 (best 0.63095), saving model to \"./logs\\default\\version_3\\checkpoints\\epoch=03-val_accuracy=0.6309.ckpt\" as top 3\n"
     ]
    },
    {
     "data": {
      "application/vnd.jupyter.widget-view+json": {
       "model_id": "",
       "version_major": 2,
       "version_minor": 0
      },
      "text/plain": [
       "Validating: 0it [00:00, ?it/s]"
      ]
     },
     "metadata": {},
     "output_type": "display_data"
    },
    {
     "name": "stderr",
     "output_type": "stream",
     "text": [
      "Metric val_accuracy improved by 0.022 >= min_delta = 0.01. New best score: 0.653\n",
      "Epoch 4, global step 979: val_accuracy reached 0.65252 (best 0.65252), saving model to \"./logs\\default\\version_3\\checkpoints\\epoch=04-val_accuracy=0.6525.ckpt\" as top 3\n"
     ]
    },
    {
     "data": {
      "application/vnd.jupyter.widget-view+json": {
       "model_id": "",
       "version_major": 2,
       "version_minor": 0
      },
      "text/plain": [
       "Validating: 0it [00:00, ?it/s]"
      ]
     },
     "metadata": {},
     "output_type": "display_data"
    },
    {
     "name": "stderr",
     "output_type": "stream",
     "text": [
      "Metric val_accuracy improved by 0.015 >= min_delta = 0.01. New best score: 0.667\n",
      "Epoch 5, global step 1175: val_accuracy reached 0.66743 (best 0.66743), saving model to \"./logs\\default\\version_3\\checkpoints\\epoch=05-val_accuracy=0.6674.ckpt\" as top 3\n"
     ]
    },
    {
     "data": {
      "application/vnd.jupyter.widget-view+json": {
       "model_id": "",
       "version_major": 2,
       "version_minor": 0
      },
      "text/plain": [
       "Validating: 0it [00:00, ?it/s]"
      ]
     },
     "metadata": {},
     "output_type": "display_data"
    },
    {
     "name": "stderr",
     "output_type": "stream",
     "text": [
      "Metric val_accuracy improved by 0.013 >= min_delta = 0.01. New best score: 0.680\n",
      "Epoch 6, global step 1371: val_accuracy reached 0.68028 (best 0.68028), saving model to \"./logs\\default\\version_3\\checkpoints\\epoch=06-val_accuracy=0.6803.ckpt\" as top 3\n"
     ]
    },
    {
     "data": {
      "application/vnd.jupyter.widget-view+json": {
       "model_id": "",
       "version_major": 2,
       "version_minor": 0
      },
      "text/plain": [
       "Validating: 0it [00:00, ?it/s]"
      ]
     },
     "metadata": {},
     "output_type": "display_data"
    },
    {
     "name": "stderr",
     "output_type": "stream",
     "text": [
      "Metric val_accuracy improved by 0.012 >= min_delta = 0.01. New best score: 0.692\n",
      "Epoch 7, global step 1567: val_accuracy reached 0.69190 (best 0.69190), saving model to \"./logs\\default\\version_3\\checkpoints\\epoch=07-val_accuracy=0.6919.ckpt\" as top 3\n"
     ]
    },
    {
     "data": {
      "application/vnd.jupyter.widget-view+json": {
       "model_id": "",
       "version_major": 2,
       "version_minor": 0
      },
      "text/plain": [
       "Validating: 0it [00:00, ?it/s]"
      ]
     },
     "metadata": {},
     "output_type": "display_data"
    },
    {
     "name": "stderr",
     "output_type": "stream",
     "text": [
      "Metric val_accuracy improved by 0.011 >= min_delta = 0.01. New best score: 0.703\n",
      "Epoch 8, global step 1763: val_accuracy reached 0.70285 (best 0.70285), saving model to \"./logs\\default\\version_3\\checkpoints\\epoch=08-val_accuracy=0.7028.ckpt\" as top 3\n"
     ]
    },
    {
     "data": {
      "application/vnd.jupyter.widget-view+json": {
       "model_id": "",
       "version_major": 2,
       "version_minor": 0
      },
      "text/plain": [
       "Validating: 0it [00:00, ?it/s]"
      ]
     },
     "metadata": {},
     "output_type": "display_data"
    },
    {
     "name": "stderr",
     "output_type": "stream",
     "text": [
      "Epoch 9, global step 1959: val_accuracy reached 0.71030 (best 0.71030), saving model to \"./logs\\default\\version_3\\checkpoints\\epoch=09-val_accuracy=0.7103.ckpt\" as top 3\n"
     ]
    },
    {
     "data": {
      "application/vnd.jupyter.widget-view+json": {
       "model_id": "",
       "version_major": 2,
       "version_minor": 0
      },
      "text/plain": [
       "Validating: 0it [00:00, ?it/s]"
      ]
     },
     "metadata": {},
     "output_type": "display_data"
    },
    {
     "name": "stderr",
     "output_type": "stream",
     "text": [
      "Epoch 10, global step 2155: val_accuracy reached 0.71200 (best 0.71200), saving model to \"./logs\\default\\version_3\\checkpoints\\epoch=10-val_accuracy=0.7120.ckpt\" as top 3\n"
     ]
    },
    {
     "data": {
      "application/vnd.jupyter.widget-view+json": {
       "model_id": "",
       "version_major": 2,
       "version_minor": 0
      },
      "text/plain": [
       "Validating: 0it [00:00, ?it/s]"
      ]
     },
     "metadata": {},
     "output_type": "display_data"
    },
    {
     "name": "stderr",
     "output_type": "stream",
     "text": [
      "Metric val_accuracy improved by 0.018 >= min_delta = 0.01. New best score: 0.721\n",
      "Epoch 11, global step 2351: val_accuracy reached 0.72133 (best 0.72133), saving model to \"./logs\\default\\version_3\\checkpoints\\epoch=11-val_accuracy=0.7213.ckpt\" as top 3\n"
     ]
    },
    {
     "data": {
      "application/vnd.jupyter.widget-view+json": {
       "model_id": "",
       "version_major": 2,
       "version_minor": 0
      },
      "text/plain": [
       "Validating: 0it [00:00, ?it/s]"
      ]
     },
     "metadata": {},
     "output_type": "display_data"
    },
    {
     "name": "stderr",
     "output_type": "stream",
     "text": [
      "Epoch 12, global step 2547: val_accuracy reached 0.72277 (best 0.72277), saving model to \"./logs\\default\\version_3\\checkpoints\\epoch=12-val_accuracy=0.7228.ckpt\" as top 3\n"
     ]
    },
    {
     "data": {
      "application/vnd.jupyter.widget-view+json": {
       "model_id": "",
       "version_major": 2,
       "version_minor": 0
      },
      "text/plain": [
       "Validating: 0it [00:00, ?it/s]"
      ]
     },
     "metadata": {},
     "output_type": "display_data"
    },
    {
     "name": "stderr",
     "output_type": "stream",
     "text": [
      "Metric val_accuracy improved by 0.012 >= min_delta = 0.01. New best score: 0.733\n",
      "Epoch 13, global step 2743: val_accuracy reached 0.73348 (best 0.73348), saving model to \"./logs\\default\\version_3\\checkpoints\\epoch=13-val_accuracy=0.7335.ckpt\" as top 3\n"
     ]
    },
    {
     "data": {
      "application/vnd.jupyter.widget-view+json": {
       "model_id": "",
       "version_major": 2,
       "version_minor": 0
      },
      "text/plain": [
       "Validating: 0it [00:00, ?it/s]"
      ]
     },
     "metadata": {},
     "output_type": "display_data"
    },
    {
     "name": "stderr",
     "output_type": "stream",
     "text": [
      "Epoch 14, global step 2939: val_accuracy reached 0.73830 (best 0.73830), saving model to \"./logs\\default\\version_3\\checkpoints\\epoch=14-val_accuracy=0.7383.ckpt\" as top 3\n"
     ]
    },
    {
     "data": {
      "application/vnd.jupyter.widget-view+json": {
       "model_id": "",
       "version_major": 2,
       "version_minor": 0
      },
      "text/plain": [
       "Validating: 0it [00:00, ?it/s]"
      ]
     },
     "metadata": {},
     "output_type": "display_data"
    },
    {
     "name": "stderr",
     "output_type": "stream",
     "text": [
      "Epoch 15, global step 3135: val_accuracy reached 0.74120 (best 0.74120), saving model to \"./logs\\default\\version_3\\checkpoints\\epoch=15-val_accuracy=0.7412.ckpt\" as top 3\n"
     ]
    },
    {
     "data": {
      "application/vnd.jupyter.widget-view+json": {
       "model_id": "",
       "version_major": 2,
       "version_minor": 0
      },
      "text/plain": [
       "Validating: 0it [00:00, ?it/s]"
      ]
     },
     "metadata": {},
     "output_type": "display_data"
    },
    {
     "name": "stderr",
     "output_type": "stream",
     "text": [
      "Monitored metric val_accuracy did not improve in the last 3 records. Best score: 0.733. Signaling Trainer to stop.\n",
      "Epoch 16, global step 3331: val_accuracy reached 0.74345 (best 0.74345), saving model to \"./logs\\default\\version_3\\checkpoints\\epoch=16-val_accuracy=0.7434.ckpt\" as top 3\n",
      "FIT Profiler Report\n",
      "\n",
      "Action                             \t|  Mean duration (s)\t|Num calls      \t|  Total time (s) \t|  Percentage %   \t|\n",
      "----------------------------------------------------------------------------------------------------------------------------------------\n",
      "Total                              \t|  -              \t|_              \t|  244.41         \t|  100 %          \t|\n",
      "----------------------------------------------------------------------------------------------------------------------------------------\n",
      "run_training_epoch                 \t|  14.285         \t|17             \t|  242.84         \t|  99.361         \t|\n",
      "get_train_batch                    \t|  0.049501       \t|3332           \t|  164.94         \t|  67.485         \t|\n",
      "run_training_batch                 \t|  0.011182       \t|3332           \t|  37.259         \t|  15.245         \t|\n",
      "optimizer_step_and_closure_0       \t|  0.010239       \t|3332           \t|  34.115         \t|  13.958         \t|\n",
      "training_step_and_backward         \t|  0.0086369      \t|3332           \t|  28.778         \t|  11.775         \t|\n",
      "model_forward                      \t|  0.0063208      \t|3332           \t|  21.061         \t|  8.6172         \t|\n",
      "training_step                      \t|  0.0061098      \t|3332           \t|  20.358         \t|  8.3296         \t|\n",
      "backward                           \t|  0.0019943      \t|3332           \t|  6.645          \t|  2.7188         \t|\n",
      "on_train_batch_end                 \t|  0.0012698      \t|3332           \t|  4.231          \t|  1.7311         \t|\n",
      "evaluation_step_and_end            \t|  0.0060426      \t|680            \t|  4.109          \t|  1.6812         \t|\n",
      "validation_step                    \t|  0.0058588      \t|680            \t|  3.984          \t|  1.6301         \t|\n",
      "on_validation_batch_end            \t|  0.0006         \t|680            \t|  0.408          \t|  0.16694        \t|\n",
      "on_validation_start                \t|  0.019412       \t|17             \t|  0.33           \t|  0.13502        \t|\n",
      "on_validation_end                  \t|  0.015529       \t|17             \t|  0.264          \t|  0.10802        \t|\n",
      "cache_result                       \t|  1.4974e-05     \t|15560          \t|  0.233          \t|  0.095333       \t|\n",
      "training_step_end                  \t|  1.4406e-05     \t|3332           \t|  0.048          \t|  0.019639       \t|\n",
      "on_train_epoch_start               \t|  0.0027647      \t|17             \t|  0.047          \t|  0.01923        \t|\n",
      "on_after_backward                  \t|  1.4106e-05     \t|3332           \t|  0.047          \t|  0.01923        \t|\n",
      "on_before_zero_grad                \t|  9.3037e-06     \t|3332           \t|  0.031          \t|  0.012684       \t|\n",
      "on_batch_start                     \t|  9.0036e-06     \t|3332           \t|  0.03           \t|  0.012275       \t|\n",
      "validation_step_end                \t|  2.3529e-05     \t|680            \t|  0.016          \t|  0.0065465      \t|\n",
      "on_train_start                     \t|  0.015          \t|1              \t|  0.015          \t|  0.0061373      \t|\n",
      "on_validation_batch_start          \t|  2.2059e-05     \t|680            \t|  0.015          \t|  0.0061373      \t|\n",
      "on_before_accelerator_backend_setup\t|  0.0            \t|1              \t|  0.0            \t|  0.0            \t|\n",
      "on_fit_start                       \t|  0.0            \t|1              \t|  0.0            \t|  0.0            \t|\n",
      "on_train_dataloader                \t|  0.0            \t|1              \t|  0.0            \t|  0.0            \t|\n",
      "on_val_dataloader                  \t|  0.0            \t|1              \t|  0.0            \t|  0.0            \t|\n",
      "on_epoch_start                     \t|  0.0            \t|34             \t|  0.0            \t|  0.0            \t|\n",
      "on_train_batch_start               \t|  0.0            \t|3332           \t|  0.0            \t|  0.0            \t|\n",
      "on_batch_end                       \t|  0.0            \t|3332           \t|  0.0            \t|  0.0            \t|\n",
      "on_train_epoch_end                 \t|  0.0            \t|17             \t|  0.0            \t|  0.0            \t|\n",
      "on_epoch_end                       \t|  0.0            \t|34             \t|  0.0            \t|  0.0            \t|\n",
      "on_validation_epoch_start          \t|  0.0            \t|17             \t|  0.0            \t|  0.0            \t|\n",
      "on_validation_epoch_end            \t|  0.0            \t|17             \t|  0.0            \t|  0.0            \t|\n",
      "on_train_end                       \t|  0.0            \t|1              \t|  0.0            \t|  0.0            \t|\n",
      "\n"
     ]
    }
   ],
   "source": [
    "args_dict = dict(\n",
    "    data_path = './data/cifar10/',\n",
    "    # Dataloader\n",
    "    train_batch_size = 256,\n",
    "    eval_batch_size = 256,\n",
    "    num_workers = 0,\n",
    "    # Optimizer\n",
    "    lr = 0.001,\n",
    "    weight_decay = 1e-5,\n",
    ")\n",
    "# Checkpoint callback for model saving\n",
    "checkpoint_callback = pl.callbacks.ModelCheckpoint(\n",
    "    filename=\"{epoch:02d}-{val_accuracy:.4f}\",\n",
    "    monitor=\"val_accuracy\",\n",
    "    save_top_k=3,\n",
    "    verbose=True,\n",
    "    mode=\"max\",\n",
    ")\n",
    "# Tensor Board Logger\n",
    "tb_logger = pl.loggers.TensorBoardLogger(save_dir=\"./logs\", default_hp_metric=False)\n",
    "# Early Stop Callback\n",
    "earlystop_callback = pl.callbacks.EarlyStopping(\n",
    "    \"val_accuracy\",\n",
    "    min_delta=0.01,\n",
    "    patience=3,\n",
    "    verbose=True,\n",
    "    mode=\"max\"\n",
    ")\n",
    "# Seed all include numpy, torch and torch.cuda\n",
    "pl.seed_everything(884)\n",
    "\n",
    "model = PLNetwork(**args_dict)\n",
    "\n",
    "trainer = pl.Trainer(\n",
    "    callbacks=[checkpoint_callback, earlystop_callback],\n",
    "    max_epochs=20,\n",
    "    deterministic=torch.cuda.is_available(),\n",
    "    gpus = 1 if torch.cuda.is_available() else None,\n",
    "    num_sanity_val_steps=0,\n",
    "    logger=tb_logger,\n",
    "    log_every_n_steps=20,\n",
    "    profiler=\"simple\"\n",
    ")\n",
    "\n",
    "trainer.fit(model)"
   ]
  },
  {
   "cell_type": "markdown",
   "id": "d4131a6c-e174-4dad-8672-a5fb3a3714cf",
   "metadata": {},
   "source": [
    "See TensorBoard after training\n",
    "\n",
    "```\n",
    "$ tensorboard --logdir ./logs/ --port 6006\n",
    "```\n",
    "\n",
    "visit `http://localhost:6006/` in Chrome"
   ]
  }
 ],
 "metadata": {
  "kernelspec": {
   "display_name": "Python 3",
   "language": "python",
   "name": "python3"
  },
  "language_info": {
   "codemirror_mode": {
    "name": "ipython",
    "version": 3
   },
   "file_extension": ".py",
   "mimetype": "text/x-python",
   "name": "python",
   "nbconvert_exporter": "python",
   "pygments_lexer": "ipython3",
   "version": "3.8.10"
  }
 },
 "nbformat": 4,
 "nbformat_minor": 5
}
