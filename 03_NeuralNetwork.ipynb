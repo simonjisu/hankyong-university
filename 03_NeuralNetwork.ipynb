{
 "cells": [
  {
   "cell_type": "markdown",
   "id": "6b9badc6-d38b-41a8-9817-40106f8969cc",
   "metadata": {},
   "source": [
    "# PyTorch & Tensor"
   ]
  },
  {
   "cell_type": "code",
   "execution_count": 1,
   "id": "d6c618c8-59a8-49c4-825e-402df8d051b6",
   "metadata": {},
   "outputs": [
    {
     "name": "stdout",
     "output_type": "stream",
     "text": [
      " torch: 1.8.0 \n",
      " numpy: 1.20.2\n",
      " Use GPU? True\n"
     ]
    }
   ],
   "source": [
    "# loading packages\n",
    "import matplotlib.pyplot as plt\n",
    "import numpy as np\n",
    "import torch\n",
    "print(\" torch: {} \\n numpy: {}\".format(torch.__version__, np.__version__))\n",
    "print(\" Use GPU? {}\".format(torch.cuda.is_available()))"
   ]
  },
  {
   "cell_type": "markdown",
   "id": "ee176ec0-c05a-4322-b6e2-07a4409098e7",
   "metadata": {},
   "source": [
    "# How to create a Tensor?"
   ]
  },
  {
   "cell_type": "code",
   "execution_count": 2,
   "id": "81f12fbd-3f40-467b-8000-476b79803a2f",
   "metadata": {},
   "outputs": [
    {
     "name": "stdout",
     "output_type": "stream",
     "text": [
      "tensor([[1., 2., 3.],\n",
      "        [4., 5., 6.]])\n",
      "tensor([[1., 2., 3.],\n",
      "        [4., 5., 6.]])\n"
     ]
    }
   ],
   "source": [
    "# create from list\n",
    "x_list = [[1, 2, 3], [4, 5, 6]]\n",
    "x = torch.Tensor(x_list)\n",
    "print(x)\n",
    "\n",
    "# create from numpy array(2 by 3)\n",
    "x_numpy = np.array([[1, 2, 3], [4, 5, 6]])\n",
    "x = torch.Tensor(x_numpy)\n",
    "print(x)"
   ]
  },
  {
   "cell_type": "code",
   "execution_count": 3,
   "id": "abc38ace-5029-47a5-a282-0eb41c4dda8f",
   "metadata": {},
   "outputs": [
    {
     "name": "stdout",
     "output_type": "stream",
     "text": [
      "<class 'list'>\n",
      "<class 'numpy.ndarray'>\n"
     ]
    }
   ],
   "source": [
    "# back to list / numpy\n",
    "\n",
    "# .tolist()\n",
    "x_back2list = x.tolist()\n",
    "print(type(x_back2list))\n",
    "\n",
    "# .numpy()\n",
    "x_back2numpy = x.numpy()\n",
    "print(type(x_back2numpy))"
   ]
  },
  {
   "cell_type": "code",
   "execution_count": 4,
   "id": "6e946f93-eb88-41d2-bc4f-ca20febd1c0b",
   "metadata": {},
   "outputs": [
    {
     "name": "stdout",
     "output_type": "stream",
     "text": [
      "Tensor `x` device: cpu\n",
      "after change the device, Tensor `x` device: cuda:0\n",
      "after change the device, Tensor `x` device: cpu\n"
     ]
    }
   ],
   "source": [
    "# device of tensor x\n",
    "print(\"Tensor `x` device:\", x.device)\n",
    "\n",
    "device = 'cuda'\n",
    "# use GPU\n",
    "x = x.to(device)\n",
    "print(\"after change the device, Tensor `x` device:\", x.device)\n",
    "\n",
    "device = 'cpu'\n",
    "# CPU 사용\n",
    "x = x.to(device)\n",
    "print(\"after change the device, Tensor `x` device:\", x.device)"
   ]
  },
  {
   "cell_type": "markdown",
   "id": "1285ce71-1dbb-442c-83b8-dae35cd4fb6f",
   "metadata": {},
   "source": [
    "### create zero or one tensor like `x`\n",
    "\n",
    "* `torch.zeros_like`: create tensor filled with 0 like x with same shape, data type and device \n",
    "* `torch.ones_like`: create tensor filled with 1 just like x with same shape, data type and device "
   ]
  },
  {
   "cell_type": "code",
   "execution_count": 5,
   "id": "6ac46565-0bff-4b2e-bb10-5b2ad4de48ac",
   "metadata": {},
   "outputs": [
    {
     "name": "stdout",
     "output_type": "stream",
     "text": [
      "cpu\n",
      "tensor([[0., 0., 0.],\n",
      "        [0., 0., 0.]])\n"
     ]
    }
   ],
   "source": [
    "x_zeros = torch.zeros_like(x)\n",
    "print(x_zeros.device)\n",
    "print(x_zeros)"
   ]
  },
  {
   "cell_type": "markdown",
   "id": "ff2b913e-85fc-43d1-8364-c3f495c32c6b",
   "metadata": {},
   "source": [
    "## Type of Tensor\n",
    "\n",
    "- `.type()`"
   ]
  },
  {
   "cell_type": "code",
   "execution_count": 6,
   "id": "d088beae-fec1-4d01-9e9c-00a9ae2ff86a",
   "metadata": {},
   "outputs": [
    {
     "name": "stdout",
     "output_type": "stream",
     "text": [
      "tensor type: torch.FloatTensor\n",
      "tensor([[1., 2., 3.],\n",
      "        [4., 5., 6.]])\n",
      "\n",
      "tensor type: torch.LongTensor\n",
      "tensor([[1, 2, 3],\n",
      "        [4, 5, 6]])\n",
      "\n",
      "tensor type: torch.ByteTensor\n",
      "tensor([1, 0, 1, 0], dtype=torch.uint8)\n",
      "\n",
      "tensor type: torch.BoolTensor\n",
      "tensor([ True, False,  True,  True])\n",
      "\n"
     ]
    }
   ],
   "source": [
    "# float type tensor\n",
    "a = torch.FloatTensor(np.array([[1, 2, 3], \n",
    "                                [4, 5, 6]]))\n",
    "\n",
    "# integer type tensor\n",
    "b = torch.LongTensor(np.array([[1, 2, 3], \n",
    "                               [4, 5, 6]]))\n",
    "\n",
    "# 8 bit integer type tensor\n",
    "c = torch.ByteTensor([1, 0, 1, 0])\n",
    "\n",
    "# boolean type tensor\n",
    "d = torch.BoolTensor([True, False, True, True])\n",
    "\n",
    "for tensor in [a, b, c, d]:\n",
    "    print(f\"tensor type: {tensor.type()}\")\n",
    "    print(f\"{tensor}\\n\")"
   ]
  },
  {
   "cell_type": "markdown",
   "id": "2e116f22-02d2-4e68-903d-a9bc98343547",
   "metadata": {},
   "source": [
    "## Tensor Manipulation\n",
    "\n",
    "<img src=\"http://drive.google.com/uc?export=view&id=1iYSUeya5LD4EtDg6Avu8QlvM2ByZbOp-\" width=\"480px\" height=\"480px\" >"
   ]
  },
  {
   "cell_type": "code",
   "execution_count": 10,
   "id": "5df04e53-e3e7-48a3-9052-b06f8be4f672",
   "metadata": {},
   "outputs": [
    {
     "data": {
      "image/png": "[encoded data removed]",
      "text/plain": [
       "<Figure size 360x360 with 2 Axes>"
      ]
     },
     "metadata": {
      "needs_background": "light"
     },
     "output_type": "display_data"
    }
   ],
   "source": [
    "def draw_tensor(tensor, x):\n",
    "    \"\"\"tensor drawing\"\"\"\n",
    "    fig, axes = plt.subplots(len(tensor), 1, figsize=(5, 5))\n",
    "    for k in range(len(tensor)):\n",
    "        axes[k].matshow(tensor.numpy()[k], vmin=0, vmax=1, cmap='summer', alpha=0.5)\n",
    "        for (i, j), z in np.ndenumerate(x.numpy()[k]):\n",
    "            axes[k].text(j, i, '{:d}'.format(z), ha='center', va='center')\n",
    "    plt.tight_layout()\n",
    "    plt.show()\n",
    "    \n",
    "# 예시 텐서\n",
    "torch.manual_seed(777)\n",
    "x = torch.randint(0, 10, size=(2, 3, 4))\n",
    "mask = torch.ones_like(x)\n",
    "draw_tensor(mask, x)"
   ]
  },
  {
   "cell_type": "markdown",
   "id": "963ee6a0-1e02-41a1-9431-c22fa2cfd40d",
   "metadata": {},
   "source": [
    "### view\n",
    "\n",
    "usually use this when changing a tensor to a right size"
   ]
  },
  {
   "cell_type": "code",
   "execution_count": 9,
   "id": "2ed3a930-9dac-46e9-ae7b-13fa070045ca",
   "metadata": {},
   "outputs": [
    {
     "name": "stdout",
     "output_type": "stream",
     "text": [
      "torch.Size([2, 2, 6])\n"
     ]
    },
    {
     "data": {
      "image/png": "[encoded data removed]",
      "text/plain": [
       "<Figure size 360x360 with 2 Axes>"
      ]
     },
     "metadata": {
      "needs_background": "light"
     },
     "output_type": "display_data"
    }
   ],
   "source": [
    "# 크기가 (2, 3, 4) 3차원 텐서를 (2, 2, 6) 으로 변경\n",
    "x_viewed1 = x.view(2, 2, 6)\n",
    "\n",
    "# 텐서 시각화\n",
    "print(x_viewed1.size())\n",
    "mask = torch.ones_like(x_viewed1)\n",
    "draw_tensor(mask, x_viewed1)"
   ]
  },
  {
   "cell_type": "code",
   "execution_count": null,
   "id": "9e209252-4cd0-447b-9203-58c62dc0a592",
   "metadata": {},
   "outputs": [],
   "source": [
    "# 크기가 (2, 3, 4) 3차원 텐서를 (2, 1, 12) 으로 변경\n",
    "x_viewed2 = x.view(-1, 1, 12)\n",
    "\n",
    "# 텐서 시각화\n",
    "print(x_viewed2.size())\n",
    "mask = torch.ones_like(x_viewed2)\n",
    "draw_tensor(mask, x_viewed2)"
   ]
  },
  {
   "cell_type": "markdown",
   "id": "5225081f-290b-4fac-b2af-27e457b29ef9",
   "metadata": {},
   "source": [
    "### permute"
   ]
  },
  {
   "cell_type": "code",
   "execution_count": 11,
   "id": "0d7cdb64-f091-493a-af28-b020d36d1165",
   "metadata": {},
   "outputs": [
    {
     "name": "stdout",
     "output_type": "stream",
     "text": [
      "torch.Size([4, 3, 2])\n"
     ]
    },
    {
     "data": {
      "image/png": "[encoded data removed]",
      "text/plain": [
       "<Figure size 360x360 with 4 Axes>"
      ]
     },
     "metadata": {
      "needs_background": "light"
     },
     "output_type": "display_data"
    }
   ],
   "source": [
    "# (2, 3, 4) 크기 텐서의 차원 크기를 (4, 3, 2)로 바꾼다.\n",
    "x_permuted = x.permute(2, 1, 0)\n",
    "\n",
    "# 텐서 시각화\n",
    "print(x_permuted.size())\n",
    "mask = torch.ones_like(x_permuted)\n",
    "draw_tensor(mask, x_permuted)"
   ]
  },
  {
   "cell_type": "markdown",
   "id": "5082c76d-4096-492c-afcf-a77bfeeca1a3",
   "metadata": {},
   "source": [
    "## squeeze & unsqueeze\n",
    "\n",
    "* squeeze: 텐서의 크기가 1인 차원을 지워버린다. 숫자를 특정하면 해당 차원의 크기가 1일 경우 지우고 아니면 그냥 둔다.\n",
    "* unsqueeze: 해당하는 숫자 차원에 크기 1인 차원을 늘린다. `np.newaxis` 와 비슷한 역할"
   ]
  },
  {
   "cell_type": "code",
   "execution_count": 12,
   "id": "f38bbeee-fa30-4778-a59c-9116379c719c",
   "metadata": {},
   "outputs": [
    {
     "name": "stdout",
     "output_type": "stream",
     "text": [
      "torch.Size([2, 3, 4])\n",
      "torch.Size([2, 3, 4, 1])\n",
      "torch.Size([2, 1, 3, 1, 4, 1])\n"
     ]
    }
   ],
   "source": [
    "# 크기가 (2, 1, 3, 4, 1) 인 5차원 텐서를 생성한다\n",
    "x = torch.rand((2, 1, 3, 4, 1))  \n",
    "\n",
    "# 모든 차원에서 크기가 1인 차원을 squeeze 한다.\n",
    "print(x.squeeze().size())  # 크기확인\n",
    "\n",
    "# 두번째 차원(크기 = 1)을 squeeze 한다.\n",
    "print(x.squeeze(1).size())  # 크기확인\n",
    "\n",
    "# 4번째 차원에 크기를 1 추가, 6차원 텐서가 된다.\n",
    "print(x.unsqueeze(3).size())  # 크기확인"
   ]
  },
  {
   "cell_type": "markdown",
   "id": "f6148f1a-2dcd-4b19-89ee-133fb0591746",
   "metadata": {},
   "source": [
    "### cat & stack\n",
    "\n",
    "두 텐서 혹은 그 이상을 합치는 역할을 담당한다."
   ]
  },
  {
   "cell_type": "code",
   "execution_count": null,
   "id": "de42b23c-59f0-45c6-b1f3-8a69a77329f7",
   "metadata": {},
   "outputs": [],
   "source": [
    "def draw_tensor2(x):\n",
    "    \"\"\"tensor drawing cat&stack\"\"\"\n",
    "    subplot_size = 1 if x.ndimension() <= 2 else x.size(0)\n",
    "    fig, axes = plt.subplots(subplot_size, 1)\n",
    "    if subplot_size == 1: \n",
    "        axes.matshow(x.numpy(), vmin=0, vmax=1, cmap='summer')\n",
    "    else:\n",
    "        for i in range(subplot_size):\n",
    "            axes[i].matshow(x.numpy()[i], vmin=0, vmax=1, cmap='summer')\n",
    "    plt.show()"
   ]
  },
  {
   "cell_type": "code",
   "execution_count": null,
   "id": "17c8e651-26a6-42de-8ca7-827ddb3380bc",
   "metadata": {},
   "outputs": [],
   "source": [
    "torch.manual_seed(777)\n",
    "# 크기가 (2, 3) 인 A, B 텐서를 만든다\n",
    "A = torch.rand((2, 3))\n",
    "B = torch.rand((2, 3))\n",
    "\n",
    "# 첫번째 차원을 기준으로 텐서를 concatenate 한다.\n",
    "AB_cated = torch.cat([A, B], dim=0)\n",
    "print(AB_cated)\n",
    "\n",
    "# 시각화\n",
    "draw_tensor2(AB_cated)"
   ]
  },
  {
   "cell_type": "code",
   "execution_count": null,
   "id": "c66d1ae0-8369-4fd7-be20-8402a31b93bd",
   "metadata": {},
   "outputs": [],
   "source": [
    "# 첫번째 차원을 기준으로 텐서를 stack 한다.\n",
    "AB_stacked = torch.stack([A, B], dim=0)\n",
    "print(\"torch.stack([A, B], dim=0)\\n\")\n",
    "print(AB_stacked)\n",
    "print(\"----\"*10)\n",
    "print(\"torch.cat([A.unsqueeze(0), B.unsqueeze(0)], dim=0)\\n\")\n",
    "# 각 텐서를 첫번째 차원 기준으로 unsqueeze 후, cat 한것과 같은 결과\n",
    "AB_unsqueeze_cat = torch.cat([A.unsqueeze(0), B.unsqueeze(0)], dim=0)\n",
    "print(AB_unsqueeze_cat)\n",
    "\n",
    "# 시각화\n",
    "draw_tensor2(AB_stacked)"
   ]
  },
  {
   "cell_type": "markdown",
   "id": "15e9dd52-3bcb-4713-84ad-0a8feeabf919",
   "metadata": {},
   "source": [
    "---"
   ]
  },
  {
   "cell_type": "markdown",
   "id": "8ea176f4-e8f2-410a-98f0-c23164384d3a",
   "metadata": {},
   "source": [
    "# Perceptron"
   ]
  },
  {
   "cell_type": "code",
   "execution_count": 19,
   "id": "960d61f8-16ed-48f4-bd50-bfcb10aebea1",
   "metadata": {},
   "outputs": [
    {
     "data": {
      "text/plain": [
       "tensor([1, 1], dtype=torch.int32)"
      ]
     },
     "execution_count": 19,
     "metadata": {},
     "output_type": "execute_result"
    }
   ],
   "source": [
    "x.int()"
   ]
  },
  {
   "cell_type": "code",
   "execution_count": 20,
   "id": "f9c6c50b-d791-4046-a126-7fe83c31eaba",
   "metadata": {},
   "outputs": [
    {
     "name": "stdout",
     "output_type": "stream",
     "text": [
      "input : [0, 0]\n",
      " - AND: 0\n",
      " - NAND: 1\n",
      " - OR: 0\n",
      "------------------------------\n",
      "input : [0, 1]\n",
      " - AND: 0\n",
      " - NAND: 1\n",
      " - OR: 1\n",
      "------------------------------\n",
      "input : [1, 0]\n",
      " - AND: 0\n",
      " - NAND: 1\n",
      " - OR: 1\n",
      "------------------------------\n",
      "input : [1, 1]\n",
      " - AND: 1\n",
      " - NAND: 0\n",
      " - OR: 1\n",
      "------------------------------\n"
     ]
    }
   ],
   "source": [
    "def activation(x):\n",
    "    return (x > 0).int()\n",
    "\n",
    "# AND 게이트 함수 정의\n",
    "def AND(x, w, b):\n",
    "    z = torch.dot(x, w) + b\n",
    "    a = activation(z)\n",
    "    return a\n",
    "\n",
    "# NAND 게이트 함수 정의\n",
    "def NAND(x, w, b):\n",
    "    z = torch.dot(x, w) + b\n",
    "    a = activation(z)\n",
    "    return a\n",
    "\n",
    "# AND 게이트 함수 정의\n",
    "def OR(x, w, b):\n",
    "    z = torch.dot(x, w) + b\n",
    "    a = activation(z)\n",
    "    return a\n",
    "\n",
    "# 각 게이트에 알맞는 w, b 가중치 생성\n",
    "w_and = torch.FloatTensor([0.5, 0.5])  \n",
    "b_and = torch.FloatTensor([-0.7])\n",
    "w_nand = torch.FloatTensor([-0.5, -0.5])  \n",
    "b_nand = torch.FloatTensor([0.7])\n",
    "w_or = torch.FloatTensor([0.5, 0.5]) \n",
    "b_or = torch.FloatTensor([-0.2])\n",
    "\n",
    "# 입력 텐서를 만들어 결과 확인\n",
    "X = torch.FloatTensor([[0, 0], [0, 1], [1, 0], [1, 1]])\n",
    "for x in X:\n",
    "    print(f\"input : {x.long().tolist()}\")\n",
    "    print(\" - AND:\", AND(x, w=w_and, b=b_and).item())\n",
    "    print(\" - NAND:\", NAND(x, w=w_nand, b=b_nand).item())\n",
    "    print(\" - OR:\", OR(x, w=w_or, b=b_or).item())\n",
    "    print(\"--\"*15)"
   ]
  },
  {
   "cell_type": "markdown",
   "id": "1bcc413e-9224-4696-a2df-25324824a1a9",
   "metadata": {},
   "source": [
    "## 다른 관점에서 퍼셉트론 이해하기\n",
    "\n",
    "직관적인 그림으로 지금까지 소개한 AND, NAND, OR 게이트들을 이해해보자. 사실 이 모든 게이트들은 평면상에서 하나의 선으로 2종류의 점들을 분류하는 것과 같은 문제다. "
   ]
  },
  {
   "cell_type": "code",
   "execution_count": 21,
   "id": "c42ed245-04f6-4df3-82df-c88d23c45906",
   "metadata": {},
   "outputs": [
    {
     "data": {
      "image/png": "[encoded data removed]",
      "text/plain": [
       "<Figure size 1200x400 with 3 Axes>"
      ]
     },
     "metadata": {
      "needs_background": "light"
     },
     "output_type": "display_data"
    }
   ],
   "source": [
    "def plot_dots(ax, gate_func):\n",
    "    x = [(0, 0), (1, 0), (0, 1), (1, 1)]\n",
    "    if (gate_func.__name__ == \"AND\"):\n",
    "        marker_o = list(zip(*x[3:]))\n",
    "        marker_x = list(zip(*x[:3]))\n",
    "    elif (gate_func.__name__ == \"NAND\"):\n",
    "        marker_o = list(zip(*x[:3]))\n",
    "        marker_x = list(zip(*x[3:]))\n",
    "    elif (gate_func.__name__ == \"OR\"):\n",
    "        marker_o = list(zip(*x[1:]))\n",
    "        marker_x = list(zip(*x[:1]))\n",
    "    elif (gate_func.__name__ == \"XOR\"):\n",
    "        marker_o = list(zip(*x[1:3]))\n",
    "        marker_x = list(zip(*x[::3]))\n",
    "    else:\n",
    "        return \"gate_func error\"\n",
    "    \n",
    "    ax.scatter(marker_o[0], marker_o[1], c='r', marker='o', label='1')\n",
    "    ax.scatter(marker_x[0], marker_x[1], c='b', marker='x', label='0')\n",
    "    ax.legend()\n",
    "    ax.set_xlim([-2, 2])\n",
    "    ax.set_ylim([-2, 2])\n",
    "    ax.set_title(gate_func.__name__)\n",
    "    ax.grid()\n",
    "    ax.set_xlabel(\"$x_1$\", fontsize=12)\n",
    "    ax.set_ylabel(\"$x_2$\", fontsize=12)\n",
    "    \n",
    "fig, axes = plt.subplots(1, 3, figsize=(12, 4), dpi=100)\n",
    "for ax, func in zip(axes, [AND, NAND, OR]):\n",
    "    plot_dots(ax=ax, gate_func=func)\n",
    "plt.tight_layout()\n",
    "plt.show()"
   ]
  },
  {
   "cell_type": "code",
   "execution_count": 22,
   "id": "afe5fbb6-1c0d-4d6b-899b-4dfcfd29741f",
   "metadata": {},
   "outputs": [
    {
     "name": "stderr",
     "output_type": "stream",
     "text": [
      "C:\\Users\\simon\\miniconda3\\envs\\pyenv\\lib\\site-packages\\numpy\\core\\_asarray.py:171: FutureWarning: The input object of type 'Tensor' is an array-like implementing one of the corresponding protocols (`__array__`, `__array_interface__` or `__array_struct__`); but not a sequence (or 0-D). In the future, this object will be coerced as if it was first converted using `np.array(obj)`. To retain the old behaviour, you have to either modify the type 'Tensor', or assign to an empty array created with `np.empty(correct_shape, dtype=object)`.\n",
      "  return array(a, dtype, copy=False, order=order, subok=True)\n",
      "C:\\Users\\simon\\miniconda3\\envs\\pyenv\\lib\\site-packages\\numpy\\core\\_asarray.py:171: VisibleDeprecationWarning: Creating an ndarray from ragged nested sequences (which is a list-or-tuple of lists-or-tuples-or ndarrays with different lengths or shapes) is deprecated. If you meant to do this, you must specify 'dtype=object' when creating the ndarray.\n",
      "  return array(a, dtype, copy=False, order=order, subok=True)\n"
     ]
    },
    {
     "data": {
      "image/png": "[encoded data removed]",
      "text/plain": [
       "<Figure size 1200x400 with 3 Axes>"
      ]
     },
     "metadata": {
      "needs_background": "light"
     },
     "output_type": "display_data"
    }
   ],
   "source": [
    "def plot_line(**kwargs):\n",
    "    \"\"\"x2 = (-w1*x1 - b) / w2\"\"\"\n",
    "    x1 = [-2, 2]\n",
    "    w = kwargs['w']\n",
    "    b = kwargs['b']\n",
    "    get_x2 = lambda x: (-w[0]*x - b) / w[1]\n",
    "    # plot\n",
    "    ax=kwargs['ax']\n",
    "    ax.plot(x1, [get_x2(x1[0]), get_x2(x1[1])], c='g')\n",
    "\n",
    "fig, axes = plt.subplots(1, 3, figsize=(12, 4), dpi=100)\n",
    "for ax, func, (w, b) in zip(axes, [AND, NAND, OR], [(w_and, b_and), (w_nand, b_nand), (w_or, b_or)]):\n",
    "    plot_dots(ax=ax, gate_func=func)\n",
    "    plot_line(ax=ax, w=w, b=b)\n",
    "plt.tight_layout()\n",
    "plt.show()"
   ]
  },
  {
   "cell_type": "markdown",
   "id": "7e223bc6-e9a5-4821-8909-428f91792214",
   "metadata": {},
   "source": [
    "## XOR 문제"
   ]
  },
  {
   "cell_type": "code",
   "execution_count": null,
   "id": "ffc61714-349d-4585-80fd-9349ce218014",
   "metadata": {},
   "outputs": [],
   "source": [
    "def XOR():\n",
    "    \"\"\"empty function\"\"\"\n",
    "    pass\n",
    "\n",
    "fig, ax = plt.subplots(1, 1, figsize=(4, 4), dpi=80)\n",
    "plot_dots(ax=ax, gate_func=XOR)\n",
    "plt.tight_layout()\n",
    "plt.show()"
   ]
  },
  {
   "cell_type": "code",
   "execution_count": null,
   "id": "47b86174-4803-4c73-bb84-3da99900357c",
   "metadata": {},
   "outputs": [],
   "source": [
    "def solution(x, **kwargs):\n",
    "    # 새로운 층\n",
    "    s1 = NAND(x, w=kwargs['w_nand'], b=kwargs['b_nand'])\n",
    "    s2 = OR(x, w=kwargs['w_or'], b=kwargs['b_or'])\n",
    "    # 출력 층: s1 과 s2 를 새로운 입력으로 구성하여 전달\n",
    "    y = AND(torch.Tensor([s1, s2]), w=kwargs['w_and'], b=kwargs['b_and'])\n",
    "    return y\n",
    "\n",
    "# 입력 텐서와 타겟 텐서를 생성\n",
    "input_data = torch.FloatTensor([[0, 0], [1, 0], [0, 1], [1, 1]])\n",
    "target_data = torch.FloatTensor([0, 1, 1, 0])\n",
    "\n",
    "# 이전에 사용한 가중치를 dictionary 타입으로 만든다.\n",
    "kwargs = dict([('w_nand', w_nand), ('b_nand', b_nand), \n",
    "               ('w_or', w_or), ('b_or', b_or), \n",
    "               ('w_and', w_and), ('b_and', b_and)])\n",
    "\n",
    "# 테스트\n",
    "for x, y in zip(input_data, target_data):\n",
    "    pred = solution(x, **kwargs)\n",
    "    print(f\"predict: {pred.item()} | target: {y.byte().item()}\")"
   ]
  },
  {
   "cell_type": "code",
   "execution_count": null,
   "id": "80b1e981-94af-43fd-9061-bf97a577c73b",
   "metadata": {},
   "outputs": [],
   "source": [
    "def draw_solution(x, w, b, ax, func):\n",
    "    s = func(x, w=w, b=b).item()\n",
    "    marker_shape = 'o' if s == 1 else 'x'\n",
    "    marker_color = 'r' if s == 1 else 'b'\n",
    "    ax.scatter(x.numpy()[0], x.numpy()[1], c=marker_color, marker=marker_shape, label='{}: {}'.format(func.__name__, s))\n",
    "    plot_line(ax=ax, w=w, b=b)\n",
    "    ax.legend()\n",
    "    ax.set_xlim([-2, 2])\n",
    "    ax.set_ylim([-2, 2])\n",
    "    ax.grid()\n",
    "    ax.set_title('[{}] input: {} > result: {}'.format(func.__name__, x.long().numpy(), s))\n",
    "    \n",
    "def draw_solution_by_step(x, **kwargs):\n",
    "    NAND = kwargs['f_nand']\n",
    "    OR = kwargs['f_or']\n",
    "    AND = kwargs['f_and']\n",
    "    fig, axes = plt.subplots(1, 3, figsize=(12, 4), dpi=100)\n",
    "    s = torch.FloatTensor([NAND(x, w=kwargs['w_nand'], b=kwargs['b_nand']), \n",
    "                           OR(x, w=kwargs['w_or'], b=kwargs['b_or'])])\n",
    "    draw_solution(x, w=kwargs['w_nand'], b=kwargs['b_nand'], ax=axes[0], func=NAND)\n",
    "    draw_solution(x, w=kwargs['w_or'], b=kwargs['b_or'], ax=axes[1], func=OR)\n",
    "    draw_solution(s, w=kwargs['w_and'], b=kwargs['b_and'], ax=axes[2], func=AND)\n",
    "\n",
    "x = torch.FloatTensor([1, 1])\n",
    "kwargs.setdefault('f_nand', NAND)\n",
    "kwargs.setdefault('f_or', OR)\n",
    "kwargs.setdefault('f_and', AND)\n",
    "draw_solution_by_step(x, **kwargs)"
   ]
  },
  {
   "cell_type": "code",
   "execution_count": null,
   "id": "c23ba409-3b88-4ee6-bcf5-d469197f5f6d",
   "metadata": {},
   "outputs": [],
   "source": [
    "def draw_gate_area():\n",
    "    fig, ax = plt.subplots(1, 1, figsize=(4, 4), dpi=100)\n",
    "    get_x2 = lambda x, w, b: (-w[0]*x - b) / w[1]\n",
    "    w_nand, b_nand = [-0.5, -0.5], 0.7\n",
    "    w_or, b_or = [0.5, 0.5], -0.2\n",
    "    xx = torch.linspace(-2, 2)\n",
    "    y_nand = get_x2(xx, w=w_nand, b=b_nand)\n",
    "    y_or = get_x2(xx, w=w_or, b=b_or)\n",
    "    ax.fill_between(xx.numpy(), y_nand.numpy(), y_or.numpy(), facecolor='g', alpha=0.3)\n",
    "    plot_dots(ax=ax, gate_func=XOR)\n",
    "    plot_line(ax=ax,  w=w_nand, b=b_nand)\n",
    "    plot_line(ax=ax,  w=w_or, b=b_or)\n",
    "    plt.tight_layout()\n",
    "    plt.show()"
   ]
  },
  {
   "cell_type": "code",
   "execution_count": null,
   "id": "e43910e3-6208-4a52-917e-bc3929871bcc",
   "metadata": {},
   "outputs": [],
   "source": [
    "draw_gate_area()"
   ]
  },
  {
   "cell_type": "markdown",
   "id": "81982907-4dff-48ee-b784-0d11f9f38f7e",
   "metadata": {},
   "source": [
    "---"
   ]
  },
  {
   "cell_type": "markdown",
   "id": "f6e7bebd-518d-4e0b-bb3c-c0b562a0b054",
   "metadata": {},
   "source": [
    "# Deep Neural Network\n",
    "\n",
    "## \n",
    "\n",
    "* NN 선언\n",
    "training\n",
    "validation"
   ]
  },
  {
   "cell_type": "code",
   "execution_count": 2,
   "id": "f1dd3562-7a6a-4cf6-bc4f-e476a4d3ebb1",
   "metadata": {},
   "outputs": [],
   "source": [
    "import torch\n",
    "import torch.nn as nn"
   ]
  },
  {
   "cell_type": "code",
   "execution_count": null,
   "id": "1b740b94-c550-4f8d-8fe8-75397d74ada9",
   "metadata": {},
   "outputs": [],
   "source": [
    "torch.manual_seed(70)\n",
    "\n",
    "device = \"cuda\" if torch.cuda.is_available() else \"cpu\"  # gpu 사용 여부\n",
    "n_step = 10000  # 총 학습 스텝\n",
    "\n",
    "# Data 세트 만들기\n",
    "inputs = torch.FloatTensor([[0, 0], [1, 0], [0, 1], [1, 1]])\n",
    "targets = torch.LongTensor([0, 1, 1, 0])\n",
    "\n",
    "# 모델 생성: gpu를 사용하려면 모델에도 device를 전달해준다.\n",
    "model = XOR().to(device)\n",
    "# 손실함수 정의\n",
    "loss_function = nn.CrossEntropyLoss()\n",
    "# 옵티마이저 정의\n",
    "optimizer = optim.SGD(model.parameters(), lr=0.7)\n",
    "\n",
    "# GPU를 사용하려면 입력 텐서에도 device를 전달해준다.\n",
    "inputs, targets = inputs.to(device), targets.to(device)\n",
    "\n",
    "best_loss = 999\n",
    "# n_step 동안 학습을 진행한다.\n",
    "for step in range(n_step):\n",
    "    # -- 훈련단계 --\n",
    "    train_loss = 0\n",
    "    \n",
    "    # 매개변수 텐서의 grad 정보를 0으로 만든다. model.zero_grad() 로도 가능하다.\n",
    "    optimizer.zero_grad()\n",
    "    \n",
    "    # 순방향전파(Forward Propagation)\n",
    "    outputs = model(inputs)\n",
    "    \n",
    "    # Loss 계산\n",
    "    loss = loss_function(outputs, targets)\n",
    "    \n",
    "    # 역방향전파(Back Propagation)\n",
    "    loss.backward()\n",
    "    \n",
    "    # 옵티마이저로 매개변수 업데이트\n",
    "    optimizer.step()\n",
    "    \n",
    "    # 훈련단계 손실값 기록(모든 데이터에 손실값의 평균을 합친다.)\n",
    "    train_loss += loss.item()\n",
    "    if train_loss < best_loss:\n",
    "        best_loss = train_loss\n",
    "        torch.save(model.state_dict(), \"xor.pt\")\n",
    "    if step % 1000 == 0:\n",
    "        print(f\"[{step+1}] Loss: {train_loss:.4f}\")"
   ]
  }
 ],
 "metadata": {
  "kernelspec": {
   "display_name": "Python 3",
   "language": "python",
   "name": "python3"
  },
  "language_info": {
   "codemirror_mode": {
    "name": "ipython",
    "version": 3
   },
   "file_extension": ".py",
   "mimetype": "text/x-python",
   "name": "python",
   "nbconvert_exporter": "python",
   "pygments_lexer": "ipython3",
   "version": "3.8.10"
  }
 },
 "nbformat": 4,
 "nbformat_minor": 5
}
