{
 "cells": [
  {
   "cell_type": "markdown",
   "id": "d1b397c7",
   "metadata": {},
   "source": [
    "# PyTorch & Tensor"
   ]
  },
  {
   "cell_type": "code",
   "execution_count": 1,
   "id": "37620317",
   "metadata": {},
   "outputs": [
    {
     "name": "stdout",
     "output_type": "stream",
     "text": [
      " torch: 1.8.1 \n",
      " numpy: 1.19.2\n",
      " Use GPU? True\n"
     ]
    }
   ],
   "source": [
    "# loading packages\n",
    "import matplotlib.pyplot as plt\n",
    "import numpy as np\n",
    "import torch\n",
    "print(\" torch: {} \\n numpy: {}\".format(torch.__version__, np.__version__))\n",
    "print(\" Use GPU? {}\".format(torch.cuda.is_available()))"
   ]
  },
  {
   "cell_type": "markdown",
   "id": "a17c9714",
   "metadata": {},
   "source": [
    "# How to create a Tensor?"
   ]
  },
  {
   "cell_type": "code",
   "execution_count": 2,
   "id": "20ecd90e",
   "metadata": {},
   "outputs": [
    {
     "name": "stdout",
     "output_type": "stream",
     "text": [
      "tensor([[1., 2., 3.],\n",
      "        [4., 5., 6.]])\n",
      "tensor([[1., 2., 3.],\n",
      "        [4., 5., 6.]])\n"
     ]
    }
   ],
   "source": [
    "# create from list\n",
    "x_list = [[1, 2, 3], [4, 5, 6]]\n",
    "x = torch.Tensor(x_list)\n",
    "print(x)\n",
    "\n",
    "# create from numpy array(2 by 3)\n",
    "x_numpy = np.array([[1, 2, 3], [4, 5, 6]])\n",
    "x = torch.Tensor(x_numpy)\n",
    "print(x)"
   ]
  },
  {
   "cell_type": "code",
   "execution_count": 3,
   "id": "5a767380",
   "metadata": {},
   "outputs": [
    {
     "name": "stdout",
     "output_type": "stream",
     "text": [
      "<class 'list'>\n",
      "<class 'numpy.ndarray'>\n"
     ]
    }
   ],
   "source": [
    "# back to list / numpy\n",
    "\n",
    "# .tolist()\n",
    "x_back2list = x.tolist()\n",
    "print(type(x_back2list))\n",
    "\n",
    "# .numpy()\n",
    "x_back2numpy = x.numpy()\n",
    "print(type(x_back2numpy))"
   ]
  },
  {
   "cell_type": "code",
   "execution_count": 4,
   "id": "b98e17bc",
   "metadata": {},
   "outputs": [
    {
     "name": "stdout",
     "output_type": "stream",
     "text": [
      "Tensor `x` device: cpu\n",
      "after change the device, Tensor `x` device: cuda:0\n",
      "after change the device, Tensor `x` device: cpu\n"
     ]
    }
   ],
   "source": [
    "# device of tensor x\n",
    "print(\"Tensor `x` device:\", x.device)\n",
    "\n",
    "device = 'cuda'\n",
    "# use GPU\n",
    "x = x.to(device)\n",
    "print(\"after change the device, Tensor `x` device:\", x.device)\n",
    "\n",
    "device = 'cpu'\n",
    "# CPU 사용\n",
    "x = x.to(device)\n",
    "print(\"after change the device, Tensor `x` device:\", x.device)"
   ]
  },
  {
   "cell_type": "markdown",
   "id": "1133509a",
   "metadata": {},
   "source": [
    "### create zero or one tensor like `x`\n",
    "\n",
    "* `torch.zeros_like`: create tensor filled with 0 like x with same shape, data type and device \n",
    "* `torch.ones_like`: create tensor filled with 1 just like x with same shape, data type and device "
   ]
  },
  {
   "cell_type": "code",
   "execution_count": 5,
   "id": "baa5d235",
   "metadata": {},
   "outputs": [
    {
     "name": "stdout",
     "output_type": "stream",
     "text": [
      "cpu\n",
      "tensor([[0., 0., 0.],\n",
      "        [0., 0., 0.]])\n"
     ]
    }
   ],
   "source": [
    "x_zeros = torch.zeros_like(x)\n",
    "print(x_zeros.device)\n",
    "print(x_zeros)"
   ]
  },
  {
   "cell_type": "markdown",
   "id": "45ae5e84",
   "metadata": {},
   "source": [
    "## Type of Tensor\n",
    "\n",
    "- `.type()`: can use it to get the type of tensor"
   ]
  },
  {
   "cell_type": "code",
   "execution_count": 6,
   "id": "cba456e6",
   "metadata": {},
   "outputs": [
    {
     "name": "stdout",
     "output_type": "stream",
     "text": [
      "tensor type: torch.FloatTensor\n",
      "tensor([[1., 2., 3.],\n",
      "        [4., 5., 6.]])\n",
      "\n",
      "tensor type: torch.LongTensor\n",
      "tensor([[1, 2, 3],\n",
      "        [4, 5, 6]])\n",
      "\n",
      "tensor type: torch.ByteTensor\n",
      "tensor([1, 0, 1, 0], dtype=torch.uint8)\n",
      "\n",
      "tensor type: torch.BoolTensor\n",
      "tensor([ True, False,  True,  True])\n",
      "\n"
     ]
    }
   ],
   "source": [
    "# float type tensor\n",
    "a = torch.FloatTensor(np.array([[1, 2, 3], \n",
    "                                [4, 5, 6]]))\n",
    "\n",
    "# integer type tensor\n",
    "b = torch.LongTensor(np.array([[1, 2, 3], \n",
    "                               [4, 5, 6]]))\n",
    "\n",
    "# 8 bit integer type tensor\n",
    "c = torch.ByteTensor([1, 0, 1, 0])\n",
    "\n",
    "# boolean type tensor\n",
    "d = torch.BoolTensor([True, False, True, True])\n",
    "\n",
    "for tensor in [a, b, c, d]:\n",
    "    print(f\"tensor type: {tensor.type()}\")\n",
    "    print(f\"{tensor}\\n\")"
   ]
  },
  {
   "cell_type": "markdown",
   "id": "eddef4aa",
   "metadata": {},
   "source": [
    "## Tensor Manipulation\n",
    "\n",
    "<img src=\"http://drive.google.com/uc?export=view&id=1iYSUeya5LD4EtDg6Avu8QlvM2ByZbOp-\" width=\"480px\" height=\"480px\" >"
   ]
  },
  {
   "cell_type": "code",
   "execution_count": 7,
   "id": "fefe2898",
   "metadata": {},
   "outputs": [
    {
     "data": {
      "image/png": "[encoded data removed]",
      "text/plain": [
       "<Figure size 360x360 with 2 Axes>"
      ]
     },
     "metadata": {
      "needs_background": "light"
     },
     "output_type": "display_data"
    }
   ],
   "source": [
    "def draw_tensor(tensor, x):\n",
    "    \"\"\"tensor drawing\"\"\"\n",
    "    fig, axes = plt.subplots(len(tensor), 1, figsize=(5, 5))\n",
    "    for k in range(len(tensor)):\n",
    "        axes[k].matshow(tensor.numpy()[k], vmin=0, vmax=1, cmap='summer', alpha=0.5)\n",
    "        for (i, j), z in np.ndenumerate(x.numpy()[k]):\n",
    "            axes[k].text(j, i, '{:d}'.format(z), ha='center', va='center')\n",
    "    plt.tight_layout()\n",
    "    plt.show()\n",
    "    \n",
    "# create a example tensor\n",
    "torch.manual_seed(777)  # fix random seed\n",
    "x = torch.randint(0, 10, size=(2, 3, 4))\n",
    "mask = torch.ones_like(x)\n",
    "draw_tensor(mask, x)"
   ]
  },
  {
   "cell_type": "markdown",
   "id": "52fa268c",
   "metadata": {},
   "source": [
    "### view\n",
    "\n",
    "usually use `view` method when you need to change into a feedable form for input"
   ]
  },
  {
   "cell_type": "code",
   "execution_count": 8,
   "id": "7275d9a2",
   "metadata": {},
   "outputs": [
    {
     "name": "stdout",
     "output_type": "stream",
     "text": [
      "torch.Size([2, 2, 6])\n"
     ]
    },
    {
     "data": {
      "image/png": "[encoded data removed]",
      "text/plain": [
       "<Figure size 360x360 with 2 Axes>"
      ]
     },
     "metadata": {
      "needs_background": "light"
     },
     "output_type": "display_data"
    }
   ],
   "source": [
    "# tensor size (2, 3, 4) --> (2, 2, 6)\n",
    "x_viewed1 = x.view(2, 2, 6)\n",
    "\n",
    "# visualize tensor\n",
    "print(x_viewed1.size())\n",
    "mask = torch.ones_like(x_viewed1)\n",
    "draw_tensor(mask, x_viewed1)"
   ]
  },
  {
   "cell_type": "code",
   "execution_count": 9,
   "id": "69fcaa3b",
   "metadata": {},
   "outputs": [
    {
     "name": "stdout",
     "output_type": "stream",
     "text": [
      "torch.Size([2, 1, 12])\n"
     ]
    },
    {
     "data": {
      "image/png": "[encoded data removed]",
      "text/plain": [
       "<Figure size 360x360 with 2 Axes>"
      ]
     },
     "metadata": {
      "needs_background": "light"
     },
     "output_type": "display_data"
    }
   ],
   "source": [
    "# tensor size (2, 3, 4) --> (2, 1, 12)\n",
    "x_viewed2 = x.view(-1, 1, 12)\n",
    "\n",
    "# visualize tensor\n",
    "print(x_viewed2.size())\n",
    "mask = torch.ones_like(x_viewed2)\n",
    "draw_tensor(mask, x_viewed2)"
   ]
  },
  {
   "cell_type": "markdown",
   "id": "a4510cd2",
   "metadata": {},
   "source": [
    "### permute"
   ]
  },
  {
   "cell_type": "code",
   "execution_count": 10,
   "id": "c39cac34",
   "metadata": {},
   "outputs": [
    {
     "name": "stdout",
     "output_type": "stream",
     "text": [
      "torch.Size([4, 3, 2])\n"
     ]
    },
    {
     "data": {
      "image/png": "[encoded data removed]",
      "text/plain": [
       "<Figure size 360x360 with 4 Axes>"
      ]
     },
     "metadata": {
      "needs_background": "light"
     },
     "output_type": "display_data"
    }
   ],
   "source": [
    "# tensor size (2, 3, 4) --> (4, 3, 2)\n",
    "x_permuted = x.permute(2, 1, 0)\n",
    "\n",
    "# visualize tensor\n",
    "print(x_permuted.size())\n",
    "mask = torch.ones_like(x_permuted)\n",
    "draw_tensor(mask, x_permuted)"
   ]
  },
  {
   "cell_type": "markdown",
   "id": "f317e331",
   "metadata": {},
   "source": [
    "## squeeze & unsqueeze\n",
    "\n",
    "* squeeze: remove which dimension size = 1\n",
    "* unsqueeze: add new dimension"
   ]
  },
  {
   "cell_type": "code",
   "execution_count": 11,
   "id": "4ac928a9",
   "metadata": {},
   "outputs": [
    {
     "name": "stdout",
     "output_type": "stream",
     "text": [
      "torch.Size([2, 3, 4])\n",
      "torch.Size([2, 3, 4, 1])\n",
      "torch.Size([2, 1, 3, 1, 4, 1])\n"
     ]
    }
   ],
   "source": [
    "# create a tensor with size of (2, 1, 3, 4, 1)\n",
    "x = torch.rand((2, 1, 3, 4, 1))  \n",
    "\n",
    "# squeeze all channels which dimension equals 1\n",
    "print(x.squeeze().size())  # check the size\n",
    "\n",
    "# squeeze second channel which dimension equals 1\n",
    "print(x.squeeze(1).size())  # check the size\n",
    "\n",
    "# unsqueeze at 4-th dimension, number of dimension turns to 6\n",
    "print(x.unsqueeze(3).size())  # check the size"
   ]
  },
  {
   "cell_type": "markdown",
   "id": "b1fee632",
   "metadata": {},
   "source": [
    "### cat & stack"
   ]
  },
  {
   "cell_type": "code",
   "execution_count": 12,
   "id": "19c26d99",
   "metadata": {},
   "outputs": [],
   "source": [
    "def draw_tensor2(x):\n",
    "    \"\"\"tensor drawing cat&stack\"\"\"\n",
    "    subplot_size = 1 if x.ndimension() <= 2 else x.size(0)\n",
    "    fig, axes = plt.subplots(subplot_size, 1)\n",
    "    if subplot_size == 1: \n",
    "        axes.matshow(x.numpy(), vmin=0, vmax=1, cmap='summer')\n",
    "    else:\n",
    "        for i in range(subplot_size):\n",
    "            axes[i].matshow(x.numpy()[i], vmin=0, vmax=1, cmap='summer')\n",
    "    plt.show()"
   ]
  },
  {
   "cell_type": "code",
   "execution_count": 13,
   "id": "d52aa2aa",
   "metadata": {},
   "outputs": [
    {
     "name": "stdout",
     "output_type": "stream",
     "text": [
      "tensor([[0.0819, 0.4911, 0.4033],\n",
      "        [0.3859, 0.8813, 0.8811],\n",
      "        [0.7242, 0.5033, 0.8249],\n",
      "        [0.2634, 0.3112, 0.5948]])\n"
     ]
    },
    {
     "data": {
      "image/png": "[encoded data removed]",
      "text/plain": [
       "<Figure size 432x288 with 1 Axes>"
      ]
     },
     "metadata": {
      "needs_background": "light"
     },
     "output_type": "display_data"
    }
   ],
   "source": [
    "torch.manual_seed(777)\n",
    "# create a tensor that has size of (2, 3)\n",
    "A = torch.rand((2, 3))\n",
    "B = torch.rand((2, 3))\n",
    "\n",
    "# concatenate two tensors by first dimension\n",
    "AB_cated = torch.cat([A, B], dim=0)\n",
    "print(AB_cated)\n",
    "\n",
    "# visualize tensor\n",
    "draw_tensor2(AB_cated)"
   ]
  },
  {
   "cell_type": "code",
   "execution_count": 14,
   "id": "6b644bfe",
   "metadata": {},
   "outputs": [
    {
     "name": "stdout",
     "output_type": "stream",
     "text": [
      "torch.stack([A, B], dim=0)\n",
      "\n",
      "tensor([[[0.0819, 0.4911, 0.4033],\n",
      "         [0.3859, 0.8813, 0.8811]],\n",
      "\n",
      "        [[0.7242, 0.5033, 0.8249],\n",
      "         [0.2634, 0.3112, 0.5948]]])\n",
      "----------------------------------------\n",
      "torch.cat([A.unsqueeze(0), B.unsqueeze(0)], dim=0)\n",
      "\n",
      "tensor([[[0.0819, 0.4911, 0.4033],\n",
      "         [0.3859, 0.8813, 0.8811]],\n",
      "\n",
      "        [[0.7242, 0.5033, 0.8249],\n",
      "         [0.2634, 0.3112, 0.5948]]])\n"
     ]
    },
    {
     "data": {
      "image/png": "[encoded data removed]",
      "text/plain": [
       "<Figure size 432x288 with 2 Axes>"
      ]
     },
     "metadata": {
      "needs_background": "light"
     },
     "output_type": "display_data"
    }
   ],
   "source": [
    "# stack two tensors by first dimension\n",
    "AB_stacked = torch.stack([A, B], dim=0)\n",
    "print(\"torch.stack([A, B], dim=0)\\n\")\n",
    "print(AB_stacked)\n",
    "print(\"----\"*10)\n",
    "print(\"torch.cat([A.unsqueeze(0), B.unsqueeze(0)], dim=0)\\n\")\n",
    "# It is same as unsqueeze all tensors with first dimension and then concatnate by first dimension\n",
    "AB_unsqueeze_cat = torch.cat([A.unsqueeze(0), B.unsqueeze(0)], dim=0)\n",
    "print(AB_unsqueeze_cat)\n",
    "\n",
    "# visualize tensor\n",
    "draw_tensor2(AB_stacked)"
   ]
  },
  {
   "cell_type": "markdown",
   "id": "ad455c88",
   "metadata": {},
   "source": [
    "## Operations\n",
    "\n",
    "### add / sub\n",
    "\n",
    "$$\\begin{aligned}\n",
    "x = \\begin{bmatrix}1 \\\\ 2 \\\\ 3 \\end{bmatrix}\\quad y = \\begin{bmatrix}4 \\\\ 5 \\\\ 6 \\end{bmatrix}\n",
    "\\end{aligned}$$\n",
    "\n",
    "operation between vector and scalar: 'broadcasting' will be applied\n",
    "\n",
    "$$\\begin{aligned}\n",
    "x + 2 &= \\begin{bmatrix}1 \\\\ 2 \\\\ 3 \\end{bmatrix} + 2 = \\begin{bmatrix}1 \\\\ 2 \\\\ 3 \\end{bmatrix} + 2*\\begin{bmatrix}1 \\\\ 1 \\\\ 1 \\end{bmatrix} \\\\\n",
    "&= \\begin{bmatrix}1+2 \\\\ 2+2 \\\\ 3+2 \\end{bmatrix} = \\begin{bmatrix}3 \\\\ 4 \\\\ 5 \\end{bmatrix}\n",
    "\\end{aligned}$$\n",
    "\n",
    "operation between vector and vector\n",
    "\n",
    "$$\\begin{aligned}\n",
    "x + y &= \\begin{bmatrix}1 \\\\ 2 \\\\ 3 \\end{bmatrix} + \\begin{bmatrix}4 \\\\ 5 \\\\ 6 \\end{bmatrix} = \\begin{bmatrix}1+4 \\\\ 2+5 \\\\ 3+6 \\end{bmatrix} = \\begin{bmatrix}5 \\\\ 7\\\\ 9 \\end{bmatrix}\n",
    "\\end{aligned}$$"
   ]
  },
  {
   "cell_type": "code",
   "execution_count": 15,
   "id": "5fcf8665",
   "metadata": {},
   "outputs": [
    {
     "name": "stdout",
     "output_type": "stream",
     "text": [
      "tensor([5., 7., 9.])\n",
      "tensor([-3., -3., -3.])\n",
      "tensor([3., 4., 5.])\n",
      "tensor([-1.,  0.,  1.])\n"
     ]
    }
   ],
   "source": [
    "# create two tensors\n",
    "x = torch.Tensor([1, 2, 3])\n",
    "y = torch.Tensor([4, 5, 6])\n",
    "\n",
    "# addition\n",
    "print(torch.add(x, y))\n",
    "\n",
    "# subtraction\n",
    "print(torch.sub(x, y))\n",
    "\n",
    "# vector + scalar\n",
    "print(x+2)\n",
    "\n",
    "# vector - scalar\n",
    "print(x-2)"
   ]
  },
  {
   "cell_type": "markdown",
   "id": "894279f0",
   "metadata": {},
   "source": [
    "### multiplication\n",
    "\n",
    "element-wise product : $*$, $\\odot$\n",
    "\n",
    "$$\\begin{aligned}\n",
    "x * y &= \\begin{bmatrix}1 \\\\ 2 \\\\ 3 \\end{bmatrix} * \\begin{bmatrix}4 \\\\ 5 \\\\ 6 \\end{bmatrix} = \\begin{bmatrix}1*4 \\\\ 2*5 \\\\ 3*6 \\end{bmatrix} = \\begin{bmatrix}4 \\\\ 10 \\\\ 18 \\end{bmatrix}\n",
    "\\end{aligned}$$"
   ]
  },
  {
   "cell_type": "code",
   "execution_count": 16,
   "id": "61470454",
   "metadata": {},
   "outputs": [
    {
     "name": "stdout",
     "output_type": "stream",
     "text": [
      "tensor([ 4., 10., 18.])\n",
      "tensor([ 4., 10., 18.])\n",
      "tensor([0.2500, 0.4000, 0.5000])\n",
      "tensor([0.2500, 0.4000, 0.5000])\n"
     ]
    }
   ],
   "source": [
    "# multiplication\n",
    "print(x * y)\n",
    "print(torch.mul(x, y))\n",
    "\n",
    "# division\n",
    "print(x / y)\n",
    "print(torch.div(x, y))"
   ]
  },
  {
   "cell_type": "markdown",
   "id": "29c74675",
   "metadata": {},
   "source": [
    "inner product or dot product): $\\cdot$\n",
    "\n",
    "$$\\begin{aligned}\n",
    "x\\cdot y = x^T y = \\sum_i^N x_i * y_i &= \\begin{bmatrix}1 \\\\ 2 \\\\ 3 \\end{bmatrix}^T \\cdot \\begin{bmatrix}4 \\\\ 5 \\\\ 6 \\end{bmatrix} = \\begin{bmatrix}1 & 2 & 3 \\end{bmatrix}\\begin{bmatrix}4 \\\\ 5 \\\\ 6 \\end{bmatrix} \\\\\n",
    "&= 1 \\times 4 + 2 \\times 5 + 3 \\times 6 = 4+10+18 = 32\n",
    "\\end{aligned}$$"
   ]
  },
  {
   "cell_type": "code",
   "execution_count": 17,
   "id": "8397f7f9",
   "metadata": {},
   "outputs": [
    {
     "name": "stdout",
     "output_type": "stream",
     "text": [
      "inner product: \n",
      "tensor(32.)\n",
      "tensor(32.)\n"
     ]
    }
   ],
   "source": [
    "print(\"inner product: \")\n",
    "print(torch.dot(x, y))\n",
    "print(x.dot(y))"
   ]
  },
  {
   "cell_type": "markdown",
   "id": "a93f6ed1",
   "metadata": {},
   "source": [
    "matrix product\n",
    "\n",
    "$$\\begin{aligned}\n",
    "X &= \\begin{bmatrix}x_{11} & x_{12} \\\\ x_{21} & x_{22} \\\\ x_{31} & x_{32} \\end{bmatrix} = \\begin{bmatrix}1 & 4 \\\\ 2 & 5 \\\\ 3 & 6 \\end{bmatrix} \n",
    "\\\\ \n",
    "Y &= \\begin{bmatrix}y_{11} & y_{12} \\\\ y_{21} & y_{22}\\end{bmatrix} = \\begin{bmatrix}7 & 9 \\\\ 8 & 10 \\end{bmatrix}\n",
    "\\end{aligned}$$\n",
    "\n",
    "Size of X: (3, 2), Size of Y: (2, 2) \n",
    "\n",
    "$$\\begin{aligned}\n",
    "X\\cdot Y \n",
    "&= \\begin{bmatrix}1 & 4 \\\\ 2 & 5 \\\\ 3 & 6 \\end{bmatrix} \\begin{bmatrix}7 & 9 \\\\ 8 & 10 \\end{bmatrix} \\\\\n",
    "&= \\begin{bmatrix}\n",
    "x_{1:}\\cdot y_{:1} & \\ x_{1:}\\cdot y_{:2} \\\\\n",
    "x_{2:}\\cdot y_{:1} & \\ x_{2:}\\cdot y_{:2} \\\\\n",
    "x_{3:}\\cdot y_{:1} & \\ x_{3:}\\cdot y_{:2}\n",
    "\\end{bmatrix}\n",
    "= \\begin{bmatrix}\n",
    "1\\times 7 + 4 \\times 8 & 1 \\times 9 + 4 \\times 10 \\\\\n",
    "2\\times 7 + 5 \\times 8 & 2 \\times 9 + 5 \\times 10 \\\\\n",
    "3\\times 7 + 6 \\times 8 & 3 \\times 9 + 6 \\times 10\n",
    "\\end{bmatrix}\n",
    "\\end{aligned}$$"
   ]
  },
  {
   "cell_type": "code",
   "execution_count": 19,
   "id": "2856c7ec",
   "metadata": {},
   "outputs": [
    {
     "name": "stdout",
     "output_type": "stream",
     "text": [
      "tensor([[39., 49.],\n",
      "        [54., 68.],\n",
      "        [69., 87.]])\n",
      "\n",
      "tensor([[39., 49.],\n",
      "        [54., 68.],\n",
      "        [69., 87.]])\n"
     ]
    }
   ],
   "source": [
    "# create X: size=(3, 2), Y: size=(2, 2)\n",
    "X = torch.Tensor([[1, 4], \n",
    "                  [2, 5], \n",
    "                  [3, 6]])\n",
    "\n",
    "Y = torch.Tensor([[7, 9], \n",
    "                  [8, 10]])\n",
    "\n",
    "# matrix multiplication\n",
    "print(torch.mm(X, Y))\n",
    "print()\n",
    "print(X.mm(Y))"
   ]
  },
  {
   "cell_type": "markdown",
   "id": "feb9253b",
   "metadata": {},
   "source": [
    "### sum / mean\n",
    "\n",
    "$$Z = \\begin{aligned}\n",
    "\\begin{bmatrix}1 & 2 \\\\ 3 & 4 \\end{bmatrix}\\\\\n",
    "\\begin{bmatrix}5 & 6 \\\\ 7 & 8 \\end{bmatrix}\n",
    "\\end{aligned}$$"
   ]
  },
  {
   "cell_type": "code",
   "execution_count": 29,
   "id": "5f57e8c5",
   "metadata": {},
   "outputs": [
    {
     "name": "stdout",
     "output_type": "stream",
     "text": [
      "sum: 36.0\n",
      "mean: 4.5\n"
     ]
    }
   ],
   "source": [
    "# create Z tensor with size of (2, 2, 2)\n",
    "Z = torch.Tensor([[[1, 2], \n",
    "                   [3, 4]],\n",
    "                  \n",
    "                  [[5, 6], \n",
    "                   [7, 8]]])\n",
    "\n",
    "# calculate summuation/average from all elements\n",
    "Z_sum = torch.sum(Z)\n",
    "Z_mean = torch.mean(Z)\n",
    "\n",
    "print(f\"sum: {Z_sum}\")\n",
    "print(f\"mean: {Z_mean}\")"
   ]
  },
  {
   "cell_type": "markdown",
   "id": "f0262431",
   "metadata": {},
   "source": [
    "if `dim` argument is given, will calculate through that dimension\n",
    "\n",
    "$$\\begin{aligned} \n",
    "sum(Z, dim=0) &= \\begin{bmatrix}1+5 & 2+6 \\\\ 3+7 & 4+8 \\end{bmatrix}= \\begin{bmatrix}6 & 8 \\\\ 10 & 12 \\end{bmatrix} \\\\\n",
    "sum(Z, dim=1) &= \\begin{bmatrix}1+3 & 2+4 \\\\ 5+7 & 6+8 \\end{bmatrix}= \\begin{bmatrix}4 & 6 \\\\ 12 & 14 \\end{bmatrix} \\\\\n",
    "sum(Z, dim=2) &= \\begin{bmatrix}1+2 & 3+4 \\\\ 5+6 & 7+8 \\end{bmatrix}= \\begin{bmatrix}3 & 7 \\\\ 11 & 15 \\end{bmatrix} \\\\\n",
    "\\end{aligned}$$"
   ]
  },
  {
   "cell_type": "code",
   "execution_count": 27,
   "id": "87e9af96",
   "metadata": {},
   "outputs": [
    {
     "name": "stdout",
     "output_type": "stream",
     "text": [
      "tensor([[ 7.,  9.],\n",
      "        [ 8., 12.]])\n",
      "\n",
      "tensor([[3.5000, 4.5000],\n",
      "        [4.0000, 6.0000]])\n"
     ]
    }
   ],
   "source": [
    "print(torch.sum(Z, dim=0))\n",
    "print()\n",
    "print(torch.mean(Z, dim=0))"
   ]
  },
  {
   "cell_type": "markdown",
   "id": "80e09f87",
   "metadata": {},
   "source": [
    "### max & argmax / min & argmin "
   ]
  },
  {
   "cell_type": "code",
   "execution_count": 28,
   "id": "6d803fc4",
   "metadata": {},
   "outputs": [
    {
     "name": "stdout",
     "output_type": "stream",
     "text": [
      "Z max: tensor(8.)\n",
      "Z argmax: tensor(7)\n",
      "Z min: tensor(1.)\n",
      "Z argmin: tensor(2)\n"
     ]
    }
   ],
   "source": [
    "# find the maximum and arguments of the maxima from all elements\n",
    "print(\"Z max:\", torch.max(Z))\n",
    "print(\"Z argmax:\", torch.argmax(Z))\n",
    "\n",
    "# find the minimum and arguments of the minima from all elements\n",
    "print(\"Z min:\", torch.min(Z))\n",
    "print(\"Z argmin:\", torch.argmin(Z))"
   ]
  },
  {
   "cell_type": "markdown",
   "id": "d73cc38f",
   "metadata": {},
   "source": [
    "if dim argument is given, will calculate through that dimension and return the tuple of (max, argmax) or (min, argmin)\n",
    "\n",
    "\n",
    "$$max(Z, dim=1)=\n",
    "\\begin{aligned}\n",
    "\\begin{bmatrix} \n",
    "max\\begin{pmatrix} 1\\\\ 3 \\end{pmatrix} & max\\begin{pmatrix} 2\\\\ 4 \\end{pmatrix} \\end{bmatrix} \\\\\n",
    "\\begin{bmatrix}\n",
    "max\\begin{pmatrix} 5\\\\ 7 \\end{pmatrix} & max\\begin{pmatrix} 6\\\\ 8 \\end{pmatrix}\n",
    "\\end{bmatrix} \n",
    "\\end{aligned}\n",
    "= \\begin{bmatrix} 3 & 4 \\\\ 7 & 8 \\end{bmatrix}\n",
    "$$"
   ]
  },
  {
   "cell_type": "code",
   "execution_count": 30,
   "id": "62183b56",
   "metadata": {},
   "outputs": [
    {
     "name": "stdout",
     "output_type": "stream",
     "text": [
      "Z max:\n",
      " tensor([[3., 4.],\n",
      "        [7., 8.]])\n",
      "Z argmax:\n",
      " tensor([[1, 1],\n",
      "        [1, 1]])\n",
      "\n",
      "Z min:\n",
      " tensor([[1., 2.],\n",
      "        [5., 6.]])\n",
      "Z argmin:\n",
      " tensor([[0, 0],\n",
      "        [0, 0]])\n"
     ]
    }
   ],
   "source": [
    "Z_max, Z_argmax = torch.max(Z, dim=1)\n",
    "Z_min, Z_argmin = torch.min(Z, dim=1)\n",
    "print(\"Z max:\\n\", Z_max)\n",
    "print(\"Z argmax:\\n\", Z_argmax)\n",
    "print()\n",
    "print(\"Z min:\\n\", Z_min)\n",
    "print(\"Z argmin:\\n\", Z_argmin)"
   ]
  },
  {
   "cell_type": "markdown",
   "id": "fe6bc002",
   "metadata": {},
   "source": [
    "### logical operation\n",
    "\n",
    "will return boolean tensors"
   ]
  },
  {
   "cell_type": "code",
   "execution_count": 31,
   "id": "a568c9af",
   "metadata": {},
   "outputs": [
    {
     "name": "stdout",
     "output_type": "stream",
     "text": [
      "equal to 0\n",
      "tensor([False, False,  True])\n",
      "tensor([False, False,  True])\n",
      "\n",
      "great than or equal to 0\n",
      "tensor([False,  True,  True])\n",
      "tensor([False,  True,  True])\n",
      "\n",
      "great than 0\n",
      "tensor([False,  True, False])\n",
      "tensor([False,  True, False])\n",
      "\n",
      "less than or equal to 0\n",
      "tensor([ True, False,  True])\n",
      "tensor([ True, False,  True])\n",
      "\n",
      "less than 0\n",
      "tensor([ True, False, False])\n",
      "tensor([ True, False, False])\n"
     ]
    }
   ],
   "source": [
    "z = torch.Tensor([-3, 2, 0])\n",
    "\n",
    "print(\"equal to 0\")\n",
    "print(z.eq(0))\n",
    "print(z == 0)\n",
    "print()\n",
    "\n",
    "print(\"great than or equal to 0\")\n",
    "print(z.ge(0))\n",
    "print(z >= 0)\n",
    "print()\n",
    "\n",
    "print(\"great than 0\")\n",
    "print(z.gt(0))\n",
    "print(z > 0)\n",
    "print()\n",
    "\n",
    "print(\"less than or equal to 0\")\n",
    "print(z.le(0))\n",
    "print(z <= 0)\n",
    "print()\n",
    "\n",
    "print(\"less than 0\")\n",
    "print(z.lt(0))\n",
    "print(z < 0)"
   ]
  },
  {
   "cell_type": "markdown",
   "id": "5f9d5c84",
   "metadata": {},
   "source": [
    "---"
   ]
  },
  {
   "cell_type": "markdown",
   "id": "648c0b25",
   "metadata": {},
   "source": [
    "# Perceptron"
   ]
  },
  {
   "cell_type": "code",
   "execution_count": 32,
   "id": "b1eb46c3",
   "metadata": {},
   "outputs": [
    {
     "name": "stdout",
     "output_type": "stream",
     "text": [
      "input : [0, 0]\n",
      " - AND: 0.0\n",
      " - NAND: 1.0\n",
      " - OR: 0.0\n",
      "------------------------------\n",
      "input : [0, 1]\n",
      " - AND: 0.0\n",
      " - NAND: 1.0\n",
      " - OR: 1.0\n",
      "------------------------------\n",
      "input : [1, 0]\n",
      " - AND: 0.0\n",
      " - NAND: 1.0\n",
      " - OR: 1.0\n",
      "------------------------------\n",
      "input : [1, 1]\n",
      " - AND: 1.0\n",
      " - NAND: 0.0\n",
      " - OR: 1.0\n",
      "------------------------------\n"
     ]
    }
   ],
   "source": [
    "def activation(x):\n",
    "    return (x > 0).float()\n",
    "\n",
    "# AND gate\n",
    "def AND(x, w, b):\n",
    "    z = torch.dot(x, w) + b\n",
    "    a = activation(z)\n",
    "    return a\n",
    "\n",
    "# NAND gate\n",
    "def NAND(x, w, b):\n",
    "    z = torch.dot(x, w) + b\n",
    "    a = activation(z)\n",
    "    return a\n",
    "\n",
    "# AND gate\n",
    "def OR(x, w, b):\n",
    "    z = torch.dot(x, w) + b\n",
    "    a = activation(z)\n",
    "    return a\n",
    "\n",
    "# create weights for each gate\n",
    "w_and = torch.FloatTensor([0.5, 0.5])  \n",
    "b_and = torch.FloatTensor([-0.7])\n",
    "w_nand = torch.FloatTensor([-0.5, -0.5])  \n",
    "b_nand = torch.FloatTensor([0.7])\n",
    "w_or = torch.FloatTensor([0.5, 0.5]) \n",
    "b_or = torch.FloatTensor([-0.2])\n",
    "\n",
    "# 입력 텐서를 만들어 결과 확인\n",
    "X = torch.FloatTensor([[0, 0], [0, 1], [1, 0], [1, 1]])\n",
    "for x in X:\n",
    "    print(f\"input : {x.long().tolist()}\")\n",
    "    print(\" - AND:\", AND(x, w=w_and, b=b_and).item())\n",
    "    print(\" - NAND:\", NAND(x, w=w_nand, b=b_nand).item())\n",
    "    print(\" - OR:\", OR(x, w=w_or, b=b_or).item())\n",
    "    print(\"--\"*15)"
   ]
  },
  {
   "cell_type": "markdown",
   "id": "f5cfb400",
   "metadata": {},
   "source": [
    "## Understanding Perceptron with other perspect\n",
    "\n",
    "Understand AND, NAND & OR gates by figures. Can treat as a linear classifier that classify two kinds of points."
   ]
  },
  {
   "cell_type": "code",
   "execution_count": 33,
   "id": "daa85ca3",
   "metadata": {},
   "outputs": [
    {
     "data": {
      "image/png": "[encoded data removed]",
      "text/plain": [
       "<Figure size 1200x400 with 3 Axes>"
      ]
     },
     "metadata": {
      "needs_background": "light"
     },
     "output_type": "display_data"
    }
   ],
   "source": [
    "def plot_dots(ax, gate_func):\n",
    "    x = [(0, 0), (1, 0), (0, 1), (1, 1)]\n",
    "    if (gate_func.__name__ == \"AND\"):\n",
    "        marker_o = list(zip(*x[3:]))\n",
    "        marker_x = list(zip(*x[:3]))\n",
    "    elif (gate_func.__name__ == \"NAND\"):\n",
    "        marker_o = list(zip(*x[:3]))\n",
    "        marker_x = list(zip(*x[3:]))\n",
    "    elif (gate_func.__name__ == \"OR\"):\n",
    "        marker_o = list(zip(*x[1:]))\n",
    "        marker_x = list(zip(*x[:1]))\n",
    "    elif (gate_func.__name__ == \"XOR\"):\n",
    "        marker_o = list(zip(*x[1:3]))\n",
    "        marker_x = list(zip(*x[::3]))\n",
    "    else:\n",
    "        return \"gate_func error\"\n",
    "    \n",
    "    ax.scatter(marker_o[0], marker_o[1], c='r', marker='o', label='1')\n",
    "    ax.scatter(marker_x[0], marker_x[1], c='b', marker='x', label='0')\n",
    "    ax.legend()\n",
    "    ax.set_xlim([-2, 2])\n",
    "    ax.set_ylim([-2, 2])\n",
    "    ax.set_title(gate_func.__name__)\n",
    "    ax.grid()\n",
    "    ax.set_xlabel(\"$x_1$\", fontsize=12)\n",
    "    ax.set_ylabel(\"$x_2$\", fontsize=12)\n",
    "    \n",
    "fig, axes = plt.subplots(1, 3, figsize=(12, 4), dpi=100)\n",
    "for ax, func in zip(axes, [AND, NAND, OR]):\n",
    "    plot_dots(ax=ax, gate_func=func)\n",
    "plt.tight_layout()\n",
    "plt.show()"
   ]
  },
  {
   "cell_type": "code",
   "execution_count": 34,
   "id": "50e44100",
   "metadata": {},
   "outputs": [
    {
     "data": {
      "image/png": "[encoded data removed]",
      "text/plain": [
       "<Figure size 1200x400 with 3 Axes>"
      ]
     },
     "metadata": {
      "needs_background": "light"
     },
     "output_type": "display_data"
    }
   ],
   "source": [
    "def plot_line(**kwargs):\n",
    "    \"\"\"x2 = (-w1*x1 - b) / w2\"\"\"\n",
    "    x1 = [-2, 2]\n",
    "    w = kwargs['w']\n",
    "    b = kwargs['b']\n",
    "    get_x2 = lambda x: (-w[0]*x - b) / w[1]\n",
    "    # plot\n",
    "    ax=kwargs['ax']\n",
    "    ax.plot(x1, [get_x2(x1[0]), get_x2(x1[1])], c='g')\n",
    "\n",
    "fig, axes = plt.subplots(1, 3, figsize=(12, 4), dpi=100)\n",
    "for ax, func, (w, b) in zip(axes, [AND, NAND, OR], [(w_and, b_and), (w_nand, b_nand), (w_or, b_or)]):\n",
    "    plot_dots(ax=ax, gate_func=func)\n",
    "    plot_line(ax=ax, w=w, b=b)\n",
    "plt.tight_layout()\n",
    "plt.show()"
   ]
  },
  {
   "cell_type": "markdown",
   "id": "f9f46374",
   "metadata": {},
   "source": [
    "## XOR Problem"
   ]
  },
  {
   "cell_type": "code",
   "execution_count": 36,
   "id": "0da046fd",
   "metadata": {},
   "outputs": [
    {
     "data": {
      "image/png": "[encoded data removed]",
      "text/plain": [
       "<Figure size 320x320 with 1 Axes>"
      ]
     },
     "metadata": {
      "needs_background": "light"
     },
     "output_type": "display_data"
    }
   ],
   "source": [
    "def XOR():\n",
    "    \"\"\"empty function\"\"\"\n",
    "    pass\n",
    "\n",
    "fig, ax = plt.subplots(1, 1, figsize=(4, 4), dpi=80)\n",
    "plot_dots(ax=ax, gate_func=XOR)\n",
    "plt.tight_layout()\n",
    "plt.show()"
   ]
  },
  {
   "cell_type": "code",
   "execution_count": 38,
   "id": "2a7d3061",
   "metadata": {},
   "outputs": [
    {
     "name": "stdout",
     "output_type": "stream",
     "text": [
      "predict: 0 | target: 0\n",
      "predict: 1 | target: 1\n",
      "predict: 1 | target: 1\n",
      "predict: 0 | target: 0\n"
     ]
    }
   ],
   "source": [
    "def solution(x, **kwargs):\n",
    "    # hidden layer \n",
    "    s1 = NAND(x, w=kwargs['w_nand'], b=kwargs['b_nand'])\n",
    "    s2 = OR(x, w=kwargs['w_or'], b=kwargs['b_or'])\n",
    "    # output layer: concatnate s1 and s2 into new input\n",
    "    y = AND(torch.Tensor([s1, s2]), w=kwargs['w_and'], b=kwargs['b_and'])\n",
    "    return y\n",
    "\n",
    "# create all possible inputs and targets for XOR gates\n",
    "input_data = torch.FloatTensor([[0, 0], [1, 0], [0, 1], [1, 1]])\n",
    "target_data = torch.FloatTensor([0, 1, 1, 0])\n",
    "\n",
    "kwargs = dict([('w_nand', w_nand), ('b_nand', b_nand), \n",
    "               ('w_or', w_or), ('b_or', b_or), \n",
    "               ('w_and', w_and), ('b_and', b_and)])\n",
    "\n",
    "# test\n",
    "for x, y in zip(input_data, target_data):\n",
    "    pred = solution(x, **kwargs)\n",
    "    print(f\"predict: {pred.byte().item()} | target: {y.byte().item()}\")"
   ]
  },
  {
   "cell_type": "code",
   "execution_count": 39,
   "id": "fb4deb7e",
   "metadata": {},
   "outputs": [
    {
     "data": {
      "image/png": "[encoded data removed]",
      "text/plain": [
       "<Figure size 1200x400 with 3 Axes>"
      ]
     },
     "metadata": {
      "needs_background": "light"
     },
     "output_type": "display_data"
    }
   ],
   "source": [
    "def draw_solution(x, w, b, ax, func):\n",
    "    s = func(x, w=w, b=b).item()\n",
    "    marker_shape = 'o' if s == 1 else 'x'\n",
    "    marker_color = 'r' if s == 1 else 'b'\n",
    "    ax.scatter(x.numpy()[0], x.numpy()[1], c=marker_color, marker=marker_shape, label='{}: {}'.format(func.__name__, s))\n",
    "    plot_line(ax=ax, w=w, b=b)\n",
    "    ax.legend()\n",
    "    ax.set_xlim([-2, 2])\n",
    "    ax.set_ylim([-2, 2])\n",
    "    ax.grid()\n",
    "    ax.set_title('[{}] input: {} > result: {}'.format(func.__name__, x.long().numpy(), s))\n",
    "    \n",
    "def draw_solution_by_step(x, **kwargs):\n",
    "    NAND = kwargs['f_nand']\n",
    "    OR = kwargs['f_or']\n",
    "    AND = kwargs['f_and']\n",
    "    fig, axes = plt.subplots(1, 3, figsize=(12, 4), dpi=100)\n",
    "    s = torch.FloatTensor([NAND(x, w=kwargs['w_nand'], b=kwargs['b_nand']), \n",
    "                           OR(x, w=kwargs['w_or'], b=kwargs['b_or'])])\n",
    "    draw_solution(x, w=kwargs['w_nand'], b=kwargs['b_nand'], ax=axes[0], func=NAND)\n",
    "    draw_solution(x, w=kwargs['w_or'], b=kwargs['b_or'], ax=axes[1], func=OR)\n",
    "    draw_solution(s, w=kwargs['w_and'], b=kwargs['b_and'], ax=axes[2], func=AND)\n",
    "\n",
    "x = torch.FloatTensor([1, 1])\n",
    "kwargs.setdefault('f_nand', NAND)\n",
    "kwargs.setdefault('f_or', OR)\n",
    "kwargs.setdefault('f_and', AND)\n",
    "draw_solution_by_step(x, **kwargs)"
   ]
  },
  {
   "cell_type": "code",
   "execution_count": 44,
   "id": "52848749",
   "metadata": {},
   "outputs": [],
   "source": [
    "def draw_gate_area():\n",
    "    fig, ax = plt.subplots(1, 1, figsize=(4, 4), dpi=100)\n",
    "    get_x2 = lambda x, w, b: (-w[0]*x - b) / w[1]\n",
    "    w_nand, b_nand = [-0.5, -0.5], 0.7\n",
    "    w_or, b_or = [0.5, 0.5], -0.2\n",
    "    xx = np.linspace(-2, 2)\n",
    "    y_nand = get_x2(xx, w=w_nand, b=b_nand)\n",
    "    y_or = get_x2(xx, w=w_or, b=b_or)\n",
    "    ax.fill_between(xx, y_nand, y_or, facecolor='g', alpha=0.3)\n",
    "    plot_dots(ax=ax, gate_func=XOR)\n",
    "    plot_line(ax=ax,  w=w_nand, b=b_nand)\n",
    "    plot_line(ax=ax,  w=w_or, b=b_or)\n",
    "    plt.tight_layout()\n",
    "    plt.show()"
   ]
  },
  {
   "cell_type": "code",
   "execution_count": 45,
   "id": "a5624216",
   "metadata": {},
   "outputs": [
    {
     "data": {
      "image/png": "[encoded data removed]",
      "text/plain": [
       "<Figure size 400x400 with 1 Axes>"
      ]
     },
     "metadata": {
      "needs_background": "light"
     },
     "output_type": "display_data"
    }
   ],
   "source": [
    "draw_gate_area()"
   ]
  },
  {
   "cell_type": "markdown",
   "id": "b422c8c6",
   "metadata": {},
   "source": [
    "---"
   ]
  },
  {
   "cell_type": "markdown",
   "id": "ff56be81",
   "metadata": {},
   "source": [
    "# Feedforward Neural Network\n",
    "\n",
    "## Activation Function\n",
    "\n",
    "* `torch.sigmoid`, `torch.tanh`, `torch.relu`"
   ]
  },
  {
   "cell_type": "code",
   "execution_count": 49,
   "id": "81d51259",
   "metadata": {},
   "outputs": [],
   "source": [
    "import torch\n",
    "import torch.nn as nn"
   ]
  },
  {
   "cell_type": "code",
   "execution_count": 47,
   "id": "d58ac18a",
   "metadata": {},
   "outputs": [
    {
     "data": {
      "image/png": "[encoded data removed]",
      "text/plain": [
       "<Figure size 432x288 with 1 Axes>"
      ]
     },
     "metadata": {
      "needs_background": "light"
     },
     "output_type": "display_data"
    },
    {
     "data": {
      "image/png": "[encoded data removed]",
      "text/plain": [
       "<Figure size 432x288 with 1 Axes>"
      ]
     },
     "metadata": {
      "needs_background": "light"
     },
     "output_type": "display_data"
    },
    {
     "data": {
      "image/png": "[encoded data removed]",
      "text/plain": [
       "<Figure size 432x288 with 1 Axes>"
      ]
     },
     "metadata": {
      "needs_background": "light"
     },
     "output_type": "display_data"
    }
   ],
   "source": [
    "def draw_function(func, return_fig=False):\n",
    "    xx = torch.linspace(-5, 5, steps=1000)\n",
    "    fig = plt.figure()\n",
    "    plt.plot(xx.numpy(), func(xx).numpy())\n",
    "    plt.xlabel(\"x\", fontdict={\"fontsize\":16})\n",
    "    plt.ylabel(\"y\", fontdict={\"fontsize\":16}, rotation=0)\n",
    "    plt.title(f\"{func.__name__}\", fontdict={\"fontsize\":20})\n",
    "    plt.show()\n",
    "    \n",
    "draw_function(torch.sigmoid)\n",
    "draw_function(torch.tanh)\n",
    "draw_function(torch.relu)"
   ]
  },
  {
   "cell_type": "markdown",
   "id": "454e5032",
   "metadata": {},
   "source": [
    "\n",
    "## Forward propagation: Solve XOR Problem\n",
    "\n",
    "<img src=\"http://drive.google.com/uc?export=view&id=1SyY6F6-P2WZ7Hna6RQu7tnaQfgCsF_Ry\" width=\"480px\" height=\"480px\" >\n",
    "\n",
    "### Create a Network using Tensor operation"
   ]
  },
  {
   "cell_type": "code",
   "execution_count": 59,
   "id": "e28b6683",
   "metadata": {},
   "outputs": [
    {
     "name": "stdout",
     "output_type": "stream",
     "text": [
      "tensor([[1.8293, 1.0240]])\n",
      "It's 0\n"
     ]
    }
   ],
   "source": [
    "torch.manual_seed(70)\n",
    "# create a sample input that has size of (1, 2)\n",
    "x = torch.Tensor([[0, 1]])\n",
    "\n",
    "# Input > Hidden1\n",
    "# define hidden layer parameters: W1 and b1\n",
    "W1 = torch.rand((3, 2))  \n",
    "b1 = torch.rand((1, 3))  \n",
    "\n",
    "# forward\n",
    "# (1, 2) x (2, 3) + (1, 3) = (1, 3)\n",
    "z1 = torch.mm(x, W1.t()) + b1  \n",
    "a1 = torch.sigmoid(z1)\n",
    "\n",
    "# Hidden1 > Hidden2\n",
    "# 은닉층 가중치 정의\n",
    "# 0과 1 사이에서 무작위로 뽑아서 W2, b2 텐서 생성\n",
    "W2 = torch.rand((2, 3))  \n",
    "b2 = torch.rand((1, 2))  \n",
    "\n",
    "# forward\n",
    "# (1, 3) x (3, 2) + (1, 2) = (1, 2)\n",
    "z2 = torch.mm(a1, W2.t()) + b2  \n",
    "a2 = torch.sigmoid(z2)\n",
    "\n",
    "# Hidden > Output\n",
    "# 출력층 가중치 초기화\n",
    "W3 = torch.rand((2, 2))  \n",
    "b3 = torch.rand((1, 2))\n",
    "\n",
    "# 출력층 층 forward\n",
    "# (1, 2) x (2, 2) + (1, 2) = (1, 2)\n",
    "def identity_func(x):\n",
    "    \"\"\"항등 함수\"\"\"\n",
    "    return x\n",
    "\n",
    "z3 = torch.mm(a2, W3.t()) + b3  \n",
    "y = identity_func(z3)\n",
    "\n",
    "print(y)\n",
    "if y[0, 0] > y[0, 1]:\n",
    "    print(\"It's 0\")\n",
    "else:\n",
    "    print(\"It's 1\")"
   ]
  },
  {
   "cell_type": "markdown",
   "id": "96791997",
   "metadata": {},
   "source": [
    "### Create a Network using Module & Container\n",
    "\n",
    "All objects related to neural network are in `torch.nn` module.\n",
    "\n",
    "Creating a Deep Neural Network in PyTorch is same as stacking a layer one by one.\n",
    "\n",
    "<img src=\"http://drive.google.com/uc?export=view&id=1tSHTZLkpV4Qak7KjO0DafB1RsqL7xyDq\" width=\"180px\" height=\"240px\" >\n",
    "\n",
    "All leranable parameters are in the layer class.\n",
    "\n",
    "PyTorch Document: \n",
    "\n",
    "* [torch.nn.Linear](https://pytorch.org/docs/stable/nn.html#linear)\n",
    "* [torch.nn.Sigmoid](https://pytorch.org/docs/stable/nn.html#sigmoid)"
   ]
  },
  {
   "cell_type": "code",
   "execution_count": 50,
   "id": "376ba9ec",
   "metadata": {},
   "outputs": [
    {
     "data": {
      "text/plain": [
       "Parameter containing:\n",
       "tensor([[ 0.5068, -0.1696],\n",
       "        [-0.6171, -0.1940]], requires_grad=True)"
      ]
     },
     "execution_count": 50,
     "metadata": {},
     "output_type": "execute_result"
    }
   ],
   "source": [
    "# All learnable tensors are tracked by `requires_grad=True` Flag\n",
    "layer = nn.Linear(in_features=2, out_features=2)\n",
    "layer.weight"
   ]
  },
  {
   "cell_type": "code",
   "execution_count": 52,
   "id": "b9d6620d",
   "metadata": {},
   "outputs": [
    {
     "data": {
      "text/plain": [
       "tensor([[-0.8144, -0.6347]], grad_fn=<AddmmBackward>)"
      ]
     },
     "execution_count": 52,
     "metadata": {},
     "output_type": "execute_result"
    }
   ],
   "source": [
    "# when a layer defined it can be use like a function in python\n",
    "x = torch.FloatTensor([[0, 1]])\n",
    "layer(x)"
   ]
  },
  {
   "cell_type": "markdown",
   "id": "a7e603a2",
   "metadata": {},
   "source": [
    "### Containers\n",
    "\n",
    "[Containers](https://pytorch.org/docs/stable/nn.html#containers): `nn.Module`, `nn.Sequential`, `nn.Modulelist`, `nn.ModuleDict`\n",
    "\n",
    "\n",
    "Need to supercharge `nn.Module` class, and create `__init__` & `forward`(equal to `__call__` in PyTorch) function.\n",
    "\n",
    "```python\n",
    "class NetworkName(nn.Module):\n",
    "    def __init__(self, input_size, hidden_size, output_size):\n",
    "        super().__init__()\n",
    "        \n",
    "        self.linear = nn.Linear(input_size, hidden_size)\n",
    "        \n",
    "    def forward(self, x):\n",
    "        # forward propagation\n",
    "        x = self.linear(x)\n",
    "        return x\n",
    "        \n",
    "```"
   ]
  },
  {
   "cell_type": "code",
   "execution_count": 55,
   "id": "02321c8f",
   "metadata": {},
   "outputs": [],
   "source": [
    "torch.manual_seed(70)\n",
    "\n",
    "class XOR(nn.Module):\n",
    "    \"\"\"XOR Network\"\"\"\n",
    "    def __init__(self):\n",
    "        super(XOR, self).__init__()\n",
    "        # build a layer\n",
    "        self.linear1 = nn.Linear(in_features=2, out_features=3)   \n",
    "        self.linear2 = nn.Linear(in_features=3, out_features=2)\n",
    "        self.linear3 = nn.Linear(in_features=2, out_features=2)\n",
    "        self.activation_layer = nn.Sigmoid()\n",
    "        self.identity_layer = nn.Identity()\n",
    "    \n",
    "    def forward(self, x):\n",
    "        # forward propagation\n",
    "        z1 = self.linear1(x)\n",
    "        a1 = self.activation_layer(z1)\n",
    "        z2 = self.linear2(a1)\n",
    "        a2 = self.activation_layer(z2)\n",
    "        z3 = self.linear3(a2)\n",
    "        y = self.identity_layer(z3)\n",
    "        return y"
   ]
  },
  {
   "cell_type": "code",
   "execution_count": 56,
   "id": "a6acd3d4",
   "metadata": {},
   "outputs": [
    {
     "name": "stdout",
     "output_type": "stream",
     "text": [
      "tensor([[ 0.6322, -0.4525]], grad_fn=<AddmmBackward>)\n"
     ]
    }
   ],
   "source": [
    "# create XOR class instance\n",
    "model = XOR()\n",
    "y = model(x)  # model.forward(x)\n",
    "print(y)"
   ]
  },
  {
   "cell_type": "markdown",
   "id": "df6d5baf",
   "metadata": {},
   "source": [
    "### nn.Sequential\n",
    "\n",
    "It's uncomfortable to assign every layer\n",
    "\n",
    "```python\n",
    "self.linear1 = nn.Linear(in_features=2, out_features=3)   \n",
    "self.linear2 = nn.Linear(in_features=3, out_features=2)\n",
    "self.linear3 = nn.Linear(in_features=2, out_features=2)\n",
    "self.activation_layer = nn.Sigmoid()\n",
    "self.identity_layer = nn.Identity()\n",
    "```\n",
    "\n",
    "Use `nn.Sequential` container to bind them all. `nn.Sequential` is like a list, it will automatically called by order."
   ]
  },
  {
   "cell_type": "code",
   "execution_count": 53,
   "id": "31a345f3",
   "metadata": {},
   "outputs": [],
   "source": [
    "torch.manual_seed(70)\n",
    "\n",
    "class XOR(nn.Module):\n",
    "    \"\"\"XOR Network\"\"\"\n",
    "    def __init__(self):\n",
    "        super(XOR, self).__init__()\n",
    "        # create a Sequential layer\n",
    "        self.layers = nn.Sequential(\n",
    "            nn.Linear(2, 3),  # in_features, out_features\n",
    "            nn.Sigmoid(),\n",
    "            nn.Linear(3, 2),\n",
    "            nn.Sigmoid(),\n",
    "            nn.Linear(2, 2),\n",
    "            nn.Identity()\n",
    "        )\n",
    "\n",
    "    def forward(self, x):\n",
    "        # forward propagation\n",
    "        y = self.layers(x)\n",
    "        return y"
   ]
  },
  {
   "cell_type": "code",
   "execution_count": 54,
   "id": "d99f41fc",
   "metadata": {},
   "outputs": [
    {
     "name": "stdout",
     "output_type": "stream",
     "text": [
      "tensor([[ 0.6322, -0.4525]], grad_fn=<AddmmBackward>)\n"
     ]
    }
   ],
   "source": [
    "# create XOR class instance\n",
    "model = XOR()\n",
    "y = model(x)  # model.forward(x)\n",
    "print(y)"
   ]
  },
  {
   "cell_type": "markdown",
   "id": "d7dd33bd",
   "metadata": {},
   "source": [
    "---"
   ]
  },
  {
   "cell_type": "markdown",
   "id": "81cddc8b",
   "metadata": {
    "id": "Q_S-IHD88-My"
   },
   "source": [
    "# Training a Neural Network\n",
    "\n",
    "## Softmax Layer\n",
    "\n",
    "If output of network is just scores for each class, then\n",
    "\n",
    "1. It is unbounded: can be arbitrarily large.\n",
    "2. Hard to interpret: how good is it?\n",
    "\n",
    "It’d be better if we get a bounded score between 0 and 1, so that we can interpret it as a probability.\n",
    "\n",
    "$$y_i = \\text{Softmax}(z_i) = \\dfrac{\\exp(z_i)}{\\sum_j^k \\exp(z_j)}$$\n",
    "\n",
    "* PyTorch Docs: [softmax](https://pytorch.org/docs/stable/nn.html#softmax)"
   ]
  },
  {
   "cell_type": "code",
   "execution_count": 60,
   "id": "ac0a1e4a",
   "metadata": {
    "colab": {
     "base_uri": "https://localhost:8080/",
     "height": 55
    },
    "executionInfo": {
     "elapsed": 1364,
     "status": "ok",
     "timestamp": 1575869753778,
     "user": {
      "displayName": "KH R",
      "photoUrl": "https://lh6.googleusercontent.com/-eTWdQToyCAE/AAAAAAAAAAI/AAAAAAAAAcI/Zp3zRZnJ5sg/s64/photo.jpg",
      "userId": "04746356686468715062"
     },
     "user_tz": -540
    },
    "id": "TVQIuRac8-Mz",
    "outputId": "3a6c30be-64ee-4e61-f31a-302bc075c88c"
   },
   "outputs": [
    {
     "name": "stdout",
     "output_type": "stream",
     "text": [
      "[0.002 0.    0.018 0.979]\n"
     ]
    }
   ],
   "source": [
    "x = torch.FloatTensor([3, 1, 5, 9])\n",
    "prob = torch.softmax(x, dim=0)\n",
    "print(f\"{prob.numpy().round(3)}\")"
   ]
  },
  {
   "cell_type": "code",
   "execution_count": 62,
   "id": "a6775c3f",
   "metadata": {
    "colab": {
     "base_uri": "https://localhost:8080/",
     "height": 111
    },
    "executionInfo": {
     "elapsed": 1134,
     "status": "ok",
     "timestamp": 1575869812476,
     "user": {
      "displayName": "KH R",
      "photoUrl": "https://lh6.googleusercontent.com/-eTWdQToyCAE/AAAAAAAAAAI/AAAAAAAAAcI/Zp3zRZnJ5sg/s64/photo.jpg",
      "userId": "04746356686468715062"
     },
     "user_tz": -540
    },
    "id": "NBNosEXf8-M4",
    "outputId": "ec92b660-13dd-4eb4-a6bc-6028b37bbca3"
   },
   "outputs": [
    {
     "name": "stdout",
     "output_type": "stream",
     "text": [
      "torch.Size([2, 4])\n",
      "[[0.002 0.    0.018 0.979]\n",
      " [0.087 0.644 0.237 0.032]]\n",
      "\n"
     ]
    }
   ],
   "source": [
    "softmax_layer = nn.Softmax(dim=1)\n",
    "# x contains 2 data with 4 classes scores\n",
    "x = torch.FloatTensor([[3, 1, 5, 9], \n",
    "                       [4, 6, 5, 3]])\n",
    "print(x.size())\n",
    "prob = softmax_layer(x)\n",
    "print(f\"{prob.numpy().round(3)}\\n\")"
   ]
  },
  {
   "cell_type": "markdown",
   "id": "e2fc90c2",
   "metadata": {
    "id": "b0yOAcOq8-M8"
   },
   "source": [
    "Usually, softmax sometimes converge to 0 and use log form of softmax `torch.log_softmax` to avoid underflow."
   ]
  },
  {
   "cell_type": "code",
   "execution_count": 63,
   "id": "2face540",
   "metadata": {
    "colab": {
     "base_uri": "https://localhost:8080/",
     "height": 55
    },
    "executionInfo": {
     "elapsed": 1285,
     "status": "ok",
     "timestamp": 1575869873686,
     "user": {
      "displayName": "KH R",
      "photoUrl": "https://lh6.googleusercontent.com/-eTWdQToyCAE/AAAAAAAAAAI/AAAAAAAAAcI/Zp3zRZnJ5sg/s64/photo.jpg",
      "userId": "04746356686468715062"
     },
     "user_tz": -540
    },
    "id": "77lk2P_A8-M-",
    "outputId": "efb8a230-1f6e-411c-b6b6-79aa631e38f1"
   },
   "outputs": [
    {
     "data": {
      "text/plain": [
       "tensor([[-6.0209, -8.0209, -4.0209, -0.0209],\n",
       "        [-2.4402, -0.4402, -1.4402, -3.4402]])"
      ]
     },
     "execution_count": 63,
     "metadata": {},
     "output_type": "execute_result"
    }
   ],
   "source": [
    "torch.log_softmax(x, dim=1)"
   ]
  },
  {
   "cell_type": "markdown",
   "id": "e6c68b30",
   "metadata": {
    "id": "OWG4Ba_w8-NA"
   },
   "source": [
    "## Loss Function\n",
    "\n",
    "XOR Problem can be treat as classfication problem with 2 classes. So need a softmax layer at the end. However it is already contained in `nn.CrossEntropyLoss`."
   ]
  },
  {
   "cell_type": "code",
   "execution_count": 64,
   "id": "4aeddddf",
   "metadata": {
    "id": "lH9rDNAO8-NB"
   },
   "outputs": [],
   "source": [
    "torch.manual_seed(70)\n",
    "\n",
    "class XOR(nn.Module):\n",
    "    \"\"\"XOR Network\"\"\"\n",
    "    def __init__(self):\n",
    "        super(XOR, self).__init__()\n",
    "        # create a Sequential layer\n",
    "        self.layers = nn.Sequential(\n",
    "            nn.Linear(2, 3),  # in_features, out_features\n",
    "            nn.Sigmoid(),\n",
    "            nn.Linear(3, 2),\n",
    "            nn.Sigmoid(),\n",
    "            nn.Linear(2, 2),\n",
    "            # nn.Softmax(dim=1)\n",
    "        )\n",
    "\n",
    "    def forward(self, x):\n",
    "        # forward propagation\n",
    "        y = self.layers(x)\n",
    "        return y\n",
    "    \n",
    "    def predict(self, x):\n",
    "        o = self.forward(x)\n",
    "        y = torch.softmax(o, dim=1)\n",
    "        return y > 0.5"
   ]
  },
  {
   "cell_type": "code",
   "execution_count": 66,
   "id": "aa548949",
   "metadata": {
    "colab": {
     "base_uri": "https://localhost:8080/",
     "height": 36
    },
    "executionInfo": {
     "elapsed": 1761,
     "status": "ok",
     "timestamp": 1575870062769,
     "user": {
      "displayName": "KH R",
      "photoUrl": "https://lh6.googleusercontent.com/-eTWdQToyCAE/AAAAAAAAAAI/AAAAAAAAAcI/Zp3zRZnJ5sg/s64/photo.jpg",
      "userId": "04746356686468715062"
     },
     "user_tz": -540
    },
    "id": "-6oQLEtT8-ND",
    "outputId": "0e1d26dc-7e06-4680-d32f-19aed944e56c"
   },
   "outputs": [
    {
     "name": "stdout",
     "output_type": "stream",
     "text": [
      "loss value: 0.3809916377067566\n"
     ]
    }
   ],
   "source": [
    "# create example input and target    \n",
    "x = torch.FloatTensor([[0, 1]])\n",
    "t = torch.LongTensor([0])  # target must be LongType Tensor\n",
    "\n",
    "# create XOR class instance\n",
    "model = XOR()\n",
    "\n",
    "# Loss function\n",
    "loss_function = nn.CrossEntropyLoss()\n",
    "\n",
    "# feed forward propagation\n",
    "y = model(x)\n",
    "\n",
    "# calculate loss\n",
    "loss = loss_function(y, t)\n",
    "\n",
    "print(f\"loss value: {loss.item()}\")"
   ]
  },
  {
   "cell_type": "markdown",
   "id": "0b924a6f",
   "metadata": {},
   "source": [
    "### Special case: binary class\n",
    "\n",
    "XOR Problem is also binary classification problem. Can use binary cross entropy loss, but the output size of model should be 1, not the number of classes.\n",
    "\n",
    "- `nn.BCEWithLogitsLoss`\n",
    "- `nn.BCELoss`"
   ]
  },
  {
   "cell_type": "code",
   "execution_count": 85,
   "id": "652e083f",
   "metadata": {},
   "outputs": [],
   "source": [
    "torch.manual_seed(70)\n",
    "\n",
    "class XOR(nn.Module):\n",
    "    \"\"\"XOR Network\"\"\"\n",
    "    def __init__(self):\n",
    "        super(XOR, self).__init__()\n",
    "        # create a Sequential layer\n",
    "        self.layers = nn.Sequential(\n",
    "            nn.Linear(2, 3),  # in_features, out_features\n",
    "            nn.Sigmoid(),\n",
    "            nn.Linear(3, 2),\n",
    "            nn.Sigmoid(),\n",
    "            nn.Linear(2, 1),  # output of last layer should be 1 if use binary cross entropy loss in XOR problem\n",
    "        )\n",
    "\n",
    "    def forward(self, x):\n",
    "        # forward propagation\n",
    "        y = self.layers(x)\n",
    "        return y\n",
    "    \n",
    "    def predict(self, x):\n",
    "        o = self.forward(x)\n",
    "        y = torch.softmax(o, dim=1)\n",
    "        return (y > 0.5).int()"
   ]
  },
  {
   "cell_type": "code",
   "execution_count": 86,
   "id": "6fbab836",
   "metadata": {},
   "outputs": [
    {
     "name": "stdout",
     "output_type": "stream",
     "text": [
      "loss value(bce_logits): 0.6285644769668579\n",
      "loss value(bce): 0.6285644769668579\n"
     ]
    }
   ],
   "source": [
    "# create example input and target    \n",
    "x = torch.FloatTensor([[0, 1]])\n",
    "t = torch.FloatTensor([0])  # target must be FloatTensor: target means probability here\n",
    "\n",
    "# create XOR class instance\n",
    "model = XOR()\n",
    "\n",
    "# Loss function\n",
    "loss_function_bce_logits = nn.BCEWithLogitsLoss()\n",
    "loss_function_bce = nn.BCELoss()\n",
    "\n",
    "# feed forward propagation\n",
    "y = model(x)\n",
    "\n",
    "# calculate loss\n",
    "loss_bce_logits = loss_function_bce_logits(y.view(-1), t)\n",
    "loss_bce = loss_function_bce(torch.sigmoid(y).view(-1), t)\n",
    "\n",
    "print(f\"loss value(bce_logits): {loss_bce_logits.item()}\")\n",
    "print(f\"loss value(bce): {loss_bce.item()}\")"
   ]
  },
  {
   "cell_type": "markdown",
   "id": "a9b0cd12",
   "metadata": {
    "id": "JbK-35a18-NE"
   },
   "source": [
    "## nn.AutoGrad\n",
    "\n",
    "AutoGrad packages help calculate the gradient of Tensor automatically. Each tensor has `requires_grad` attribute to know whether it needs to track the gradient or not. If call `requires_grad_` method, tensor will be turn the tracking gradient flag on.\n",
    "\n",
    "* letter \"\\_\" behind a function is in-place operations, it will overwrite some operation on the existed memory, not allocating a new memory Better not to use is if not necessary in PyTorch ([link](https://pytorch.org/docs/stable/notes/autograd.html#in-place-operations-with-autograd))"
   ]
  },
  {
   "cell_type": "code",
   "execution_count": 87,
   "id": "6925a977",
   "metadata": {
    "colab": {
     "base_uri": "https://localhost:8080/",
     "height": 92
    },
    "executionInfo": {
     "elapsed": 1813,
     "status": "ok",
     "timestamp": 1575870265743,
     "user": {
      "displayName": "KH R",
      "photoUrl": "https://lh6.googleusercontent.com/-eTWdQToyCAE/AAAAAAAAAAI/AAAAAAAAAcI/Zp3zRZnJ5sg/s64/photo.jpg",
      "userId": "04746356686468715062"
     },
     "user_tz": -540
    },
    "id": "-2oldEG48-NF",
    "outputId": "15efe1a2-6257-412c-8741-f43d58587e46"
   },
   "outputs": [
    {
     "name": "stdout",
     "output_type": "stream",
     "text": [
      "require gradient? False\n",
      "\n",
      "require gradient? True\n",
      "tensor([10.], requires_grad=True)\n"
     ]
    }
   ],
   "source": [
    "x = torch.FloatTensor([10])\n",
    "\n",
    "print(f\"require gradient? {x.requires_grad}\\n\")\n",
    "# requires_grad\n",
    "x.requires_grad_(True)\n",
    "print(f\"require gradient? {x.requires_grad}\")\n",
    "print(x)"
   ]
  },
  {
   "cell_type": "markdown",
   "id": "e5da8726",
   "metadata": {
    "id": "7qNCzQ058-NG"
   },
   "source": [
    "<img src=\"http://drive.google.com/uc?export=view&id=1ZRAUVozDgH7-4PifPIzI7j15VHXsz8UR\" width=\"890px\" height=\"480px\" >\n",
    "\n",
    "draw a computational graph, just to know how it works in backend\n",
    "\n",
    "$$\\begin{aligned}\n",
    "c(a, b) &= a + b\\\\\n",
    "d(b) &= 2\\times b + 1\\\\\n",
    "e(c, d) &= c\\times d \n",
    "\\end{aligned} \\\\ \\ \\\\ \\text{where } a=2, b=3$$\n",
    "\n",
    "if a gradient required tensor is in the computational path, other tensors will automaticall turn the `requires_grad` flag to `True` and the gradient function `grad_fn`"
   ]
  },
  {
   "cell_type": "code",
   "execution_count": 151,
   "id": "cda2fcaf",
   "metadata": {
    "colab": {
     "base_uri": "https://localhost:8080/",
     "height": 129
    },
    "executionInfo": {
     "elapsed": 1072,
     "status": "ok",
     "timestamp": 1575870453776,
     "user": {
      "displayName": "KH R",
      "photoUrl": "https://lh6.googleusercontent.com/-eTWdQToyCAE/AAAAAAAAAAI/AAAAAAAAAcI/Zp3zRZnJ5sg/s64/photo.jpg",
      "userId": "04746356686468715062"
     },
     "user_tz": -540
    },
    "id": "SBnrpYvl8-NH",
    "outputId": "a9bcca5c-e60f-49b4-841d-df36b1000de7"
   },
   "outputs": [
    {
     "name": "stdout",
     "output_type": "stream",
     "text": [
      "require gradient?\n",
      "  - a(=2.0): True \t/ grad_fn: \t None\n",
      "  - b(=3.0): False \t/ grad_fn: \t None\n",
      "  - c(=5.0): True \t/ grad_fn: \t <AddBackward0 object at 0x7f2878e06c90>\n",
      "  - d(=7.0): False \t/ grad_fn: \t None\n",
      "  - e(=35.0): True \t/ grad_fn: \t <MulBackward0 object at 0x7f2878e5df90>\n"
     ]
    }
   ],
   "source": [
    "a = torch.FloatTensor([2]).requires_grad_(True)\n",
    "# a.requires_grad_()\n",
    "# a.retain_grad()\n",
    "b = torch.FloatTensor([3])\n",
    "c = a + b\n",
    "d = 2 * b + 1\n",
    "e = c * d\n",
    "\n",
    "print(f\"require gradient?\")\n",
    "for t, name in zip([a, b, c, d, e], [\"a\", \"b\", \"c\", \"d\", \"e\"]):\n",
    "    print(f\"  - {name}(={t.item()}): {t.requires_grad} \\t/ grad_fn: \\t {t.grad_fn}\")\n",
    "    \n",
    "    # just needed to get all gradient in the path(non-leaf tensors)\n",
    "    if t.requires_grad:\n",
    "        t.retain_grad()"
   ]
  },
  {
   "cell_type": "markdown",
   "id": "2818e917",
   "metadata": {
    "id": "QwNOexID8-NI"
   },
   "source": [
    "to calculate the gradient, just pass the gradient to `backward` method. you can see each gradient is in tensors' `.grad` attribute."
   ]
  },
  {
   "cell_type": "code",
   "execution_count": 152,
   "id": "2fef9c78",
   "metadata": {
    "colab": {
     "base_uri": "https://localhost:8080/",
     "height": 129
    },
    "executionInfo": {
     "elapsed": 1311,
     "status": "ok",
     "timestamp": 1575870518681,
     "user": {
      "displayName": "KH R",
      "photoUrl": "https://lh6.googleusercontent.com/-eTWdQToyCAE/AAAAAAAAAAI/AAAAAAAAAcI/Zp3zRZnJ5sg/s64/photo.jpg",
      "userId": "04746356686468715062"
     },
     "user_tz": -540
    },
    "id": "6GGcLcCv8-NJ",
    "outputId": "c988a37e-5a27-414f-edde-0473e8a89b28"
   },
   "outputs": [
    {
     "name": "stdout",
     "output_type": "stream",
     "text": [
      "gradient\n",
      "  - a: tensor([7.])\n",
      "  - b: None\n",
      "  - c: tensor([7.])\n",
      "  - d: None\n",
      "  - e: tensor([1.])\n"
     ]
    }
   ],
   "source": [
    "gradient = torch.FloatTensor([1.])\n",
    "e.backward(gradient)\n",
    "\n",
    "print(f\"gradient\")\n",
    "for t, name in zip([a, b, c, d, e], [\"a\", \"b\", \"c\", \"d\", \"e\"]):\n",
    "    print(f\"  - {name}: {t.grad}\")"
   ]
  },
  {
   "cell_type": "markdown",
   "id": "0d0ebc70",
   "metadata": {
    "id": "CPOw-uLj8-NK"
   },
   "source": [
    "## torch.optim\n",
    "\n",
    "All objects that related to optimizations are in `torch.optim`. You need to regist parameters to optimizer by calling `model.parameters()` to optimize them. "
   ]
  },
  {
   "cell_type": "code",
   "execution_count": null,
   "id": "46f85601",
   "metadata": {
    "id": "WFECmBIY8-NL"
   },
   "outputs": [],
   "source": [
    "import torch.optim as optim\n",
    "\n",
    "# 입력텐서 타겟 텐서 생성    \n",
    "x = torch.Tensor([[0, 1]])\n",
    "t = torch.LongTensor([0])\n",
    "\n",
    "# 커스텀 모듈 호출\n",
    "model = XOR()\n",
    "\n",
    "# 손실함수\n",
    "loss_function = nn.CrossEntropyLoss()\n",
    "optimizer = optim.SGD(model.parameters(), lr=0.1)\n",
    "\n",
    "# 순방향전파\n",
    "y = model(x)\n",
    "\n",
    "# 손실값 계산\n",
    "loss = loss_function(y, t)\n",
    "\n",
    "# 역전파\n",
    "loss.backward()"
   ]
  },
  {
   "cell_type": "code",
   "execution_count": null,
   "id": "2ed21594",
   "metadata": {
    "colab": {
     "base_uri": "https://localhost:8080/",
     "height": 223
    },
    "executionInfo": {
     "elapsed": 1050,
     "status": "ok",
     "timestamp": 1575870950713,
     "user": {
      "displayName": "KH R",
      "photoUrl": "https://lh6.googleusercontent.com/-eTWdQToyCAE/AAAAAAAAAAI/AAAAAAAAAcI/Zp3zRZnJ5sg/s64/photo.jpg",
      "userId": "04746356686468715062"
     },
     "user_tz": -540
    },
    "id": "zghElbf9Ojws",
    "outputId": "4ce0c719-409c-4ab9-d3ea-7b2b1fc2ae0d"
   },
   "outputs": [
    {
     "data": {
      "text/plain": [
       "[Parameter containing:\n",
       " tensor([[ 0.5068, -0.1696],\n",
       "         [-0.6171, -0.1940],\n",
       "         [-0.6448, -0.4407]], requires_grad=True), Parameter containing:\n",
       " tensor([ 0.6366, -0.3092, -0.1563], requires_grad=True), Parameter containing:\n",
       " tensor([[-0.1293, -0.3335,  0.3731],\n",
       "         [-0.1220, -0.4077, -0.4230]], requires_grad=True), Parameter containing:\n",
       " tensor([-0.2977, -0.1532], requires_grad=True), Parameter containing:\n",
       " tensor([[ 0.1535,  0.5105],\n",
       "         [-0.5054,  0.1989]], requires_grad=True), Parameter containing:\n",
       " tensor([-0.2185, -0.6025], requires_grad=True)]"
      ]
     },
     "execution_count": 21,
     "metadata": {
      "tags": []
     },
     "output_type": "execute_result"
    }
   ],
   "source": [
    "list(model.parameters())"
   ]
  },
  {
   "cell_type": "markdown",
   "id": "23435433",
   "metadata": {
    "id": "RhLKQW5N8-NM"
   },
   "source": [
    "옵티마이저의 `.step()` 함수를 호출하면 옵티마이저가 해당 매개변수를 업데이트 해준다."
   ]
  },
  {
   "cell_type": "code",
   "execution_count": null,
   "id": "3c27caf3",
   "metadata": {
    "colab": {
     "base_uri": "https://localhost:8080/",
     "height": 316
    },
    "executionInfo": {
     "elapsed": 2280,
     "status": "ok",
     "timestamp": 1575871005854,
     "user": {
      "displayName": "KH R",
      "photoUrl": "https://lh6.googleusercontent.com/-eTWdQToyCAE/AAAAAAAAAAI/AAAAAAAAAcI/Zp3zRZnJ5sg/s64/photo.jpg",
      "userId": "04746356686468715062"
     },
     "user_tz": -540
    },
    "id": "8gBkbaoZ8-NN",
    "outputId": "c7f1934b-5843-479e-c835-e0fe83468175"
   },
   "outputs": [
    {
     "name": "stdout",
     "output_type": "stream",
     "text": [
      "첫번째 Linear Layer Weight: \n",
      "Parameter containing:\n",
      "tensor([[-0.1971,  0.3524],\n",
      "        [ 0.1332,  0.3146],\n",
      "        [-0.3497,  0.0584]], requires_grad=True)\n",
      "\n",
      "첫번째 Linear Layer Weight의 Gradient: \n",
      "tensor([[-0.0000, -0.0010],\n",
      "        [ 0.0000,  0.0074],\n",
      "        [-0.0000, -0.0082]])\n",
      "\n",
      "첫번째 Linear Layer Weight의 Gradient: \n",
      "Parameter containing:\n",
      "tensor([[-0.1971,  0.3525],\n",
      "        [ 0.1332,  0.3138],\n",
      "        [-0.3497,  0.0592]], requires_grad=True)\n"
     ]
    }
   ],
   "source": [
    "print(\"첫번째 Linear Layer Weight: \")\n",
    "print(model.layers[0].weight)\n",
    "print()\n",
    "print(\"첫번째 Linear Layer Weight의 Gradient: \")\n",
    "print(model.layers[0].weight.grad)\n",
    "print()\n",
    "\n",
    "optimizer.step()\n",
    "\n",
    "print(\"첫번째 Linear Layer Weight의 Gradient: \")\n",
    "print(model.layers[0].weight)"
   ]
  },
  {
   "cell_type": "markdown",
   "id": "0282318d",
   "metadata": {
    "id": "8iUMmtfE8-NP"
   },
   "source": [
    "경사하강법 $$ W^{(1)}_{new} = W^{(1)}_{old} - \\alpha \\dfrac{\\partial L}{\\partial W^{(1)}}_{old}$$"
   ]
  },
  {
   "cell_type": "code",
   "execution_count": null,
   "id": "935d367d",
   "metadata": {
    "colab": {
     "base_uri": "https://localhost:8080/",
     "height": 36
    },
    "executionInfo": {
     "elapsed": 876,
     "status": "ok",
     "timestamp": 1575871155460,
     "user": {
      "displayName": "KH R",
      "photoUrl": "https://lh6.googleusercontent.com/-eTWdQToyCAE/AAAAAAAAAAI/AAAAAAAAAcI/Zp3zRZnJ5sg/s64/photo.jpg",
      "userId": "04746356686468715062"
     },
     "user_tz": -540
    },
    "id": "KAbvAt1G8-NP",
    "outputId": "2a22b2da-55ac-41bc-f88a-0aa04ad1bcc4"
   },
   "outputs": [
    {
     "name": "stdout",
     "output_type": "stream",
     "text": [
      " w_22 의 파라미터 업데이트: w = 0.3139\n"
     ]
    }
   ],
   "source": [
    "print(f\" w_22 의 파라미터 업데이트: w ={0.3146 - 0.1 * (0.0074): .4f}\")"
   ]
  },
  {
   "cell_type": "markdown",
   "id": "8e9590c6",
   "metadata": {
    "id": "9icvchVQ8-NR"
   },
   "source": [
    "## XOR 문제 학습하기"
   ]
  },
  {
   "cell_type": "code",
   "execution_count": null,
   "id": "d28973dd",
   "metadata": {
    "colab": {
     "base_uri": "https://localhost:8080/",
     "height": 204
    },
    "executionInfo": {
     "elapsed": 22138,
     "status": "ok",
     "timestamp": 1575871654742,
     "user": {
      "displayName": "KH R",
      "photoUrl": "https://lh6.googleusercontent.com/-eTWdQToyCAE/AAAAAAAAAAI/AAAAAAAAAcI/Zp3zRZnJ5sg/s64/photo.jpg",
      "userId": "04746356686468715062"
     },
     "user_tz": -540
    },
    "id": "OTGvBbL-8-NR",
    "outputId": "29a9a68a-4719-49e5-96ff-07768c6c23eb"
   },
   "outputs": [
    {
     "name": "stdout",
     "output_type": "stream",
     "text": [
      "[1] Loss: 0.8337\n",
      "[1001] Loss: 0.6932\n",
      "[2001] Loss: 0.6932\n",
      "[3001] Loss: 0.6931\n",
      "[4001] Loss: 0.6931\n",
      "[5001] Loss: 0.6931\n",
      "[6001] Loss: 0.6931\n",
      "[7001] Loss: 0.6927\n",
      "[8001] Loss: 0.0309\n",
      "[9001] Loss: 0.0032\n"
     ]
    }
   ],
   "source": [
    "torch.manual_seed(70)\n",
    "\n",
    "device = \"cuda\" if torch.cuda.is_available() else \"cpu\"  # gpu 사용 여부\n",
    "n_step = 10000  # 총 학습 스텝\n",
    "\n",
    "# Data 세트 만들기\n",
    "inputs = torch.FloatTensor([[0, 0], [1, 0], [0, 1], [1, 1]])\n",
    "targets = torch.LongTensor([0, 1, 1, 0])\n",
    "\n",
    "# 모델 생성: gpu를 사용하려면 모델에도 device를 전달해준다.\n",
    "model = XOR().to(device)\n",
    "# 손실함수 정의\n",
    "loss_function = nn.CrossEntropyLoss()\n",
    "# 옵티마이저 정의\n",
    "optimizer = optim.SGD(model.parameters(), lr=0.7)\n",
    "\n",
    "# GPU를 사용하려면 입력 텐서에도 device를 전달해준다.\n",
    "inputs, targets = inputs.to(device), targets.to(device)\n",
    "\n",
    "best_loss = 999\n",
    "# n_step 동안 학습을 진행한다.\n",
    "for step in range(n_step):\n",
    "    # -- 훈련단계 --\n",
    "    train_loss = 0\n",
    "    \n",
    "    # 매개변수 텐서의 grad 정보를 0으로 만든다. model.zero_grad() 로도 가능하다.\n",
    "    optimizer.zero_grad()\n",
    "    \n",
    "    # 순방향전파(Forward Propagation)\n",
    "    outputs = model(inputs)\n",
    "    \n",
    "    # Loss 계산\n",
    "    loss = loss_function(outputs, targets)\n",
    "    \n",
    "    # 역방향전파(Back Propagation)\n",
    "    loss.backward()\n",
    "    \n",
    "    # 옵티마이저로 매개변수 업데이트\n",
    "    optimizer.step()\n",
    "    \n",
    "    # 훈련단계 손실값 기록(모든 데이터에 손실값의 평균을 합친다.)\n",
    "    train_loss += loss.item()\n",
    "    if train_loss < best_loss:\n",
    "        best_loss = train_loss\n",
    "        torch.save(model.state_dict(), \"xor.pt\")\n",
    "    if step % 1000 == 0:\n",
    "        print(f\"[{step+1}] Loss: {train_loss:.4f}\")"
   ]
  },
  {
   "cell_type": "code",
   "execution_count": null,
   "id": "c8074f5f",
   "metadata": {
    "colab": {
     "base_uri": "https://localhost:8080/",
     "height": 223
    },
    "executionInfo": {
     "elapsed": 1184,
     "status": "ok",
     "timestamp": 1575871714758,
     "user": {
      "displayName": "KH R",
      "photoUrl": "https://lh6.googleusercontent.com/-eTWdQToyCAE/AAAAAAAAAAI/AAAAAAAAAcI/Zp3zRZnJ5sg/s64/photo.jpg",
      "userId": "04746356686468715062"
     },
     "user_tz": -540
    },
    "id": "Z_2N_ZVORfXq",
    "outputId": "ca7ac0c6-6737-418b-c024-0db075359ddb"
   },
   "outputs": [
    {
     "data": {
      "text/plain": [
       "OrderedDict([('layers.0.weight', tensor([[ 1.2730,  0.5956],\n",
       "                      [-3.1124, -3.5019],\n",
       "                      [-5.5307, -5.3661]], device='cuda:0')),\n",
       "             ('layers.0.bias',\n",
       "              tensor([-0.6217,  4.9397,  2.0589], device='cuda:0')),\n",
       "             ('layers.2.weight', tensor([[-0.5659,  1.2677, -1.8566],\n",
       "                      [-2.8928,  6.1726, -7.4217]], device='cuda:0')),\n",
       "             ('layers.2.bias', tensor([-0.6035, -1.0970], device='cuda:0')),\n",
       "             ('layers.4.weight', tensor([[-1.1127, -6.9834],\n",
       "                      [ 0.8168,  8.1486]], device='cuda:0')),\n",
       "             ('layers.4.bias', tensor([ 3.9442, -4.0051], device='cuda:0'))])"
      ]
     },
     "execution_count": 27,
     "metadata": {
      "tags": []
     },
     "output_type": "execute_result"
    }
   ],
   "source": [
    "model.state_dict()"
   ]
  },
  {
   "cell_type": "markdown",
   "id": "a4104a6a",
   "metadata": {
    "id": "89BO5I8k8-NT"
   },
   "source": [
    "## 모델 사용하기"
   ]
  },
  {
   "cell_type": "code",
   "execution_count": null,
   "id": "6fe8317c",
   "metadata": {
    "colab": {
     "base_uri": "https://localhost:8080/",
     "height": 185
    },
    "executionInfo": {
     "elapsed": 1449,
     "status": "ok",
     "timestamp": 1575872045297,
     "user": {
      "displayName": "KH R",
      "photoUrl": "https://lh6.googleusercontent.com/-eTWdQToyCAE/AAAAAAAAAAI/AAAAAAAAAcI/Zp3zRZnJ5sg/s64/photo.jpg",
      "userId": "04746356686468715062"
     },
     "user_tz": -540
    },
    "id": "Jm5A45UJ8-NT",
    "outputId": "e01f8f4a-17b0-4262-cdf4-6248eec79a04"
   },
   "outputs": [
    {
     "name": "stdout",
     "output_type": "stream",
     "text": [
      "tensor([[0.9984, 0.0016],\n",
      "        [0.0015, 0.9985],\n",
      "        [0.0013, 0.9987],\n",
      "        [0.9977, 0.0023]], grad_fn=<SoftmaxBackward>)\n",
      "tensor([0, 1, 1, 0])\n",
      "prob: tensor([0.9984, 0.0016])\t predict 0\n",
      "prob: tensor([0.0015, 0.9985])\t predict 1\n",
      "prob: tensor([0.0013, 0.9987])\t predict 1\n",
      "prob: tensor([0.9977, 0.0023])\t predict 0\n"
     ]
    }
   ],
   "source": [
    "# 모델 새로 정의\n",
    "model = XOR()\n",
    "# 모델 불러오기\n",
    "model.load_state_dict(torch.load(\"xor.pt\", map_location=\"cpu\"))\n",
    "\n",
    "probs = model.predict(inputs.cpu())\n",
    "print(probs)\n",
    "predicts = probs.argmax(1)\n",
    "print(predicts)\n",
    "for prob, pred in zip(probs, predicts):\n",
    "    print(f\"prob: {prob.data}\\t predict {pred}\")"
   ]
  }
 ],
 "metadata": {
  "kernelspec": {
   "display_name": "Python 3",
   "language": "python",
   "name": "python3"
  },
  "language_info": {
   "codemirror_mode": {
    "name": "ipython",
    "version": 3
   },
   "file_extension": ".py",
   "mimetype": "text/x-python",
   "name": "python",
   "nbconvert_exporter": "python",
   "pygments_lexer": "ipython3",
   "version": "3.7.10"
  }
 },
 "nbformat": 4,
 "nbformat_minor": 5
}
