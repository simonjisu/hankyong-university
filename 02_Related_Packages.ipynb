{
 "cells": [
  {
   "cell_type": "markdown",
   "id": "e5515efa-389b-4050-917a-1d88064f36a4",
   "metadata": {},
   "source": [
    "# Related Packages\n",
    "\n",
    "turn-off jedi\n",
    "\n",
    "```\n",
    "$ ipython profile create\n",
    "$ ipython locate\n",
    "$ vi .ipython/profile_default/ipython_config.py\n",
    "```\n",
    "\n",
    "```\n",
    "## Experimental: Use Jedi to generate autocompletions. Default to True if jedi is\n",
    "#  installed.\n",
    "#  Default: True\n",
    "# c.Completer.use_jedi = True\n",
    "c.Completer.use_jedi = False # 이걸로 바꿔줘야함\n",
    "```"
   ]
  },
  {
   "cell_type": "markdown",
   "id": "57fc8813-dbc9-4b67-8487-ecf7478f1004",
   "metadata": {},
   "source": [
    "---"
   ]
  },
  {
   "cell_type": "markdown",
   "id": "0a1a4c48-b8c6-443e-89fe-8f7c8646d549",
   "metadata": {},
   "source": [
    "### 객체 지향(Object Oriented) vs 절차 지향(Procedural Oriented)\n",
    "\n",
    "**절차 지향(Procedural Oriented)**\n",
    "- 장점: 컴퓨터의 처리구조와 유사해서 실행속도가 빠름\n",
    "- 단점:\n",
    "    - 유지보수가 어려움\n",
    "    - 실행 순서가 정해져 있으므로 코드의 순서가 바뀌면 동일한 결과를 보장하기 어려움\n",
    "    - 디버깅이 어려움\n",
    "    \n",
    "\n",
    "**객체 지향(Object Oriented)**\n",
    "- 장점: \n",
    "    - 코드의 재활용성이 높음\n",
    "    - 코딩이 절차지향보다 간편함\n",
    "    - 디버깅이 쉬움\n",
    "- 단점:\n",
    "    - 처리속도가 절차지향보다 느림\n",
    "    - 설계에 많은 시간소요가 들어감\n",
    "    \n",
    "    \n",
    "둘이 정 반대의 개념은 아니다. 구현 방식의 차이\n",
    "- 절차 지향(Procedural Oriented): 데이터 중심으로 함수 구현\n",
    "- 객체 지향(Object Oriented): 기능 중심으로 method(함수) 구현\n",
    "\n",
    "https://brownbears.tistory.com/407"
   ]
  },
  {
   "cell_type": "code",
   "execution_count": 165,
   "id": "80f891ae-389a-484d-9e3b-ad9775a995ba",
   "metadata": {},
   "outputs": [
    {
     "name": "stdout",
     "output_type": "stream",
     "text": [
      "20\n"
     ]
    }
   ],
   "source": [
    "# example: 오늘 얼마큼 걸었는지 기록하고 싶음\n",
    "# tracking my walks, i walk 20 step (for each forward function called)\n",
    "# Procedural Oriented\n",
    "walks = 0 \n",
    "def forward(walks):\n",
    "    return walks + 20\n",
    "walks = forward(walks)\n",
    "print(walks)"
   ]
  },
  {
   "cell_type": "code",
   "execution_count": 166,
   "id": "9b5ed3f1-8620-4484-b8e4-294af67f656b",
   "metadata": {},
   "outputs": [
    {
     "name": "stdout",
     "output_type": "stream",
     "text": [
      "20\n"
     ]
    }
   ],
   "source": [
    "# Object Oriented: focus on object\n",
    "class WalkTracker:\n",
    "    def __init__(self):\n",
    "        self.walks = 0\n",
    "        \n",
    "    def forward(self):\n",
    "        self.walks = self.walks + 20\n",
    "\n",
    "tracker = WalkTracker()\n",
    "tracker.forward()\n",
    "print(tracker.walks)"
   ]
  },
  {
   "cell_type": "markdown",
   "id": "4cf62435-bd89-4326-b394-1f45ec8dd9d2",
   "metadata": {},
   "source": [
    "---"
   ]
  },
  {
   "cell_type": "markdown",
   "id": "07902c65-dbf1-46fe-b33d-b1d98cc50eb7",
   "metadata": {},
   "source": [
    "## NumPy"
   ]
  },
  {
   "cell_type": "code",
   "execution_count": 2,
   "id": "021c8ee7-d6f4-44f1-8771-f8ddddb1ad59",
   "metadata": {},
   "outputs": [],
   "source": [
    "import numpy as np"
   ]
  },
  {
   "cell_type": "markdown",
   "id": "054cc0e2-5ace-441c-b2fa-d9f7a68bfba5",
   "metadata": {},
   "source": [
    "## Create a NumPy array"
   ]
  },
  {
   "cell_type": "code",
   "execution_count": 9,
   "id": "d9336e76-6e37-4caf-895c-898bf212388f",
   "metadata": {},
   "outputs": [],
   "source": [
    "# matlab: [ 1 2 3; 4 5 6 ]  -> float?\n",
    "\n",
    "# create np.int64: 2**64 = 1.8446744e+19 \n",
    " \n",
    "x = np.array([[1, 2, 3], \n",
    "              [4, 5, 6]])"
   ]
  },
  {
   "cell_type": "code",
   "execution_count": 16,
   "id": "0c407dad-0217-4362-8478-be0368194508",
   "metadata": {},
   "outputs": [
    {
     "name": "stdout",
     "output_type": "stream",
     "text": [
      "Type: <class 'numpy.ndarray'>\n",
      "Data Type: int64\n",
      "Number of dimension: 2\n",
      "Number of elements: 6\n",
      "Dimension: (2, 3)\n"
     ]
    }
   ],
   "source": [
    "print(f\"Type: {type(x)}\")\n",
    "print(f\"Data Type: {x.dtype}\") # datatype\n",
    "print(f\"Number of dimension: {x.ndim}\") # number of dimension\n",
    "print(f\"Number of elements: {x.size}\") # number of elements\n",
    "print(f\"Dimension: {x.shape}\") # Dimension"
   ]
  },
  {
   "cell_type": "code",
   "execution_count": 19,
   "id": "cc77f396-4392-4890-b9af-b1fca3355b17",
   "metadata": {},
   "outputs": [
    {
     "name": "stdout",
     "output_type": "stream",
     "text": [
      "x1 ndim = 1 | (3,)\n",
      "x1 ndim = 2 | (1, 3)\n"
     ]
    }
   ],
   "source": [
    "# not always 2 dim mension\n",
    "x1 = np.array([1, 2, 3])\n",
    "x2 = np.array([[1, 2, 3]])\n",
    "\n",
    "print(f\"x1 ndim = {x1.ndim} | {x1.shape}\")  # (3, ) is tuple, (3) equals 3, int\n",
    "print(f\"x1 ndim = {x2.ndim} | {x2.shape}\")"
   ]
  },
  {
   "cell_type": "code",
   "execution_count": 39,
   "id": "391deb5c-081d-46f8-a8d0-a56c69c75c94",
   "metadata": {},
   "outputs": [
    {
     "data": {
      "text/plain": [
       "array([[1., 2., 3.],\n",
       "       [4., 5., 6.]], dtype=float32)"
      ]
     },
     "execution_count": 39,
     "metadata": {},
     "output_type": "execute_result"
    }
   ],
   "source": [
    "# create other type tensor\n",
    "x = np.array([[1, 2, 3], [4, 5, 6]], dtype=np.float32)\n",
    "x"
   ]
  },
  {
   "cell_type": "markdown",
   "id": "0575a2c2-07ab-46aa-8212-12858bc0fb25",
   "metadata": {},
   "source": [
    "### often used methods"
   ]
  },
  {
   "cell_type": "code",
   "execution_count": 24,
   "id": "c33f1c1c-b3ff-4b99-8cd1-e3d3d4dbe2ee",
   "metadata": {},
   "outputs": [
    {
     "data": {
      "text/plain": [
       "array([0, 1, 2, 3, 4, 5, 6, 7, 8])"
      ]
     },
     "execution_count": 24,
     "metadata": {},
     "output_type": "execute_result"
    }
   ],
   "source": [
    "# = range\n",
    "np.arange(0, 9, 1)"
   ]
  },
  {
   "cell_type": "code",
   "execution_count": 26,
   "id": "7fa3ff37-26e6-4c27-9dd5-805e6cd6fba5",
   "metadata": {},
   "outputs": [
    {
     "data": {
      "text/plain": [
       "array([1. , 1.5, 2. , 2.5, 3. , 3.5, 4. , 4.5, 5. ])"
      ]
     },
     "execution_count": 26,
     "metadata": {},
     "output_type": "execute_result"
    }
   ],
   "source": [
    "# linspace\n",
    "np.linspace(1, 5, 9)"
   ]
  },
  {
   "cell_type": "code",
   "execution_count": 31,
   "id": "266f29ca-f9f4-4cf2-b784-935245009351",
   "metadata": {},
   "outputs": [
    {
     "data": {
      "text/plain": [
       "array([[1., 0., 0.],\n",
       "       [0., 1., 0.],\n",
       "       [0., 0., 1.]])"
      ]
     },
     "execution_count": 31,
     "metadata": {},
     "output_type": "execute_result"
    }
   ],
   "source": [
    "# identity matrix\n",
    "np.eye(3)"
   ]
  },
  {
   "cell_type": "code",
   "execution_count": 35,
   "id": "83390103-3556-4aa2-8901-0ca466b54c22",
   "metadata": {},
   "outputs": [
    {
     "data": {
      "text/plain": [
       "array([[1., 1.],\n",
       "       [1., 1.]])"
      ]
     },
     "execution_count": 35,
     "metadata": {},
     "output_type": "execute_result"
    }
   ],
   "source": [
    "# ones matrix\n",
    "np.ones(shape=(2,2))"
   ]
  },
  {
   "cell_type": "code",
   "execution_count": 36,
   "id": "44e6cab5-6356-42cc-9755-299a21e62791",
   "metadata": {},
   "outputs": [
    {
     "data": {
      "text/plain": [
       "array([[0., 0.],\n",
       "       [0., 0.]])"
      ]
     },
     "execution_count": 36,
     "metadata": {},
     "output_type": "execute_result"
    }
   ],
   "source": [
    "# zeros matrix\n",
    "np.zeros(shape=(2,2))"
   ]
  },
  {
   "cell_type": "code",
   "execution_count": 45,
   "id": "d098b89c-6430-4ece-837e-792d71469660",
   "metadata": {},
   "outputs": [
    {
     "data": {
      "text/plain": [
       "array([3.], dtype=float32)"
      ]
     },
     "execution_count": 45,
     "metadata": {},
     "output_type": "execute_result"
    }
   ],
   "source": [
    "# get dialog matrix elem\n",
    "np.diag(x, 2)"
   ]
  },
  {
   "cell_type": "code",
   "execution_count": 77,
   "id": "b3c5572a-2f35-48d7-b486-2eacd6dfe539",
   "metadata": {},
   "outputs": [
    {
     "data": {
      "text/plain": [
       "array([[0.38656803, 0.3171012 , 0.05712714, 0.0089144 , 0.28984494],\n",
       "       [0.12406282, 0.2338381 , 0.89610451, 0.13549445, 0.40979219],\n",
       "       [0.15671899, 0.4167    , 0.46405575, 0.42624289, 0.56451287]])"
      ]
     },
     "execution_count": 77,
     "metadata": {},
     "output_type": "execute_result"
    }
   ],
   "source": [
    "# create random numpy array\n",
    "# random samples from a uniform distribution: Uniform [0, 1)\n",
    "np.random.rand(3, 5)"
   ]
  },
  {
   "cell_type": "code",
   "execution_count": 78,
   "id": "4ff0eb33-5c49-48ef-88da-2939c06143e4",
   "metadata": {},
   "outputs": [
    {
     "data": {
      "text/plain": [
       "array([[-1.10642359, -0.11137323,  1.28787433, -0.09711504, -0.68655805],\n",
       "       [ 0.27990781,  1.66678672,  0.11378623,  1.20713174,  0.03440031],\n",
       "       [-0.49653675,  0.94879641,  1.01591378, -2.0413474 ,  0.10078489]])"
      ]
     },
     "execution_count": 78,
     "metadata": {},
     "output_type": "execute_result"
    }
   ],
   "source": [
    "# create random numpy array\n",
    "# random samples from a normal distribution: Gaussian (mean=0, std=1)\n",
    "np.random.randn(3, 5)"
   ]
  },
  {
   "cell_type": "code",
   "execution_count": 80,
   "id": "1d0deea3-8552-441d-85ec-e746ff955c8f",
   "metadata": {},
   "outputs": [
    {
     "data": {
      "text/plain": [
       "array([5, 6, 6, 5, 6])"
      ]
     },
     "execution_count": 80,
     "metadata": {},
     "output_type": "execute_result"
    }
   ],
   "source": [
    "# create random numpy array\n",
    "# random samples from a normal distribution: Gaussian (mean=0, std=1)\n",
    "np.random.randint(0, 9, size=(5,), dtype=np.int64)"
   ]
  },
  {
   "cell_type": "code",
   "execution_count": 169,
   "id": "b1824385-a557-41da-a0a0-12b7dac0b34a",
   "metadata": {},
   "outputs": [
    {
     "data": {
      "text/plain": [
       "array([7, 2, 9, 3])"
      ]
     },
     "execution_count": 169,
     "metadata": {},
     "output_type": "execute_result"
    }
   ],
   "source": [
    "# random choice\n",
    "x = np.arange(0, 10)\n",
    "np.random.choice(x, size=(4,), replace=False)"
   ]
  },
  {
   "cell_type": "code",
   "execution_count": 175,
   "id": "d339c1e4-9df6-4127-a377-9b17ea45dd55",
   "metadata": {},
   "outputs": [
    {
     "data": {
      "text/plain": [
       "array([7, 6, 7, 1, 7])"
      ]
     },
     "execution_count": 175,
     "metadata": {},
     "output_type": "execute_result"
    }
   ],
   "source": [
    "np.random.seed(777)\n",
    "# fix seed to create constant result\n",
    "np.random.randint(0, 9, size=(5,), dtype=np.int64)"
   ]
  },
  {
   "cell_type": "markdown",
   "id": "0b67a55f-42c5-472b-92a1-77f94645762a",
   "metadata": {},
   "source": [
    "## Access elements"
   ]
  },
  {
   "cell_type": "code",
   "execution_count": 108,
   "id": "1958cf23-5398-4a3a-8db9-48ebb08c1c22",
   "metadata": {},
   "outputs": [
    {
     "name": "stdout",
     "output_type": "stream",
     "text": [
      "[ 0  1  2  3  4  5  6  7  8  9 10 11 12 13 14]\n",
      "\n",
      "x.reshape(5, 3)\n",
      "[[ 0  1  2]\n",
      " [ 3  4  5]\n",
      " [ 6  7  8]\n",
      " [ 9 10 11]\n",
      " [12 13 14]]\n",
      "\n",
      "x.reshape(5, -1)\n",
      "[[ 0  1  2]\n",
      " [ 3  4  5]\n",
      " [ 6  7  8]\n",
      " [ 9 10 11]\n",
      " [12 13 14]]\n"
     ]
    }
   ],
   "source": [
    "# reshape\n",
    "x = np.arange(0, 15)  # 0, 1, ..., 14  | size(numel) = 15\n",
    "print(x)\n",
    "print()\n",
    "print(\"x.reshape(5, 3)\")  \n",
    "print(x.reshape(5, 3))\n",
    "print()\n",
    "print(\"x.reshape(5, -1)\")\n",
    "print(x.reshape(5, -1))"
   ]
  },
  {
   "cell_type": "code",
   "execution_count": 57,
   "id": "9eb6816f-7048-4b31-bc10-e0f844cb645d",
   "metadata": {},
   "outputs": [
    {
     "data": {
      "text/plain": [
       "array([[ 0,  1,  2],\n",
       "       [ 3,  4,  5],\n",
       "       [ 6,  7,  8],\n",
       "       [ 9, 10, 11],\n",
       "       [12, 13, 14]])"
      ]
     },
     "execution_count": 57,
     "metadata": {},
     "output_type": "execute_result"
    }
   ],
   "source": [
    "# reshape\n",
    "x = np.arange(0, 15).reshape(5, 3)\n",
    "x"
   ]
  },
  {
   "cell_type": "markdown",
   "id": "8070c4eb-b61c-47e7-8c4b-d5f7f6d394f6",
   "metadata": {},
   "source": [
    "```\n",
    "          0   1   2\n",
    "   0   [[ 0,  1,  2],\n",
    "   1    [ 3,  4,  5],\n",
    "   2    [ 6,  7,  8],\n",
    "   3    [ 9, 10, 11],\n",
    "   4    [12, 13, 14]])\n",
    "```"
   ]
  },
  {
   "cell_type": "code",
   "execution_count": 60,
   "id": "de5d6fa5-2fde-47e9-952a-7095b820026f",
   "metadata": {},
   "outputs": [
    {
     "data": {
      "text/plain": [
       "1"
      ]
     },
     "execution_count": 60,
     "metadata": {},
     "output_type": "execute_result"
    }
   ],
   "source": [
    "# select single element\n",
    "x[0, 1]  # scalar(integer)"
   ]
  },
  {
   "cell_type": "code",
   "execution_count": 62,
   "id": "94f648ae-a2b4-463c-8b2d-02d874169298",
   "metadata": {},
   "outputs": [
    {
     "data": {
      "text/plain": [
       "array([0, 1, 2])"
      ]
     },
     "execution_count": 62,
     "metadata": {},
     "output_type": "execute_result"
    }
   ],
   "source": [
    "# select first row\n",
    "x[0, :]  # ndim = 1"
   ]
  },
  {
   "cell_type": "code",
   "execution_count": 63,
   "id": "92f910ec-7b21-416a-8487-53e8455fd116",
   "metadata": {},
   "outputs": [
    {
     "data": {
      "text/plain": [
       "array([ 1,  4,  7, 10, 13])"
      ]
     },
     "execution_count": 63,
     "metadata": {},
     "output_type": "execute_result"
    }
   ],
   "source": [
    "# select second column\n",
    "x[:, 1]  # ndim = 1"
   ]
  },
  {
   "cell_type": "code",
   "execution_count": 59,
   "id": "2d584dd9-2f28-4494-9d02-8022e254c157",
   "metadata": {},
   "outputs": [
    {
     "data": {
      "text/plain": [
       "array([[1],\n",
       "       [4]])"
      ]
     },
     "execution_count": 59,
     "metadata": {},
     "output_type": "execute_result"
    }
   ],
   "source": [
    "# select row: 0~2, colulm: 1\n",
    "x[0:2, 1:2]"
   ]
  },
  {
   "cell_type": "code",
   "execution_count": 66,
   "id": "80e0bd7a-f720-4ed2-ba2b-7228e399b41a",
   "metadata": {},
   "outputs": [
    {
     "data": {
      "text/plain": [
       "array([[ 0,  2],\n",
       "       [ 6,  8],\n",
       "       [12, 14]])"
      ]
     },
     "execution_count": 66,
     "metadata": {},
     "output_type": "execute_result"
    }
   ],
   "source": [
    "# select even index row, column\n",
    "x[0:5:2, 0:3:2]   # equals to x[::2, ::2]"
   ]
  },
  {
   "cell_type": "code",
   "execution_count": 71,
   "id": "4a60e153-9b51-4f18-997e-db7c0c27da69",
   "metadata": {},
   "outputs": [
    {
     "data": {
      "text/plain": [
       "array([[12, 13, 14],\n",
       "       [ 9, 10, 11],\n",
       "       [ 6,  7,  8],\n",
       "       [ 3,  4,  5],\n",
       "       [ 0,  1,  2]])"
      ]
     },
     "execution_count": 71,
     "metadata": {},
     "output_type": "execute_result"
    }
   ],
   "source": [
    "# filp\n",
    "x[::-1, :]"
   ]
  },
  {
   "cell_type": "code",
   "execution_count": 75,
   "id": "cd8f48a9-f756-4a0b-9519-6498a1dc6243",
   "metadata": {},
   "outputs": [
    {
     "name": "stdout",
     "output_type": "stream",
     "text": [
      "Select index 0 from x1: 1\n",
      "Select index 0 from x2: [1 2 3]\n",
      "Select index 1 from x1: 2\n"
     ]
    },
    {
     "ename": "IndexError",
     "evalue": "index 1 is out of bounds for axis 0 with size 1",
     "output_type": "error",
     "traceback": [
      "\u001b[0;31m---------------------------------------------------------------------------\u001b[0m",
      "\u001b[0;31mIndexError\u001b[0m                                Traceback (most recent call last)",
      "\u001b[0;32m<ipython-input-75-abe2e7fdbdd9>\u001b[0m in \u001b[0;36m<module>\u001b[0;34m\u001b[0m\n\u001b[1;32m      7\u001b[0m \u001b[0;34m\u001b[0m\u001b[0m\n\u001b[1;32m      8\u001b[0m \u001b[0mprint\u001b[0m\u001b[0;34m(\u001b[0m\u001b[0;34mf\"Select index 1 from x1: {x1[1]}\"\u001b[0m\u001b[0;34m)\u001b[0m\u001b[0;34m\u001b[0m\u001b[0;34m\u001b[0m\u001b[0m\n\u001b[0;32m----> 9\u001b[0;31m \u001b[0mprint\u001b[0m\u001b[0;34m(\u001b[0m\u001b[0;34mf\"Select index 1 from x2: {x2[1]}\"\u001b[0m\u001b[0;34m)\u001b[0m\u001b[0;34m\u001b[0m\u001b[0;34m\u001b[0m\u001b[0m\n\u001b[0m",
      "\u001b[0;31mIndexError\u001b[0m: index 1 is out of bounds for axis 0 with size 1"
     ]
    }
   ],
   "source": [
    "# differrence between ndim=1, ndim=2\n",
    "x1 = np.array([1, 2, 3])   # shape = (3, )\n",
    "x2 = np.array([[1, 2, 3]])  # shape = (1, 3)\n",
    "\n",
    "print(f\"Select index 0 from x1: {x1[0]}\")\n",
    "print(f\"Select index 0 from x2: {x2[0]}\")\n",
    "\n",
    "print(f\"Select index 1 from x1: {x1[1]}\")\n",
    "print(f\"Select index 1 from x2: {x2[1]}\")"
   ]
  },
  {
   "cell_type": "code",
   "execution_count": 76,
   "id": "f077e477-bdd3-4cb7-bba2-1f0a1489c196",
   "metadata": {},
   "outputs": [
    {
     "name": "stdout",
     "output_type": "stream",
     "text": [
      "Select index 1 from x2: 2\n"
     ]
    }
   ],
   "source": [
    "print(f\"Select index 1 from x2: {x2[0, 1]}\")"
   ]
  },
  {
   "cell_type": "markdown",
   "id": "d168beed-cb19-4411-a7e9-75a1149effa3",
   "metadata": {},
   "source": [
    "## Operations"
   ]
  },
  {
   "cell_type": "code",
   "execution_count": 186,
   "id": "6043ab2a-39da-44dd-ac1e-9c321aee7468",
   "metadata": {},
   "outputs": [
    {
     "data": {
      "text/plain": [
       "(2, 4)"
      ]
     },
     "execution_count": 186,
     "metadata": {},
     "output_type": "execute_result"
    }
   ],
   "source": [
    "x = np.array([\n",
    "    [1, 2, 3, 4], \n",
    "    [5, 6, 7, 8]\n",
    "])\n",
    "x.shape"
   ]
  },
  {
   "cell_type": "code",
   "execution_count": 195,
   "id": "f4e52c5c-a69e-4034-92bd-a4df8d464038",
   "metadata": {},
   "outputs": [
    {
     "data": {
      "text/plain": [
       "array([[ True, False, False, False],\n",
       "       [False, False, False, False]])"
      ]
     },
     "execution_count": 195,
     "metadata": {},
     "output_type": "execute_result"
    }
   ],
   "source": [
    "# relation operation, returns boolean array\n",
    "x == 1"
   ]
  },
  {
   "cell_type": "code",
   "execution_count": 190,
   "id": "b92ac15c-7c1f-400d-8496-67ed13210543",
   "metadata": {},
   "outputs": [
    {
     "data": {
      "text/plain": [
       "array([1])"
      ]
     },
     "execution_count": 190,
     "metadata": {},
     "output_type": "execute_result"
    }
   ],
   "source": [
    "# can use it to select array\n",
    "x[x == 1]"
   ]
  },
  {
   "cell_type": "code",
   "execution_count": 96,
   "id": "7e8aae11-7d69-496c-a310-21fac5e02442",
   "metadata": {},
   "outputs": [
    {
     "name": "stdout",
     "output_type": "stream",
     "text": [
      "[[1 2 3 4]\n",
      " [5 6 7 8]]\n",
      "Sum all elements: 36\n",
      "\n",
      "np.sum(x, axis=0): \n",
      "[ 6  8 10 12]\n",
      "\n",
      "np.sum(x, axis=1): \n",
      "[10 26]\n"
     ]
    }
   ],
   "source": [
    "# summation\n",
    "print(x)\n",
    "print(f\"Sum all elements: {x.sum()}\")\n",
    "print()\n",
    "print(\"np.sum(x, axis=0): \")\n",
    "print(np.sum(x, axis=0))  # same as x.sum(0)\n",
    "print()\n",
    "print(\"np.sum(x, axis=1): \")\n",
    "print(np.sum(x, axis=1))  # same as x.sum(1)"
   ]
  },
  {
   "cell_type": "code",
   "execution_count": 97,
   "id": "6dae0aff-2add-4466-a92d-36decf5f868d",
   "metadata": {},
   "outputs": [
    {
     "name": "stdout",
     "output_type": "stream",
     "text": [
      "[[1 2 3 4]\n",
      " [5 6 7 8]]\n",
      "Mean all elements: 4.5\n",
      "\n",
      "np.mean(x, axis=0): \n",
      "[3. 4. 5. 6.]\n",
      "\n",
      "np.mean(x, axis=1): \n",
      "[2.5 6.5]\n",
      "Mean all elements: 4.5\n"
     ]
    }
   ],
   "source": [
    "# mean\n",
    "print(x)\n",
    "print(f\"Mean all elements: {x.mean()}\")\n",
    "print()\n",
    "print(\"np.mean(x, axis=0): \")\n",
    "print(np.mean(x, axis=0))  # same as x.mean(0)\n",
    "print()\n",
    "print(\"np.mean(x, axis=1): \")\n",
    "print(np.mean(x, axis=1))  # same as x.mean(1)"
   ]
  },
  {
   "cell_type": "markdown",
   "id": "5e46c1a9-4301-461d-8101-6aa751ad4de4",
   "metadata": {},
   "source": [
    "max, min is also same as sum, mean"
   ]
  },
  {
   "cell_type": "code",
   "execution_count": 98,
   "id": "6fb6f185-e3b8-406b-8894-66712d8f1c37",
   "metadata": {},
   "outputs": [
    {
     "data": {
      "text/plain": [
       "array([[1, 5],\n",
       "       [2, 6],\n",
       "       [3, 7],\n",
       "       [4, 8]])"
      ]
     },
     "execution_count": 98,
     "metadata": {},
     "output_type": "execute_result"
    }
   ],
   "source": [
    "# transpose\n",
    "x = np.array([\n",
    "    [1, 2, 3, 4], \n",
    "    [5, 6, 7, 8]\n",
    "])\n",
    "\n",
    "x.T  # x.shape = (4, 2)"
   ]
  },
  {
   "cell_type": "code",
   "execution_count": 99,
   "id": "6df7dd11-73f3-4651-adcd-4719cdea4c44",
   "metadata": {},
   "outputs": [
    {
     "data": {
      "text/plain": [
       "array([1, 2, 3, 4, 5, 6, 7, 8])"
      ]
     },
     "execution_count": 99,
     "metadata": {},
     "output_type": "execute_result"
    }
   ],
   "source": [
    "# flatten\n",
    "x.flatten()  # x.ndim = 1"
   ]
  },
  {
   "cell_type": "markdown",
   "id": "48971d83-82cb-41c2-bae4-6a9bf6e669a8",
   "metadata": {},
   "source": [
    "### element-wise product"
   ]
  },
  {
   "cell_type": "code",
   "execution_count": 158,
   "id": "403b1182-28bd-4103-a065-6a3d5736dacc",
   "metadata": {},
   "outputs": [
    {
     "data": {
      "text/plain": [
       "array([[1],\n",
       "       [4],\n",
       "       [9]])"
      ]
     },
     "execution_count": 158,
     "metadata": {},
     "output_type": "execute_result"
    }
   ],
   "source": [
    "x = np.array([[1], [2], [3]])\n",
    "x * x"
   ]
  },
  {
   "cell_type": "markdown",
   "id": "427cf038-d85a-45bb-8f82-2f2640304c27",
   "metadata": {},
   "source": [
    "broad casting: http://www.astroml.org/book_figures/appendix/fig_broadcast_visual.html"
   ]
  },
  {
   "cell_type": "code",
   "execution_count": 161,
   "id": "8f1b45d1-52c1-48b9-ab80-d5a861e46292",
   "metadata": {},
   "outputs": [
    {
     "data": {
      "text/plain": [
       "array([[3],\n",
       "       [6],\n",
       "       [9]])"
      ]
     },
     "execution_count": 161,
     "metadata": {},
     "output_type": "execute_result"
    }
   ],
   "source": [
    "x * 3"
   ]
  },
  {
   "cell_type": "markdown",
   "id": "15fad76b-5d74-4be7-a583-60f28f27ac39",
   "metadata": {},
   "source": [
    "### dot product\n",
    "`help(np.dot)`\n",
    "\n",
    "Dot product of two arrays. Specifically,\n",
    "\n",
    "- If both `a` and `b` are 1-D arrays, it is inner product of vectors\n",
    "  (without complex conjugation).\n",
    "\n",
    "- If both `a` and `b` are 2-D arrays, it is matrix multiplication,\n",
    "  but using :func:`matmul` or ``a @ b`` is preferred.\n",
    "\n",
    "- If either `a` or `b` is 0-D (scalar), it is equivalent to :func:`multiply`\n",
    "  and using ``numpy.multiply(a, b)`` or ``a * b`` is preferred.\n",
    "\n",
    "- If `a` is an N-D array and `b` is a 1-D array, it is a sum product over\n",
    "  the last axis of `a` and `b`.\n",
    "\n",
    "- If `a` is an N-D array and `b` is an M-D array (where ``M>=2``), it is a\n",
    "  sum product over the last axis of `a` and the second-to-last axis of `b`::\n"
   ]
  },
  {
   "cell_type": "code",
   "execution_count": 130,
   "id": "6d04ea29-5b3c-4a2b-8854-417426db40a8",
   "metadata": {},
   "outputs": [
    {
     "name": "stdout",
     "output_type": "stream",
     "text": [
      "np.dot(a, b) = 1x4 + 2x5 + 3x6\n"
     ]
    },
    {
     "data": {
      "text/plain": [
       "32"
      ]
     },
     "execution_count": 130,
     "metadata": {},
     "output_type": "execute_result"
    }
   ],
   "source": [
    "# 1. a and b are both 1-D array  -> inner product\n",
    "a = np.array([1, 2, 3])  # shape: (3,)\n",
    "b = np.array([4, 5, 6])  # shape: (3,)\n",
    "\n",
    "print(\"np.dot(a, b) = 1*4 + 2*5 + 3*6\")\n",
    "np.dot(a, b)"
   ]
  },
  {
   "cell_type": "code",
   "execution_count": 134,
   "id": "60611693-1f1d-4fd3-9ecb-9a76adf52f0f",
   "metadata": {},
   "outputs": [
    {
     "name": "stdout",
     "output_type": "stream",
     "text": [
      "np.dot(a, b)\n"
     ]
    },
    {
     "data": {
      "text/plain": [
       "array([[40, 46]])"
      ]
     },
     "execution_count": 134,
     "metadata": {},
     "output_type": "execute_result"
    }
   ],
   "source": [
    "# 2. a and b are both 2-D array -> matrix multiplication\n",
    "a = np.array([[1, 2, 3]])  # shape: (1, 3)\n",
    "b = np.array([[4, 5],\n",
    "              [6, 7],\n",
    "              [8, 9]])  # shape: (3, 2)\n",
    "\n",
    "print(\"np.dot(a, b) -> shape = (1, 3) x (3, 2) = (1, 2)\")\n",
    "np.dot(a, b)  # same as: a @ b, np.matmul(a, b)"
   ]
  },
  {
   "cell_type": "code",
   "execution_count": 151,
   "id": "77a16a8d-04a4-4261-9a31-f1a00311bbec",
   "metadata": {},
   "outputs": [
    {
     "name": "stdout",
     "output_type": "stream",
     "text": [
      "np.dot(a, b) -> shape = (1, 3, 2) x (2,) = (1, 3)\n"
     ]
    },
    {
     "data": {
      "text/plain": [
       "array([[ 5, 11, 17]])"
      ]
     },
     "execution_count": 151,
     "metadata": {},
     "output_type": "execute_result"
    }
   ],
   "source": [
    "# 3. a is an N-D array and b is a 1-D array,\n",
    "# it is a sum product over the last axis of a and b\n",
    "a = np.array([[[1, 2], \n",
    "               [3, 4], \n",
    "               [5, 6]]])  # shape: (1, 3, 2)\n",
    "b = np.array([1, 2])  # shape: (2,)\n",
    "\n",
    "print(\"np.dot(a, b) -> shape = (1, 3, 2) x (2,) = (1, 3)\")\n",
    "# first element: 1*1 + 2*2 \n",
    "# second element: 3*1 + 4*2 \n",
    "# third element: 5*1 + 6*2\n",
    "np.dot(a, b)"
   ]
  },
  {
   "cell_type": "code",
   "execution_count": 162,
   "id": "a10dfb80-c001-4144-aa90-b355b4a54caa",
   "metadata": {},
   "outputs": [
    {
     "name": "stdout",
     "output_type": "stream",
     "text": [
      "np.dot(a, b) -> shape = (1, 3, 2) x (2, 4) = (1, 3, 4)\n"
     ]
    },
    {
     "data": {
      "text/plain": [
       "array([[[11, 14, 17, 20],\n",
       "        [23, 30, 37, 44],\n",
       "        [35, 46, 57, 68]]])"
      ]
     },
     "execution_count": 162,
     "metadata": {},
     "output_type": "execute_result"
    }
   ],
   "source": [
    "# If a is an N-D array and b is an M-D array (where M>=2), \n",
    "# it is a sum product over the last axis of a and the second-to-last axis of b::\n",
    "a = np.array([[[1, 2], \n",
    "               [3, 4], \n",
    "               [5, 6]]])  # shape: (1, 3, 2)\n",
    "b = np.array([[1, 2, 3, 4], [5, 6, 7, 8]])  # shape: (2, 4)\n",
    "\n",
    "print(\"np.dot(a, b) -> shape = (1, 3, 2) x (2, 4) = (1, 3, 4)\")\n",
    "np.dot(a, b)"
   ]
  },
  {
   "cell_type": "markdown",
   "id": "d4a6047d-6adc-488b-bf44-66a4a52ac28b",
   "metadata": {},
   "source": [
    "## merge arrays"
   ]
  },
  {
   "cell_type": "code",
   "execution_count": 119,
   "id": "f37239a2-981e-4ce5-b3c4-caaca030b6b5",
   "metadata": {},
   "outputs": [
    {
     "name": "stdout",
     "output_type": "stream",
     "text": [
      "np.concatenate([a, b])\n",
      "[1 2 3 4 5 6]\n",
      "[1 2 3 4 5 6]\n"
     ]
    }
   ],
   "source": [
    "# concatenate\n",
    "a = np.array([1, 2, 3])\n",
    "b = np.array([4, 5, 6])\n",
    "print(\"np.concatenate([a, b])\")\n",
    "print(f\"{np.concatenate([a, b])}\")  # ndim = 1\n",
    "print(f\"{np.concatenate([a, b], axis=0)}\")  # ndim = 1"
   ]
  },
  {
   "cell_type": "code",
   "execution_count": 120,
   "id": "6a6ad552-67b5-4b77-8832-3595f218863a",
   "metadata": {},
   "outputs": [
    {
     "name": "stdout",
     "output_type": "stream",
     "text": [
      "Must reshape to 2 ndim array to concatenate by axis=0\n",
      "method 1: reshape\n",
      "[[1 2 3]\n",
      " [4 5 6]]\n",
      "method 2: np.newaxis\n",
      "[[1 2 3]\n",
      " [4 5 6]]\n"
     ]
    }
   ],
   "source": [
    "print(\"Must reshape to 2 ndim array to concatenate by axis=0\")\n",
    "print(\"method 1: reshape\")\n",
    "print(f\"{np.concatenate([a.reshape(1, 3), b.reshape(1, 3)], axis=0)}\")\n",
    "print(\"method 2: np.newaxis\")\n",
    "print(f\"{np.concatenate([a[np.newaxis, :], b[np.newaxis, :]], axis=0)}\")"
   ]
  },
  {
   "cell_type": "code",
   "execution_count": 123,
   "id": "ce150844-2254-4a81-9021-7dd3907a9507",
   "metadata": {},
   "outputs": [
    {
     "data": {
      "text/plain": [
       "array([[1, 2, 3],\n",
       "       [4, 5, 6]])"
      ]
     },
     "execution_count": 123,
     "metadata": {},
     "output_type": "execute_result"
    }
   ],
   "source": [
    "np.vstack([a, b])"
   ]
  },
  {
   "cell_type": "code",
   "execution_count": 124,
   "id": "6d8920c7-ef5a-4fce-87d4-bf8eca6ef28d",
   "metadata": {},
   "outputs": [
    {
     "data": {
      "text/plain": [
       "array([1, 2, 3, 4, 5, 6])"
      ]
     },
     "execution_count": 124,
     "metadata": {},
     "output_type": "execute_result"
    }
   ],
   "source": [
    "np.hstack([a, b])"
   ]
  },
  {
   "cell_type": "markdown",
   "id": "f8d9789f-9a80-4249-89b0-dfd132903809",
   "metadata": {},
   "source": [
    "## Class Practice"
   ]
  },
  {
   "cell_type": "code",
   "execution_count": null,
   "id": "55cfbc09-6422-4fbb-80d6-3196b08f9a2a",
   "metadata": {},
   "outputs": [],
   "source": [
    "class RNG():\n",
    "    \"\"\"Random Number Generator\"\"\"\n",
    "    def __init__(self, max_num, place):\n",
    "        self.max_num = max_num\n",
    "        self.place = place\n",
    "        \n",
    "    def gen(self):\n",
    "        # TODO 1\n",
    "        # define all numbers using `np.arange` include `self.max_num`, start from 1\n",
    "        # example if self.max_num = 29\n",
    "        # x should be 1, 2, 3, ..., 28, 29\n",
    "        x = ???\n",
    "        \n",
    "        # TODO 2\n",
    "        # random choice number from x, choose 7 number, not duplicate\n",
    "        # you will use `np.random.choice` function\n",
    "        number = ???\n",
    "        return number\n",
    "\n",
    "class ConvenientStore(RNG):\n",
    "    def __init__(self, place):\n",
    "        super().__init__(max_num=45, place=place)\n",
    "        \n",
    "class ThisWeekLottery(RNG):\n",
    "    def __init__(self, place):\n",
    "        super().__init__(max_num=45, place=place)\n",
    "        self.this_week_lottery_number = self.gen()\n",
    "        \n",
    "class Me():\n",
    "    def __init__(self, name):\n",
    "        self.name = name\n",
    "\n",
    "    def get_lottery(self, store):\n",
    "        # TODO 3\n",
    "        # store is the class instance of ConvenientStore\n",
    "        # assign `self.bought_place` by Convenient Store's place attribution\n",
    "        # assign `self.my_number` by Convenient Store's `gen()` method\n",
    "        \n",
    "        self.bought_place = ???\n",
    "        self.my_number = ???"
   ]
  },
  {
   "cell_type": "markdown",
   "id": "6648f3a2-ce34-4c13-9c99-69ef5ed6e9a6",
   "metadata": {},
   "source": [
    "---"
   ]
  },
  {
   "cell_type": "code",
   "execution_count": 201,
   "id": "4291d827-ba50-4887-b965-8c50af51099e",
   "metadata": {},
   "outputs": [
    {
     "data": {
      "text/plain": [
       "array([27, 10, 12, 23, 20, 35, 29])"
      ]
     },
     "execution_count": 201,
     "metadata": {},
     "output_type": "execute_result"
    }
   ],
   "source": [
    "np.random.seed(777)\n",
    "# 1. this week lottery generated\n",
    "this_week_lottery = ThisWeekLottery(place=\"Official\")\n",
    "this_week_lottery.this_week_lottery_number"
   ]
  },
  {
   "cell_type": "code",
   "execution_count": 340,
   "id": "3fbd42ae-ebf6-40a0-b894-e34ae0dffd51",
   "metadata": {},
   "outputs": [
    {
     "name": "stdout",
     "output_type": "stream",
     "text": [
      "I bought my lottery at CU\n",
      "My number is [5, 13, 17, 24, 28, 33, 40]\n",
      "Answer is [10, 12, 20, 23, 27, 29, 35]\n",
      "My Luck: 0/7\n"
     ]
    }
   ],
   "source": [
    "# 2. create ConvenientStore\n",
    "store = ConvenientStore(place=\"CU\")\n",
    "\n",
    "# 3. create Me\n",
    "me = Me(name=\"jisoo\")\n",
    "\n",
    "# 4. visit convinient store to by lottery (call: get_lottery)\n",
    "me.get_lottery(store)\n",
    "\n",
    "# 5. see my lottery number ans where I bought it\n",
    "print(f\"I bought my lottery at {me.bought_place}\")\n",
    "\n",
    "# 6. compare with this week lottery\n",
    "my_luck = np.isin(this_week_lottery.this_week_lottery_number, me.my_number)\n",
    "print(f\"My number is {sorted(me.my_number)}\")\n",
    "print(f\"Answer is {sorted(this_week_lottery.this_week_lottery_number)}\")\n",
    "\n",
    "print(f\"My Luck: {my_luck.sum()}/{len(my_luck)}\")"
   ]
  },
  {
   "cell_type": "markdown",
   "id": "3b481700-5720-4fcd-b26d-fc8652845bf4",
   "metadata": {},
   "source": [
    "---"
   ]
  },
  {
   "cell_type": "markdown",
   "id": "b31c5c05-3f96-4447-91c0-f18b522ffb07",
   "metadata": {},
   "source": [
    "## Pandas"
   ]
  },
  {
   "cell_type": "code",
   "execution_count": 3,
   "id": "b011a0d3-4821-4a4e-a0b0-3ce6f58cf0e8",
   "metadata": {},
   "outputs": [],
   "source": [
    "import pandas as pd"
   ]
  },
  {
   "cell_type": "markdown",
   "id": "c9c21723-ffd9-4203-b592-4c0f2a59a40a",
   "metadata": {},
   "source": [
    "### How to read a file From tabular data File?"
   ]
  },
  {
   "cell_type": "code",
   "execution_count": 4,
   "id": "eb435573-1a1f-4a80-a34c-d08ba7f9f452",
   "metadata": {},
   "outputs": [
    {
     "data": {
      "text/html": [
       "<div>\n",
       "<style scoped>\n",
       "    .dataframe tbody tr th:only-of-type {\n",
       "        vertical-align: middle;\n",
       "    }\n",
       "\n",
       "    .dataframe tbody tr th {\n",
       "        vertical-align: top;\n",
       "    }\n",
       "\n",
       "    .dataframe thead th {\n",
       "        text-align: right;\n",
       "    }\n",
       "</style>\n",
       "<table border=\"1\" class=\"dataframe\">\n",
       "  <thead>\n",
       "    <tr style=\"text-align: right;\">\n",
       "      <th></th>\n",
       "      <th>district</th>\n",
       "      <th>measurePoint</th>\n",
       "      <th>measureCode</th>\n",
       "      <th>measureName</th>\n",
       "      <th>date</th>\n",
       "      <th>SO2</th>\n",
       "      <th>CO</th>\n",
       "      <th>O3</th>\n",
       "      <th>NO2</th>\n",
       "      <th>PM10</th>\n",
       "      <th>PM25</th>\n",
       "      <th>address</th>\n",
       "      <th>PM10_AQI</th>\n",
       "      <th>PM25_AQI</th>\n",
       "    </tr>\n",
       "  </thead>\n",
       "  <tbody>\n",
       "    <tr>\n",
       "      <th>0</th>\n",
       "      <td>서울 중구</td>\n",
       "      <td>도시대기</td>\n",
       "      <td>111121</td>\n",
       "      <td>중구</td>\n",
       "      <td>2020010101</td>\n",
       "      <td>0.003</td>\n",
       "      <td>0.5</td>\n",
       "      <td>0.002</td>\n",
       "      <td>0.036</td>\n",
       "      <td>24.0</td>\n",
       "      <td>19.0</td>\n",
       "      <td>서울 중구 덕수궁길 15</td>\n",
       "      <td>22.222222</td>\n",
       "      <td>65.510730</td>\n",
       "    </tr>\n",
       "    <tr>\n",
       "      <th>1</th>\n",
       "      <td>서울 중구</td>\n",
       "      <td>도시대기</td>\n",
       "      <td>111121</td>\n",
       "      <td>중구</td>\n",
       "      <td>2020010102</td>\n",
       "      <td>0.003</td>\n",
       "      <td>0.6</td>\n",
       "      <td>0.001</td>\n",
       "      <td>0.039</td>\n",
       "      <td>25.0</td>\n",
       "      <td>21.0</td>\n",
       "      <td>서울 중구 덕수궁길 15</td>\n",
       "      <td>23.148148</td>\n",
       "      <td>69.716738</td>\n",
       "    </tr>\n",
       "    <tr>\n",
       "      <th>2</th>\n",
       "      <td>서울 중구</td>\n",
       "      <td>도시대기</td>\n",
       "      <td>111121</td>\n",
       "      <td>중구</td>\n",
       "      <td>2020010103</td>\n",
       "      <td>0.003</td>\n",
       "      <td>0.9</td>\n",
       "      <td>0.001</td>\n",
       "      <td>0.037</td>\n",
       "      <td>29.0</td>\n",
       "      <td>23.0</td>\n",
       "      <td>서울 중구 덕수궁길 15</td>\n",
       "      <td>26.851852</td>\n",
       "      <td>73.922747</td>\n",
       "    </tr>\n",
       "    <tr>\n",
       "      <th>3</th>\n",
       "      <td>서울 중구</td>\n",
       "      <td>도시대기</td>\n",
       "      <td>111121</td>\n",
       "      <td>중구</td>\n",
       "      <td>2020010104</td>\n",
       "      <td>0.002</td>\n",
       "      <td>0.6</td>\n",
       "      <td>0.001</td>\n",
       "      <td>0.036</td>\n",
       "      <td>26.0</td>\n",
       "      <td>22.0</td>\n",
       "      <td>서울 중구 덕수궁길 15</td>\n",
       "      <td>24.074074</td>\n",
       "      <td>71.819742</td>\n",
       "    </tr>\n",
       "    <tr>\n",
       "      <th>4</th>\n",
       "      <td>서울 중구</td>\n",
       "      <td>도시대기</td>\n",
       "      <td>111121</td>\n",
       "      <td>중구</td>\n",
       "      <td>2020010105</td>\n",
       "      <td>0.002</td>\n",
       "      <td>0.6</td>\n",
       "      <td>0.001</td>\n",
       "      <td>0.035</td>\n",
       "      <td>25.0</td>\n",
       "      <td>19.0</td>\n",
       "      <td>서울 중구 덕수궁길 15</td>\n",
       "      <td>23.148148</td>\n",
       "      <td>65.510730</td>\n",
       "    </tr>\n",
       "  </tbody>\n",
       "</table>\n",
       "</div>"
      ],
      "text/plain": [
       "  district measurePoint  measureCode measureName        date    SO2   CO  \\\n",
       "0    서울 중구         도시대기       111121          중구  2020010101  0.003  0.5   \n",
       "1    서울 중구         도시대기       111121          중구  2020010102  0.003  0.6   \n",
       "2    서울 중구         도시대기       111121          중구  2020010103  0.003  0.9   \n",
       "3    서울 중구         도시대기       111121          중구  2020010104  0.002  0.6   \n",
       "4    서울 중구         도시대기       111121          중구  2020010105  0.002  0.6   \n",
       "\n",
       "      O3    NO2  PM10  PM25        address   PM10_AQI   PM25_AQI  \n",
       "0  0.002  0.036  24.0  19.0  서울 중구 덕수궁길 15  22.222222  65.510730  \n",
       "1  0.001  0.039  25.0  21.0  서울 중구 덕수궁길 15  23.148148  69.716738  \n",
       "2  0.001  0.037  29.0  23.0  서울 중구 덕수궁길 15  26.851852  73.922747  \n",
       "3  0.001  0.036  26.0  22.0  서울 중구 덕수궁길 15  24.074074  71.819742  \n",
       "4  0.001  0.035  25.0  19.0  서울 중구 덕수궁길 15  23.148148  65.510730  "
      ]
     },
     "execution_count": 4,
     "metadata": {},
     "output_type": "execute_result"
    }
   ],
   "source": [
    "# use sep=\",\" when it is a csv file\n",
    "df = pd.read_csv(\"./data/airpollution/airq_2020.tsv\", sep=\"\\t\", encoding=\"utf-8\")\n",
    "df.head()"
   ]
  },
  {
   "cell_type": "markdown",
   "id": "80a6fbca-de98-43c6-bad2-86ca593b8cc3",
   "metadata": {},
   "source": [
    "### Data Structure\n",
    "\n",
    "* `pd.Series`: single column\n",
    "* `pd.DataFrame`: multiple column data"
   ]
  },
  {
   "cell_type": "code",
   "execution_count": 5,
   "id": "19685674-c7fd-453d-8229-5a431987d124",
   "metadata": {},
   "outputs": [
    {
     "data": {
      "text/plain": [
       "pandas.core.frame.DataFrame"
      ]
     },
     "execution_count": 5,
     "metadata": {},
     "output_type": "execute_result"
    }
   ],
   "source": [
    "type(df)"
   ]
  },
  {
   "cell_type": "code",
   "execution_count": 6,
   "id": "271c26d3-ae5b-48f9-92f1-bc0f94ac1b60",
   "metadata": {},
   "outputs": [
    {
     "data": {
      "text/plain": [
       "pandas.core.series.Series"
      ]
     },
     "execution_count": 6,
     "metadata": {},
     "output_type": "execute_result"
    }
   ],
   "source": [
    "type(df[\"district\"])"
   ]
  },
  {
   "cell_type": "markdown",
   "id": "2e183ede-435a-478b-88f8-d603741250dc",
   "metadata": {},
   "source": [
    "### View Data\n",
    "\n",
    "Fast way to see hows the data looks like\n",
    "\n",
    "* `head`, `tail`, `describe`\n",
    "* changing column name"
   ]
  },
  {
   "cell_type": "code",
   "execution_count": 7,
   "id": "530052f1-f875-4dcc-a166-688b2d9eab69",
   "metadata": {},
   "outputs": [
    {
     "data": {
      "text/plain": [
       "(351360, 14)"
      ]
     },
     "execution_count": 7,
     "metadata": {},
     "output_type": "execute_result"
    }
   ],
   "source": [
    "# 351360 rows and 14 columns\n",
    "df.shape"
   ]
  },
  {
   "cell_type": "code",
   "execution_count": 8,
   "id": "eeb55dd6-508a-4d90-b16a-ffb7a54123b1",
   "metadata": {},
   "outputs": [
    {
     "data": {
      "text/html": [
       "<div>\n",
       "<style scoped>\n",
       "    .dataframe tbody tr th:only-of-type {\n",
       "        vertical-align: middle;\n",
       "    }\n",
       "\n",
       "    .dataframe tbody tr th {\n",
       "        vertical-align: top;\n",
       "    }\n",
       "\n",
       "    .dataframe thead th {\n",
       "        text-align: right;\n",
       "    }\n",
       "</style>\n",
       "<table border=\"1\" class=\"dataframe\">\n",
       "  <thead>\n",
       "    <tr style=\"text-align: right;\">\n",
       "      <th></th>\n",
       "      <th>district</th>\n",
       "      <th>measurePoint</th>\n",
       "      <th>measureCode</th>\n",
       "      <th>measureName</th>\n",
       "      <th>date</th>\n",
       "      <th>SO2</th>\n",
       "      <th>CO</th>\n",
       "      <th>O3</th>\n",
       "      <th>NO2</th>\n",
       "      <th>PM10</th>\n",
       "      <th>PM25</th>\n",
       "      <th>address</th>\n",
       "      <th>PM10_AQI</th>\n",
       "      <th>PM25_AQI</th>\n",
       "    </tr>\n",
       "  </thead>\n",
       "  <tbody>\n",
       "    <tr>\n",
       "      <th>0</th>\n",
       "      <td>서울 중구</td>\n",
       "      <td>도시대기</td>\n",
       "      <td>111121</td>\n",
       "      <td>중구</td>\n",
       "      <td>2020010101</td>\n",
       "      <td>0.003</td>\n",
       "      <td>0.5</td>\n",
       "      <td>0.002</td>\n",
       "      <td>0.036</td>\n",
       "      <td>24.0</td>\n",
       "      <td>19.0</td>\n",
       "      <td>서울 중구 덕수궁길 15</td>\n",
       "      <td>22.222222</td>\n",
       "      <td>65.510730</td>\n",
       "    </tr>\n",
       "    <tr>\n",
       "      <th>1</th>\n",
       "      <td>서울 중구</td>\n",
       "      <td>도시대기</td>\n",
       "      <td>111121</td>\n",
       "      <td>중구</td>\n",
       "      <td>2020010102</td>\n",
       "      <td>0.003</td>\n",
       "      <td>0.6</td>\n",
       "      <td>0.001</td>\n",
       "      <td>0.039</td>\n",
       "      <td>25.0</td>\n",
       "      <td>21.0</td>\n",
       "      <td>서울 중구 덕수궁길 15</td>\n",
       "      <td>23.148148</td>\n",
       "      <td>69.716738</td>\n",
       "    </tr>\n",
       "    <tr>\n",
       "      <th>2</th>\n",
       "      <td>서울 중구</td>\n",
       "      <td>도시대기</td>\n",
       "      <td>111121</td>\n",
       "      <td>중구</td>\n",
       "      <td>2020010103</td>\n",
       "      <td>0.003</td>\n",
       "      <td>0.9</td>\n",
       "      <td>0.001</td>\n",
       "      <td>0.037</td>\n",
       "      <td>29.0</td>\n",
       "      <td>23.0</td>\n",
       "      <td>서울 중구 덕수궁길 15</td>\n",
       "      <td>26.851852</td>\n",
       "      <td>73.922747</td>\n",
       "    </tr>\n",
       "  </tbody>\n",
       "</table>\n",
       "</div>"
      ],
      "text/plain": [
       "  district measurePoint  measureCode measureName        date    SO2   CO  \\\n",
       "0    서울 중구         도시대기       111121          중구  2020010101  0.003  0.5   \n",
       "1    서울 중구         도시대기       111121          중구  2020010102  0.003  0.6   \n",
       "2    서울 중구         도시대기       111121          중구  2020010103  0.003  0.9   \n",
       "\n",
       "      O3    NO2  PM10  PM25        address   PM10_AQI   PM25_AQI  \n",
       "0  0.002  0.036  24.0  19.0  서울 중구 덕수궁길 15  22.222222  65.510730  \n",
       "1  0.001  0.039  25.0  21.0  서울 중구 덕수궁길 15  23.148148  69.716738  \n",
       "2  0.001  0.037  29.0  23.0  서울 중구 덕수궁길 15  26.851852  73.922747  "
      ]
     },
     "execution_count": 8,
     "metadata": {},
     "output_type": "execute_result"
    }
   ],
   "source": [
    "# 3 row from the head of data\n",
    "df.head(3)"
   ]
  },
  {
   "cell_type": "code",
   "execution_count": 9,
   "id": "479ecaf2-0f4b-4cf9-aadd-e8aa9c9d1b78",
   "metadata": {},
   "outputs": [
    {
     "data": {
      "text/html": [
       "<div>\n",
       "<style scoped>\n",
       "    .dataframe tbody tr th:only-of-type {\n",
       "        vertical-align: middle;\n",
       "    }\n",
       "\n",
       "    .dataframe tbody tr th {\n",
       "        vertical-align: top;\n",
       "    }\n",
       "\n",
       "    .dataframe thead th {\n",
       "        text-align: right;\n",
       "    }\n",
       "</style>\n",
       "<table border=\"1\" class=\"dataframe\">\n",
       "  <thead>\n",
       "    <tr style=\"text-align: right;\">\n",
       "      <th></th>\n",
       "      <th>district</th>\n",
       "      <th>measurePoint</th>\n",
       "      <th>measureCode</th>\n",
       "      <th>measureName</th>\n",
       "      <th>date</th>\n",
       "      <th>SO2</th>\n",
       "      <th>CO</th>\n",
       "      <th>O3</th>\n",
       "      <th>NO2</th>\n",
       "      <th>PM10</th>\n",
       "      <th>PM25</th>\n",
       "      <th>address</th>\n",
       "      <th>PM10_AQI</th>\n",
       "      <th>PM25_AQI</th>\n",
       "    </tr>\n",
       "  </thead>\n",
       "  <tbody>\n",
       "    <tr>\n",
       "      <th>351357</th>\n",
       "      <td>서울 노원구</td>\n",
       "      <td>도로변대기</td>\n",
       "      <td>111312</td>\n",
       "      <td>화랑로</td>\n",
       "      <td>2020123122</td>\n",
       "      <td>0.003</td>\n",
       "      <td>0.4</td>\n",
       "      <td>0.010</td>\n",
       "      <td>0.029</td>\n",
       "      <td>31.0</td>\n",
       "      <td>14.0</td>\n",
       "      <td>서울 노원구 화랑로 429</td>\n",
       "      <td>28.703704</td>\n",
       "      <td>54.995708</td>\n",
       "    </tr>\n",
       "    <tr>\n",
       "      <th>351358</th>\n",
       "      <td>서울 노원구</td>\n",
       "      <td>도로변대기</td>\n",
       "      <td>111312</td>\n",
       "      <td>화랑로</td>\n",
       "      <td>2020123123</td>\n",
       "      <td>0.003</td>\n",
       "      <td>0.4</td>\n",
       "      <td>0.013</td>\n",
       "      <td>0.026</td>\n",
       "      <td>32.0</td>\n",
       "      <td>16.0</td>\n",
       "      <td>서울 노원구 화랑로 429</td>\n",
       "      <td>29.629630</td>\n",
       "      <td>59.201717</td>\n",
       "    </tr>\n",
       "    <tr>\n",
       "      <th>351359</th>\n",
       "      <td>서울 노원구</td>\n",
       "      <td>도로변대기</td>\n",
       "      <td>111312</td>\n",
       "      <td>화랑로</td>\n",
       "      <td>2020123124</td>\n",
       "      <td>0.003</td>\n",
       "      <td>0.3</td>\n",
       "      <td>0.016</td>\n",
       "      <td>0.017</td>\n",
       "      <td>22.0</td>\n",
       "      <td>11.0</td>\n",
       "      <td>서울 노원구 화랑로 429</td>\n",
       "      <td>20.370370</td>\n",
       "      <td>45.833333</td>\n",
       "    </tr>\n",
       "  </tbody>\n",
       "</table>\n",
       "</div>"
      ],
      "text/plain": [
       "       district measurePoint  measureCode measureName        date    SO2   CO  \\\n",
       "351357   서울 노원구        도로변대기       111312         화랑로  2020123122  0.003  0.4   \n",
       "351358   서울 노원구        도로변대기       111312         화랑로  2020123123  0.003  0.4   \n",
       "351359   서울 노원구        도로변대기       111312         화랑로  2020123124  0.003  0.3   \n",
       "\n",
       "           O3    NO2  PM10  PM25         address   PM10_AQI   PM25_AQI  \n",
       "351357  0.010  0.029  31.0  14.0  서울 노원구 화랑로 429  28.703704  54.995708  \n",
       "351358  0.013  0.026  32.0  16.0  서울 노원구 화랑로 429  29.629630  59.201717  \n",
       "351359  0.016  0.017  22.0  11.0  서울 노원구 화랑로 429  20.370370  45.833333  "
      ]
     },
     "execution_count": 9,
     "metadata": {},
     "output_type": "execute_result"
    }
   ],
   "source": [
    "# 3 row from the tail of data\n",
    "df.tail(3)"
   ]
  },
  {
   "cell_type": "code",
   "execution_count": 10,
   "id": "2bbc6dca-14b3-407b-86c0-f443fd63ca4a",
   "metadata": {},
   "outputs": [
    {
     "data": {
      "text/plain": [
       "Index(['district', 'measurePoint', 'measureCode', 'measureName', 'date', 'SO2',\n",
       "       'CO', 'O3', 'NO2', 'PM10', 'PM25', 'address', 'PM10_AQI', 'PM25_AQI'],\n",
       "      dtype='object')"
      ]
     },
     "execution_count": 10,
     "metadata": {},
     "output_type": "execute_result"
    }
   ],
   "source": [
    "# see what columns are there\n",
    "df.columns"
   ]
  },
  {
   "cell_type": "code",
   "execution_count": 11,
   "id": "4166dc38-8262-4142-8e69-8e26b11a2c1b",
   "metadata": {},
   "outputs": [
    {
     "data": {
      "text/html": [
       "<div>\n",
       "<style scoped>\n",
       "    .dataframe tbody tr th:only-of-type {\n",
       "        vertical-align: middle;\n",
       "    }\n",
       "\n",
       "    .dataframe tbody tr th {\n",
       "        vertical-align: top;\n",
       "    }\n",
       "\n",
       "    .dataframe thead th {\n",
       "        text-align: right;\n",
       "    }\n",
       "</style>\n",
       "<table border=\"1\" class=\"dataframe\">\n",
       "  <thead>\n",
       "    <tr style=\"text-align: right;\">\n",
       "      <th></th>\n",
       "      <th>measureCode</th>\n",
       "      <th>date</th>\n",
       "      <th>SO2</th>\n",
       "      <th>CO</th>\n",
       "      <th>O3</th>\n",
       "      <th>NO2</th>\n",
       "      <th>PM10</th>\n",
       "      <th>PM25</th>\n",
       "      <th>PM10_AQI</th>\n",
       "      <th>PM25_AQI</th>\n",
       "    </tr>\n",
       "  </thead>\n",
       "  <tbody>\n",
       "    <tr>\n",
       "      <th>count</th>\n",
       "      <td>351360.000000</td>\n",
       "      <td>3.513600e+05</td>\n",
       "      <td>342099.000000</td>\n",
       "      <td>341254.000000</td>\n",
       "      <td>342501.000000</td>\n",
       "      <td>341538.000000</td>\n",
       "      <td>335250.000000</td>\n",
       "      <td>336915.000000</td>\n",
       "      <td>351360.000000</td>\n",
       "      <td>351360.000000</td>\n",
       "    </tr>\n",
       "    <tr>\n",
       "      <th>mean</th>\n",
       "      <td>111209.775000</td>\n",
       "      <td>2.020067e+09</td>\n",
       "      <td>0.003255</td>\n",
       "      <td>0.510313</td>\n",
       "      <td>0.023247</td>\n",
       "      <td>0.027215</td>\n",
       "      <td>36.812692</td>\n",
       "      <td>21.126498</td>\n",
       "      <td>31.225835</td>\n",
       "      <td>64.168627</td>\n",
       "    </tr>\n",
       "    <tr>\n",
       "      <th>std</th>\n",
       "      <td>61.081789</td>\n",
       "      <td>3.452931e+04</td>\n",
       "      <td>0.001064</td>\n",
       "      <td>0.228656</td>\n",
       "      <td>0.016998</td>\n",
       "      <td>0.015888</td>\n",
       "      <td>22.022412</td>\n",
       "      <td>14.486999</td>\n",
       "      <td>18.085527</td>\n",
       "      <td>36.056835</td>\n",
       "    </tr>\n",
       "    <tr>\n",
       "      <th>min</th>\n",
       "      <td>111121.000000</td>\n",
       "      <td>2.020010e+09</td>\n",
       "      <td>0.001000</td>\n",
       "      <td>0.100000</td>\n",
       "      <td>0.000000</td>\n",
       "      <td>0.000000</td>\n",
       "      <td>0.000000</td>\n",
       "      <td>1.000000</td>\n",
       "      <td>0.000000</td>\n",
       "      <td>0.000000</td>\n",
       "    </tr>\n",
       "    <tr>\n",
       "      <th>25%</th>\n",
       "      <td>111151.750000</td>\n",
       "      <td>2.020040e+09</td>\n",
       "      <td>0.003000</td>\n",
       "      <td>0.400000</td>\n",
       "      <td>0.010000</td>\n",
       "      <td>0.015000</td>\n",
       "      <td>22.000000</td>\n",
       "      <td>11.000000</td>\n",
       "      <td>18.518519</td>\n",
       "      <td>41.666667</td>\n",
       "    </tr>\n",
       "    <tr>\n",
       "      <th>50%</th>\n",
       "      <td>111212.500000</td>\n",
       "      <td>2.020070e+09</td>\n",
       "      <td>0.003000</td>\n",
       "      <td>0.500000</td>\n",
       "      <td>0.021000</td>\n",
       "      <td>0.024000</td>\n",
       "      <td>33.000000</td>\n",
       "      <td>18.000000</td>\n",
       "      <td>29.629630</td>\n",
       "      <td>61.304721</td>\n",
       "    </tr>\n",
       "    <tr>\n",
       "      <th>75%</th>\n",
       "      <td>111263.250000</td>\n",
       "      <td>2.020100e+09</td>\n",
       "      <td>0.004000</td>\n",
       "      <td>0.600000</td>\n",
       "      <td>0.033000</td>\n",
       "      <td>0.037000</td>\n",
       "      <td>48.000000</td>\n",
       "      <td>28.000000</td>\n",
       "      <td>43.518519</td>\n",
       "      <td>82.334764</td>\n",
       "    </tr>\n",
       "    <tr>\n",
       "      <th>max</th>\n",
       "      <td>111312.000000</td>\n",
       "      <td>2.020123e+09</td>\n",
       "      <td>0.021000</td>\n",
       "      <td>2.800000</td>\n",
       "      <td>0.157000</td>\n",
       "      <td>0.112000</td>\n",
       "      <td>274.000000</td>\n",
       "      <td>120.000000</td>\n",
       "      <td>160.404040</td>\n",
       "      <td>184.303477</td>\n",
       "    </tr>\n",
       "  </tbody>\n",
       "</table>\n",
       "</div>"
      ],
      "text/plain": [
       "         measureCode          date            SO2             CO  \\\n",
       "count  351360.000000  3.513600e+05  342099.000000  341254.000000   \n",
       "mean   111209.775000  2.020067e+09       0.003255       0.510313   \n",
       "std        61.081789  3.452931e+04       0.001064       0.228656   \n",
       "min    111121.000000  2.020010e+09       0.001000       0.100000   \n",
       "25%    111151.750000  2.020040e+09       0.003000       0.400000   \n",
       "50%    111212.500000  2.020070e+09       0.003000       0.500000   \n",
       "75%    111263.250000  2.020100e+09       0.004000       0.600000   \n",
       "max    111312.000000  2.020123e+09       0.021000       2.800000   \n",
       "\n",
       "                  O3            NO2           PM10           PM25  \\\n",
       "count  342501.000000  341538.000000  335250.000000  336915.000000   \n",
       "mean        0.023247       0.027215      36.812692      21.126498   \n",
       "std         0.016998       0.015888      22.022412      14.486999   \n",
       "min         0.000000       0.000000       0.000000       1.000000   \n",
       "25%         0.010000       0.015000      22.000000      11.000000   \n",
       "50%         0.021000       0.024000      33.000000      18.000000   \n",
       "75%         0.033000       0.037000      48.000000      28.000000   \n",
       "max         0.157000       0.112000     274.000000     120.000000   \n",
       "\n",
       "            PM10_AQI       PM25_AQI  \n",
       "count  351360.000000  351360.000000  \n",
       "mean       31.225835      64.168627  \n",
       "std        18.085527      36.056835  \n",
       "min         0.000000       0.000000  \n",
       "25%        18.518519      41.666667  \n",
       "50%        29.629630      61.304721  \n",
       "75%        43.518519      82.334764  \n",
       "max       160.404040     184.303477  "
      ]
     },
     "execution_count": 11,
     "metadata": {},
     "output_type": "execute_result"
    }
   ],
   "source": [
    "# describe only calcuate some statistics for numeric columns\n",
    "df.describe()"
   ]
  },
  {
   "cell_type": "code",
   "execution_count": 12,
   "id": "d6d9bf41-ffc2-44c8-a849-b266a53f553d",
   "metadata": {},
   "outputs": [
    {
     "data": {
      "text/html": [
       "<div>\n",
       "<style scoped>\n",
       "    .dataframe tbody tr th:only-of-type {\n",
       "        vertical-align: middle;\n",
       "    }\n",
       "\n",
       "    .dataframe tbody tr th {\n",
       "        vertical-align: top;\n",
       "    }\n",
       "\n",
       "    .dataframe thead th {\n",
       "        text-align: right;\n",
       "    }\n",
       "</style>\n",
       "<table border=\"1\" class=\"dataframe\">\n",
       "  <thead>\n",
       "    <tr style=\"text-align: right;\">\n",
       "      <th></th>\n",
       "      <th>district</th>\n",
       "      <th>measurePoint</th>\n",
       "      <th>measureCode</th>\n",
       "      <th>measureName</th>\n",
       "      <th>date</th>\n",
       "      <th>SO2</th>\n",
       "      <th>CO</th>\n",
       "      <th>O3</th>\n",
       "      <th>NO2</th>\n",
       "      <th>PM10</th>\n",
       "      <th>PM25</th>\n",
       "      <th>주소</th>\n",
       "      <th>PM10_AQI</th>\n",
       "      <th>PM25_AQI</th>\n",
       "    </tr>\n",
       "  </thead>\n",
       "  <tbody>\n",
       "    <tr>\n",
       "      <th>0</th>\n",
       "      <td>서울 중구</td>\n",
       "      <td>도시대기</td>\n",
       "      <td>111121</td>\n",
       "      <td>중구</td>\n",
       "      <td>2020010101</td>\n",
       "      <td>0.003</td>\n",
       "      <td>0.5</td>\n",
       "      <td>0.002</td>\n",
       "      <td>0.036</td>\n",
       "      <td>24.0</td>\n",
       "      <td>19.0</td>\n",
       "      <td>서울 중구 덕수궁길 15</td>\n",
       "      <td>22.222222</td>\n",
       "      <td>65.510730</td>\n",
       "    </tr>\n",
       "    <tr>\n",
       "      <th>1</th>\n",
       "      <td>서울 중구</td>\n",
       "      <td>도시대기</td>\n",
       "      <td>111121</td>\n",
       "      <td>중구</td>\n",
       "      <td>2020010102</td>\n",
       "      <td>0.003</td>\n",
       "      <td>0.6</td>\n",
       "      <td>0.001</td>\n",
       "      <td>0.039</td>\n",
       "      <td>25.0</td>\n",
       "      <td>21.0</td>\n",
       "      <td>서울 중구 덕수궁길 15</td>\n",
       "      <td>23.148148</td>\n",
       "      <td>69.716738</td>\n",
       "    </tr>\n",
       "    <tr>\n",
       "      <th>2</th>\n",
       "      <td>서울 중구</td>\n",
       "      <td>도시대기</td>\n",
       "      <td>111121</td>\n",
       "      <td>중구</td>\n",
       "      <td>2020010103</td>\n",
       "      <td>0.003</td>\n",
       "      <td>0.9</td>\n",
       "      <td>0.001</td>\n",
       "      <td>0.037</td>\n",
       "      <td>29.0</td>\n",
       "      <td>23.0</td>\n",
       "      <td>서울 중구 덕수궁길 15</td>\n",
       "      <td>26.851852</td>\n",
       "      <td>73.922747</td>\n",
       "    </tr>\n",
       "    <tr>\n",
       "      <th>3</th>\n",
       "      <td>서울 중구</td>\n",
       "      <td>도시대기</td>\n",
       "      <td>111121</td>\n",
       "      <td>중구</td>\n",
       "      <td>2020010104</td>\n",
       "      <td>0.002</td>\n",
       "      <td>0.6</td>\n",
       "      <td>0.001</td>\n",
       "      <td>0.036</td>\n",
       "      <td>26.0</td>\n",
       "      <td>22.0</td>\n",
       "      <td>서울 중구 덕수궁길 15</td>\n",
       "      <td>24.074074</td>\n",
       "      <td>71.819742</td>\n",
       "    </tr>\n",
       "    <tr>\n",
       "      <th>4</th>\n",
       "      <td>서울 중구</td>\n",
       "      <td>도시대기</td>\n",
       "      <td>111121</td>\n",
       "      <td>중구</td>\n",
       "      <td>2020010105</td>\n",
       "      <td>0.002</td>\n",
       "      <td>0.6</td>\n",
       "      <td>0.001</td>\n",
       "      <td>0.035</td>\n",
       "      <td>25.0</td>\n",
       "      <td>19.0</td>\n",
       "      <td>서울 중구 덕수궁길 15</td>\n",
       "      <td>23.148148</td>\n",
       "      <td>65.510730</td>\n",
       "    </tr>\n",
       "  </tbody>\n",
       "</table>\n",
       "</div>"
      ],
      "text/plain": [
       "  district measurePoint  measureCode measureName        date    SO2   CO  \\\n",
       "0    서울 중구         도시대기       111121          중구  2020010101  0.003  0.5   \n",
       "1    서울 중구         도시대기       111121          중구  2020010102  0.003  0.6   \n",
       "2    서울 중구         도시대기       111121          중구  2020010103  0.003  0.9   \n",
       "3    서울 중구         도시대기       111121          중구  2020010104  0.002  0.6   \n",
       "4    서울 중구         도시대기       111121          중구  2020010105  0.002  0.6   \n",
       "\n",
       "      O3    NO2  PM10  PM25             주소   PM10_AQI   PM25_AQI  \n",
       "0  0.002  0.036  24.0  19.0  서울 중구 덕수궁길 15  22.222222  65.510730  \n",
       "1  0.001  0.039  25.0  21.0  서울 중구 덕수궁길 15  23.148148  69.716738  \n",
       "2  0.001  0.037  29.0  23.0  서울 중구 덕수궁길 15  26.851852  73.922747  \n",
       "3  0.001  0.036  26.0  22.0  서울 중구 덕수궁길 15  24.074074  71.819742  \n",
       "4  0.001  0.035  25.0  19.0  서울 중구 덕수궁길 15  23.148148  65.510730  "
      ]
     },
     "execution_count": 12,
     "metadata": {},
     "output_type": "execute_result"
    }
   ],
   "source": [
    "# change column name\n",
    "columns = {'address': '주소'}\n",
    "df.rename(columns=columns, inplace=True)\n",
    "df.head()"
   ]
  },
  {
   "cell_type": "markdown",
   "id": "cfbfad4f-e0e6-47fc-8a1c-d4690e1b65d6",
   "metadata": {},
   "source": [
    "### Indexing\n",
    "\n",
    "* select a whole column\n",
    "* `iloc`, `loc`\n",
    "* boolean indexing: `isin`, `relation`"
   ]
  },
  {
   "cell_type": "code",
   "execution_count": 13,
   "id": "807f479d-7789-4f15-96e3-12bb014dfab4",
   "metadata": {},
   "outputs": [
    {
     "data": {
      "text/plain": [
       "0         0.5\n",
       "1         0.6\n",
       "2         0.9\n",
       "3         0.6\n",
       "4         0.6\n",
       "         ... \n",
       "351355    0.4\n",
       "351356    0.4\n",
       "351357    0.4\n",
       "351358    0.4\n",
       "351359    0.3\n",
       "Name: CO, Length: 351360, dtype: float64"
      ]
     },
     "execution_count": 13,
     "metadata": {},
     "output_type": "execute_result"
    }
   ],
   "source": [
    "df['CO']"
   ]
  },
  {
   "cell_type": "code",
   "execution_count": 14,
   "id": "c976a8f8-9a66-4646-8732-b7f634e40fb3",
   "metadata": {},
   "outputs": [
    {
     "data": {
      "text/html": [
       "<div>\n",
       "<style scoped>\n",
       "    .dataframe tbody tr th:only-of-type {\n",
       "        vertical-align: middle;\n",
       "    }\n",
       "\n",
       "    .dataframe tbody tr th {\n",
       "        vertical-align: top;\n",
       "    }\n",
       "\n",
       "    .dataframe thead th {\n",
       "        text-align: right;\n",
       "    }\n",
       "</style>\n",
       "<table border=\"1\" class=\"dataframe\">\n",
       "  <thead>\n",
       "    <tr style=\"text-align: right;\">\n",
       "      <th></th>\n",
       "      <th>district</th>\n",
       "      <th>PM10</th>\n",
       "    </tr>\n",
       "  </thead>\n",
       "  <tbody>\n",
       "    <tr>\n",
       "      <th>0</th>\n",
       "      <td>서울 중구</td>\n",
       "      <td>24.0</td>\n",
       "    </tr>\n",
       "    <tr>\n",
       "      <th>1</th>\n",
       "      <td>서울 중구</td>\n",
       "      <td>25.0</td>\n",
       "    </tr>\n",
       "    <tr>\n",
       "      <th>2</th>\n",
       "      <td>서울 중구</td>\n",
       "      <td>29.0</td>\n",
       "    </tr>\n",
       "    <tr>\n",
       "      <th>3</th>\n",
       "      <td>서울 중구</td>\n",
       "      <td>26.0</td>\n",
       "    </tr>\n",
       "    <tr>\n",
       "      <th>4</th>\n",
       "      <td>서울 중구</td>\n",
       "      <td>25.0</td>\n",
       "    </tr>\n",
       "    <tr>\n",
       "      <th>5</th>\n",
       "      <td>서울 중구</td>\n",
       "      <td>23.0</td>\n",
       "    </tr>\n",
       "    <tr>\n",
       "      <th>6</th>\n",
       "      <td>서울 중구</td>\n",
       "      <td>25.0</td>\n",
       "    </tr>\n",
       "    <tr>\n",
       "      <th>7</th>\n",
       "      <td>서울 중구</td>\n",
       "      <td>26.0</td>\n",
       "    </tr>\n",
       "    <tr>\n",
       "      <th>8</th>\n",
       "      <td>서울 중구</td>\n",
       "      <td>31.0</td>\n",
       "    </tr>\n",
       "    <tr>\n",
       "      <th>9</th>\n",
       "      <td>서울 중구</td>\n",
       "      <td>31.0</td>\n",
       "    </tr>\n",
       "    <tr>\n",
       "      <th>10</th>\n",
       "      <td>서울 중구</td>\n",
       "      <td>34.0</td>\n",
       "    </tr>\n",
       "  </tbody>\n",
       "</table>\n",
       "</div>"
      ],
      "text/plain": [
       "   district  PM10\n",
       "0     서울 중구  24.0\n",
       "1     서울 중구  25.0\n",
       "2     서울 중구  29.0\n",
       "3     서울 중구  26.0\n",
       "4     서울 중구  25.0\n",
       "5     서울 중구  23.0\n",
       "6     서울 중구  25.0\n",
       "7     서울 중구  26.0\n",
       "8     서울 중구  31.0\n",
       "9     서울 중구  31.0\n",
       "10    서울 중구  34.0"
      ]
     },
     "execution_count": 14,
     "metadata": {},
     "output_type": "execute_result"
    }
   ],
   "source": [
    "# Select the column: district and PM10, row 0~10 (total 11 rows)\n",
    "df.loc[0:10, [\"district\", \"PM10\"]]"
   ]
  },
  {
   "cell_type": "code",
   "execution_count": 15,
   "id": "7b6e0c5e-e2ab-4b10-82e2-037e884a9626",
   "metadata": {},
   "outputs": [
    {
     "data": {
      "text/html": [
       "<div>\n",
       "<style scoped>\n",
       "    .dataframe tbody tr th:only-of-type {\n",
       "        vertical-align: middle;\n",
       "    }\n",
       "\n",
       "    .dataframe tbody tr th {\n",
       "        vertical-align: top;\n",
       "    }\n",
       "\n",
       "    .dataframe thead th {\n",
       "        text-align: right;\n",
       "    }\n",
       "</style>\n",
       "<table border=\"1\" class=\"dataframe\">\n",
       "  <thead>\n",
       "    <tr style=\"text-align: right;\">\n",
       "      <th></th>\n",
       "      <th>district</th>\n",
       "      <th>PM10</th>\n",
       "    </tr>\n",
       "  </thead>\n",
       "  <tbody>\n",
       "    <tr>\n",
       "      <th>0</th>\n",
       "      <td>서울 중구</td>\n",
       "      <td>24.0</td>\n",
       "    </tr>\n",
       "    <tr>\n",
       "      <th>1</th>\n",
       "      <td>서울 중구</td>\n",
       "      <td>25.0</td>\n",
       "    </tr>\n",
       "    <tr>\n",
       "      <th>2</th>\n",
       "      <td>서울 중구</td>\n",
       "      <td>29.0</td>\n",
       "    </tr>\n",
       "    <tr>\n",
       "      <th>3</th>\n",
       "      <td>서울 중구</td>\n",
       "      <td>26.0</td>\n",
       "    </tr>\n",
       "    <tr>\n",
       "      <th>4</th>\n",
       "      <td>서울 중구</td>\n",
       "      <td>25.0</td>\n",
       "    </tr>\n",
       "    <tr>\n",
       "      <th>5</th>\n",
       "      <td>서울 중구</td>\n",
       "      <td>23.0</td>\n",
       "    </tr>\n",
       "    <tr>\n",
       "      <th>6</th>\n",
       "      <td>서울 중구</td>\n",
       "      <td>25.0</td>\n",
       "    </tr>\n",
       "    <tr>\n",
       "      <th>7</th>\n",
       "      <td>서울 중구</td>\n",
       "      <td>26.0</td>\n",
       "    </tr>\n",
       "    <tr>\n",
       "      <th>8</th>\n",
       "      <td>서울 중구</td>\n",
       "      <td>31.0</td>\n",
       "    </tr>\n",
       "    <tr>\n",
       "      <th>9</th>\n",
       "      <td>서울 중구</td>\n",
       "      <td>31.0</td>\n",
       "    </tr>\n",
       "    <tr>\n",
       "      <th>10</th>\n",
       "      <td>서울 중구</td>\n",
       "      <td>34.0</td>\n",
       "    </tr>\n",
       "  </tbody>\n",
       "</table>\n",
       "</div>"
      ],
      "text/plain": [
       "   district  PM10\n",
       "0     서울 중구  24.0\n",
       "1     서울 중구  25.0\n",
       "2     서울 중구  29.0\n",
       "3     서울 중구  26.0\n",
       "4     서울 중구  25.0\n",
       "5     서울 중구  23.0\n",
       "6     서울 중구  25.0\n",
       "7     서울 중구  26.0\n",
       "8     서울 중구  31.0\n",
       "9     서울 중구  31.0\n",
       "10    서울 중구  34.0"
      ]
     },
     "execution_count": 15,
     "metadata": {},
     "output_type": "execute_result"
    }
   ],
   "source": [
    "# Same result with iloc\n",
    "df.iloc[0:11, [0, 9]]"
   ]
  },
  {
   "cell_type": "code",
   "execution_count": 16,
   "id": "ee10c3a0-5ef5-48b8-8dab-e27e7632029f",
   "metadata": {},
   "outputs": [
    {
     "data": {
      "text/plain": [
       "0         False\n",
       "1         False\n",
       "2         False\n",
       "3         False\n",
       "4         False\n",
       "          ...  \n",
       "351355    False\n",
       "351356    False\n",
       "351357    False\n",
       "351358    False\n",
       "351359    False\n",
       "Name: district, Length: 351360, dtype: bool"
      ]
     },
     "execution_count": 16,
     "metadata": {},
     "output_type": "execute_result"
    }
   ],
   "source": [
    "# check if '서울 강서구' is in the district column & select the data\n",
    "bool_idx = df['district'].isin(['서울 강서구'])\n",
    "bool_idx"
   ]
  },
  {
   "cell_type": "code",
   "execution_count": 17,
   "id": "75280acb-1df5-418e-96ef-81dea1bdbf26",
   "metadata": {},
   "outputs": [
    {
     "data": {
      "text/html": [
       "<div>\n",
       "<style scoped>\n",
       "    .dataframe tbody tr th:only-of-type {\n",
       "        vertical-align: middle;\n",
       "    }\n",
       "\n",
       "    .dataframe tbody tr th {\n",
       "        vertical-align: top;\n",
       "    }\n",
       "\n",
       "    .dataframe thead th {\n",
       "        text-align: right;\n",
       "    }\n",
       "</style>\n",
       "<table border=\"1\" class=\"dataframe\">\n",
       "  <thead>\n",
       "    <tr style=\"text-align: right;\">\n",
       "      <th></th>\n",
       "      <th>district</th>\n",
       "      <th>PM10</th>\n",
       "    </tr>\n",
       "  </thead>\n",
       "  <tbody>\n",
       "    <tr>\n",
       "      <th>14136</th>\n",
       "      <td>서울 강서구</td>\n",
       "      <td>29.0</td>\n",
       "    </tr>\n",
       "    <tr>\n",
       "      <th>14137</th>\n",
       "      <td>서울 강서구</td>\n",
       "      <td>25.0</td>\n",
       "    </tr>\n",
       "    <tr>\n",
       "      <th>14138</th>\n",
       "      <td>서울 강서구</td>\n",
       "      <td>27.0</td>\n",
       "    </tr>\n",
       "    <tr>\n",
       "      <th>14139</th>\n",
       "      <td>서울 강서구</td>\n",
       "      <td>27.0</td>\n",
       "    </tr>\n",
       "    <tr>\n",
       "      <th>14140</th>\n",
       "      <td>서울 강서구</td>\n",
       "      <td>35.0</td>\n",
       "    </tr>\n",
       "    <tr>\n",
       "      <th>...</th>\n",
       "      <td>...</td>\n",
       "      <td>...</td>\n",
       "    </tr>\n",
       "    <tr>\n",
       "      <th>337219</th>\n",
       "      <td>서울 강서구</td>\n",
       "      <td>33.0</td>\n",
       "    </tr>\n",
       "    <tr>\n",
       "      <th>337220</th>\n",
       "      <td>서울 강서구</td>\n",
       "      <td>37.0</td>\n",
       "    </tr>\n",
       "    <tr>\n",
       "      <th>337221</th>\n",
       "      <td>서울 강서구</td>\n",
       "      <td>34.0</td>\n",
       "    </tr>\n",
       "    <tr>\n",
       "      <th>337222</th>\n",
       "      <td>서울 강서구</td>\n",
       "      <td>34.0</td>\n",
       "    </tr>\n",
       "    <tr>\n",
       "      <th>337223</th>\n",
       "      <td>서울 강서구</td>\n",
       "      <td>33.0</td>\n",
       "    </tr>\n",
       "  </tbody>\n",
       "</table>\n",
       "<p>17568 rows × 2 columns</p>\n",
       "</div>"
      ],
      "text/plain": [
       "       district  PM10\n",
       "14136    서울 강서구  29.0\n",
       "14137    서울 강서구  25.0\n",
       "14138    서울 강서구  27.0\n",
       "14139    서울 강서구  27.0\n",
       "14140    서울 강서구  35.0\n",
       "...         ...   ...\n",
       "337219   서울 강서구  33.0\n",
       "337220   서울 강서구  37.0\n",
       "337221   서울 강서구  34.0\n",
       "337222   서울 강서구  34.0\n",
       "337223   서울 강서구  33.0\n",
       "\n",
       "[17568 rows x 2 columns]"
      ]
     },
     "execution_count": 17,
     "metadata": {},
     "output_type": "execute_result"
    }
   ],
   "source": [
    "# boolean index only can be used by `loc` method\n",
    "df.loc[bool_idx, [\"district\", \"PM10\"]]"
   ]
  },
  {
   "cell_type": "code",
   "execution_count": 18,
   "id": "9fbf45f0-4530-46dc-a3ab-3027191759bc",
   "metadata": {},
   "outputs": [
    {
     "data": {
      "text/plain": [
       "0         False\n",
       "1         False\n",
       "2         False\n",
       "3         False\n",
       "4         False\n",
       "          ...  \n",
       "351355    False\n",
       "351356    False\n",
       "351357    False\n",
       "351358    False\n",
       "351359    False\n",
       "Name: district, Length: 351360, dtype: bool"
      ]
     },
     "execution_count": 18,
     "metadata": {},
     "output_type": "execute_result"
    }
   ],
   "source": [
    "# this is same as using relation operations\n",
    "bool_idx = df['district'] == '서울 강서구'\n",
    "bool_idx"
   ]
  },
  {
   "cell_type": "code",
   "execution_count": 19,
   "id": "191cd3e9-1a53-4ae4-9884-cc33dd5d3615",
   "metadata": {},
   "outputs": [
    {
     "data": {
      "text/html": [
       "<div>\n",
       "<style scoped>\n",
       "    .dataframe tbody tr th:only-of-type {\n",
       "        vertical-align: middle;\n",
       "    }\n",
       "\n",
       "    .dataframe tbody tr th {\n",
       "        vertical-align: top;\n",
       "    }\n",
       "\n",
       "    .dataframe thead th {\n",
       "        text-align: right;\n",
       "    }\n",
       "</style>\n",
       "<table border=\"1\" class=\"dataframe\">\n",
       "  <thead>\n",
       "    <tr style=\"text-align: right;\">\n",
       "      <th></th>\n",
       "      <th>district</th>\n",
       "      <th>PM10</th>\n",
       "    </tr>\n",
       "  </thead>\n",
       "  <tbody>\n",
       "    <tr>\n",
       "      <th>14136</th>\n",
       "      <td>서울 강서구</td>\n",
       "      <td>29.0</td>\n",
       "    </tr>\n",
       "    <tr>\n",
       "      <th>14137</th>\n",
       "      <td>서울 강서구</td>\n",
       "      <td>25.0</td>\n",
       "    </tr>\n",
       "    <tr>\n",
       "      <th>14138</th>\n",
       "      <td>서울 강서구</td>\n",
       "      <td>27.0</td>\n",
       "    </tr>\n",
       "    <tr>\n",
       "      <th>14139</th>\n",
       "      <td>서울 강서구</td>\n",
       "      <td>27.0</td>\n",
       "    </tr>\n",
       "    <tr>\n",
       "      <th>14140</th>\n",
       "      <td>서울 강서구</td>\n",
       "      <td>35.0</td>\n",
       "    </tr>\n",
       "    <tr>\n",
       "      <th>...</th>\n",
       "      <td>...</td>\n",
       "      <td>...</td>\n",
       "    </tr>\n",
       "    <tr>\n",
       "      <th>337219</th>\n",
       "      <td>서울 강서구</td>\n",
       "      <td>33.0</td>\n",
       "    </tr>\n",
       "    <tr>\n",
       "      <th>337220</th>\n",
       "      <td>서울 강서구</td>\n",
       "      <td>37.0</td>\n",
       "    </tr>\n",
       "    <tr>\n",
       "      <th>337221</th>\n",
       "      <td>서울 강서구</td>\n",
       "      <td>34.0</td>\n",
       "    </tr>\n",
       "    <tr>\n",
       "      <th>337222</th>\n",
       "      <td>서울 강서구</td>\n",
       "      <td>34.0</td>\n",
       "    </tr>\n",
       "    <tr>\n",
       "      <th>337223</th>\n",
       "      <td>서울 강서구</td>\n",
       "      <td>33.0</td>\n",
       "    </tr>\n",
       "  </tbody>\n",
       "</table>\n",
       "<p>17568 rows × 2 columns</p>\n",
       "</div>"
      ],
      "text/plain": [
       "       district  PM10\n",
       "14136    서울 강서구  29.0\n",
       "14137    서울 강서구  25.0\n",
       "14138    서울 강서구  27.0\n",
       "14139    서울 강서구  27.0\n",
       "14140    서울 강서구  35.0\n",
       "...         ...   ...\n",
       "337219   서울 강서구  33.0\n",
       "337220   서울 강서구  37.0\n",
       "337221   서울 강서구  34.0\n",
       "337222   서울 강서구  34.0\n",
       "337223   서울 강서구  33.0\n",
       "\n",
       "[17568 rows x 2 columns]"
      ]
     },
     "execution_count": 19,
     "metadata": {},
     "output_type": "execute_result"
    }
   ],
   "source": [
    "# boolean index only can be used by `loc` method\n",
    "df.loc[bool_idx, [\"district\", \"PM10\"]]"
   ]
  },
  {
   "cell_type": "markdown",
   "id": "a2adc8a9-05da-4193-aee4-42914e759766",
   "metadata": {},
   "source": [
    "### Time Series\n",
    "\n",
    "* `pd.to_datetime`\n",
    "* `pd.Series.dt`"
   ]
  },
  {
   "cell_type": "code",
   "execution_count": 20,
   "id": "9ca9b3b1-2a2a-49fd-b73e-eb3293bc6e1d",
   "metadata": {},
   "outputs": [
    {
     "data": {
      "text/plain": [
       "0         2020010101\n",
       "1         2020010102\n",
       "2         2020010103\n",
       "3         2020010104\n",
       "4         2020010105\n",
       "             ...    \n",
       "351355    2020123120\n",
       "351356    2020123121\n",
       "351357    2020123122\n",
       "351358    2020123123\n",
       "351359    2020123124\n",
       "Name: date, Length: 351360, dtype: int64"
      ]
     },
     "execution_count": 20,
     "metadata": {},
     "output_type": "execute_result"
    }
   ],
   "source": [
    "df['date']"
   ]
  },
  {
   "cell_type": "code",
   "execution_count": 21,
   "id": "a3d63666-4ab4-46d3-afb1-de3b77e45cf8",
   "metadata": {},
   "outputs": [
    {
     "name": "stdout",
     "output_type": "stream",
     "text": [
      "date column dtype: datetime64[ns]\n"
     ]
    }
   ],
   "source": [
    "# can convert numbers to datetime type using `pd.to_datetime`\n",
    "# Year(%Y)\n",
    "# Month(%m)\n",
    "# Day(%d)\n",
    "# Hours(%H): 0 ~ 23 \n",
    "# Minutes(%M): 0 ~ 59 \n",
    "# Seconds(%S): 0 ~ 59\n",
    "\n",
    "# Assign new values to `date` column as datetime type\n",
    "df['date'] = pd.to_datetime(df['date']-1, format=\"%Y%m%d%H\")\n",
    "print(f\"date column dtype: {df['date'].dtype}\")"
   ]
  },
  {
   "cell_type": "code",
   "execution_count": 22,
   "id": "5876323d-10a8-4664-9796-0958ae7f290e",
   "metadata": {},
   "outputs": [
    {
     "data": {
      "text/plain": [
       "0          1\n",
       "1          1\n",
       "2          1\n",
       "3          1\n",
       "4          1\n",
       "          ..\n",
       "351355    12\n",
       "351356    12\n",
       "351357    12\n",
       "351358    12\n",
       "351359    12\n",
       "Name: date, Length: 351360, dtype: int64"
      ]
     },
     "execution_count": 22,
     "metadata": {},
     "output_type": "execute_result"
    }
   ],
   "source": [
    "# pd.Series contains datetime packages\n",
    "df['date'].dt.month"
   ]
  },
  {
   "cell_type": "markdown",
   "id": "fb13c9fe-f5d8-4c9b-a831-d7661b3cf268",
   "metadata": {},
   "source": [
    "### Operations\n",
    "\n",
    "* `unique`\n",
    "* `mean`, `median`, `sum`, `apply`"
   ]
  },
  {
   "cell_type": "code",
   "execution_count": 23,
   "id": "b4b84c6c-fa51-4eb7-9054-a35fdd18be78",
   "metadata": {},
   "outputs": [
    {
     "data": {
      "text/plain": [
       "array(['서울 중구', '서울 용산구', '서울 종로구', '서울 광진구', '서울 성동구', '서울 중랑구',\n",
       "       '서울 동대문구', '서울 성북구', '서울 도봉구', '서울 은평구', '서울 서대문구', '서울 마포구',\n",
       "       '서울 강서구', '서울 구로구', '서울 영등포구', '서울 동작구', '서울 관악구', '서울 강남구',\n",
       "       '서울 서초구', '서울 송파구', '서울 강동구', '서울 금천구', '서울 강북구', '서울 양천구',\n",
       "       '서울 노원구'], dtype=object)"
      ]
     },
     "execution_count": 23,
     "metadata": {},
     "output_type": "execute_result"
    }
   ],
   "source": [
    "# distinct district values\n",
    "districts = df[\"district\"].unique()\n",
    "districts"
   ]
  },
  {
   "cell_type": "code",
   "execution_count": 24,
   "id": "56227aa0-29a9-452d-ae1c-8095497b795e",
   "metadata": {},
   "outputs": [
    {
     "data": {
      "text/plain": [
       "(36.81269202087994, 33.0, 22.022411740942598)"
      ]
     },
     "execution_count": 24,
     "metadata": {},
     "output_type": "execute_result"
    }
   ],
   "source": [
    "# what is the mean, meadian, standard deviation of PM10?\n",
    "df[\"PM10\"].mean(), df[\"PM10\"].median(), df[\"PM10\"].std()"
   ]
  },
  {
   "cell_type": "code",
   "execution_count": 25,
   "id": "2e5a9aad-048e-4c5d-ba38-6f7b7b5dfa94",
   "metadata": {},
   "outputs": [
    {
     "data": {
      "text/plain": [
       "0         2.4\n",
       "1         2.5\n",
       "2         2.9\n",
       "3         2.6\n",
       "4         2.5\n",
       "         ... \n",
       "351355    3.2\n",
       "351356    3.1\n",
       "351357    3.1\n",
       "351358    3.2\n",
       "351359    2.2\n",
       "Name: PM10, Length: 351360, dtype: float64"
      ]
     },
     "execution_count": 25,
     "metadata": {},
     "output_type": "execute_result"
    }
   ],
   "source": [
    "# apply will run each values in DafaFrame(Series)\n",
    "df[\"PM10\"].apply(lambda x: x/10)"
   ]
  },
  {
   "cell_type": "markdown",
   "id": "0d2ff97b-1d6b-42cf-b226-7085501e9302",
   "metadata": {},
   "source": [
    "### Group By"
   ]
  },
  {
   "cell_type": "code",
   "execution_count": 26,
   "id": "0bd82df6-0506-47ef-a7c4-19edb057294d",
   "metadata": {},
   "outputs": [
    {
     "data": {
      "text/html": [
       "<div>\n",
       "<style scoped>\n",
       "    .dataframe tbody tr th:only-of-type {\n",
       "        vertical-align: middle;\n",
       "    }\n",
       "\n",
       "    .dataframe tbody tr th {\n",
       "        vertical-align: top;\n",
       "    }\n",
       "\n",
       "    .dataframe thead th {\n",
       "        text-align: right;\n",
       "    }\n",
       "</style>\n",
       "<table border=\"1\" class=\"dataframe\">\n",
       "  <thead>\n",
       "    <tr style=\"text-align: right;\">\n",
       "      <th></th>\n",
       "      <th></th>\n",
       "      <th>SO2</th>\n",
       "      <th>CO</th>\n",
       "      <th>O3</th>\n",
       "      <th>NO2</th>\n",
       "      <th>PM10</th>\n",
       "      <th>PM25</th>\n",
       "    </tr>\n",
       "    <tr>\n",
       "      <th>district</th>\n",
       "      <th>month</th>\n",
       "      <th></th>\n",
       "      <th></th>\n",
       "      <th></th>\n",
       "      <th></th>\n",
       "      <th></th>\n",
       "      <th></th>\n",
       "    </tr>\n",
       "  </thead>\n",
       "  <tbody>\n",
       "    <tr>\n",
       "      <th rowspan=\"5\" valign=\"top\">서울 강남구</th>\n",
       "      <th>1</th>\n",
       "      <td>0.003086</td>\n",
       "      <td>0.674494</td>\n",
       "      <td>0.014148</td>\n",
       "      <td>0.035310</td>\n",
       "      <td>38.860811</td>\n",
       "      <td>27.674355</td>\n",
       "    </tr>\n",
       "    <tr>\n",
       "      <th>2</th>\n",
       "      <td>0.003137</td>\n",
       "      <td>0.598842</td>\n",
       "      <td>0.018936</td>\n",
       "      <td>0.034337</td>\n",
       "      <td>37.937681</td>\n",
       "      <td>25.464441</td>\n",
       "    </tr>\n",
       "    <tr>\n",
       "      <th>3</th>\n",
       "      <td>0.002950</td>\n",
       "      <td>0.517232</td>\n",
       "      <td>0.027306</td>\n",
       "      <td>0.029827</td>\n",
       "      <td>40.655827</td>\n",
       "      <td>26.236769</td>\n",
       "    </tr>\n",
       "    <tr>\n",
       "      <th>4</th>\n",
       "      <td>0.002737</td>\n",
       "      <td>0.434218</td>\n",
       "      <td>0.038029</td>\n",
       "      <td>0.022303</td>\n",
       "      <td>38.299720</td>\n",
       "      <td>21.319832</td>\n",
       "    </tr>\n",
       "    <tr>\n",
       "      <th>5</th>\n",
       "      <td>0.002347</td>\n",
       "      <td>0.444580</td>\n",
       "      <td>0.035906</td>\n",
       "      <td>0.021821</td>\n",
       "      <td>30.937415</td>\n",
       "      <td>18.532520</td>\n",
       "    </tr>\n",
       "    <tr>\n",
       "      <th>...</th>\n",
       "      <th>...</th>\n",
       "      <td>...</td>\n",
       "      <td>...</td>\n",
       "      <td>...</td>\n",
       "      <td>...</td>\n",
       "      <td>...</td>\n",
       "      <td>...</td>\n",
       "    </tr>\n",
       "    <tr>\n",
       "      <th rowspan=\"5\" valign=\"top\">서울 중랑구</th>\n",
       "      <th>8</th>\n",
       "      <td>0.002457</td>\n",
       "      <td>0.325541</td>\n",
       "      <td>0.019377</td>\n",
       "      <td>0.015143</td>\n",
       "      <td>24.608108</td>\n",
       "      <td>15.414865</td>\n",
       "    </tr>\n",
       "    <tr>\n",
       "      <th>9</th>\n",
       "      <td>0.002429</td>\n",
       "      <td>0.372727</td>\n",
       "      <td>0.028038</td>\n",
       "      <td>0.013717</td>\n",
       "      <td>18.510490</td>\n",
       "      <td>10.704895</td>\n",
       "    </tr>\n",
       "    <tr>\n",
       "      <th>10</th>\n",
       "      <td>0.002876</td>\n",
       "      <td>0.465676</td>\n",
       "      <td>0.022650</td>\n",
       "      <td>0.021782</td>\n",
       "      <td>32.267930</td>\n",
       "      <td>16.955466</td>\n",
       "    </tr>\n",
       "    <tr>\n",
       "      <th>11</th>\n",
       "      <td>0.003394</td>\n",
       "      <td>0.540223</td>\n",
       "      <td>0.014869</td>\n",
       "      <td>0.030200</td>\n",
       "      <td>40.381818</td>\n",
       "      <td>22.101955</td>\n",
       "    </tr>\n",
       "    <tr>\n",
       "      <th>12</th>\n",
       "      <td>0.003705</td>\n",
       "      <td>0.622703</td>\n",
       "      <td>0.013034</td>\n",
       "      <td>0.034368</td>\n",
       "      <td>41.778378</td>\n",
       "      <td>24.014865</td>\n",
       "    </tr>\n",
       "  </tbody>\n",
       "</table>\n",
       "<p>300 rows × 6 columns</p>\n",
       "</div>"
      ],
      "text/plain": [
       "                     SO2        CO        O3       NO2       PM10       PM25\n",
       "district month                                                              \n",
       "서울 강남구   1      0.003086  0.674494  0.014148  0.035310  38.860811  27.674355\n",
       "         2      0.003137  0.598842  0.018936  0.034337  37.937681  25.464441\n",
       "         3      0.002950  0.517232  0.027306  0.029827  40.655827  26.236769\n",
       "         4      0.002737  0.434218  0.038029  0.022303  38.299720  21.319832\n",
       "         5      0.002347  0.444580  0.035906  0.021821  30.937415  18.532520\n",
       "...                  ...       ...       ...       ...        ...        ...\n",
       "서울 중랑구   8      0.002457  0.325541  0.019377  0.015143  24.608108  15.414865\n",
       "         9      0.002429  0.372727  0.028038  0.013717  18.510490  10.704895\n",
       "         10     0.002876  0.465676  0.022650  0.021782  32.267930  16.955466\n",
       "         11     0.003394  0.540223  0.014869  0.030200  40.381818  22.101955\n",
       "         12     0.003705  0.622703  0.013034  0.034368  41.778378  24.014865\n",
       "\n",
       "[300 rows x 6 columns]"
      ]
     },
     "execution_count": 26,
     "metadata": {},
     "output_type": "execute_result"
    }
   ],
   "source": [
    "# what is the contaminants mean values by each district and month?\n",
    "df['month'] = df['date'].dt.month  # add month column\n",
    "df = df.loc[df['measurePoint'] == '도시대기']\n",
    "df_group = df.groupby(['district', 'month'])[['SO2', 'CO', 'O3', 'NO2', 'PM10', 'PM25']].mean()\n",
    "df_group"
   ]
  },
  {
   "cell_type": "code",
   "execution_count": 27,
   "id": "2cf84ef6-3004-4023-bc65-7689f2eb45ef",
   "metadata": {},
   "outputs": [
    {
     "data": {
      "text/plain": [
       "MultiIndex([('서울 강남구',  1),\n",
       "            ('서울 강남구',  2),\n",
       "            ('서울 강남구',  3),\n",
       "            ('서울 강남구',  4),\n",
       "            ('서울 강남구',  5),\n",
       "            ('서울 강남구',  6),\n",
       "            ('서울 강남구',  7),\n",
       "            ('서울 강남구',  8),\n",
       "            ('서울 강남구',  9),\n",
       "            ('서울 강남구', 10),\n",
       "            ...\n",
       "            ('서울 중랑구',  3),\n",
       "            ('서울 중랑구',  4),\n",
       "            ('서울 중랑구',  5),\n",
       "            ('서울 중랑구',  6),\n",
       "            ('서울 중랑구',  7),\n",
       "            ('서울 중랑구',  8),\n",
       "            ('서울 중랑구',  9),\n",
       "            ('서울 중랑구', 10),\n",
       "            ('서울 중랑구', 11),\n",
       "            ('서울 중랑구', 12)],\n",
       "           names=['district', 'month'], length=300)"
      ]
     },
     "execution_count": 27,
     "metadata": {},
     "output_type": "execute_result"
    }
   ],
   "source": [
    "# index changed to multi index\n",
    "df_group.index"
   ]
  },
  {
   "cell_type": "code",
   "execution_count": 28,
   "id": "00117af5-2991-47a9-b1a0-4facbaa53b78",
   "metadata": {},
   "outputs": [
    {
     "data": {
      "text/html": [
       "<div>\n",
       "<style scoped>\n",
       "    .dataframe tbody tr th:only-of-type {\n",
       "        vertical-align: middle;\n",
       "    }\n",
       "\n",
       "    .dataframe tbody tr th {\n",
       "        vertical-align: top;\n",
       "    }\n",
       "\n",
       "    .dataframe thead th {\n",
       "        text-align: right;\n",
       "    }\n",
       "</style>\n",
       "<table border=\"1\" class=\"dataframe\">\n",
       "  <thead>\n",
       "    <tr style=\"text-align: right;\">\n",
       "      <th></th>\n",
       "      <th></th>\n",
       "      <th>SO2</th>\n",
       "      <th>CO</th>\n",
       "      <th>O3</th>\n",
       "      <th>NO2</th>\n",
       "      <th>PM10</th>\n",
       "      <th>PM25</th>\n",
       "    </tr>\n",
       "    <tr>\n",
       "      <th>district</th>\n",
       "      <th>month</th>\n",
       "      <th></th>\n",
       "      <th></th>\n",
       "      <th></th>\n",
       "      <th></th>\n",
       "      <th></th>\n",
       "      <th></th>\n",
       "    </tr>\n",
       "  </thead>\n",
       "  <tbody>\n",
       "    <tr>\n",
       "      <th rowspan=\"12\" valign=\"top\">서울 강남구</th>\n",
       "      <th>1</th>\n",
       "      <td>0.003086</td>\n",
       "      <td>0.674494</td>\n",
       "      <td>0.014148</td>\n",
       "      <td>0.035310</td>\n",
       "      <td>38.860811</td>\n",
       "      <td>27.674355</td>\n",
       "    </tr>\n",
       "    <tr>\n",
       "      <th>2</th>\n",
       "      <td>0.003137</td>\n",
       "      <td>0.598842</td>\n",
       "      <td>0.018936</td>\n",
       "      <td>0.034337</td>\n",
       "      <td>37.937681</td>\n",
       "      <td>25.464441</td>\n",
       "    </tr>\n",
       "    <tr>\n",
       "      <th>3</th>\n",
       "      <td>0.002950</td>\n",
       "      <td>0.517232</td>\n",
       "      <td>0.027306</td>\n",
       "      <td>0.029827</td>\n",
       "      <td>40.655827</td>\n",
       "      <td>26.236769</td>\n",
       "    </tr>\n",
       "    <tr>\n",
       "      <th>4</th>\n",
       "      <td>0.002737</td>\n",
       "      <td>0.434218</td>\n",
       "      <td>0.038029</td>\n",
       "      <td>0.022303</td>\n",
       "      <td>38.299720</td>\n",
       "      <td>21.319832</td>\n",
       "    </tr>\n",
       "    <tr>\n",
       "      <th>5</th>\n",
       "      <td>0.002347</td>\n",
       "      <td>0.444580</td>\n",
       "      <td>0.035906</td>\n",
       "      <td>0.021821</td>\n",
       "      <td>30.937415</td>\n",
       "      <td>18.532520</td>\n",
       "    </tr>\n",
       "    <tr>\n",
       "      <th>6</th>\n",
       "      <td>0.002637</td>\n",
       "      <td>0.449859</td>\n",
       "      <td>0.045777</td>\n",
       "      <td>0.022103</td>\n",
       "      <td>33.727016</td>\n",
       "      <td>21.569209</td>\n",
       "    </tr>\n",
       "    <tr>\n",
       "      <th>7</th>\n",
       "      <td>0.002476</td>\n",
       "      <td>0.407046</td>\n",
       "      <td>0.029966</td>\n",
       "      <td>0.019180</td>\n",
       "      <td>19.569273</td>\n",
       "      <td>15.291291</td>\n",
       "    </tr>\n",
       "    <tr>\n",
       "      <th>8</th>\n",
       "      <td>0.002702</td>\n",
       "      <td>0.342588</td>\n",
       "      <td>0.019305</td>\n",
       "      <td>0.017326</td>\n",
       "      <td>23.323410</td>\n",
       "      <td>17.075472</td>\n",
       "    </tr>\n",
       "    <tr>\n",
       "      <th>9</th>\n",
       "      <td>0.002891</td>\n",
       "      <td>0.390237</td>\n",
       "      <td>0.028321</td>\n",
       "      <td>0.017223</td>\n",
       "      <td>18.360449</td>\n",
       "      <td>12.033473</td>\n",
       "    </tr>\n",
       "    <tr>\n",
       "      <th>10</th>\n",
       "      <td>0.003158</td>\n",
       "      <td>0.497023</td>\n",
       "      <td>0.021668</td>\n",
       "      <td>0.024214</td>\n",
       "      <td>29.381793</td>\n",
       "      <td>17.099050</td>\n",
       "    </tr>\n",
       "    <tr>\n",
       "      <th>11</th>\n",
       "      <td>0.003566</td>\n",
       "      <td>0.562011</td>\n",
       "      <td>0.014630</td>\n",
       "      <td>0.030756</td>\n",
       "      <td>36.180672</td>\n",
       "      <td>23.582633</td>\n",
       "    </tr>\n",
       "    <tr>\n",
       "      <th>12</th>\n",
       "      <td>0.003742</td>\n",
       "      <td>0.601353</td>\n",
       "      <td>0.014302</td>\n",
       "      <td>0.031330</td>\n",
       "      <td>36.658967</td>\n",
       "      <td>27.783198</td>\n",
       "    </tr>\n",
       "  </tbody>\n",
       "</table>\n",
       "</div>"
      ],
      "text/plain": [
       "                     SO2        CO        O3       NO2       PM10       PM25\n",
       "district month                                                              \n",
       "서울 강남구   1      0.003086  0.674494  0.014148  0.035310  38.860811  27.674355\n",
       "         2      0.003137  0.598842  0.018936  0.034337  37.937681  25.464441\n",
       "         3      0.002950  0.517232  0.027306  0.029827  40.655827  26.236769\n",
       "         4      0.002737  0.434218  0.038029  0.022303  38.299720  21.319832\n",
       "         5      0.002347  0.444580  0.035906  0.021821  30.937415  18.532520\n",
       "         6      0.002637  0.449859  0.045777  0.022103  33.727016  21.569209\n",
       "         7      0.002476  0.407046  0.029966  0.019180  19.569273  15.291291\n",
       "         8      0.002702  0.342588  0.019305  0.017326  23.323410  17.075472\n",
       "         9      0.002891  0.390237  0.028321  0.017223  18.360449  12.033473\n",
       "         10     0.003158  0.497023  0.021668  0.024214  29.381793  17.099050\n",
       "         11     0.003566  0.562011  0.014630  0.030756  36.180672  23.582633\n",
       "         12     0.003742  0.601353  0.014302  0.031330  36.658967  27.783198"
      ]
     },
     "execution_count": 28,
     "metadata": {},
     "output_type": "execute_result"
    }
   ],
   "source": [
    "# What are the values in '서울 강남구' by every month\n",
    "df_group.loc[df_group.index.get_level_values(0) == '서울 강남구', :]"
   ]
  },
  {
   "cell_type": "code",
   "execution_count": 29,
   "id": "c89008b1-6e7d-43f3-b595-f437cf423a89",
   "metadata": {},
   "outputs": [
    {
     "data": {
      "text/html": [
       "<div>\n",
       "<style scoped>\n",
       "    .dataframe tbody tr th:only-of-type {\n",
       "        vertical-align: middle;\n",
       "    }\n",
       "\n",
       "    .dataframe tbody tr th {\n",
       "        vertical-align: top;\n",
       "    }\n",
       "\n",
       "    .dataframe thead th {\n",
       "        text-align: right;\n",
       "    }\n",
       "</style>\n",
       "<table border=\"1\" class=\"dataframe\">\n",
       "  <thead>\n",
       "    <tr style=\"text-align: right;\">\n",
       "      <th></th>\n",
       "      <th></th>\n",
       "      <th>SO2</th>\n",
       "      <th>CO</th>\n",
       "      <th>O3</th>\n",
       "      <th>NO2</th>\n",
       "      <th>PM10</th>\n",
       "      <th>PM25</th>\n",
       "    </tr>\n",
       "    <tr>\n",
       "      <th>district</th>\n",
       "      <th>month</th>\n",
       "      <th></th>\n",
       "      <th></th>\n",
       "      <th></th>\n",
       "      <th></th>\n",
       "      <th></th>\n",
       "      <th></th>\n",
       "    </tr>\n",
       "  </thead>\n",
       "  <tbody>\n",
       "    <tr>\n",
       "      <th>서울 강남구</th>\n",
       "      <th>3</th>\n",
       "      <td>0.002950</td>\n",
       "      <td>0.517232</td>\n",
       "      <td>0.027306</td>\n",
       "      <td>0.029827</td>\n",
       "      <td>40.655827</td>\n",
       "      <td>26.236769</td>\n",
       "    </tr>\n",
       "    <tr>\n",
       "      <th>서울 강동구</th>\n",
       "      <th>3</th>\n",
       "      <td>0.002774</td>\n",
       "      <td>0.457973</td>\n",
       "      <td>0.024781</td>\n",
       "      <td>0.025090</td>\n",
       "      <td>45.497253</td>\n",
       "      <td>26.382114</td>\n",
       "    </tr>\n",
       "    <tr>\n",
       "      <th>서울 강북구</th>\n",
       "      <th>3</th>\n",
       "      <td>0.002509</td>\n",
       "      <td>0.450744</td>\n",
       "      <td>0.028543</td>\n",
       "      <td>0.025178</td>\n",
       "      <td>46.169377</td>\n",
       "      <td>25.437077</td>\n",
       "    </tr>\n",
       "    <tr>\n",
       "      <th>서울 강서구</th>\n",
       "      <th>3</th>\n",
       "      <td>0.004238</td>\n",
       "      <td>0.475068</td>\n",
       "      <td>0.027873</td>\n",
       "      <td>0.025617</td>\n",
       "      <td>49.112329</td>\n",
       "      <td>24.369565</td>\n",
       "    </tr>\n",
       "    <tr>\n",
       "      <th>서울 관악구</th>\n",
       "      <th>3</th>\n",
       "      <td>0.003519</td>\n",
       "      <td>0.539459</td>\n",
       "      <td>0.024477</td>\n",
       "      <td>0.031942</td>\n",
       "      <td>45.479675</td>\n",
       "      <td>22.924222</td>\n",
       "    </tr>\n",
       "    <tr>\n",
       "      <th>서울 광진구</th>\n",
       "      <th>3</th>\n",
       "      <td>0.002582</td>\n",
       "      <td>0.533378</td>\n",
       "      <td>0.022815</td>\n",
       "      <td>0.024839</td>\n",
       "      <td>45.870219</td>\n",
       "      <td>24.333787</td>\n",
       "    </tr>\n",
       "    <tr>\n",
       "      <th>서울 구로구</th>\n",
       "      <th>3</th>\n",
       "      <td>0.003039</td>\n",
       "      <td>0.352497</td>\n",
       "      <td>0.033591</td>\n",
       "      <td>0.032174</td>\n",
       "      <td>53.429355</td>\n",
       "      <td>26.971233</td>\n",
       "    </tr>\n",
       "    <tr>\n",
       "      <th>서울 금천구</th>\n",
       "      <th>3</th>\n",
       "      <td>0.003299</td>\n",
       "      <td>0.506892</td>\n",
       "      <td>0.023178</td>\n",
       "      <td>0.028825</td>\n",
       "      <td>42.907984</td>\n",
       "      <td>26.323410</td>\n",
       "    </tr>\n",
       "    <tr>\n",
       "      <th>서울 노원구</th>\n",
       "      <th>3</th>\n",
       "      <td>0.004158</td>\n",
       "      <td>0.528049</td>\n",
       "      <td>0.023857</td>\n",
       "      <td>0.024945</td>\n",
       "      <td>43.332425</td>\n",
       "      <td>26.199728</td>\n",
       "    </tr>\n",
       "    <tr>\n",
       "      <th>서울 도봉구</th>\n",
       "      <th>3</th>\n",
       "      <td>0.002800</td>\n",
       "      <td>0.513514</td>\n",
       "      <td>0.031946</td>\n",
       "      <td>0.021281</td>\n",
       "      <td>40.679837</td>\n",
       "      <td>23.350068</td>\n",
       "    </tr>\n",
       "    <tr>\n",
       "      <th>서울 동대문구</th>\n",
       "      <th>3</th>\n",
       "      <td>0.003127</td>\n",
       "      <td>0.479702</td>\n",
       "      <td>0.026882</td>\n",
       "      <td>0.028535</td>\n",
       "      <td>39.559023</td>\n",
       "      <td>20.362652</td>\n",
       "    </tr>\n",
       "    <tr>\n",
       "      <th>서울 동작구</th>\n",
       "      <th>3</th>\n",
       "      <td>0.002899</td>\n",
       "      <td>0.445811</td>\n",
       "      <td>0.022951</td>\n",
       "      <td>0.027835</td>\n",
       "      <td>51.460598</td>\n",
       "      <td>27.891929</td>\n",
       "    </tr>\n",
       "    <tr>\n",
       "      <th>서울 마포구</th>\n",
       "      <th>3</th>\n",
       "      <td>0.003144</td>\n",
       "      <td>0.440486</td>\n",
       "      <td>0.022812</td>\n",
       "      <td>0.031456</td>\n",
       "      <td>41.801361</td>\n",
       "      <td>24.708277</td>\n",
       "    </tr>\n",
       "    <tr>\n",
       "      <th>서울 서대문구</th>\n",
       "      <th>3</th>\n",
       "      <td>0.003370</td>\n",
       "      <td>0.665939</td>\n",
       "      <td>0.030255</td>\n",
       "      <td>0.022718</td>\n",
       "      <td>49.597668</td>\n",
       "      <td>26.510885</td>\n",
       "    </tr>\n",
       "    <tr>\n",
       "      <th>서울 서초구</th>\n",
       "      <th>3</th>\n",
       "      <td>0.003168</td>\n",
       "      <td>0.347091</td>\n",
       "      <td>0.032814</td>\n",
       "      <td>0.028932</td>\n",
       "      <td>50.775312</td>\n",
       "      <td>28.572802</td>\n",
       "    </tr>\n",
       "    <tr>\n",
       "      <th>서울 성동구</th>\n",
       "      <th>3</th>\n",
       "      <td>0.003338</td>\n",
       "      <td>0.469731</td>\n",
       "      <td>0.027212</td>\n",
       "      <td>0.027627</td>\n",
       "      <td>42.043302</td>\n",
       "      <td>24.617050</td>\n",
       "    </tr>\n",
       "    <tr>\n",
       "      <th>서울 성북구</th>\n",
       "      <th>3</th>\n",
       "      <td>0.003064</td>\n",
       "      <td>0.588498</td>\n",
       "      <td>0.026307</td>\n",
       "      <td>0.031231</td>\n",
       "      <td>45.282967</td>\n",
       "      <td>22.653005</td>\n",
       "    </tr>\n",
       "    <tr>\n",
       "      <th>서울 송파구</th>\n",
       "      <th>3</th>\n",
       "      <td>0.003405</td>\n",
       "      <td>0.565110</td>\n",
       "      <td>0.023741</td>\n",
       "      <td>0.033745</td>\n",
       "      <td>43.193505</td>\n",
       "      <td>24.123641</td>\n",
       "    </tr>\n",
       "    <tr>\n",
       "      <th>서울 양천구</th>\n",
       "      <th>3</th>\n",
       "      <td>0.004425</td>\n",
       "      <td>0.524763</td>\n",
       "      <td>0.026108</td>\n",
       "      <td>0.030123</td>\n",
       "      <td>49.278912</td>\n",
       "      <td>26.970109</td>\n",
       "    </tr>\n",
       "    <tr>\n",
       "      <th>서울 영등포구</th>\n",
       "      <th>3</th>\n",
       "      <td>0.003199</td>\n",
       "      <td>0.487127</td>\n",
       "      <td>0.025245</td>\n",
       "      <td>0.029168</td>\n",
       "      <td>42.362772</td>\n",
       "      <td>24.559783</td>\n",
       "    </tr>\n",
       "    <tr>\n",
       "      <th>서울 용산구</th>\n",
       "      <th>3</th>\n",
       "      <td>0.003024</td>\n",
       "      <td>0.501081</td>\n",
       "      <td>0.027132</td>\n",
       "      <td>0.023834</td>\n",
       "      <td>45.507442</td>\n",
       "      <td>23.169147</td>\n",
       "    </tr>\n",
       "    <tr>\n",
       "      <th>서울 은평구</th>\n",
       "      <th>3</th>\n",
       "      <td>0.003101</td>\n",
       "      <td>0.352227</td>\n",
       "      <td>0.031449</td>\n",
       "      <td>0.019080</td>\n",
       "      <td>46.054622</td>\n",
       "      <td>24.226573</td>\n",
       "    </tr>\n",
       "    <tr>\n",
       "      <th>서울 종로구</th>\n",
       "      <th>3</th>\n",
       "      <td>0.003520</td>\n",
       "      <td>0.529730</td>\n",
       "      <td>0.023228</td>\n",
       "      <td>0.028023</td>\n",
       "      <td>43.308943</td>\n",
       "      <td>25.493243</td>\n",
       "    </tr>\n",
       "    <tr>\n",
       "      <th>서울 중구</th>\n",
       "      <th>3</th>\n",
       "      <td>0.003051</td>\n",
       "      <td>0.493919</td>\n",
       "      <td>0.024862</td>\n",
       "      <td>0.025916</td>\n",
       "      <td>41.188859</td>\n",
       "      <td>27.859459</td>\n",
       "    </tr>\n",
       "    <tr>\n",
       "      <th>서울 중랑구</th>\n",
       "      <th>3</th>\n",
       "      <td>0.002882</td>\n",
       "      <td>0.518535</td>\n",
       "      <td>0.024193</td>\n",
       "      <td>0.028381</td>\n",
       "      <td>44.520958</td>\n",
       "      <td>23.868263</td>\n",
       "    </tr>\n",
       "  </tbody>\n",
       "</table>\n",
       "</div>"
      ],
      "text/plain": [
       "                     SO2        CO        O3       NO2       PM10       PM25\n",
       "district month                                                              \n",
       "서울 강남구   3      0.002950  0.517232  0.027306  0.029827  40.655827  26.236769\n",
       "서울 강동구   3      0.002774  0.457973  0.024781  0.025090  45.497253  26.382114\n",
       "서울 강북구   3      0.002509  0.450744  0.028543  0.025178  46.169377  25.437077\n",
       "서울 강서구   3      0.004238  0.475068  0.027873  0.025617  49.112329  24.369565\n",
       "서울 관악구   3      0.003519  0.539459  0.024477  0.031942  45.479675  22.924222\n",
       "서울 광진구   3      0.002582  0.533378  0.022815  0.024839  45.870219  24.333787\n",
       "서울 구로구   3      0.003039  0.352497  0.033591  0.032174  53.429355  26.971233\n",
       "서울 금천구   3      0.003299  0.506892  0.023178  0.028825  42.907984  26.323410\n",
       "서울 노원구   3      0.004158  0.528049  0.023857  0.024945  43.332425  26.199728\n",
       "서울 도봉구   3      0.002800  0.513514  0.031946  0.021281  40.679837  23.350068\n",
       "서울 동대문구  3      0.003127  0.479702  0.026882  0.028535  39.559023  20.362652\n",
       "서울 동작구   3      0.002899  0.445811  0.022951  0.027835  51.460598  27.891929\n",
       "서울 마포구   3      0.003144  0.440486  0.022812  0.031456  41.801361  24.708277\n",
       "서울 서대문구  3      0.003370  0.665939  0.030255  0.022718  49.597668  26.510885\n",
       "서울 서초구   3      0.003168  0.347091  0.032814  0.028932  50.775312  28.572802\n",
       "서울 성동구   3      0.003338  0.469731  0.027212  0.027627  42.043302  24.617050\n",
       "서울 성북구   3      0.003064  0.588498  0.026307  0.031231  45.282967  22.653005\n",
       "서울 송파구   3      0.003405  0.565110  0.023741  0.033745  43.193505  24.123641\n",
       "서울 양천구   3      0.004425  0.524763  0.026108  0.030123  49.278912  26.970109\n",
       "서울 영등포구  3      0.003199  0.487127  0.025245  0.029168  42.362772  24.559783\n",
       "서울 용산구   3      0.003024  0.501081  0.027132  0.023834  45.507442  23.169147\n",
       "서울 은평구   3      0.003101  0.352227  0.031449  0.019080  46.054622  24.226573\n",
       "서울 종로구   3      0.003520  0.529730  0.023228  0.028023  43.308943  25.493243\n",
       "서울 중구    3      0.003051  0.493919  0.024862  0.025916  41.188859  27.859459\n",
       "서울 중랑구   3      0.002882  0.518535  0.024193  0.028381  44.520958  23.868263"
      ]
     },
     "execution_count": 29,
     "metadata": {},
     "output_type": "execute_result"
    }
   ],
   "source": [
    "# What are the values in March by each Gu in Seoul?\n",
    "df_group.loc[df_group.index.get_level_values(1) == 3, :]"
   ]
  },
  {
   "cell_type": "code",
   "execution_count": 30,
   "id": "ccd808c3-f4c9-44ce-ba95-217b0daa6e63",
   "metadata": {},
   "outputs": [
    {
     "data": {
      "text/html": [
       "<div>\n",
       "<style scoped>\n",
       "    .dataframe tbody tr th:only-of-type {\n",
       "        vertical-align: middle;\n",
       "    }\n",
       "\n",
       "    .dataframe tbody tr th {\n",
       "        vertical-align: top;\n",
       "    }\n",
       "\n",
       "    .dataframe thead tr th {\n",
       "        text-align: left;\n",
       "    }\n",
       "\n",
       "    .dataframe thead tr:last-of-type th {\n",
       "        text-align: right;\n",
       "    }\n",
       "</style>\n",
       "<table border=\"1\" class=\"dataframe\">\n",
       "  <thead>\n",
       "    <tr>\n",
       "      <th></th>\n",
       "      <th colspan=\"21\" halign=\"left\">PM10</th>\n",
       "    </tr>\n",
       "    <tr>\n",
       "      <th>district</th>\n",
       "      <th>서울 강남구</th>\n",
       "      <th>서울 강동구</th>\n",
       "      <th>서울 강북구</th>\n",
       "      <th>서울 강서구</th>\n",
       "      <th>서울 관악구</th>\n",
       "      <th>서울 광진구</th>\n",
       "      <th>서울 구로구</th>\n",
       "      <th>서울 금천구</th>\n",
       "      <th>서울 노원구</th>\n",
       "      <th>서울 도봉구</th>\n",
       "      <th>...</th>\n",
       "      <th>서울 성동구</th>\n",
       "      <th>서울 성북구</th>\n",
       "      <th>서울 송파구</th>\n",
       "      <th>서울 양천구</th>\n",
       "      <th>서울 영등포구</th>\n",
       "      <th>서울 용산구</th>\n",
       "      <th>서울 은평구</th>\n",
       "      <th>서울 종로구</th>\n",
       "      <th>서울 중구</th>\n",
       "      <th>서울 중랑구</th>\n",
       "    </tr>\n",
       "    <tr>\n",
       "      <th>month</th>\n",
       "      <th></th>\n",
       "      <th></th>\n",
       "      <th></th>\n",
       "      <th></th>\n",
       "      <th></th>\n",
       "      <th></th>\n",
       "      <th></th>\n",
       "      <th></th>\n",
       "      <th></th>\n",
       "      <th></th>\n",
       "      <th></th>\n",
       "      <th></th>\n",
       "      <th></th>\n",
       "      <th></th>\n",
       "      <th></th>\n",
       "      <th></th>\n",
       "      <th></th>\n",
       "      <th></th>\n",
       "      <th></th>\n",
       "      <th></th>\n",
       "      <th></th>\n",
       "    </tr>\n",
       "  </thead>\n",
       "  <tbody>\n",
       "    <tr>\n",
       "      <th>1</th>\n",
       "      <td>38.860811</td>\n",
       "      <td>46.642077</td>\n",
       "      <td>44.374831</td>\n",
       "      <td>53.143050</td>\n",
       "      <td>43.310534</td>\n",
       "      <td>39.651163</td>\n",
       "      <td>40.797241</td>\n",
       "      <td>42.191761</td>\n",
       "      <td>37.540466</td>\n",
       "      <td>38.004110</td>\n",
       "      <td>...</td>\n",
       "      <td>40.267030</td>\n",
       "      <td>41.039510</td>\n",
       "      <td>40.684709</td>\n",
       "      <td>50.205683</td>\n",
       "      <td>41.446549</td>\n",
       "      <td>41.814246</td>\n",
       "      <td>39.144414</td>\n",
       "      <td>42.746955</td>\n",
       "      <td>40.961801</td>\n",
       "      <td>41.519621</td>\n",
       "    </tr>\n",
       "    <tr>\n",
       "      <th>2</th>\n",
       "      <td>37.937681</td>\n",
       "      <td>45.745269</td>\n",
       "      <td>45.506024</td>\n",
       "      <td>46.004354</td>\n",
       "      <td>40.870827</td>\n",
       "      <td>40.716176</td>\n",
       "      <td>40.316119</td>\n",
       "      <td>40.840348</td>\n",
       "      <td>36.409357</td>\n",
       "      <td>37.633782</td>\n",
       "      <td>...</td>\n",
       "      <td>40.115942</td>\n",
       "      <td>40.491202</td>\n",
       "      <td>39.916422</td>\n",
       "      <td>45.718433</td>\n",
       "      <td>38.624454</td>\n",
       "      <td>39.427921</td>\n",
       "      <td>38.197101</td>\n",
       "      <td>42.308140</td>\n",
       "      <td>40.233918</td>\n",
       "      <td>41.384393</td>\n",
       "    </tr>\n",
       "    <tr>\n",
       "      <th>3</th>\n",
       "      <td>40.655827</td>\n",
       "      <td>45.497253</td>\n",
       "      <td>46.169377</td>\n",
       "      <td>49.112329</td>\n",
       "      <td>45.479675</td>\n",
       "      <td>45.870219</td>\n",
       "      <td>53.429355</td>\n",
       "      <td>42.907984</td>\n",
       "      <td>43.332425</td>\n",
       "      <td>40.679837</td>\n",
       "      <td>...</td>\n",
       "      <td>42.043302</td>\n",
       "      <td>45.282967</td>\n",
       "      <td>43.193505</td>\n",
       "      <td>49.278912</td>\n",
       "      <td>42.362772</td>\n",
       "      <td>45.507442</td>\n",
       "      <td>46.054622</td>\n",
       "      <td>43.308943</td>\n",
       "      <td>41.188859</td>\n",
       "      <td>44.520958</td>\n",
       "    </tr>\n",
       "    <tr>\n",
       "      <th>4</th>\n",
       "      <td>38.299720</td>\n",
       "      <td>43.511921</td>\n",
       "      <td>47.543018</td>\n",
       "      <td>45.187060</td>\n",
       "      <td>42.697479</td>\n",
       "      <td>45.248908</td>\n",
       "      <td>51.031770</td>\n",
       "      <td>39.386555</td>\n",
       "      <td>45.616783</td>\n",
       "      <td>42.237624</td>\n",
       "      <td>...</td>\n",
       "      <td>40.025175</td>\n",
       "      <td>45.927660</td>\n",
       "      <td>42.985994</td>\n",
       "      <td>45.135854</td>\n",
       "      <td>39.974825</td>\n",
       "      <td>45.344585</td>\n",
       "      <td>47.064194</td>\n",
       "      <td>41.907563</td>\n",
       "      <td>38.907433</td>\n",
       "      <td>42.665730</td>\n",
       "    </tr>\n",
       "    <tr>\n",
       "      <th>5</th>\n",
       "      <td>30.937415</td>\n",
       "      <td>32.977027</td>\n",
       "      <td>35.874830</td>\n",
       "      <td>35.798077</td>\n",
       "      <td>34.548038</td>\n",
       "      <td>35.540466</td>\n",
       "      <td>42.751159</td>\n",
       "      <td>31.016238</td>\n",
       "      <td>32.657645</td>\n",
       "      <td>34.120116</td>\n",
       "      <td>...</td>\n",
       "      <td>32.605978</td>\n",
       "      <td>36.262295</td>\n",
       "      <td>33.336043</td>\n",
       "      <td>35.645862</td>\n",
       "      <td>32.422131</td>\n",
       "      <td>34.791328</td>\n",
       "      <td>37.174033</td>\n",
       "      <td>34.165975</td>\n",
       "      <td>31.831131</td>\n",
       "      <td>34.417120</td>\n",
       "    </tr>\n",
       "    <tr>\n",
       "      <th>6</th>\n",
       "      <td>33.727016</td>\n",
       "      <td>36.428771</td>\n",
       "      <td>39.201977</td>\n",
       "      <td>36.198571</td>\n",
       "      <td>37.240896</td>\n",
       "      <td>35.460674</td>\n",
       "      <td>35.122862</td>\n",
       "      <td>33.421788</td>\n",
       "      <td>35.107692</td>\n",
       "      <td>36.726891</td>\n",
       "      <td>...</td>\n",
       "      <td>35.582633</td>\n",
       "      <td>37.997183</td>\n",
       "      <td>37.576869</td>\n",
       "      <td>37.514685</td>\n",
       "      <td>35.805907</td>\n",
       "      <td>37.459384</td>\n",
       "      <td>37.080056</td>\n",
       "      <td>36.304410</td>\n",
       "      <td>33.061972</td>\n",
       "      <td>38.202797</td>\n",
       "    </tr>\n",
       "    <tr>\n",
       "      <th>7</th>\n",
       "      <td>19.569273</td>\n",
       "      <td>20.211460</td>\n",
       "      <td>23.544098</td>\n",
       "      <td>21.057103</td>\n",
       "      <td>22.696888</td>\n",
       "      <td>19.398649</td>\n",
       "      <td>17.188590</td>\n",
       "      <td>21.504749</td>\n",
       "      <td>19.922835</td>\n",
       "      <td>23.327027</td>\n",
       "      <td>...</td>\n",
       "      <td>20.496608</td>\n",
       "      <td>22.482385</td>\n",
       "      <td>20.780952</td>\n",
       "      <td>22.253275</td>\n",
       "      <td>22.002721</td>\n",
       "      <td>21.424119</td>\n",
       "      <td>19.083676</td>\n",
       "      <td>21.731973</td>\n",
       "      <td>20.015257</td>\n",
       "      <td>21.735135</td>\n",
       "    </tr>\n",
       "    <tr>\n",
       "      <th>8</th>\n",
       "      <td>23.323410</td>\n",
       "      <td>23.960274</td>\n",
       "      <td>28.230556</td>\n",
       "      <td>22.734694</td>\n",
       "      <td>24.313008</td>\n",
       "      <td>22.884668</td>\n",
       "      <td>18.301255</td>\n",
       "      <td>24.579376</td>\n",
       "      <td>21.246259</td>\n",
       "      <td>18.774373</td>\n",
       "      <td>...</td>\n",
       "      <td>23.368207</td>\n",
       "      <td>21.683356</td>\n",
       "      <td>24.329096</td>\n",
       "      <td>25.315291</td>\n",
       "      <td>24.123139</td>\n",
       "      <td>23.852304</td>\n",
       "      <td>20.547325</td>\n",
       "      <td>23.459239</td>\n",
       "      <td>22.709902</td>\n",
       "      <td>24.608108</td>\n",
       "    </tr>\n",
       "    <tr>\n",
       "      <th>9</th>\n",
       "      <td>18.360449</td>\n",
       "      <td>19.610482</td>\n",
       "      <td>21.563504</td>\n",
       "      <td>19.460340</td>\n",
       "      <td>20.522472</td>\n",
       "      <td>17.842031</td>\n",
       "      <td>18.814815</td>\n",
       "      <td>21.250360</td>\n",
       "      <td>18.709489</td>\n",
       "      <td>12.558989</td>\n",
       "      <td>...</td>\n",
       "      <td>18.561625</td>\n",
       "      <td>19.100279</td>\n",
       "      <td>19.566145</td>\n",
       "      <td>21.826271</td>\n",
       "      <td>19.962079</td>\n",
       "      <td>19.679272</td>\n",
       "      <td>17.988764</td>\n",
       "      <td>20.680241</td>\n",
       "      <td>20.598214</td>\n",
       "      <td>18.510490</td>\n",
       "    </tr>\n",
       "    <tr>\n",
       "      <th>10</th>\n",
       "      <td>29.381793</td>\n",
       "      <td>35.597701</td>\n",
       "      <td>35.476858</td>\n",
       "      <td>35.709016</td>\n",
       "      <td>33.458108</td>\n",
       "      <td>30.043537</td>\n",
       "      <td>35.861345</td>\n",
       "      <td>33.934844</td>\n",
       "      <td>33.176391</td>\n",
       "      <td>26.906593</td>\n",
       "      <td>...</td>\n",
       "      <td>30.501359</td>\n",
       "      <td>35.554804</td>\n",
       "      <td>32.610583</td>\n",
       "      <td>35.253045</td>\n",
       "      <td>32.931081</td>\n",
       "      <td>33.858300</td>\n",
       "      <td>31.867209</td>\n",
       "      <td>35.571023</td>\n",
       "      <td>39.688259</td>\n",
       "      <td>32.267930</td>\n",
       "    </tr>\n",
       "    <tr>\n",
       "      <th>11</th>\n",
       "      <td>36.180672</td>\n",
       "      <td>44.952580</td>\n",
       "      <td>45.343096</td>\n",
       "      <td>46.551676</td>\n",
       "      <td>38.376587</td>\n",
       "      <td>37.769231</td>\n",
       "      <td>45.356125</td>\n",
       "      <td>43.186777</td>\n",
       "      <td>41.490934</td>\n",
       "      <td>36.049133</td>\n",
       "      <td>...</td>\n",
       "      <td>38.036364</td>\n",
       "      <td>44.583794</td>\n",
       "      <td>39.100982</td>\n",
       "      <td>47.983918</td>\n",
       "      <td>40.925247</td>\n",
       "      <td>44.517581</td>\n",
       "      <td>38.473088</td>\n",
       "      <td>44.297335</td>\n",
       "      <td>49.548117</td>\n",
       "      <td>40.381818</td>\n",
       "    </tr>\n",
       "    <tr>\n",
       "      <th>12</th>\n",
       "      <td>36.658967</td>\n",
       "      <td>46.964674</td>\n",
       "      <td>45.994580</td>\n",
       "      <td>45.215553</td>\n",
       "      <td>35.621951</td>\n",
       "      <td>38.490541</td>\n",
       "      <td>44.223275</td>\n",
       "      <td>43.754768</td>\n",
       "      <td>44.832187</td>\n",
       "      <td>38.278621</td>\n",
       "      <td>...</td>\n",
       "      <td>37.586721</td>\n",
       "      <td>43.761194</td>\n",
       "      <td>38.157182</td>\n",
       "      <td>46.652233</td>\n",
       "      <td>38.573748</td>\n",
       "      <td>47.634641</td>\n",
       "      <td>38.781250</td>\n",
       "      <td>44.105691</td>\n",
       "      <td>48.791892</td>\n",
       "      <td>41.778378</td>\n",
       "    </tr>\n",
       "  </tbody>\n",
       "</table>\n",
       "<p>12 rows × 25 columns</p>\n",
       "</div>"
      ],
      "text/plain": [
       "               PM10                                                         \\\n",
       "district     서울 강남구     서울 강동구     서울 강북구     서울 강서구     서울 관악구     서울 광진구   \n",
       "month                                                                        \n",
       "1         38.860811  46.642077  44.374831  53.143050  43.310534  39.651163   \n",
       "2         37.937681  45.745269  45.506024  46.004354  40.870827  40.716176   \n",
       "3         40.655827  45.497253  46.169377  49.112329  45.479675  45.870219   \n",
       "4         38.299720  43.511921  47.543018  45.187060  42.697479  45.248908   \n",
       "5         30.937415  32.977027  35.874830  35.798077  34.548038  35.540466   \n",
       "6         33.727016  36.428771  39.201977  36.198571  37.240896  35.460674   \n",
       "7         19.569273  20.211460  23.544098  21.057103  22.696888  19.398649   \n",
       "8         23.323410  23.960274  28.230556  22.734694  24.313008  22.884668   \n",
       "9         18.360449  19.610482  21.563504  19.460340  20.522472  17.842031   \n",
       "10        29.381793  35.597701  35.476858  35.709016  33.458108  30.043537   \n",
       "11        36.180672  44.952580  45.343096  46.551676  38.376587  37.769231   \n",
       "12        36.658967  46.964674  45.994580  45.215553  35.621951  38.490541   \n",
       "\n",
       "                                                      ...             \\\n",
       "district     서울 구로구     서울 금천구     서울 노원구     서울 도봉구  ...     서울 성동구   \n",
       "month                                                 ...              \n",
       "1         40.797241  42.191761  37.540466  38.004110  ...  40.267030   \n",
       "2         40.316119  40.840348  36.409357  37.633782  ...  40.115942   \n",
       "3         53.429355  42.907984  43.332425  40.679837  ...  42.043302   \n",
       "4         51.031770  39.386555  45.616783  42.237624  ...  40.025175   \n",
       "5         42.751159  31.016238  32.657645  34.120116  ...  32.605978   \n",
       "6         35.122862  33.421788  35.107692  36.726891  ...  35.582633   \n",
       "7         17.188590  21.504749  19.922835  23.327027  ...  20.496608   \n",
       "8         18.301255  24.579376  21.246259  18.774373  ...  23.368207   \n",
       "9         18.814815  21.250360  18.709489  12.558989  ...  18.561625   \n",
       "10        35.861345  33.934844  33.176391  26.906593  ...  30.501359   \n",
       "11        45.356125  43.186777  41.490934  36.049133  ...  38.036364   \n",
       "12        44.223275  43.754768  44.832187  38.278621  ...  37.586721   \n",
       "\n",
       "                                                                            \\\n",
       "district     서울 성북구     서울 송파구     서울 양천구    서울 영등포구     서울 용산구     서울 은평구   \n",
       "month                                                                        \n",
       "1         41.039510  40.684709  50.205683  41.446549  41.814246  39.144414   \n",
       "2         40.491202  39.916422  45.718433  38.624454  39.427921  38.197101   \n",
       "3         45.282967  43.193505  49.278912  42.362772  45.507442  46.054622   \n",
       "4         45.927660  42.985994  45.135854  39.974825  45.344585  47.064194   \n",
       "5         36.262295  33.336043  35.645862  32.422131  34.791328  37.174033   \n",
       "6         37.997183  37.576869  37.514685  35.805907  37.459384  37.080056   \n",
       "7         22.482385  20.780952  22.253275  22.002721  21.424119  19.083676   \n",
       "8         21.683356  24.329096  25.315291  24.123139  23.852304  20.547325   \n",
       "9         19.100279  19.566145  21.826271  19.962079  19.679272  17.988764   \n",
       "10        35.554804  32.610583  35.253045  32.931081  33.858300  31.867209   \n",
       "11        44.583794  39.100982  47.983918  40.925247  44.517581  38.473088   \n",
       "12        43.761194  38.157182  46.652233  38.573748  47.634641  38.781250   \n",
       "\n",
       "                                           \n",
       "district     서울 종로구      서울 중구     서울 중랑구  \n",
       "month                                      \n",
       "1         42.746955  40.961801  41.519621  \n",
       "2         42.308140  40.233918  41.384393  \n",
       "3         43.308943  41.188859  44.520958  \n",
       "4         41.907563  38.907433  42.665730  \n",
       "5         34.165975  31.831131  34.417120  \n",
       "6         36.304410  33.061972  38.202797  \n",
       "7         21.731973  20.015257  21.735135  \n",
       "8         23.459239  22.709902  24.608108  \n",
       "9         20.680241  20.598214  18.510490  \n",
       "10        35.571023  39.688259  32.267930  \n",
       "11        44.297335  49.548117  40.381818  \n",
       "12        44.105691  48.791892  41.778378  \n",
       "\n",
       "[12 rows x 25 columns]"
      ]
     },
     "execution_count": 30,
     "metadata": {},
     "output_type": "execute_result"
    }
   ],
   "source": [
    "df.pivot_table(values=['PM10'], index=['month'], columns=['district'])"
   ]
  },
  {
   "cell_type": "code",
   "execution_count": 31,
   "id": "c5935ef3-9e28-4995-88c6-8ee177a4d7ff",
   "metadata": {},
   "outputs": [
    {
     "data": {
      "text/html": [
       "<div>\n",
       "<style scoped>\n",
       "    .dataframe tbody tr th:only-of-type {\n",
       "        vertical-align: middle;\n",
       "    }\n",
       "\n",
       "    .dataframe tbody tr th {\n",
       "        vertical-align: top;\n",
       "    }\n",
       "\n",
       "    .dataframe thead th {\n",
       "        text-align: right;\n",
       "    }\n",
       "</style>\n",
       "<table border=\"1\" class=\"dataframe\">\n",
       "  <thead>\n",
       "    <tr style=\"text-align: right;\">\n",
       "      <th>district</th>\n",
       "      <th>서울 강남구</th>\n",
       "      <th>서울 강동구</th>\n",
       "      <th>서울 강북구</th>\n",
       "      <th>서울 강서구</th>\n",
       "      <th>서울 관악구</th>\n",
       "      <th>서울 광진구</th>\n",
       "      <th>서울 구로구</th>\n",
       "      <th>서울 금천구</th>\n",
       "      <th>서울 노원구</th>\n",
       "      <th>서울 도봉구</th>\n",
       "      <th>...</th>\n",
       "      <th>서울 성동구</th>\n",
       "      <th>서울 성북구</th>\n",
       "      <th>서울 송파구</th>\n",
       "      <th>서울 양천구</th>\n",
       "      <th>서울 영등포구</th>\n",
       "      <th>서울 용산구</th>\n",
       "      <th>서울 은평구</th>\n",
       "      <th>서울 종로구</th>\n",
       "      <th>서울 중구</th>\n",
       "      <th>서울 중랑구</th>\n",
       "    </tr>\n",
       "    <tr>\n",
       "      <th>month</th>\n",
       "      <th></th>\n",
       "      <th></th>\n",
       "      <th></th>\n",
       "      <th></th>\n",
       "      <th></th>\n",
       "      <th></th>\n",
       "      <th></th>\n",
       "      <th></th>\n",
       "      <th></th>\n",
       "      <th></th>\n",
       "      <th></th>\n",
       "      <th></th>\n",
       "      <th></th>\n",
       "      <th></th>\n",
       "      <th></th>\n",
       "      <th></th>\n",
       "      <th></th>\n",
       "      <th></th>\n",
       "      <th></th>\n",
       "      <th></th>\n",
       "      <th></th>\n",
       "    </tr>\n",
       "  </thead>\n",
       "  <tbody>\n",
       "    <tr>\n",
       "      <th>1</th>\n",
       "      <td>38.860811</td>\n",
       "      <td>46.642077</td>\n",
       "      <td>44.374831</td>\n",
       "      <td>53.143050</td>\n",
       "      <td>43.310534</td>\n",
       "      <td>39.651163</td>\n",
       "      <td>40.797241</td>\n",
       "      <td>42.191761</td>\n",
       "      <td>37.540466</td>\n",
       "      <td>38.004110</td>\n",
       "      <td>...</td>\n",
       "      <td>40.267030</td>\n",
       "      <td>41.039510</td>\n",
       "      <td>40.684709</td>\n",
       "      <td>50.205683</td>\n",
       "      <td>41.446549</td>\n",
       "      <td>41.814246</td>\n",
       "      <td>39.144414</td>\n",
       "      <td>42.746955</td>\n",
       "      <td>40.961801</td>\n",
       "      <td>41.519621</td>\n",
       "    </tr>\n",
       "    <tr>\n",
       "      <th>2</th>\n",
       "      <td>37.937681</td>\n",
       "      <td>45.745269</td>\n",
       "      <td>45.506024</td>\n",
       "      <td>46.004354</td>\n",
       "      <td>40.870827</td>\n",
       "      <td>40.716176</td>\n",
       "      <td>40.316119</td>\n",
       "      <td>40.840348</td>\n",
       "      <td>36.409357</td>\n",
       "      <td>37.633782</td>\n",
       "      <td>...</td>\n",
       "      <td>40.115942</td>\n",
       "      <td>40.491202</td>\n",
       "      <td>39.916422</td>\n",
       "      <td>45.718433</td>\n",
       "      <td>38.624454</td>\n",
       "      <td>39.427921</td>\n",
       "      <td>38.197101</td>\n",
       "      <td>42.308140</td>\n",
       "      <td>40.233918</td>\n",
       "      <td>41.384393</td>\n",
       "    </tr>\n",
       "    <tr>\n",
       "      <th>3</th>\n",
       "      <td>40.655827</td>\n",
       "      <td>45.497253</td>\n",
       "      <td>46.169377</td>\n",
       "      <td>49.112329</td>\n",
       "      <td>45.479675</td>\n",
       "      <td>45.870219</td>\n",
       "      <td>53.429355</td>\n",
       "      <td>42.907984</td>\n",
       "      <td>43.332425</td>\n",
       "      <td>40.679837</td>\n",
       "      <td>...</td>\n",
       "      <td>42.043302</td>\n",
       "      <td>45.282967</td>\n",
       "      <td>43.193505</td>\n",
       "      <td>49.278912</td>\n",
       "      <td>42.362772</td>\n",
       "      <td>45.507442</td>\n",
       "      <td>46.054622</td>\n",
       "      <td>43.308943</td>\n",
       "      <td>41.188859</td>\n",
       "      <td>44.520958</td>\n",
       "    </tr>\n",
       "    <tr>\n",
       "      <th>4</th>\n",
       "      <td>38.299720</td>\n",
       "      <td>43.511921</td>\n",
       "      <td>47.543018</td>\n",
       "      <td>45.187060</td>\n",
       "      <td>42.697479</td>\n",
       "      <td>45.248908</td>\n",
       "      <td>51.031770</td>\n",
       "      <td>39.386555</td>\n",
       "      <td>45.616783</td>\n",
       "      <td>42.237624</td>\n",
       "      <td>...</td>\n",
       "      <td>40.025175</td>\n",
       "      <td>45.927660</td>\n",
       "      <td>42.985994</td>\n",
       "      <td>45.135854</td>\n",
       "      <td>39.974825</td>\n",
       "      <td>45.344585</td>\n",
       "      <td>47.064194</td>\n",
       "      <td>41.907563</td>\n",
       "      <td>38.907433</td>\n",
       "      <td>42.665730</td>\n",
       "    </tr>\n",
       "    <tr>\n",
       "      <th>5</th>\n",
       "      <td>30.937415</td>\n",
       "      <td>32.977027</td>\n",
       "      <td>35.874830</td>\n",
       "      <td>35.798077</td>\n",
       "      <td>34.548038</td>\n",
       "      <td>35.540466</td>\n",
       "      <td>42.751159</td>\n",
       "      <td>31.016238</td>\n",
       "      <td>32.657645</td>\n",
       "      <td>34.120116</td>\n",
       "      <td>...</td>\n",
       "      <td>32.605978</td>\n",
       "      <td>36.262295</td>\n",
       "      <td>33.336043</td>\n",
       "      <td>35.645862</td>\n",
       "      <td>32.422131</td>\n",
       "      <td>34.791328</td>\n",
       "      <td>37.174033</td>\n",
       "      <td>34.165975</td>\n",
       "      <td>31.831131</td>\n",
       "      <td>34.417120</td>\n",
       "    </tr>\n",
       "    <tr>\n",
       "      <th>6</th>\n",
       "      <td>33.727016</td>\n",
       "      <td>36.428771</td>\n",
       "      <td>39.201977</td>\n",
       "      <td>36.198571</td>\n",
       "      <td>37.240896</td>\n",
       "      <td>35.460674</td>\n",
       "      <td>35.122862</td>\n",
       "      <td>33.421788</td>\n",
       "      <td>35.107692</td>\n",
       "      <td>36.726891</td>\n",
       "      <td>...</td>\n",
       "      <td>35.582633</td>\n",
       "      <td>37.997183</td>\n",
       "      <td>37.576869</td>\n",
       "      <td>37.514685</td>\n",
       "      <td>35.805907</td>\n",
       "      <td>37.459384</td>\n",
       "      <td>37.080056</td>\n",
       "      <td>36.304410</td>\n",
       "      <td>33.061972</td>\n",
       "      <td>38.202797</td>\n",
       "    </tr>\n",
       "    <tr>\n",
       "      <th>7</th>\n",
       "      <td>19.569273</td>\n",
       "      <td>20.211460</td>\n",
       "      <td>23.544098</td>\n",
       "      <td>21.057103</td>\n",
       "      <td>22.696888</td>\n",
       "      <td>19.398649</td>\n",
       "      <td>17.188590</td>\n",
       "      <td>21.504749</td>\n",
       "      <td>19.922835</td>\n",
       "      <td>23.327027</td>\n",
       "      <td>...</td>\n",
       "      <td>20.496608</td>\n",
       "      <td>22.482385</td>\n",
       "      <td>20.780952</td>\n",
       "      <td>22.253275</td>\n",
       "      <td>22.002721</td>\n",
       "      <td>21.424119</td>\n",
       "      <td>19.083676</td>\n",
       "      <td>21.731973</td>\n",
       "      <td>20.015257</td>\n",
       "      <td>21.735135</td>\n",
       "    </tr>\n",
       "    <tr>\n",
       "      <th>8</th>\n",
       "      <td>23.323410</td>\n",
       "      <td>23.960274</td>\n",
       "      <td>28.230556</td>\n",
       "      <td>22.734694</td>\n",
       "      <td>24.313008</td>\n",
       "      <td>22.884668</td>\n",
       "      <td>18.301255</td>\n",
       "      <td>24.579376</td>\n",
       "      <td>21.246259</td>\n",
       "      <td>18.774373</td>\n",
       "      <td>...</td>\n",
       "      <td>23.368207</td>\n",
       "      <td>21.683356</td>\n",
       "      <td>24.329096</td>\n",
       "      <td>25.315291</td>\n",
       "      <td>24.123139</td>\n",
       "      <td>23.852304</td>\n",
       "      <td>20.547325</td>\n",
       "      <td>23.459239</td>\n",
       "      <td>22.709902</td>\n",
       "      <td>24.608108</td>\n",
       "    </tr>\n",
       "    <tr>\n",
       "      <th>9</th>\n",
       "      <td>18.360449</td>\n",
       "      <td>19.610482</td>\n",
       "      <td>21.563504</td>\n",
       "      <td>19.460340</td>\n",
       "      <td>20.522472</td>\n",
       "      <td>17.842031</td>\n",
       "      <td>18.814815</td>\n",
       "      <td>21.250360</td>\n",
       "      <td>18.709489</td>\n",
       "      <td>12.558989</td>\n",
       "      <td>...</td>\n",
       "      <td>18.561625</td>\n",
       "      <td>19.100279</td>\n",
       "      <td>19.566145</td>\n",
       "      <td>21.826271</td>\n",
       "      <td>19.962079</td>\n",
       "      <td>19.679272</td>\n",
       "      <td>17.988764</td>\n",
       "      <td>20.680241</td>\n",
       "      <td>20.598214</td>\n",
       "      <td>18.510490</td>\n",
       "    </tr>\n",
       "    <tr>\n",
       "      <th>10</th>\n",
       "      <td>29.381793</td>\n",
       "      <td>35.597701</td>\n",
       "      <td>35.476858</td>\n",
       "      <td>35.709016</td>\n",
       "      <td>33.458108</td>\n",
       "      <td>30.043537</td>\n",
       "      <td>35.861345</td>\n",
       "      <td>33.934844</td>\n",
       "      <td>33.176391</td>\n",
       "      <td>26.906593</td>\n",
       "      <td>...</td>\n",
       "      <td>30.501359</td>\n",
       "      <td>35.554804</td>\n",
       "      <td>32.610583</td>\n",
       "      <td>35.253045</td>\n",
       "      <td>32.931081</td>\n",
       "      <td>33.858300</td>\n",
       "      <td>31.867209</td>\n",
       "      <td>35.571023</td>\n",
       "      <td>39.688259</td>\n",
       "      <td>32.267930</td>\n",
       "    </tr>\n",
       "    <tr>\n",
       "      <th>11</th>\n",
       "      <td>36.180672</td>\n",
       "      <td>44.952580</td>\n",
       "      <td>45.343096</td>\n",
       "      <td>46.551676</td>\n",
       "      <td>38.376587</td>\n",
       "      <td>37.769231</td>\n",
       "      <td>45.356125</td>\n",
       "      <td>43.186777</td>\n",
       "      <td>41.490934</td>\n",
       "      <td>36.049133</td>\n",
       "      <td>...</td>\n",
       "      <td>38.036364</td>\n",
       "      <td>44.583794</td>\n",
       "      <td>39.100982</td>\n",
       "      <td>47.983918</td>\n",
       "      <td>40.925247</td>\n",
       "      <td>44.517581</td>\n",
       "      <td>38.473088</td>\n",
       "      <td>44.297335</td>\n",
       "      <td>49.548117</td>\n",
       "      <td>40.381818</td>\n",
       "    </tr>\n",
       "    <tr>\n",
       "      <th>12</th>\n",
       "      <td>36.658967</td>\n",
       "      <td>46.964674</td>\n",
       "      <td>45.994580</td>\n",
       "      <td>45.215553</td>\n",
       "      <td>35.621951</td>\n",
       "      <td>38.490541</td>\n",
       "      <td>44.223275</td>\n",
       "      <td>43.754768</td>\n",
       "      <td>44.832187</td>\n",
       "      <td>38.278621</td>\n",
       "      <td>...</td>\n",
       "      <td>37.586721</td>\n",
       "      <td>43.761194</td>\n",
       "      <td>38.157182</td>\n",
       "      <td>46.652233</td>\n",
       "      <td>38.573748</td>\n",
       "      <td>47.634641</td>\n",
       "      <td>38.781250</td>\n",
       "      <td>44.105691</td>\n",
       "      <td>48.791892</td>\n",
       "      <td>41.778378</td>\n",
       "    </tr>\n",
       "  </tbody>\n",
       "</table>\n",
       "<p>12 rows × 25 columns</p>\n",
       "</div>"
      ],
      "text/plain": [
       "district     서울 강남구     서울 강동구     서울 강북구     서울 강서구     서울 관악구     서울 광진구  \\\n",
       "month                                                                        \n",
       "1         38.860811  46.642077  44.374831  53.143050  43.310534  39.651163   \n",
       "2         37.937681  45.745269  45.506024  46.004354  40.870827  40.716176   \n",
       "3         40.655827  45.497253  46.169377  49.112329  45.479675  45.870219   \n",
       "4         38.299720  43.511921  47.543018  45.187060  42.697479  45.248908   \n",
       "5         30.937415  32.977027  35.874830  35.798077  34.548038  35.540466   \n",
       "6         33.727016  36.428771  39.201977  36.198571  37.240896  35.460674   \n",
       "7         19.569273  20.211460  23.544098  21.057103  22.696888  19.398649   \n",
       "8         23.323410  23.960274  28.230556  22.734694  24.313008  22.884668   \n",
       "9         18.360449  19.610482  21.563504  19.460340  20.522472  17.842031   \n",
       "10        29.381793  35.597701  35.476858  35.709016  33.458108  30.043537   \n",
       "11        36.180672  44.952580  45.343096  46.551676  38.376587  37.769231   \n",
       "12        36.658967  46.964674  45.994580  45.215553  35.621951  38.490541   \n",
       "\n",
       "district     서울 구로구     서울 금천구     서울 노원구     서울 도봉구  ...     서울 성동구  \\\n",
       "month                                                 ...              \n",
       "1         40.797241  42.191761  37.540466  38.004110  ...  40.267030   \n",
       "2         40.316119  40.840348  36.409357  37.633782  ...  40.115942   \n",
       "3         53.429355  42.907984  43.332425  40.679837  ...  42.043302   \n",
       "4         51.031770  39.386555  45.616783  42.237624  ...  40.025175   \n",
       "5         42.751159  31.016238  32.657645  34.120116  ...  32.605978   \n",
       "6         35.122862  33.421788  35.107692  36.726891  ...  35.582633   \n",
       "7         17.188590  21.504749  19.922835  23.327027  ...  20.496608   \n",
       "8         18.301255  24.579376  21.246259  18.774373  ...  23.368207   \n",
       "9         18.814815  21.250360  18.709489  12.558989  ...  18.561625   \n",
       "10        35.861345  33.934844  33.176391  26.906593  ...  30.501359   \n",
       "11        45.356125  43.186777  41.490934  36.049133  ...  38.036364   \n",
       "12        44.223275  43.754768  44.832187  38.278621  ...  37.586721   \n",
       "\n",
       "district     서울 성북구     서울 송파구     서울 양천구    서울 영등포구     서울 용산구     서울 은평구  \\\n",
       "month                                                                        \n",
       "1         41.039510  40.684709  50.205683  41.446549  41.814246  39.144414   \n",
       "2         40.491202  39.916422  45.718433  38.624454  39.427921  38.197101   \n",
       "3         45.282967  43.193505  49.278912  42.362772  45.507442  46.054622   \n",
       "4         45.927660  42.985994  45.135854  39.974825  45.344585  47.064194   \n",
       "5         36.262295  33.336043  35.645862  32.422131  34.791328  37.174033   \n",
       "6         37.997183  37.576869  37.514685  35.805907  37.459384  37.080056   \n",
       "7         22.482385  20.780952  22.253275  22.002721  21.424119  19.083676   \n",
       "8         21.683356  24.329096  25.315291  24.123139  23.852304  20.547325   \n",
       "9         19.100279  19.566145  21.826271  19.962079  19.679272  17.988764   \n",
       "10        35.554804  32.610583  35.253045  32.931081  33.858300  31.867209   \n",
       "11        44.583794  39.100982  47.983918  40.925247  44.517581  38.473088   \n",
       "12        43.761194  38.157182  46.652233  38.573748  47.634641  38.781250   \n",
       "\n",
       "district     서울 종로구      서울 중구     서울 중랑구  \n",
       "month                                      \n",
       "1         42.746955  40.961801  41.519621  \n",
       "2         42.308140  40.233918  41.384393  \n",
       "3         43.308943  41.188859  44.520958  \n",
       "4         41.907563  38.907433  42.665730  \n",
       "5         34.165975  31.831131  34.417120  \n",
       "6         36.304410  33.061972  38.202797  \n",
       "7         21.731973  20.015257  21.735135  \n",
       "8         23.459239  22.709902  24.608108  \n",
       "9         20.680241  20.598214  18.510490  \n",
       "10        35.571023  39.688259  32.267930  \n",
       "11        44.297335  49.548117  40.381818  \n",
       "12        44.105691  48.791892  41.778378  \n",
       "\n",
       "[12 rows x 25 columns]"
      ]
     },
     "execution_count": 31,
     "metadata": {},
     "output_type": "execute_result"
    }
   ],
   "source": [
    "df_group.unstack(level=0)['PM10']"
   ]
  },
  {
   "cell_type": "markdown",
   "id": "d6fafcbc-542f-450b-9cc2-4857918223e3",
   "metadata": {},
   "source": [
    "### Merge\n",
    "\n",
    "* `concat`, `join`"
   ]
  },
  {
   "cell_type": "code",
   "execution_count": 32,
   "id": "af8c1adb-564e-4862-8c1a-2c7203f02029",
   "metadata": {},
   "outputs": [
    {
     "data": {
      "text/html": [
       "<div>\n",
       "<style scoped>\n",
       "    .dataframe tbody tr th:only-of-type {\n",
       "        vertical-align: middle;\n",
       "    }\n",
       "\n",
       "    .dataframe tbody tr th {\n",
       "        vertical-align: top;\n",
       "    }\n",
       "\n",
       "    .dataframe thead th {\n",
       "        text-align: right;\n",
       "    }\n",
       "</style>\n",
       "<table border=\"1\" class=\"dataframe\">\n",
       "  <thead>\n",
       "    <tr style=\"text-align: right;\">\n",
       "      <th></th>\n",
       "      <th>district</th>\n",
       "      <th>measurePoint</th>\n",
       "      <th>measureCode</th>\n",
       "    </tr>\n",
       "  </thead>\n",
       "  <tbody>\n",
       "    <tr>\n",
       "      <th>0</th>\n",
       "      <td>서울 중구</td>\n",
       "      <td>도시대기</td>\n",
       "      <td>111121</td>\n",
       "    </tr>\n",
       "    <tr>\n",
       "      <th>1</th>\n",
       "      <td>서울 중구</td>\n",
       "      <td>도시대기</td>\n",
       "      <td>111121</td>\n",
       "    </tr>\n",
       "    <tr>\n",
       "      <th>2</th>\n",
       "      <td>서울 중구</td>\n",
       "      <td>도시대기</td>\n",
       "      <td>111121</td>\n",
       "    </tr>\n",
       "    <tr>\n",
       "      <th>3</th>\n",
       "      <td>서울 중구</td>\n",
       "      <td>도시대기</td>\n",
       "      <td>111121</td>\n",
       "    </tr>\n",
       "    <tr>\n",
       "      <th>4</th>\n",
       "      <td>서울 중구</td>\n",
       "      <td>도시대기</td>\n",
       "      <td>111121</td>\n",
       "    </tr>\n",
       "    <tr>\n",
       "      <th>...</th>\n",
       "      <td>...</td>\n",
       "      <td>...</td>\n",
       "      <td>...</td>\n",
       "    </tr>\n",
       "    <tr>\n",
       "      <th>350611</th>\n",
       "      <td>서울 노원구</td>\n",
       "      <td>도시대기</td>\n",
       "      <td>111311</td>\n",
       "    </tr>\n",
       "    <tr>\n",
       "      <th>350612</th>\n",
       "      <td>서울 노원구</td>\n",
       "      <td>도시대기</td>\n",
       "      <td>111311</td>\n",
       "    </tr>\n",
       "    <tr>\n",
       "      <th>350613</th>\n",
       "      <td>서울 노원구</td>\n",
       "      <td>도시대기</td>\n",
       "      <td>111311</td>\n",
       "    </tr>\n",
       "    <tr>\n",
       "      <th>350614</th>\n",
       "      <td>서울 노원구</td>\n",
       "      <td>도시대기</td>\n",
       "      <td>111311</td>\n",
       "    </tr>\n",
       "    <tr>\n",
       "      <th>350615</th>\n",
       "      <td>서울 노원구</td>\n",
       "      <td>도시대기</td>\n",
       "      <td>111311</td>\n",
       "    </tr>\n",
       "  </tbody>\n",
       "</table>\n",
       "<p>219600 rows × 3 columns</p>\n",
       "</div>"
      ],
      "text/plain": [
       "       district measurePoint  measureCode\n",
       "0         서울 중구         도시대기       111121\n",
       "1         서울 중구         도시대기       111121\n",
       "2         서울 중구         도시대기       111121\n",
       "3         서울 중구         도시대기       111121\n",
       "4         서울 중구         도시대기       111121\n",
       "...         ...          ...          ...\n",
       "350611   서울 노원구         도시대기       111311\n",
       "350612   서울 노원구         도시대기       111311\n",
       "350613   서울 노원구         도시대기       111311\n",
       "350614   서울 노원구         도시대기       111311\n",
       "350615   서울 노원구         도시대기       111311\n",
       "\n",
       "[219600 rows x 3 columns]"
      ]
     },
     "execution_count": 32,
     "metadata": {},
     "output_type": "execute_result"
    }
   ],
   "source": [
    "data_list = [df['district'], df['measurePoint'], df['measureCode']]\n",
    "pd.concat(data_list, axis=1)"
   ]
  },
  {
   "cell_type": "code",
   "execution_count": 33,
   "id": "e327ab39-5076-4ddf-a66a-a5d8a29af25a",
   "metadata": {},
   "outputs": [
    {
     "data": {
      "text/html": [
       "<div>\n",
       "<style scoped>\n",
       "    .dataframe tbody tr th:only-of-type {\n",
       "        vertical-align: middle;\n",
       "    }\n",
       "\n",
       "    .dataframe tbody tr th {\n",
       "        vertical-align: top;\n",
       "    }\n",
       "\n",
       "    .dataframe thead th {\n",
       "        text-align: right;\n",
       "    }\n",
       "</style>\n",
       "<table border=\"1\" class=\"dataframe\">\n",
       "  <thead>\n",
       "    <tr style=\"text-align: right;\">\n",
       "      <th></th>\n",
       "      <th>id</th>\n",
       "      <th>name</th>\n",
       "      <th>donate</th>\n",
       "    </tr>\n",
       "  </thead>\n",
       "  <tbody>\n",
       "    <tr>\n",
       "      <th>0</th>\n",
       "      <td>1</td>\n",
       "      <td>Simon</td>\n",
       "      <td>300</td>\n",
       "    </tr>\n",
       "    <tr>\n",
       "      <th>1</th>\n",
       "      <td>2</td>\n",
       "      <td>Susan</td>\n",
       "      <td>300</td>\n",
       "    </tr>\n",
       "    <tr>\n",
       "      <th>2</th>\n",
       "      <td>2</td>\n",
       "      <td>Susan</td>\n",
       "      <td>500</td>\n",
       "    </tr>\n",
       "    <tr>\n",
       "      <th>3</th>\n",
       "      <td>4</td>\n",
       "      <td>duck</td>\n",
       "      <td>700</td>\n",
       "    </tr>\n",
       "  </tbody>\n",
       "</table>\n",
       "</div>"
      ],
      "text/plain": [
       "   id   name  donate\n",
       "0   1  Simon     300\n",
       "1   2  Susan     300\n",
       "2   2  Susan     500\n",
       "3   4   duck     700"
      ]
     },
     "execution_count": 33,
     "metadata": {},
     "output_type": "execute_result"
    }
   ],
   "source": [
    "df_name = pd.DataFrame({'id': [1, 2, 3, 4], 'name': ['Simon', 'Susan', 'Ken', 'duck']})\n",
    "df_donate = pd.DataFrame({'id': [1, 2, 2, 4], 'donate': [300, 300, 500, 700]})\n",
    "# inner join\n",
    "pd.merge(df_name, df_donate, how='inner', on='id')"
   ]
  },
  {
   "cell_type": "code",
   "execution_count": 34,
   "id": "916e87fc-4f37-4863-a1d0-a0930bcfcbf2",
   "metadata": {},
   "outputs": [
    {
     "data": {
      "text/html": [
       "<div>\n",
       "<style scoped>\n",
       "    .dataframe tbody tr th:only-of-type {\n",
       "        vertical-align: middle;\n",
       "    }\n",
       "\n",
       "    .dataframe tbody tr th {\n",
       "        vertical-align: top;\n",
       "    }\n",
       "\n",
       "    .dataframe thead th {\n",
       "        text-align: right;\n",
       "    }\n",
       "</style>\n",
       "<table border=\"1\" class=\"dataframe\">\n",
       "  <thead>\n",
       "    <tr style=\"text-align: right;\">\n",
       "      <th></th>\n",
       "      <th>id</th>\n",
       "      <th>name</th>\n",
       "      <th>donate</th>\n",
       "    </tr>\n",
       "  </thead>\n",
       "  <tbody>\n",
       "    <tr>\n",
       "      <th>0</th>\n",
       "      <td>1</td>\n",
       "      <td>Simon</td>\n",
       "      <td>300.0</td>\n",
       "    </tr>\n",
       "    <tr>\n",
       "      <th>1</th>\n",
       "      <td>2</td>\n",
       "      <td>Susan</td>\n",
       "      <td>300.0</td>\n",
       "    </tr>\n",
       "    <tr>\n",
       "      <th>2</th>\n",
       "      <td>2</td>\n",
       "      <td>Susan</td>\n",
       "      <td>500.0</td>\n",
       "    </tr>\n",
       "    <tr>\n",
       "      <th>3</th>\n",
       "      <td>3</td>\n",
       "      <td>Ken</td>\n",
       "      <td>NaN</td>\n",
       "    </tr>\n",
       "    <tr>\n",
       "      <th>4</th>\n",
       "      <td>4</td>\n",
       "      <td>duck</td>\n",
       "      <td>700.0</td>\n",
       "    </tr>\n",
       "  </tbody>\n",
       "</table>\n",
       "</div>"
      ],
      "text/plain": [
       "   id   name  donate\n",
       "0   1  Simon   300.0\n",
       "1   2  Susan   300.0\n",
       "2   2  Susan   500.0\n",
       "3   3    Ken     NaN\n",
       "4   4   duck   700.0"
      ]
     },
     "execution_count": 34,
     "metadata": {},
     "output_type": "execute_result"
    }
   ],
   "source": [
    "# outer join\n",
    "pd.merge(df_name, df_donate, how='outer', on='id')"
   ]
  },
  {
   "cell_type": "markdown",
   "id": "f0408503-aa6d-41f6-81e9-2fcd78d25143",
   "metadata": {},
   "source": [
    "---"
   ]
  },
  {
   "cell_type": "markdown",
   "id": "fd44a589-37e8-497f-b249-aa0a81da021e",
   "metadata": {},
   "source": [
    "## Data Visualization: Matplotlib & Seaborn"
   ]
  },
  {
   "cell_type": "code",
   "execution_count": 37,
   "id": "b58cfe33-82c2-42c7-9ef5-4ecb5b9f4e63",
   "metadata": {},
   "outputs": [],
   "source": [
    "import matplotlib.font_manager as fm\n",
    "import matplotlib.pyplot as plt\n",
    "import seaborn as sns\n",
    "\n",
    "nanum_font_list = [(f.name, f.fname) for f in fm.fontManager.ttflist if 'Nanum' in f.name]\n",
    "plt.rcParams[\"font.family\"] = 'Nanum Gothic'"
   ]
  },
  {
   "cell_type": "markdown",
   "id": "0db5b476-9553-4ec2-84b0-8a3ca75fe689",
   "metadata": {},
   "source": [
    "### line plot"
   ]
  },
  {
   "cell_type": "code",
   "execution_count": 38,
   "id": "cae9fad3-b643-4a7f-a858-cbfc20187fdb",
   "metadata": {},
   "outputs": [
    {
     "data": {
      "text/html": [
       "<div>\n",
       "<style scoped>\n",
       "    .dataframe tbody tr th:only-of-type {\n",
       "        vertical-align: middle;\n",
       "    }\n",
       "\n",
       "    .dataframe tbody tr th {\n",
       "        vertical-align: top;\n",
       "    }\n",
       "\n",
       "    .dataframe thead th {\n",
       "        text-align: right;\n",
       "    }\n",
       "</style>\n",
       "<table border=\"1\" class=\"dataframe\">\n",
       "  <thead>\n",
       "    <tr style=\"text-align: right;\">\n",
       "      <th></th>\n",
       "      <th>date</th>\n",
       "      <th>mean</th>\n",
       "      <th>std</th>\n",
       "    </tr>\n",
       "  </thead>\n",
       "  <tbody>\n",
       "    <tr>\n",
       "      <th>0</th>\n",
       "      <td>2020-01-01</td>\n",
       "      <td>30.916667</td>\n",
       "      <td>8.059111</td>\n",
       "    </tr>\n",
       "    <tr>\n",
       "      <th>1</th>\n",
       "      <td>2020-01-02</td>\n",
       "      <td>56.708333</td>\n",
       "      <td>12.231389</td>\n",
       "    </tr>\n",
       "    <tr>\n",
       "      <th>2</th>\n",
       "      <td>2020-01-03</td>\n",
       "      <td>60.500000</td>\n",
       "      <td>8.752639</td>\n",
       "    </tr>\n",
       "    <tr>\n",
       "      <th>3</th>\n",
       "      <td>2020-01-04</td>\n",
       "      <td>53.083333</td>\n",
       "      <td>11.798735</td>\n",
       "    </tr>\n",
       "    <tr>\n",
       "      <th>4</th>\n",
       "      <td>2020-01-05</td>\n",
       "      <td>45.458333</td>\n",
       "      <td>4.708726</td>\n",
       "    </tr>\n",
       "    <tr>\n",
       "      <th>...</th>\n",
       "      <td>...</td>\n",
       "      <td>...</td>\n",
       "      <td>...</td>\n",
       "    </tr>\n",
       "    <tr>\n",
       "      <th>361</th>\n",
       "      <td>2020-12-27</td>\n",
       "      <td>57.125000</td>\n",
       "      <td>6.758650</td>\n",
       "    </tr>\n",
       "    <tr>\n",
       "      <th>362</th>\n",
       "      <td>2020-12-28</td>\n",
       "      <td>55.541667</td>\n",
       "      <td>7.644146</td>\n",
       "    </tr>\n",
       "    <tr>\n",
       "      <th>363</th>\n",
       "      <td>2020-12-29</td>\n",
       "      <td>58.416667</td>\n",
       "      <td>11.001647</td>\n",
       "    </tr>\n",
       "    <tr>\n",
       "      <th>364</th>\n",
       "      <td>2020-12-30</td>\n",
       "      <td>28.625000</td>\n",
       "      <td>9.291476</td>\n",
       "    </tr>\n",
       "    <tr>\n",
       "      <th>365</th>\n",
       "      <td>2020-12-31</td>\n",
       "      <td>21.333333</td>\n",
       "      <td>6.831301</td>\n",
       "    </tr>\n",
       "  </tbody>\n",
       "</table>\n",
       "<p>366 rows × 3 columns</p>\n",
       "</div>"
      ],
      "text/plain": [
       "          date       mean        std\n",
       "0   2020-01-01  30.916667   8.059111\n",
       "1   2020-01-02  56.708333  12.231389\n",
       "2   2020-01-03  60.500000   8.752639\n",
       "3   2020-01-04  53.083333  11.798735\n",
       "4   2020-01-05  45.458333   4.708726\n",
       "..         ...        ...        ...\n",
       "361 2020-12-27  57.125000   6.758650\n",
       "362 2020-12-28  55.541667   7.644146\n",
       "363 2020-12-29  58.416667  11.001647\n",
       "364 2020-12-30  28.625000   9.291476\n",
       "365 2020-12-31  21.333333   6.831301\n",
       "\n",
       "[366 rows x 3 columns]"
      ]
     },
     "execution_count": 38,
     "metadata": {},
     "output_type": "execute_result"
    }
   ],
   "source": [
    "df_gangnam = df.loc[(df['district'] == '서울 강남구'), ['date', 'PM10']]\n",
    "df_gangnam = df_gangnam.set_index('date').resample('1D').agg(['mean', 'std'])[\"PM10\"].reset_index()\n",
    "df_gangnam"
   ]
  },
  {
   "cell_type": "code",
   "execution_count": 39,
   "id": "4f7536e6-6b1c-45f7-805d-dd462e4a27a9",
   "metadata": {
    "tags": []
   },
   "outputs": [
    {
     "data": {
      "image/png": "[encoded data removed]",
      "text/plain": [
       "<Figure size 1296x432 with 1 Axes>"
      ]
     },
     "metadata": {
      "needs_background": "light"
     },
     "output_type": "display_data"
    }
   ],
   "source": [
    "fig, ax = plt.subplots(1, 1, figsize=(18, 6))\n",
    "sns.lineplot(x='date', y='mean', ci=0.95, data=df_gangnam, color='k', linewidth=1, ax=ax)\n",
    "ax.fill_between(x=df_gangnam['date'], y1=df_gangnam['mean'] - df_gangnam['std'], y2=df_gangnam['mean'] + df_gangnam['std'], alpha=0.5)\n",
    "ax.set_ylabel(\"Mean of PM10\")\n",
    "ax.set_title(\"Line Plot: GangNam Gu PM10\", fontsize=14)\n",
    "ax.hlines(y=df_gangnam['mean'].mean(), xmin=df_gangnam['date'].min(), xmax=df_gangnam['date'].max(), colors='r')\n",
    "plt.show()"
   ]
  },
  {
   "cell_type": "markdown",
   "id": "e59a3ec8-9d86-4ec2-a2fe-fe59d6695e9f",
   "metadata": {},
   "source": [
    "### dist plot"
   ]
  },
  {
   "cell_type": "code",
   "execution_count": 40,
   "id": "46b21e65-e67a-4666-824e-aba2b0e331aa",
   "metadata": {},
   "outputs": [
    {
     "data": {
      "image/png": "[encoded data removed]",
      "text/plain": [
       "<Figure size 1152x288 with 12 Axes>"
      ]
     },
     "metadata": {
      "needs_background": "light"
     },
     "output_type": "display_data"
    }
   ],
   "source": [
    "df_gangnam['month'] = df_gangnam['date'].dt.month\n",
    "\n",
    "fig, axes = plt.subplots(2, 6, figsize=(16, 4), sharex=True)\n",
    "for ax, month in zip(axes.flatten(), range(1, 13)):\n",
    "    sns.histplot(x='mean', data=df_gangnam.loc[df_gangnam['month'] == month, ['mean']], ax=ax)\n",
    "    ax.set_title(f'Month={month} distribution')\n",
    "    \n",
    "plt.tight_layout()\n",
    "plt.show()"
   ]
  },
  {
   "cell_type": "markdown",
   "id": "8a175613-4339-477a-b68a-3345914fb3cd",
   "metadata": {},
   "source": [
    "### Scatter Plot"
   ]
  },
  {
   "cell_type": "code",
   "execution_count": 41,
   "id": "436c7c62-d1dc-41ca-8941-69d4ced8e0af",
   "metadata": {},
   "outputs": [],
   "source": [
    "import json\n",
    "import urllib\n",
    "state_geo = 'https://raw.githubusercontent.com/southkorea/seoul-maps/master/kostat/2013/json/seoul_municipalities_geo_simple.json'\n",
    "response = urllib.request.urlopen(state_geo)\n",
    "state_geo_dict = json.loads(response.read())\n",
    "center_locations = pd.read_csv('./data/gu_location.tsv', sep='\\t', encoding='utf-8')"
   ]
  },
  {
   "cell_type": "code",
   "execution_count": 42,
   "id": "30557c07-b529-4133-8858-adc31656a9a1",
   "metadata": {},
   "outputs": [
    {
     "data": {
      "text/html": [
       "<div>\n",
       "<style scoped>\n",
       "    .dataframe tbody tr th:only-of-type {\n",
       "        vertical-align: middle;\n",
       "    }\n",
       "\n",
       "    .dataframe tbody tr th {\n",
       "        vertical-align: top;\n",
       "    }\n",
       "\n",
       "    .dataframe thead th {\n",
       "        text-align: right;\n",
       "    }\n",
       "</style>\n",
       "<table border=\"1\" class=\"dataframe\">\n",
       "  <thead>\n",
       "    <tr style=\"text-align: right;\">\n",
       "      <th></th>\n",
       "      <th>date</th>\n",
       "      <th>measureName</th>\n",
       "      <th>PM10</th>\n",
       "      <th>X</th>\n",
       "      <th>Y</th>\n",
       "    </tr>\n",
       "  </thead>\n",
       "  <tbody>\n",
       "    <tr>\n",
       "      <th>0</th>\n",
       "      <td>2020-01-31</td>\n",
       "      <td>강남구</td>\n",
       "      <td>38.860811</td>\n",
       "      <td>127.069193</td>\n",
       "      <td>37.495924</td>\n",
       "    </tr>\n",
       "    <tr>\n",
       "      <th>1</th>\n",
       "      <td>2020-02-29</td>\n",
       "      <td>강남구</td>\n",
       "      <td>37.937681</td>\n",
       "      <td>127.069193</td>\n",
       "      <td>37.495924</td>\n",
       "    </tr>\n",
       "    <tr>\n",
       "      <th>2</th>\n",
       "      <td>2020-03-31</td>\n",
       "      <td>강남구</td>\n",
       "      <td>40.655827</td>\n",
       "      <td>127.069193</td>\n",
       "      <td>37.495924</td>\n",
       "    </tr>\n",
       "    <tr>\n",
       "      <th>3</th>\n",
       "      <td>2020-04-30</td>\n",
       "      <td>강남구</td>\n",
       "      <td>38.299720</td>\n",
       "      <td>127.069193</td>\n",
       "      <td>37.495924</td>\n",
       "    </tr>\n",
       "    <tr>\n",
       "      <th>4</th>\n",
       "      <td>2020-05-31</td>\n",
       "      <td>강남구</td>\n",
       "      <td>30.937415</td>\n",
       "      <td>127.069193</td>\n",
       "      <td>37.495924</td>\n",
       "    </tr>\n",
       "    <tr>\n",
       "      <th>...</th>\n",
       "      <td>...</td>\n",
       "      <td>...</td>\n",
       "      <td>...</td>\n",
       "      <td>...</td>\n",
       "      <td>...</td>\n",
       "    </tr>\n",
       "    <tr>\n",
       "      <th>295</th>\n",
       "      <td>2020-08-31</td>\n",
       "      <td>중랑구</td>\n",
       "      <td>24.608108</td>\n",
       "      <td>127.096005</td>\n",
       "      <td>37.592402</td>\n",
       "    </tr>\n",
       "    <tr>\n",
       "      <th>296</th>\n",
       "      <td>2020-09-30</td>\n",
       "      <td>중랑구</td>\n",
       "      <td>18.510490</td>\n",
       "      <td>127.096005</td>\n",
       "      <td>37.592402</td>\n",
       "    </tr>\n",
       "    <tr>\n",
       "      <th>297</th>\n",
       "      <td>2020-10-31</td>\n",
       "      <td>중랑구</td>\n",
       "      <td>32.267930</td>\n",
       "      <td>127.096005</td>\n",
       "      <td>37.592402</td>\n",
       "    </tr>\n",
       "    <tr>\n",
       "      <th>298</th>\n",
       "      <td>2020-11-30</td>\n",
       "      <td>중랑구</td>\n",
       "      <td>40.381818</td>\n",
       "      <td>127.096005</td>\n",
       "      <td>37.592402</td>\n",
       "    </tr>\n",
       "    <tr>\n",
       "      <th>299</th>\n",
       "      <td>2020-12-31</td>\n",
       "      <td>중랑구</td>\n",
       "      <td>41.778378</td>\n",
       "      <td>127.096005</td>\n",
       "      <td>37.592402</td>\n",
       "    </tr>\n",
       "  </tbody>\n",
       "</table>\n",
       "<p>300 rows × 5 columns</p>\n",
       "</div>"
      ],
      "text/plain": [
       "          date measureName       PM10           X          Y\n",
       "0   2020-01-31         강남구  38.860811  127.069193  37.495924\n",
       "1   2020-02-29         강남구  37.937681  127.069193  37.495924\n",
       "2   2020-03-31         강남구  40.655827  127.069193  37.495924\n",
       "3   2020-04-30         강남구  38.299720  127.069193  37.495924\n",
       "4   2020-05-31         강남구  30.937415  127.069193  37.495924\n",
       "..         ...         ...        ...         ...        ...\n",
       "295 2020-08-31         중랑구  24.608108  127.096005  37.592402\n",
       "296 2020-09-30         중랑구  18.510490  127.096005  37.592402\n",
       "297 2020-10-31         중랑구  32.267930  127.096005  37.592402\n",
       "298 2020-11-30         중랑구  40.381818  127.096005  37.592402\n",
       "299 2020-12-31         중랑구  41.778378  127.096005  37.592402\n",
       "\n",
       "[300 rows x 5 columns]"
      ]
     },
     "execution_count": 42,
     "metadata": {},
     "output_type": "execute_result"
    }
   ],
   "source": [
    "df_geo = df.loc[:, ['date', 'measureName', 'PM10']]\n",
    "df_geo = df_geo.set_index(['measureName', 'date']).unstack(0).resample('1M').mean().stack(-1).reset_index()\n",
    "df_geo = df_geo.merge(center_locations.loc[:, ['NAME', 'X', 'Y']], left_on='measureName', right_on='NAME').drop(columns='NAME')\n",
    "df_geo"
   ]
  },
  {
   "cell_type": "code",
   "execution_count": 43,
   "id": "73e630ca-5cda-40af-a57d-d931e9dcfbf1",
   "metadata": {},
   "outputs": [
    {
     "data": {
      "image/png": "[encoded data removed]",
      "text/plain": [
       "<Figure size 1008x720 with 1 Axes>"
      ]
     },
     "metadata": {
      "needs_background": "light"
     },
     "output_type": "display_data"
    }
   ],
   "source": [
    "date = '2020-03-31'\n",
    "fig, ax = plt.subplots(1, 1, figsize=(14, 10))\n",
    "sns.scatterplot(\n",
    "    x='X', y='Y', hue='measureName', size='PM10', sizes=(df_geo['PM10'].min(), 500),\n",
    "    data=df_geo.loc[df_geo['date'] == date], ax=ax)\n",
    "for i, row in center_locations.iterrows():\n",
    "    ax.text(x=row['X']+0.005, y=row['Y']+0.001, s=row['NAME'])\n",
    "ax.legend(bbox_to_anchor=(1.05, 1))\n",
    "ax.set_title(f\"Average PM10 district at {'-'.join(date.split('-')[:2])}\", fontsize=14)\n",
    "plt.tight_layout()\n",
    "plt.show()"
   ]
  },
  {
   "cell_type": "code",
   "execution_count": 44,
   "id": "68d0db0b-5d1c-40a5-acfe-df9fc4468be4",
   "metadata": {},
   "outputs": [
    {
     "data": {
      "text/html": [
       "<div style=\"width:100%;\"><div style=\"position:relative;width:100%;height:0;padding-bottom:60%;\"><span style=\"color:#565656\">Make this Notebook Trusted to load map: File -> Trust Notebook</span><iframe src=\"about:blank\" style=\"position:absolute;width:100%;height:100%;left:0;top:0;border:none !important;\" data-html=%3C%21DOCTYPE%20html%3E%0A%3Chead%3E%20%20%20%20%0A%20%20%20%20%3Cmeta%20http-equiv%3D%22content-type%22%20content%3D%22text/html%3B%20charset%3DUTF-8%22%20/%3E%0A%20%20%20%20%0A%20%20%20%20%20%20%20%20%3Cscript%3E%0A%20%20%20%20%20%20%20%20%20%20%20%20L_NO_TOUCH%20%3D%20false%3B%0A%20%20%20%20%20%20%20%20%20%20%20%20L_DISABLE_3D%20%3D%20false%3B%0A%20%20%20%20%20%20%20%20%3C/script%3E%0A%20%20%20%20%0A%20%20%20%20%3Cstyle%3Ehtml%2C%20body%20%7Bwidth%3A%20100%25%3Bheight%3A%20100%25%3Bmargin%3A%200%3Bpadding%3A%200%3B%7D%3C/style%3E%0A%20%20%20%20%3Cstyle%3E%23map%20%7Bposition%3Aabsolute%3Btop%3A0%3Bbottom%3A0%3Bright%3A0%3Bleft%3A0%3B%7D%3C/style%3E%0A%20%20%20%20%3Cscript%20src%3D%22https%3A//cdn.jsdelivr.net/npm/leaflet%401.6.0/dist/leaflet.js%22%3E%3C/script%3E%0A%20%20%20%20%3Cscript%20src%3D%22https%3A//code.jquery.com/jquery-1.12.4.min.js%22%3E%3C/script%3E%0A%20%20%20%20%3Cscript%20src%3D%22https%3A//maxcdn.bootstrapcdn.com/bootstrap/3.2.0/js/bootstrap.min.js%22%3E%3C/script%3E%0A%20%20%20%20%3Cscript%20src%3D%22https%3A//cdnjs.cloudflare.com/ajax/libs/Leaflet.awesome-markers/2.0.2/leaflet.awesome-markers.js%22%3E%3C/script%3E%0A%20%20%20%20%3Clink%20rel%3D%22stylesheet%22%20href%3D%22https%3A//cdn.jsdelivr.net/npm/leaflet%401.6.0/dist/leaflet.css%22/%3E%0A%20%20%20%20%3Clink%20rel%3D%22stylesheet%22%20href%3D%22https%3A//maxcdn.bootstrapcdn.com/bootstrap/3.2.0/css/bootstrap.min.css%22/%3E%0A%20%20%20%20%3Clink%20rel%3D%22stylesheet%22%20href%3D%22https%3A//maxcdn.bootstrapcdn.com/bootstrap/3.2.0/css/bootstrap-theme.min.css%22/%3E%0A%20%20%20%20%3Clink%20rel%3D%22stylesheet%22%20href%3D%22https%3A//maxcdn.bootstrapcdn.com/font-awesome/4.6.3/css/font-awesome.min.css%22/%3E%0A%20%20%20%20%3Clink%20rel%3D%22stylesheet%22%20href%3D%22https%3A//cdnjs.cloudflare.com/ajax/libs/Leaflet.awesome-markers/2.0.2/leaflet.awesome-markers.css%22/%3E%0A%20%20%20%20%3Clink%20rel%3D%22stylesheet%22%20href%3D%22https%3A//cdn.jsdelivr.net/gh/python-visualization/folium/folium/templates/leaflet.awesome.rotate.min.css%22/%3E%0A%20%20%20%20%0A%20%20%20%20%20%20%20%20%20%20%20%20%3Cmeta%20name%3D%22viewport%22%20content%3D%22width%3Ddevice-width%2C%0A%20%20%20%20%20%20%20%20%20%20%20%20%20%20%20%20initial-scale%3D1.0%2C%20maximum-scale%3D1.0%2C%20user-scalable%3Dno%22%20/%3E%0A%20%20%20%20%20%20%20%20%20%20%20%20%3Cstyle%3E%0A%20%20%20%20%20%20%20%20%20%20%20%20%20%20%20%20%23map_e2619d05067546b889c2e3baf759fbae%20%7B%0A%20%20%20%20%20%20%20%20%20%20%20%20%20%20%20%20%20%20%20%20position%3A%20relative%3B%0A%20%20%20%20%20%20%20%20%20%20%20%20%20%20%20%20%20%20%20%20width%3A%20100.0%25%3B%0A%20%20%20%20%20%20%20%20%20%20%20%20%20%20%20%20%20%20%20%20height%3A%20100.0%25%3B%0A%20%20%20%20%20%20%20%20%20%20%20%20%20%20%20%20%20%20%20%20left%3A%200.0%25%3B%0A%20%20%20%20%20%20%20%20%20%20%20%20%20%20%20%20%20%20%20%20top%3A%200.0%25%3B%0A%20%20%20%20%20%20%20%20%20%20%20%20%20%20%20%20%7D%0A%20%20%20%20%20%20%20%20%20%20%20%20%3C/style%3E%0A%20%20%20%20%20%20%20%20%0A%20%20%20%20%3Cscript%20src%3D%22https%3A//cdnjs.cloudflare.com/ajax/libs/d3/3.5.5/d3.min.js%22%3E%3C/script%3E%0A%3C/head%3E%0A%3Cbody%3E%20%20%20%20%0A%20%20%20%20%0A%20%20%20%20%20%20%20%20%20%20%20%20%3Cdiv%20class%3D%22folium-map%22%20id%3D%22map_e2619d05067546b889c2e3baf759fbae%22%20%3E%3C/div%3E%0A%20%20%20%20%20%20%20%20%0A%3C/body%3E%0A%3Cscript%3E%20%20%20%20%0A%20%20%20%20%0A%20%20%20%20%20%20%20%20%20%20%20%20var%20map_e2619d05067546b889c2e3baf759fbae%20%3D%20L.map%28%0A%20%20%20%20%20%20%20%20%20%20%20%20%20%20%20%20%22map_e2619d05067546b889c2e3baf759fbae%22%2C%0A%20%20%20%20%20%20%20%20%20%20%20%20%20%20%20%20%7B%0A%20%20%20%20%20%20%20%20%20%20%20%20%20%20%20%20%20%20%20%20center%3A%20%5B37.541%2C%20126.986%5D%2C%0A%20%20%20%20%20%20%20%20%20%20%20%20%20%20%20%20%20%20%20%20crs%3A%20L.CRS.EPSG3857%2C%0A%20%20%20%20%20%20%20%20%20%20%20%20%20%20%20%20%20%20%20%20zoom%3A%2011%2C%0A%20%20%20%20%20%20%20%20%20%20%20%20%20%20%20%20%20%20%20%20zoomControl%3A%20true%2C%0A%20%20%20%20%20%20%20%20%20%20%20%20%20%20%20%20%20%20%20%20preferCanvas%3A%20false%2C%0A%20%20%20%20%20%20%20%20%20%20%20%20%20%20%20%20%7D%0A%20%20%20%20%20%20%20%20%20%20%20%20%29%3B%0A%0A%20%20%20%20%20%20%20%20%20%20%20%20%0A%0A%20%20%20%20%20%20%20%20%0A%20%20%20%20%0A%20%20%20%20%20%20%20%20%20%20%20%20var%20tile_layer_09ad7ed24fc64039a44d3875911e9afc%20%3D%20L.tileLayer%28%0A%20%20%20%20%20%20%20%20%20%20%20%20%20%20%20%20%22https%3A//%7Bs%7D.tile.openstreetmap.org/%7Bz%7D/%7Bx%7D/%7By%7D.png%22%2C%0A%20%20%20%20%20%20%20%20%20%20%20%20%20%20%20%20%7B%22attribution%22%3A%20%22Data%20by%20%5Cu0026copy%3B%20%5Cu003ca%20href%3D%5C%22http%3A//openstreetmap.org%5C%22%5Cu003eOpenStreetMap%5Cu003c/a%5Cu003e%2C%20under%20%5Cu003ca%20href%3D%5C%22http%3A//www.openstreetmap.org/copyright%5C%22%5Cu003eODbL%5Cu003c/a%5Cu003e.%22%2C%20%22detectRetina%22%3A%20false%2C%20%22maxNativeZoom%22%3A%2018%2C%20%22maxZoom%22%3A%2018%2C%20%22minZoom%22%3A%200%2C%20%22noWrap%22%3A%20false%2C%20%22opacity%22%3A%201%2C%20%22subdomains%22%3A%20%22abc%22%2C%20%22tms%22%3A%20false%7D%0A%20%20%20%20%20%20%20%20%20%20%20%20%29.addTo%28map_e2619d05067546b889c2e3baf759fbae%29%3B%0A%20%20%20%20%20%20%20%20%0A%20%20%20%20%0A%20%20%20%20%20%20%20%20%20%20%20%20var%20choropleth_72e7dbf7cd4643d8a411ddcf4ee3fa10%20%3D%20L.featureGroup%28%0A%20%20%20%20%20%20%20%20%20%20%20%20%20%20%20%20%7B%7D%0A%20%20%20%20%20%20%20%20%20%20%20%20%29.addTo%28map_e2619d05067546b889c2e3baf759fbae%29%3B%0A%20%20%20%20%20%20%20%20%0A%20%20%20%20%0A%20%20%20%20%20%20%20%20function%20geo_json_fbae087a7b1b4264b2a7b6f21b440ce2_styler%28feature%29%20%7B%0A%20%20%20%20%20%20%20%20%20%20%20%20switch%28feature.properties.code%29%20%7B%0A%20%20%20%20%20%20%20%20%20%20%20%20%20%20%20%20case%20%2211240%22%3A%20case%20%2211190%22%3A%20case%20%2211180%22%3A%20case%20%2211110%22%3A%20case%20%2211040%22%3A%20case%20%2211010%22%3A%20%0A%20%20%20%20%20%20%20%20%20%20%20%20%20%20%20%20%20%20%20%20return%20%7B%22color%22%3A%20%22black%22%2C%20%22fillColor%22%3A%20%22%23fed976%22%2C%20%22fillOpacity%22%3A%200.6%2C%20%22opacity%22%3A%200.3%2C%20%22weight%22%3A%201%7D%3B%0A%20%20%20%20%20%20%20%20%20%20%20%20%20%20%20%20case%20%2211230%22%3A%20case%20%2211140%22%3A%20case%20%2211100%22%3A%20case%20%2211060%22%3A%20case%20%2211020%22%3A%20%0A%20%20%20%20%20%20%20%20%20%20%20%20%20%20%20%20%20%20%20%20return%20%7B%22color%22%3A%20%22black%22%2C%20%22fillColor%22%3A%20%22%23ffffb2%22%2C%20%22fillOpacity%22%3A%200.6%2C%20%22opacity%22%3A%200.3%2C%20%22weight%22%3A%201%7D%3B%0A%20%20%20%20%20%20%20%20%20%20%20%20%20%20%20%20case%20%2211220%22%3A%20case%20%2211160%22%3A%20case%20%2211150%22%3A%20case%20%2211130%22%3A%20%0A%20%20%20%20%20%20%20%20%20%20%20%20%20%20%20%20%20%20%20%20return%20%7B%22color%22%3A%20%22black%22%2C%20%22fillColor%22%3A%20%22%23f03b20%22%2C%20%22fillOpacity%22%3A%200.6%2C%20%22opacity%22%3A%200.3%2C%20%22weight%22%3A%201%7D%3B%0A%20%20%20%20%20%20%20%20%20%20%20%20%20%20%20%20case%20%2211200%22%3A%20case%20%2211170%22%3A%20%0A%20%20%20%20%20%20%20%20%20%20%20%20%20%20%20%20%20%20%20%20return%20%7B%22color%22%3A%20%22black%22%2C%20%22fillColor%22%3A%20%22%23bd0026%22%2C%20%22fillOpacity%22%3A%200.6%2C%20%22opacity%22%3A%200.3%2C%20%22weight%22%3A%201%7D%3B%0A%20%20%20%20%20%20%20%20%20%20%20%20%20%20%20%20default%3A%0A%20%20%20%20%20%20%20%20%20%20%20%20%20%20%20%20%20%20%20%20return%20%7B%22color%22%3A%20%22black%22%2C%20%22fillColor%22%3A%20%22%23feb24c%22%2C%20%22fillOpacity%22%3A%200.6%2C%20%22opacity%22%3A%200.3%2C%20%22weight%22%3A%201%7D%3B%0A%20%20%20%20%20%20%20%20%20%20%20%20%7D%0A%20%20%20%20%20%20%20%20%7D%0A%0A%20%20%20%20%20%20%20%20function%20geo_json_fbae087a7b1b4264b2a7b6f21b440ce2_onEachFeature%28feature%2C%20layer%29%20%7B%0A%20%20%20%20%20%20%20%20%20%20%20%20layer.on%28%7B%0A%20%20%20%20%20%20%20%20%20%20%20%20%7D%29%3B%0A%20%20%20%20%20%20%20%20%7D%3B%0A%20%20%20%20%20%20%20%20var%20geo_json_fbae087a7b1b4264b2a7b6f21b440ce2%20%3D%20L.geoJson%28null%2C%20%7B%0A%20%20%20%20%20%20%20%20%20%20%20%20%20%20%20%20onEachFeature%3A%20geo_json_fbae087a7b1b4264b2a7b6f21b440ce2_onEachFeature%2C%0A%20%20%20%20%20%20%20%20%20%20%20%20%0A%20%20%20%20%20%20%20%20%20%20%20%20%20%20%20%20style%3A%20geo_json_fbae087a7b1b4264b2a7b6f21b440ce2_styler%2C%0A%20%20%20%20%20%20%20%20%7D%29%3B%0A%0A%20%20%20%20%20%20%20%20function%20geo_json_fbae087a7b1b4264b2a7b6f21b440ce2_add%20%28data%29%20%7B%0A%20%20%20%20%20%20%20%20%20%20%20%20geo_json_fbae087a7b1b4264b2a7b6f21b440ce2%0A%20%20%20%20%20%20%20%20%20%20%20%20%20%20%20%20.addData%28data%29%0A%20%20%20%20%20%20%20%20%20%20%20%20%20%20%20%20.addTo%28choropleth_72e7dbf7cd4643d8a411ddcf4ee3fa10%29%3B%0A%20%20%20%20%20%20%20%20%7D%0A%20%20%20%20%20%20%20%20%20%20%20%20geo_json_fbae087a7b1b4264b2a7b6f21b440ce2_add%28%7B%22features%22%3A%20%5B%7B%22geometry%22%3A%20%7B%22coordinates%22%3A%20%5B%5B%5B127.11519584981606%2C%2037.557533180704915%5D%2C%20%5B127.11879551821994%2C%2037.557222485451305%5D%2C%20%5B127.12146867175024%2C%2037.55986003393365%5D%2C%20%5B127.12435254630417%2C%2037.56144246249796%5D%2C%20%5B127.13593925898998%2C%2037.56564793048277%5D%2C%20%5B127.14930548011061%2C%2037.56892250303897%5D%2C%20%5B127.15511020940411%2C%2037.57093642128295%5D%2C%20%5B127.16683184366129%2C%2037.57672487388627%5D%2C%20%5B127.17038810813094%2C%2037.576465605301046%5D%2C%20%5B127.17607118428914%2C%2037.57678573961056%5D%2C%20%5B127.17905504160184%2C%2037.57791388161732%5D%2C%20%5B127.17747787800164%2C%2037.57448983055031%5D%2C%20%5B127.1781775408844%2C%2037.571481967974336%5D%2C%20%5B127.17995281860672%2C%2037.569309661290504%5D%2C%20%5B127.18122821955262%2C%2037.56636089217979%5D%2C%20%5B127.18169407550688%2C%2037.56286338914073%5D%2C%20%5B127.18408792330152%2C%2037.55814280369575%5D%2C%20%5B127.18350810324185%2C%2037.550053002101485%5D%2C%20%5B127.1852644795464%2C%2037.54888592026534%5D%2C%20%5B127.18480906237207%2C%2037.545296888806796%5D%2C%20%5B127.18543378919821%2C%2037.54260756512178%5D%2C%20%5B127.18364810569703%2C%2037.54241347907019%5D%2C%20%5B127.18116465939269%2C%2037.54384126582126%5D%2C%20%5B127.17770860504257%2C%2037.542414255164374%5D%2C%20%5B127.1744373170213%2C%2037.54277723796397%5D%2C%20%5B127.16830424484573%2C%2037.54145405702079%5D%2C%20%5B127.16530984307447%2C%2037.54221851258693%5D%2C%20%5B127.15566835118616%2C%2037.53119520531309%5D%2C%20%5B127.15538075046105%2C%2037.52652930087977%5D%2C%20%5B127.15154315998161%2C%2037.522828709496416%5D%2C%20%5B127.14981542759394%2C%2037.51926843453025%5D%2C%20%5B127.14791518058246%2C%2037.51918714979303%5D%2C%20%5B127.14684644251928%2C%2037.51661384818575%5D%2C%20%5B127.14672806823502%2C%2037.51415680680291%5D%2C%20%5B127.14532023498624%2C%2037.51464060108829%5D%2C%20%5B127.12123165719615%2C%2037.52528270089%5D%2C%20%5B127.12251496040881%2C%2037.52751810228347%5D%2C%20%5B127.12532464331997%2C%2037.53572787912298%5D%2C%20%5B127.12061313033807%2C%2037.538129867839416%5D%2C%20%5B127.1116764203608%2C%2037.540669955324965%5D%2C%20%5B127.11418412219375%2C%2037.54474592090681%5D%2C%20%5B127.11600200349189%2C%2037.55053147511706%5D%2C%20%5B127.11600943681239%2C%2037.55580061507081%5D%2C%20%5B127.11519584981606%2C%2037.557533180704915%5D%5D%5D%2C%20%22type%22%3A%20%22Polygon%22%7D%2C%20%22properties%22%3A%20%7B%22base_year%22%3A%20%222013%22%2C%20%22code%22%3A%20%2211250%22%2C%20%22name%22%3A%20%22%5Cuac15%5Cub3d9%5Cuad6c%22%2C%20%22name_eng%22%3A%20%22Gangdong-gu%22%7D%2C%20%22type%22%3A%20%22Feature%22%7D%2C%20%7B%22geometry%22%3A%20%7B%22coordinates%22%3A%20%5B%5B%5B127.0690698130372%2C%2037.522279423505026%5D%2C%20%5B127.07496309841329%2C%2037.52091052765938%5D%2C%20%5B127.07968915919895%2C%2037.52077294752823%5D%2C%20%5B127.08639455667742%2C%2037.52161824624356%5D%2C%20%5B127.0943611414465%2C%2037.523984206117525%5D%2C%20%5B127.10087519791962%2C%2037.524841220167055%5D%2C%20%5B127.10484130265957%2C%2037.53120327509912%5D%2C%20%5B127.1116764203608%2C%2037.540669955324965%5D%2C%20%5B127.12061313033807%2C%2037.538129867839416%5D%2C%20%5B127.12532464331997%2C%2037.53572787912298%5D%2C%20%5B127.12251496040881%2C%2037.52751810228347%5D%2C%20%5B127.12123165719615%2C%2037.52528270089%5D%2C%20%5B127.14532023498624%2C%2037.51464060108829%5D%2C%20%5B127.14672806823502%2C%2037.51415680680291%5D%2C%20%5B127.14670263739373%2C%2037.512786602955565%5D%2C%20%5B127.14462782318448%2C%2037.511529542030715%5D%2C%20%5B127.14323992504048%2C%2037.50951977457089%5D%2C%20%5B127.1420864475393%2C%2037.50578973782813%5D%2C%20%5B127.14324986168657%2C%2037.502649431479774%5D%2C%20%5B127.1473517108062%2C%2037.50069754405746%5D%2C%20%5B127.14980119646964%2C%2037.50046502392898%5D%2C%20%5B127.15223804785649%2C%2037.50170492532197%5D%2C%20%5B127.15401160147654%2C%2037.500347919909956%5D%2C%20%5B127.16086308579277%2C%2037.49886565522751%5D%2C%20%5B127.1634944215765%2C%2037.497445406097484%5D%2C%20%5B127.16199885180917%2C%2037.49402577547199%5D%2C%20%5B127.16216448592424%2C%2037.491639601211624%5D%2C%20%5B127.16040295326431%2C%2037.4877818619403%5D%2C%20%5B127.15892216655034%2C%2037.486126922469445%5D%2C%20%5B127.15393282790794%2C%2037.48483891408459%5D%2C%20%5B127.15147990997852%2C%2037.47745324805034%5D%2C%20%5B127.1515017465549%2C%2037.475633269417585%5D%2C%20%5B127.14857580353349%2C%2037.47381386382568%5D%2C%20%5B127.14415938171436%2C%2037.473692508393505%5D%2C%20%5B127.14112111404233%2C%2037.470600239054825%5D%2C%20%5B127.13631568648837%2C%2037.47214721764681%5D%2C%20%5B127.13281577200672%2C%2037.47257463763244%5D%2C%20%5B127.13307493070646%2C%2037.468907694139894%5D%2C%20%5B127.13750907701846%2C%2037.46647058226059%5D%2C%20%5B127.13478085797742%2C%2037.46509524639883%5D%2C%20%5B127.1308437061496%2C%2037.46509985661207%5D%2C%20%5B127.12728991002369%2C%2037.46673043118672%5D%2C%20%5B127.12729757787379%2C%2037.46421548908766%5D%2C%20%5B127.12440571080893%2C%2037.46240445587048%5D%2C%20%5B127.12441393026374%2C%2037.46442715236855%5D%2C%20%5B127.12265007208167%2C%2037.46756987490939%5D%2C%20%5B127.11380709617507%2C%2037.479633334849325%5D%2C%20%5B127.1143875173445%2C%2037.48073157362458%5D%2C%20%5B127.11117085201238%2C%2037.485708381512445%5D%2C%20%5B127.1077937689776%2C%2037.48860875954992%5D%2C%20%5B127.10433125798602%2C%2037.490728250649646%5D%2C%20%5B127.0988509639092%2C%2037.49302529254068%5D%2C%20%5B127.08050206733888%2C%2037.49783151325589%5D%2C%20%5B127.0764808967127%2C%2037.498612695580306%5D%2C%20%5B127.0719146000724%2C%2037.50224013587669%5D%2C%20%5B127.06926628842805%2C%2037.51717796437217%5D%2C%20%5B127.06860425556381%2C%2037.51812758676938%5D%2C%20%5B127.0690698130372%2C%2037.522279423505026%5D%5D%5D%2C%20%22type%22%3A%20%22Polygon%22%7D%2C%20%22properties%22%3A%20%7B%22base_year%22%3A%20%222013%22%2C%20%22code%22%3A%20%2211240%22%2C%20%22name%22%3A%20%22%5Cuc1a1%5Cud30c%5Cuad6c%22%2C%20%22name_eng%22%3A%20%22Songpa-gu%22%7D%2C%20%22type%22%3A%20%22Feature%22%7D%2C%20%7B%22geometry%22%3A%20%7B%22coordinates%22%3A%20%5B%5B%5B127.05867359288398%2C%2037.52629974922568%5D%2C%20%5B127.0690698130372%2C%2037.522279423505026%5D%2C%20%5B127.06860425556381%2C%2037.51812758676938%5D%2C%20%5B127.06926628842805%2C%2037.51717796437217%5D%2C%20%5B127.0719146000724%2C%2037.50224013587669%5D%2C%20%5B127.0764808967127%2C%2037.498612695580306%5D%2C%20%5B127.08050206733888%2C%2037.49783151325589%5D%2C%20%5B127.0988509639092%2C%2037.49302529254068%5D%2C%20%5B127.10433125798602%2C%2037.490728250649646%5D%2C%20%5B127.1077937689776%2C%2037.48860875954992%5D%2C%20%5B127.11117085201238%2C%2037.485708381512445%5D%2C%20%5B127.1143875173445%2C%2037.48073157362458%5D%2C%20%5B127.11380709617507%2C%2037.479633334849325%5D%2C%20%5B127.12265007208167%2C%2037.46756987490939%5D%2C%20%5B127.12441393026374%2C%2037.46442715236855%5D%2C%20%5B127.12440571080893%2C%2037.46240445587048%5D%2C%20%5B127.11957248720776%2C%2037.45936217377656%5D%2C%20%5B127.11885903757606%2C%2037.45578434878651%5D%2C%20%5B127.11535741803938%2C%2037.45722556454321%5D%2C%20%5B127.11413179478714%2C%2037.45875072431525%5D%2C%20%5B127.10841788934951%2C%2037.45972888008147%5D%2C%20%5B127.10561257180657%2C%2037.456815702518746%5D%2C%20%5B127.10032466845217%2C%2037.45598440195682%5D%2C%20%5B127.09842759318751%2C%2037.45862253857461%5D%2C%20%5B127.09712653145507%2C%2037.460848194480654%5D%2C%20%5B127.09039613625872%2C%2037.465520545397716%5D%2C%20%5B127.0866005634691%2C%2037.47006403057779%5D%2C%20%5B127.08640440578156%2C%2037.472697935184655%5D%2C%20%5B127.0802737559454%2C%2037.471973057552624%5D%2C%20%5B127.07602132306535%2C%2037.47005021331707%5D%2C%20%5B127.07476117209941%2C%2037.47199174520626%5D%2C%20%5B127.07231320371885%2C%2037.47234914588019%5D%2C%20%5B127.07135137525977%2C%2037.47107802023145%5D%2C%20%5B127.06463901956462%2C%2037.47003474490574%5D%2C%20%5B127.06371868919344%2C%2037.4661503234869%5D%2C%20%5B127.0588551029968%2C%2037.465611780743174%5D%2C%20%5B127.0559170481904%2C%2037.4659228914077%5D%2C%20%5B127.04713549385288%2C%2037.474479419244865%5D%2C%20%5B127.04345123620755%2C%2037.48276415595109%5D%2C%20%5B127.03621915098798%2C%2037.48175802427603%5D%2C%20%5B127.03372275812187%2C%2037.48674434662411%5D%2C%20%5B127.02265609299096%2C%2037.509970106251416%5D%2C%20%5B127.02038705349842%2C%2037.51771683027875%5D%2C%20%5B127.01917707838057%2C%2037.520085205855196%5D%2C%20%5B127.01397119667513%2C%2037.52503988289669%5D%2C%20%5B127.02302831890559%2C%2037.53231899582663%5D%2C%20%5B127.0269608080842%2C%2037.53484752757724%5D%2C%20%5B127.0319617044248%2C%2037.536064291470424%5D%2C%20%5B127.04806779588436%2C%2037.52970198575087%5D%2C%20%5B127.04903802830752%2C%2037.53140496708317%5D%2C%20%5B127.05116490008963%2C%2037.52975116557232%5D%2C%20%5B127.05867359288398%2C%2037.52629974922568%5D%5D%5D%2C%20%22type%22%3A%20%22Polygon%22%7D%2C%20%22properties%22%3A%20%7B%22base_year%22%3A%20%222013%22%2C%20%22code%22%3A%20%2211230%22%2C%20%22name%22%3A%20%22%5Cuac15%5Cub0a8%5Cuad6c%22%2C%20%22name_eng%22%3A%20%22Gangnam-gu%22%7D%2C%20%22type%22%3A%20%22Feature%22%7D%2C%20%7B%22geometry%22%3A%20%7B%22coordinates%22%3A%20%5B%5B%5B127.01397119667513%2C%2037.52503988289669%5D%2C%20%5B127.01917707838057%2C%2037.520085205855196%5D%2C%20%5B127.02038705349842%2C%2037.51771683027875%5D%2C%20%5B127.02265609299096%2C%2037.509970106251416%5D%2C%20%5B127.03372275812187%2C%2037.48674434662411%5D%2C%20%5B127.03621915098798%2C%2037.48175802427603%5D%2C%20%5B127.04345123620755%2C%2037.48276415595109%5D%2C%20%5B127.04713549385288%2C%2037.474479419244865%5D%2C%20%5B127.0559170481904%2C%2037.4659228914077%5D%2C%20%5B127.0588551029968%2C%2037.465611780743174%5D%2C%20%5B127.06371868919344%2C%2037.4661503234869%5D%2C%20%5B127.06463901956462%2C%2037.47003474490574%5D%2C%20%5B127.07135137525977%2C%2037.47107802023145%5D%2C%20%5B127.07231320371885%2C%2037.47234914588019%5D%2C%20%5B127.07476117209941%2C%2037.47199174520626%5D%2C%20%5B127.07602132306535%2C%2037.47005021331707%5D%2C%20%5B127.0802737559454%2C%2037.471973057552624%5D%2C%20%5B127.08640440578156%2C%2037.472697935184655%5D%2C%20%5B127.0866005634691%2C%2037.47006403057779%5D%2C%20%5B127.09039613625872%2C%2037.465520545397716%5D%2C%20%5B127.09712653145507%2C%2037.460848194480654%5D%2C%20%5B127.09842759318751%2C%2037.45862253857461%5D%2C%20%5B127.09673714758375%2C%2037.45597209899094%5D%2C%20%5B127.09722129576434%2C%2037.45374822681991%5D%2C%20%5B127.09575982122928%2C%2037.45332980525459%5D%2C%20%5B127.09472136159357%2C%2037.450897902539175%5D%2C%20%5B127.09293250684935%2C%2037.450020696864506%5D%2C%20%5B127.09047890749349%2C%2037.44637473407341%5D%2C%20%5B127.09046928565951%2C%2037.44296826114185%5D%2C%20%5B127.0862358725955%2C%2037.44118543250345%5D%2C%20%5B127.08441983692467%2C%2037.4383879031398%5D%2C%20%5B127.07686576585408%2C%2037.43960712011444%5D%2C%20%5B127.07375875606847%2C%2037.43898415920535%5D%2C%20%5B127.07407631675713%2C%2037.43719357187124%5D%2C%20%5B127.07666569012467%2C%2037.43600054505559%5D%2C%20%5B127.07603719210388%2C%2037.43429107517633%5D%2C%20%5B127.07361291761038%2C%2037.43318474533595%5D%2C%20%5B127.07271473569163%2C%2037.42939553659177%5D%2C%20%5B127.0733788318578%2C%2037.42814484786288%5D%2C%20%5B127.06885354151605%2C%2037.42731815367302%5D%2C%20%5B127.06778107605433%2C%2037.426197424057314%5D%2C%20%5B127.06317558623768%2C%2037.4272916178182%5D%2C%20%5B127.05998777565219%2C%2037.4273224867045%5D%2C%20%5B127.05424556064274%2C%2037.42574929824175%5D%2C%20%5B127.05197080928994%2C%2037.42749842502397%5D%2C%20%5B127.04960937636815%2C%2037.42801020057224%5D%2C%20%5B127.04849622718511%2C%2037.430672016902065%5D%2C%20%5B127.04191594772718%2C%2037.43568906449929%5D%2C%20%5B127.0379686253535%2C%2037.43634417139204%5D%2C%20%5B127.03751805596916%2C%2037.438362795245276%5D%2C%20%5B127.04031700689708%2C%2037.44191429311459%5D%2C%20%5B127.03959875976469%2C%2037.443582700519194%5D%2C%20%5B127.0398984887873%2C%2037.44656106007936%5D%2C%20%5B127.03825522385397%2C%2037.448766467898395%5D%2C%20%5B127.03916301678915%2C%2037.45180237055558%5D%2C%20%5B127.03881782597922%2C%2037.45382039851715%5D%2C%20%5B127.03695436044305%2C%2037.45537592726508%5D%2C%20%5B127.03573307034355%2C%2037.4586703897792%5D%2C%20%5B127.03683946894893%2C%2037.46103886642786%5D%2C%20%5B127.03337331972266%2C%2037.462966775127626%5D%2C%20%5B127.02820831539744%2C%2037.455700834295826%5D%2C%20%5B127.02263694708293%2C%2037.45335816711404%5D%2C%20%5B127.01827371395349%2C%2037.4525593623189%5D%2C%20%5B127.01316256500736%2C%2037.45257906566242%5D%2C%20%5B127.01110931353561%2C%2037.45456166745922%5D%2C%20%5B127.00836380369604%2C%2037.45936868039916%5D%2C%20%5B127.00738548779366%2C%2037.459815333664274%5D%2C%20%5B127.00552362663117%2C%2037.46445102893571%5D%2C%20%5B127.00008523087483%2C%2037.46455774995882%5D%2C%20%5B126.99837609897334%2C%2037.46390918086617%5D%2C%20%5B126.99932142462428%2C%2037.46113351815481%5D%2C%20%5B126.99893310307874%2C%2037.459376062410314%5D%2C%20%5B126.9953054179472%2C%2037.45860121328987%5D%2C%20%5B126.99072073195462%2C%2037.455326143310025%5D%2C%20%5B126.98956736277059%2C%2037.457600756400446%5D%2C%20%5B126.99026416700147%2C%2037.46271603227842%5D%2C%20%5B126.98896316546526%2C%2037.465041871263544%5D%2C%20%5B126.98662755598336%2C%2037.466937278295305%5D%2C%20%5B126.9846374349825%2C%2037.46996301876212%5D%2C%20%5B126.98367668291802%2C%2037.473856492692086%5D%2C%20%5B126.98500224966135%2C%2037.49356837311327%5D%2C%20%5B126.9871787157338%2C%2037.49719505997539%5D%2C%20%5B126.9832495184969%2C%2037.49948552591205%5D%2C%20%5B126.98241580381733%2C%2037.50120029501884%5D%2C%20%5B126.98223807916081%2C%2037.509314966770326%5D%2C%20%5B126.98458580602838%2C%2037.51070333105394%5D%2C%20%5B126.98948242685965%2C%2037.5108780134613%5D%2C%20%5B126.99148001917875%2C%2037.50990503427709%5D%2C%20%5B127.00011962020382%2C%2037.513901653034374%5D%2C%20%5B127.00583392114271%2C%2037.516905128452926%5D%2C%20%5B127.00818058911564%2C%2037.51877313923874%5D%2C%20%5B127.01022186960886%2C%2037.522020085671926%5D%2C%20%5B127.01397119667513%2C%2037.52503988289669%5D%5D%5D%2C%20%22type%22%3A%20%22Polygon%22%7D%2C%20%22properties%22%3A%20%7B%22base_year%22%3A%20%222013%22%2C%20%22code%22%3A%20%2211220%22%2C%20%22name%22%3A%20%22%5Cuc11c%5Cucd08%5Cuad6c%22%2C%20%22name_eng%22%3A%20%22Seocho-gu%22%7D%2C%20%22type%22%3A%20%22Feature%22%7D%2C%20%7B%22geometry%22%3A%20%7B%22coordinates%22%3A%20%5B%5B%5B126.98367668291802%2C%2037.473856492692086%5D%2C%20%5B126.9846374349825%2C%2037.46996301876212%5D%2C%20%5B126.98662755598336%2C%2037.466937278295305%5D%2C%20%5B126.98896316546526%2C%2037.465041871263544%5D%2C%20%5B126.99026416700147%2C%2037.46271603227842%5D%2C%20%5B126.98956736277059%2C%2037.457600756400446%5D%2C%20%5B126.99072073195462%2C%2037.455326143310025%5D%2C%20%5B126.98484249930785%2C%2037.45391909788938%5D%2C%20%5B126.9829408096241%2C%2037.450206782833206%5D%2C%20%5B126.97835022660695%2C%2037.447659155806164%5D%2C%20%5B126.97608193440507%2C%2037.44478918862847%5D%2C%20%5B126.9731300196836%2C%2037.444722870088114%5D%2C%20%5B126.96650852936277%2C%2037.44276983031553%5D%2C%20%5B126.96618702895445%2C%2037.439376482995094%5D%2C%20%5B126.96520439085143%2C%2037.438249784006246%5D%2C%20%5B126.9614877541633%2C%2037.437956805629675%5D%2C%20%5B126.96054904645496%2C%2037.43673997185797%5D%2C%20%5B126.95527369898224%2C%2037.43673711968809%5D%2C%20%5B126.9473688393239%2C%2037.4347689647565%5D%2C%20%5B126.94440352544498%2C%2037.43476162120059%5D%2C%20%5B126.9415292183489%2C%2037.43315139671158%5D%2C%20%5B126.94037501670272%2C%2037.43462213966344%5D%2C%20%5B126.9405640311191%2C%2037.437501011208845%5D%2C%20%5B126.9376981355065%2C%2037.44041709605302%5D%2C%20%5B126.93312955918624%2C%2037.44290014710262%5D%2C%20%5B126.93309127096236%2C%2037.44533734785938%5D%2C%20%5B126.93084408056525%2C%2037.447382928333994%5D%2C%20%5B126.92527839995981%2C%2037.45161884570837%5D%2C%20%5B126.9245243450059%2C%2037.45392293573877%5D%2C%20%5B126.91887928082078%2C%2037.45495082787016%5D%2C%20%5B126.9167728146601%2C%2037.45490566423789%5D%2C%20%5B126.91641538472182%2C%2037.45870245071989%5D%2C%20%5B126.91495285904284%2C%2037.461166184511065%5D%2C%20%5B126.91584245173756%2C%2037.462474576247985%5D%2C%20%5B126.91374656127704%2C%2037.46375990852858%5D%2C%20%5B126.91032166997253%2C%2037.469818629944285%5D%2C%20%5B126.91280966667205%2C%2037.47083063715413%5D%2C%20%5B126.91405961426707%2C%2037.47416764846582%5D%2C%20%5B126.9115784808617%2C%2037.4753960485947%5D%2C%20%5B126.91181700249076%2C%2037.47814319736339%5D%2C%20%5B126.90276666415615%2C%2037.47652007992712%5D%2C%20%5B126.90156094129895%2C%2037.47753842789901%5D%2C%20%5B126.90531975801812%2C%2037.48218087575429%5D%2C%20%5B126.90805655355825%2C%2037.48218338568103%5D%2C%20%5B126.91533979779165%2C%2037.484392208242134%5D%2C%20%5B126.91916807529428%2C%2037.48660606817164%5D%2C%20%5B126.92639563063156%2C%2037.48715979752876%5D%2C%20%5B126.92869559665061%2C%2037.49132126714011%5D%2C%20%5B126.92981699800066%2C%2037.49218420958284%5D%2C%20%5B126.93346386636452%2C%2037.49043826776755%5D%2C%20%5B126.93669800083833%2C%2037.49026778789087%5D%2C%20%5B126.93844070234584%2C%2037.4893532861132%5D%2C%20%5B126.94373156012337%2C%2037.48938843727846%5D%2C%20%5B126.94922661389508%2C%2037.49125437495649%5D%2C%20%5B126.95396955055433%2C%2037.48955250290043%5D%2C%20%5B126.9559655046206%2C%2037.48820165625994%5D%2C%20%5B126.95881175306481%2C%2037.48874989165474%5D%2C%20%5B126.96329694970828%2C%2037.4905835370787%5D%2C%20%5B126.96291787066104%2C%2037.48803272157808%5D%2C%20%5B126.96443983219191%2C%2037.48442261322104%5D%2C%20%5B126.9634428120456%2C%2037.48067931902171%5D%2C%20%5B126.9725891850662%2C%2037.472561363278125%5D%2C%20%5B126.97901795539295%2C%2037.47376525108475%5D%2C%20%5B126.98367668291802%2C%2037.473856492692086%5D%5D%5D%2C%20%22type%22%3A%20%22Polygon%22%7D%2C%20%22properties%22%3A%20%7B%22base_year%22%3A%20%222013%22%2C%20%22code%22%3A%20%2211210%22%2C%20%22name%22%3A%20%22%5Cuad00%5Cuc545%5Cuad6c%22%2C%20%22name_eng%22%3A%20%22Gwanak-gu%22%7D%2C%20%22type%22%3A%20%22Feature%22%7D%2C%20%7B%22geometry%22%3A%20%7B%22coordinates%22%3A%20%5B%5B%5B126.98223807916081%2C%2037.509314966770326%5D%2C%20%5B126.98241580381733%2C%2037.50120029501884%5D%2C%20%5B126.9832495184969%2C%2037.49948552591205%5D%2C%20%5B126.9871787157338%2C%2037.49719505997539%5D%2C%20%5B126.98500224966135%2C%2037.49356837311327%5D%2C%20%5B126.98367668291802%2C%2037.473856492692086%5D%2C%20%5B126.97901795539295%2C%2037.47376525108475%5D%2C%20%5B126.9725891850662%2C%2037.472561363278125%5D%2C%20%5B126.9634428120456%2C%2037.48067931902171%5D%2C%20%5B126.96443983219191%2C%2037.48442261322104%5D%2C%20%5B126.96291787066104%2C%2037.48803272157808%5D%2C%20%5B126.96329694970828%2C%2037.4905835370787%5D%2C%20%5B126.95881175306481%2C%2037.48874989165474%5D%2C%20%5B126.9559655046206%2C%2037.48820165625994%5D%2C%20%5B126.95396955055433%2C%2037.48955250290043%5D%2C%20%5B126.94922661389508%2C%2037.49125437495649%5D%2C%20%5B126.94373156012337%2C%2037.48938843727846%5D%2C%20%5B126.93844070234584%2C%2037.4893532861132%5D%2C%20%5B126.93669800083833%2C%2037.49026778789087%5D%2C%20%5B126.93346386636452%2C%2037.49043826776755%5D%2C%20%5B126.92981699800066%2C%2037.49218420958284%5D%2C%20%5B126.92869559665061%2C%2037.49132126714011%5D%2C%20%5B126.92639563063156%2C%2037.48715979752876%5D%2C%20%5B126.91916807529428%2C%2037.48660606817164%5D%2C%20%5B126.91533979779165%2C%2037.484392208242134%5D%2C%20%5B126.90805655355825%2C%2037.48218338568103%5D%2C%20%5B126.90531975801812%2C%2037.48218087575429%5D%2C%20%5B126.91461888105147%2C%2037.493581242537296%5D%2C%20%5B126.92177893174825%2C%2037.494889877415176%5D%2C%20%5B126.9232469824303%2C%2037.49928149943772%5D%2C%20%5B126.92749463764046%2C%2037.50985955934051%5D%2C%20%5B126.92919938332032%2C%2037.51019685838638%5D%2C%20%5B126.92810628828279%2C%2037.51329595732015%5D%2C%20%5B126.93453120783802%2C%2037.5128512712934%5D%2C%20%5B126.94407346439685%2C%2037.51463101265907%5D%2C%20%5B126.95249990298159%2C%2037.51722500741813%5D%2C%20%5B126.95551848909955%2C%2037.514736123015844%5D%2C%20%5B126.95950268374823%2C%2037.51249532165974%5D%2C%20%5B126.96670111119346%2C%2037.50997579058433%5D%2C%20%5B126.98223807916081%2C%2037.509314966770326%5D%5D%5D%2C%20%22type%22%3A%20%22Polygon%22%7D%2C%20%22properties%22%3A%20%7B%22base_year%22%3A%20%222013%22%2C%20%22code%22%3A%20%2211200%22%2C%20%22name%22%3A%20%22%5Cub3d9%5Cuc791%5Cuad6c%22%2C%20%22name_eng%22%3A%20%22Dongjak-gu%22%7D%2C%20%22type%22%3A%20%22Feature%22%7D%2C%20%7B%22geometry%22%3A%20%7B%22coordinates%22%3A%20%5B%5B%5B126.89184663862764%2C%2037.547373974997114%5D%2C%20%5B126.90281125423546%2C%2037.54133630026083%5D%2C%20%5B126.90829204147958%2C%2037.539206065016785%5D%2C%20%5B126.93132557924062%2C%2037.53415416375281%5D%2C%20%5B126.93680342222562%2C%2037.53344577095931%5D%2C%20%5B126.94566733083212%2C%2037.526617542453366%5D%2C%20%5B126.9488066464266%2C%2037.52424913252661%5D%2C%20%5B126.95003825019774%2C%2037.520781022055274%5D%2C%20%5B126.95249990298159%2C%2037.51722500741813%5D%2C%20%5B126.94407346439685%2C%2037.51463101265907%5D%2C%20%5B126.93453120783802%2C%2037.5128512712934%5D%2C%20%5B126.92810628828279%2C%2037.51329595732015%5D%2C%20%5B126.92919938332032%2C%2037.51019685838638%5D%2C%20%5B126.92749463764046%2C%2037.50985955934051%5D%2C%20%5B126.9232469824303%2C%2037.49928149943772%5D%2C%20%5B126.92177893174825%2C%2037.494889877415176%5D%2C%20%5B126.91461888105147%2C%2037.493581242537296%5D%2C%20%5B126.90531975801812%2C%2037.48218087575429%5D%2C%20%5B126.90260188508027%2C%2037.48282626920736%5D%2C%20%5B126.89861362258316%2C%2037.48625405368759%5D%2C%20%5B126.89581061458084%2C%2037.49391346191318%5D%2C%20%5B126.89549571721683%2C%2037.50033127915717%5D%2C%20%5B126.89594776782485%2C%2037.504675281309176%5D%2C%20%5B126.89253696873205%2C%2037.50875582175844%5D%2C%20%5B126.88156402353862%2C%2037.513970034765684%5D%2C%20%5B126.88191372979959%2C%2037.51939416754389%5D%2C%20%5B126.88260109180834%2C%2037.52242565920786%5D%2C%20%5B126.88382776477316%2C%2037.52352483439659%5D%2C%20%5B126.88904768965743%2C%2037.525856504359034%5D%2C%20%5B126.89057378109133%2C%2037.52792091672938%5D%2C%20%5B126.89213569003026%2C%2037.52757969298779%5D%2C%20%5B126.89361739665432%2C%2037.53033899535983%5D%2C%20%5B126.89339176028666%2C%2037.533030814524004%5D%2C%20%5B126.88938421776182%2C%2037.54060159145325%5D%2C%20%5B126.88825757860099%2C%2037.54079733630232%5D%2C%20%5B126.88736718003831%2C%2037.54350482420959%5D%2C%20%5B126.89184663862764%2C%2037.547373974997114%5D%5D%5D%2C%20%22type%22%3A%20%22Polygon%22%7D%2C%20%22properties%22%3A%20%7B%22base_year%22%3A%20%222013%22%2C%20%22code%22%3A%20%2211190%22%2C%20%22name%22%3A%20%22%5Cuc601%5Cub4f1%5Cud3ec%5Cuad6c%22%2C%20%22name_eng%22%3A%20%22Yeongdeungpo-gu%22%7D%2C%20%22type%22%3A%20%22Feature%22%7D%2C%20%7B%22geometry%22%3A%20%7B%22coordinates%22%3A%20%5B%5B%5B126.90156094129895%2C%2037.47753842789901%5D%2C%20%5B126.90276666415615%2C%2037.47652007992712%5D%2C%20%5B126.91181700249076%2C%2037.47814319736339%5D%2C%20%5B126.9115784808617%2C%2037.4753960485947%5D%2C%20%5B126.91405961426707%2C%2037.47416764846582%5D%2C%20%5B126.91280966667205%2C%2037.47083063715413%5D%2C%20%5B126.91032166997253%2C%2037.469818629944285%5D%2C%20%5B126.91374656127704%2C%2037.46375990852858%5D%2C%20%5B126.91584245173756%2C%2037.462474576247985%5D%2C%20%5B126.91495285904284%2C%2037.461166184511065%5D%2C%20%5B126.91641538472182%2C%2037.45870245071989%5D%2C%20%5B126.9167728146601%2C%2037.45490566423789%5D%2C%20%5B126.91887928082078%2C%2037.45495082787016%5D%2C%20%5B126.9245243450059%2C%2037.45392293573877%5D%2C%20%5B126.92527839995981%2C%2037.45161884570837%5D%2C%20%5B126.93084408056525%2C%2037.447382928333994%5D%2C%20%5B126.9255681646224%2C%2037.44377627841776%5D%2C%20%5B126.92318732232543%2C%2037.44131494528283%5D%2C%20%5B126.92199241717724%2C%2037.43848070111403%5D%2C%20%5B126.92004664118903%2C%2037.43708741729147%5D%2C%20%5B126.91641802826501%2C%2037.43722730676683%5D%2C%20%5B126.91344497343947%2C%2037.43474365720405%5D%2C%20%5B126.91082677485002%2C%2037.43100963341445%5D%2C%20%5B126.90487628022693%2C%2037.43129996372531%5D%2C%20%5B126.90480610062333%2C%2037.433123813599884%5D%2C%20%5B126.90147608259903%2C%2037.4353323892334%5D%2C%20%5B126.90081465102077%2C%2037.436498759868456%5D%2C%20%5B126.90105333433885%2C%2037.44031094924801%5D%2C%20%5B126.90031753853916%2C%2037.441844173154756%5D%2C%20%5B126.89768314223053%2C%2037.442906858137974%5D%2C%20%5B126.89812451590424%2C%2037.44551117837958%5D%2C%20%5B126.89616541233094%2C%2037.44983024861048%5D%2C%20%5B126.8947204038491%2C%2037.4491097366517%5D%2C%20%5B126.89157226377172%2C%2037.449944282396714%5D%2C%20%5B126.89113632562855%2C%2037.45236898205529%5D%2C%20%5B126.88831381741582%2C%2037.45357939777933%5D%2C%20%5B126.88826482749008%2C%2037.45663270152334%5D%2C%20%5B126.89074130059865%2C%2037.45966561796733%5D%2C%20%5B126.88198617469523%2C%2037.469975509557976%5D%2C%20%5B126.87874781843654%2C%2037.47475533620029%5D%2C%20%5B126.87553760781829%2C%2037.48186220368496%5D%2C%20%5B126.87683271502428%2C%2037.482576591607305%5D%2C%20%5B126.88079109105627%2C%2037.48378287831426%5D%2C%20%5B126.8827497570056%2C%2037.48316340563878%5D%2C%20%5B126.88803217321346%2C%2037.47975290808737%5D%2C%20%5B126.89116882970154%2C%2037.47681803032367%5D%2C%20%5B126.89689977603885%2C%2037.47570593888643%5D%2C%20%5B126.90104536043339%2C%2037.47614746588584%5D%2C%20%5B126.90156094129895%2C%2037.47753842789901%5D%5D%5D%2C%20%22type%22%3A%20%22Polygon%22%7D%2C%20%22properties%22%3A%20%7B%22base_year%22%3A%20%222013%22%2C%20%22code%22%3A%20%2211180%22%2C%20%22name%22%3A%20%22%5Cuae08%5Cucc9c%5Cuad6c%22%2C%20%22name_eng%22%3A%20%22Geumcheon-gu%22%7D%2C%20%22type%22%3A%20%22Feature%22%7D%2C%20%7B%22geometry%22%3A%20%7B%22coordinates%22%3A%20%5B%5B%5B126.82688081517314%2C%2037.50548972232896%5D%2C%20%5B126.8312211095328%2C%2037.50541191299514%5D%2C%20%5B126.8341914436862%2C%2037.50238060850881%5D%2C%20%5B126.8385046623421%2C%2037.49965438083505%5D%2C%20%5B126.84270526111828%2C%2037.501190052842375%5D%2C%20%5B126.8421330711049%2C%2037.50273297478404%5D%2C%20%5B126.84689618668257%2C%2037.50287086505149%5D%2C%20%5B126.84730715497963%2C%2037.50522159123912%5D%2C%20%5B126.85079659934003%2C%2037.50601938589165%5D%2C%20%5B126.8521985385098%2C%2037.507310601432195%5D%2C%20%5B126.8549910115563%2C%2037.507774255244875%5D%2C%20%5B126.85767018319959%2C%2037.50643578404816%5D%2C%20%5B126.8602448049945%2C%2037.50714262450898%5D%2C%20%5B126.86219488732715%2C%2037.50388438562706%5D%2C%20%5B126.86454914535695%2C%2037.50388350542007%5D%2C%20%5B126.86525729660478%2C%2037.502448483868896%5D%2C%20%5B126.86795186545288%2C%2037.502755995885714%5D%2C%20%5B126.87109220473953%2C%2037.50203922322315%5D%2C%20%5B126.87432642792102%2C%2037.50260287829134%5D%2C%20%5B126.87556919864359%2C%2037.505720626918%5D%2C%20%5B126.88054908630636%2C%2037.51148026214697%5D%2C%20%5B126.88156402353862%2C%2037.513970034765684%5D%2C%20%5B126.89253696873205%2C%2037.50875582175844%5D%2C%20%5B126.89594776782485%2C%2037.504675281309176%5D%2C%20%5B126.89549571721683%2C%2037.50033127915717%5D%2C%20%5B126.89581061458084%2C%2037.49391346191318%5D%2C%20%5B126.89861362258316%2C%2037.48625405368759%5D%2C%20%5B126.90260188508027%2C%2037.48282626920736%5D%2C%20%5B126.90531975801812%2C%2037.48218087575429%5D%2C%20%5B126.90156094129895%2C%2037.47753842789901%5D%2C%20%5B126.90104536043339%2C%2037.47614746588584%5D%2C%20%5B126.89689977603885%2C%2037.47570593888643%5D%2C%20%5B126.89116882970154%2C%2037.47681803032367%5D%2C%20%5B126.88803217321346%2C%2037.47975290808737%5D%2C%20%5B126.8827497570056%2C%2037.48316340563878%5D%2C%20%5B126.88079109105627%2C%2037.48378287831426%5D%2C%20%5B126.87683271502428%2C%2037.482576591607305%5D%2C%20%5B126.87926901338844%2C%2037.4851363312754%5D%2C%20%5B126.87807822721697%2C%2037.486247661404484%5D%2C%20%5B126.87500855887376%2C%2037.485529408954044%5D%2C%20%5B126.87499999632084%2C%2037.48723558386031%5D%2C%20%5B126.86985088086946%2C%2037.490972856926746%5D%2C%20%5B126.86690708512153%2C%2037.48850048185492%5D%2C%20%5B126.86334463261252%2C%2037.48702105213313%5D%2C%20%5B126.85979281993241%2C%2037.48309390333688%5D%2C%20%5B126.8571926758503%2C%2037.482400254369296%5D%2C%20%5B126.85582775745682%2C%2037.48008159809108%5D%2C%20%5B126.85397991619827%2C%2037.47882533996402%5D%2C%20%5B126.84914329670241%2C%2037.4792573077648%5D%2C%20%5B126.84804505350411%2C%2037.478160467930344%5D%2C%20%5B126.84762676054953%2C%2037.47146723936323%5D%2C%20%5B126.84154264465728%2C%2037.4728980419%5D%2C%20%5B126.83754691879544%2C%2037.472514053936045%5D%2C%20%5B126.83388005989259%2C%2037.4747683882548%5D%2C%20%5B126.83136668931549%2C%2037.47344154955525%5D%2C%20%5B126.82660025197819%2C%2037.47364544953152%5D%2C%20%5B126.82419365698964%2C%2037.472951080902234%5D%2C%20%5B126.82179895415682%2C%2037.47518076838956%5D%2C%20%5B126.82206789884786%2C%2037.47889514031285%5D%2C%20%5B126.82139445214092%2C%2037.48136482338644%5D%2C%20%5B126.82208805042494%2C%2037.48299688518288%5D%2C%20%5B126.82558489219227%2C%2037.48497306755705%5D%2C%20%5B126.82482114643597%2C%2037.48717399070965%5D%2C%20%5B126.81993148808915%2C%2037.48877864988337%5D%2C%20%5B126.81649745505314%2C%2037.490455810141476%5D%2C%20%5B126.81480709048222%2C%2037.493362284349615%5D%2C%20%5B126.81518179823208%2C%2037.495233793642186%5D%2C%20%5B126.81771493003457%2C%2037.494748098657496%5D%2C%20%5B126.8208295567048%2C%2037.49594689979241%5D%2C%20%5B126.82204657426578%2C%2037.49851634597747%5D%2C%20%5B126.82367963750009%2C%2037.49925830108059%5D%2C%20%5B126.82504736331406%2C%2037.50302612640443%5D%2C%20%5B126.82469248121312%2C%2037.50496239513798%5D%2C%20%5B126.82688081517314%2C%2037.50548972232896%5D%5D%5D%2C%20%22type%22%3A%20%22Polygon%22%7D%2C%20%22properties%22%3A%20%7B%22base_year%22%3A%20%222013%22%2C%20%22code%22%3A%20%2211170%22%2C%20%22name%22%3A%20%22%5Cuad6c%5Cub85c%5Cuad6c%22%2C%20%22name_eng%22%3A%20%22Guro-gu%22%7D%2C%20%22type%22%3A%20%22Feature%22%7D%2C%20%7B%22geometry%22%3A%20%7B%22coordinates%22%3A%20%5B%5B%5B126.85984199399667%2C%2037.571847855292745%5D%2C%20%5B126.85950389772532%2C%2037.5682771531189%5D%2C%20%5B126.8604929702619%2C%2037.566825621733905%5D%2C%20%5B126.86837407967381%2C%2037.56309561411933%5D%2C%20%5B126.87997924964915%2C%2037.55510740490174%5D%2C%20%5B126.89184663862764%2C%2037.547373974997114%5D%2C%20%5B126.88736718003831%2C%2037.54350482420959%5D%2C%20%5B126.88825757860099%2C%2037.54079733630232%5D%2C%20%5B126.8872486543506%2C%2037.54079100234749%5D%2C%20%5B126.88280520161935%2C%2037.545072121233225%5D%2C%20%5B126.8761093656006%2C%2037.54412882794802%5D%2C%20%5B126.8727924099192%2C%2037.544853699294116%5D%2C%20%5B126.86637464321238%2C%2037.54859191094823%5D%2C%20%5B126.86426635332332%2C%2037.54172958759955%5D%2C%20%5B126.86582129720519%2C%2037.53817151116851%5D%2C%20%5B126.8655037497872%2C%2037.53382926555605%5D%2C%20%5B126.86610073476395%2C%2037.52699964144669%5D%2C%20%5B126.85098397861944%2C%2037.525098716169985%5D%2C%20%5B126.84257291943153%2C%2037.52373707805596%5D%2C%20%5B126.836555914069%2C%2037.53367208325903%5D%2C%20%5B126.83716591765655%2C%2037.534935320492906%5D%2C%20%5B126.83522688458329%2C%2037.539042988809484%5D%2C%20%5B126.8325348945036%2C%2037.538953250433295%5D%2C%20%5B126.83191667070415%2C%2037.54146500511403%5D%2C%20%5B126.83017074557299%2C%2037.542611079015344%5D%2C%20%5B126.82889818288362%2C%2037.53909381305992%5D%2C%20%5B126.8242331426722%2C%2037.53788078753248%5D%2C%20%5B126.81674221631081%2C%2037.5378396500627%5D%2C%20%5B126.81246052552456%2C%2037.538810793377344%5D%2C%20%5B126.81143604908785%2C%2037.54033621168525%5D%2C%20%5B126.80542840499083%2C%2037.54008921830378%5D%2C%20%5B126.80185404828612%2C%2037.537645443377826%5D%2C%20%5B126.80090914554204%2C%2037.53503009075454%5D%2C%20%5B126.79688612254975%2C%2037.53302974862096%5D%2C%20%5B126.79582133969424%2C%2037.536641561833754%5D%2C%20%5B126.79693641290046%2C%2037.53865858611534%5D%2C%20%5B126.79388711477147%2C%2037.53902211451394%5D%2C%20%5B126.7938616681597%2C%2037.54104361952839%5D%2C%20%5B126.79075533377627%2C%2037.54165251407983%5D%2C%20%5B126.78880225462409%2C%2037.54353706379955%5D%2C%20%5B126.78198339188025%2C%2037.543449601019624%5D%2C%20%5B126.77756215424237%2C%2037.54611355396897%5D%2C%20%5B126.77324417717703%2C%2037.5459123450554%5D%2C%20%5B126.76977011413412%2C%2037.55052082471595%5D%2C%20%5B126.76700465024426%2C%2037.552821566629916%5D%2C%20%5B126.77074629769308%2C%2037.55296836994276%5D%2C%20%5B126.77145103135192%2C%2037.55434307460708%5D%2C%20%5B126.77879087345151%2C%2037.55919525318415%5D%2C%20%5B126.77889121370164%2C%2037.5613614424496%5D%2C%20%5B126.77671213061004%2C%2037.5645429268672%5D%2C%20%5B126.77986476402239%2C%2037.564245932540665%5D%2C%20%5B126.78252024622797%2C%2037.565367145342954%5D%2C%20%5B126.78471963959866%2C%2037.56745669198498%5D%2C%20%5B126.78398460461828%2C%2037.56905814599349%5D%2C%20%5B126.78496836516075%2C%2037.57090748246567%5D%2C%20%5B126.79172648531066%2C%2037.57472630536462%5D%2C%20%5B126.79539987549317%2C%2037.57451148875729%5D%2C%20%5B126.79523455851671%2C%2037.57760277954844%5D%2C%20%5B126.7958606942207%2C%2037.58019957877273%5D%2C%20%5B126.79799133400897%2C%2037.58036436587069%5D%2C%20%5B126.80091228188235%2C%2037.5854309825683%5D%2C%20%5B126.80289369340177%2C%2037.58621464221784%5D%2C%20%5B126.80131704756816%2C%2037.58839794302751%5D%2C%20%5B126.80149834313248%2C%2037.59012749570681%5D%2C%20%5B126.7996634054858%2C%2037.59296530943065%5D%2C%20%5B126.79910601240701%2C%2037.59569886491464%5D%2C%20%5B126.80046544382346%2C%2037.59827267924192%5D%2C%20%5B126.80198459129242%2C%2037.598541940075755%5D%2C%20%5B126.80268446118524%2C%2037.601312560472834%5D%2C%20%5B126.80393696882469%2C%2037.601857300987895%5D%2C%20%5B126.80759006979085%2C%2037.60089755124775%5D%2C%20%5B126.81814502537962%2C%2037.591566052513244%5D%2C%20%5B126.82251438477105%2C%2037.5880430810082%5D%2C%20%5B126.82891304761237%2C%2037.5855611764797%5D%2C%20%5B126.85302823436479%2C%2037.57282468882299%5D%2C%20%5B126.85984199399667%2C%2037.571847855292745%5D%5D%5D%2C%20%22type%22%3A%20%22Polygon%22%7D%2C%20%22properties%22%3A%20%7B%22base_year%22%3A%20%222013%22%2C%20%22code%22%3A%20%2211160%22%2C%20%22name%22%3A%20%22%5Cuac15%5Cuc11c%5Cuad6c%22%2C%20%22name_eng%22%3A%20%22Gangseo-gu%22%7D%2C%20%22type%22%3A%20%22Feature%22%7D%2C%20%7B%22geometry%22%3A%20%7B%22coordinates%22%3A%20%5B%5B%5B126.8242331426722%2C%2037.53788078753248%5D%2C%20%5B126.82889818288362%2C%2037.53909381305992%5D%2C%20%5B126.83017074557299%2C%2037.542611079015344%5D%2C%20%5B126.83191667070415%2C%2037.54146500511403%5D%2C%20%5B126.8325348945036%2C%2037.538953250433295%5D%2C%20%5B126.83522688458329%2C%2037.539042988809484%5D%2C%20%5B126.83716591765655%2C%2037.534935320492906%5D%2C%20%5B126.836555914069%2C%2037.53367208325903%5D%2C%20%5B126.84257291943153%2C%2037.52373707805596%5D%2C%20%5B126.85098397861944%2C%2037.525098716169985%5D%2C%20%5B126.86610073476395%2C%2037.52699964144669%5D%2C%20%5B126.8655037497872%2C%2037.53382926555605%5D%2C%20%5B126.86582129720519%2C%2037.53817151116851%5D%2C%20%5B126.86426635332332%2C%2037.54172958759955%5D%2C%20%5B126.86637464321238%2C%2037.54859191094823%5D%2C%20%5B126.8727924099192%2C%2037.544853699294116%5D%2C%20%5B126.8761093656006%2C%2037.54412882794802%5D%2C%20%5B126.88280520161935%2C%2037.545072121233225%5D%2C%20%5B126.8872486543506%2C%2037.54079100234749%5D%2C%20%5B126.88825757860099%2C%2037.54079733630232%5D%2C%20%5B126.88938421776182%2C%2037.54060159145325%5D%2C%20%5B126.89339176028666%2C%2037.533030814524004%5D%2C%20%5B126.89361739665432%2C%2037.53033899535983%5D%2C%20%5B126.89213569003026%2C%2037.52757969298779%5D%2C%20%5B126.89057378109133%2C%2037.52792091672938%5D%2C%20%5B126.88904768965743%2C%2037.525856504359034%5D%2C%20%5B126.88382776477316%2C%2037.52352483439659%5D%2C%20%5B126.88260109180834%2C%2037.52242565920786%5D%2C%20%5B126.88191372979959%2C%2037.51939416754389%5D%2C%20%5B126.88156402353862%2C%2037.513970034765684%5D%2C%20%5B126.88054908630636%2C%2037.51148026214697%5D%2C%20%5B126.87556919864359%2C%2037.505720626918%5D%2C%20%5B126.87432642792102%2C%2037.50260287829134%5D%2C%20%5B126.87109220473953%2C%2037.50203922322315%5D%2C%20%5B126.86795186545288%2C%2037.502755995885714%5D%2C%20%5B126.86525729660478%2C%2037.502448483868896%5D%2C%20%5B126.86454914535695%2C%2037.50388350542007%5D%2C%20%5B126.86219488732715%2C%2037.50388438562706%5D%2C%20%5B126.8602448049945%2C%2037.50714262450898%5D%2C%20%5B126.85767018319959%2C%2037.50643578404816%5D%2C%20%5B126.8549910115563%2C%2037.507774255244875%5D%2C%20%5B126.8521985385098%2C%2037.507310601432195%5D%2C%20%5B126.85079659934003%2C%2037.50601938589165%5D%2C%20%5B126.84730715497963%2C%2037.50522159123912%5D%2C%20%5B126.84689618668257%2C%2037.50287086505149%5D%2C%20%5B126.8421330711049%2C%2037.50273297478404%5D%2C%20%5B126.84270526111828%2C%2037.501190052842375%5D%2C%20%5B126.8385046623421%2C%2037.49965438083505%5D%2C%20%5B126.8341914436862%2C%2037.50238060850881%5D%2C%20%5B126.8312211095328%2C%2037.50541191299514%5D%2C%20%5B126.82688081517314%2C%2037.50548972232896%5D%2C%20%5B126.82609821744505%2C%2037.507816771867255%5D%2C%20%5B126.82665326173496%2C%2037.510416148524136%5D%2C%20%5B126.82529622550616%2C%2037.513385210403136%5D%2C%20%5B126.82763384465879%2C%2037.516923263281946%5D%2C%20%5B126.8273575421771%2C%2037.52002629298419%5D%2C%20%5B126.83054711509516%2C%2037.52390261457357%5D%2C%20%5B126.82938708105253%2C%2037.5268052663749%5D%2C%20%5B126.8276955169658%2C%2037.52706155314193%5D%2C%20%5B126.82389942108053%2C%2037.53199443525418%5D%2C%20%5B126.8242331426722%2C%2037.53788078753248%5D%5D%5D%2C%20%22type%22%3A%20%22Polygon%22%7D%2C%20%22properties%22%3A%20%7B%22base_year%22%3A%20%222013%22%2C%20%22code%22%3A%20%2211150%22%2C%20%22name%22%3A%20%22%5Cuc591%5Cucc9c%5Cuad6c%22%2C%20%22name_eng%22%3A%20%22Yangcheon-gu%22%7D%2C%20%22type%22%3A%20%22Feature%22%7D%2C%20%7B%22geometry%22%3A%20%7B%22coordinates%22%3A%20%5B%5B%5B126.90522065831053%2C%2037.57409700522574%5D%2C%20%5B126.90370105002282%2C%2037.57266722738834%5D%2C%20%5B126.90687243065778%2C%2037.57059762097416%5D%2C%20%5B126.92189004506%2C%2037.56391798973296%5D%2C%20%5B126.92778174854314%2C%2037.562495624023775%5D%2C%20%5B126.93034243306369%2C%2037.56054720372433%5D%2C%20%5B126.92881397392811%2C%2037.558202848902%5D%2C%20%5B126.92872097190046%2C%2037.556034533941734%5D%2C%20%5B126.93898161798973%2C%2037.552310003728124%5D%2C%20%5B126.94314477022111%2C%2037.5536460848349%5D%2C%20%5B126.95916768398142%2C%2037.55468176051932%5D%2C%20%5B126.96080686210321%2C%2037.55386236039188%5D%2C%20%5B126.96358226710812%2C%2037.55605635475154%5D%2C%20%5B126.96519694864509%2C%2037.55362533505407%5D%2C%20%5B126.96380145704283%2C%2037.55254525759954%5D%2C%20%5B126.96448570553055%2C%2037.548705692021635%5D%2C%20%5B126.96604189284825%2C%2037.546894141748815%5D%2C%20%5B126.96401856825223%2C%2037.54584596959762%5D%2C%20%5B126.96231305253527%2C%2037.543511558047456%5D%2C%20%5B126.9605977865388%2C%2037.542661954880806%5D%2C%20%5B126.95926437828754%2C%2037.53897908363236%5D%2C%20%5B126.95340780191557%2C%2037.533494726370755%5D%2C%20%5B126.94717864071288%2C%2037.53213495568077%5D%2C%20%5B126.94566733083212%2C%2037.526617542453366%5D%2C%20%5B126.93680342222562%2C%2037.53344577095931%5D%2C%20%5B126.93132557924062%2C%2037.53415416375281%5D%2C%20%5B126.90829204147958%2C%2037.539206065016785%5D%2C%20%5B126.90281125423546%2C%2037.54133630026083%5D%2C%20%5B126.89184663862764%2C%2037.547373974997114%5D%2C%20%5B126.87997924964915%2C%2037.55510740490174%5D%2C%20%5B126.86837407967381%2C%2037.56309561411933%5D%2C%20%5B126.8604929702619%2C%2037.566825621733905%5D%2C%20%5B126.85950389772532%2C%2037.5682771531189%5D%2C%20%5B126.85984199399667%2C%2037.571847855292745%5D%2C%20%5B126.85993476176495%2C%2037.5728262143511%5D%2C%20%5B126.8638132887273%2C%2037.57306147014704%5D%2C%20%5B126.86560520354786%2C%2037.57385540098251%5D%2C%20%5B126.86766286078968%2C%2037.57269227137124%5D%2C%20%5B126.87008117117851%2C%2037.574598289168996%5D%2C%20%5B126.87282267062741%2C%2037.574956427500126%5D%2C%20%5B126.8779661566318%2C%2037.57680133323819%5D%2C%20%5B126.87918874599603%2C%2037.5796889248137%5D%2C%20%5B126.87876320682938%2C%2037.581327335058546%5D%2C%20%5B126.88107183862735%2C%2037.583788024645344%5D%2C%20%5B126.88237824849728%2C%2037.586847436468204%5D%2C%20%5B126.88433284773288%2C%2037.588143322880526%5D%2C%20%5B126.89150044994719%2C%2037.58202374305761%5D%2C%20%5B126.89532313269488%2C%2037.579420322822145%5D%2C%20%5B126.89738573904876%2C%2037.578668647687564%5D%2C%20%5B126.90023584510952%2C%2037.575506080437606%5D%2C%20%5B126.90373193212757%2C%2037.573123712282076%5D%2C%20%5B126.90522065831053%2C%2037.57409700522574%5D%5D%5D%2C%20%22type%22%3A%20%22Polygon%22%7D%2C%20%22properties%22%3A%20%7B%22base_year%22%3A%20%222013%22%2C%20%22code%22%3A%20%2211140%22%2C%20%22name%22%3A%20%22%5Cub9c8%5Cud3ec%5Cuad6c%22%2C%20%22name_eng%22%3A%20%22Mapo-gu%22%7D%2C%20%22type%22%3A%20%22Feature%22%7D%2C%20%7B%22geometry%22%3A%20%7B%22coordinates%22%3A%20%5B%5B%5B126.9524752030572%2C%2037.60508692737045%5D%2C%20%5B126.95480868778256%2C%2037.60381765067903%5D%2C%20%5B126.95564117002459%2C%2037.601827148276776%5D%2C%20%5B126.95484771718951%2C%2037.59761368186209%5D%2C%20%5B126.95619178283661%2C%2037.59575826218021%5D%2C%20%5B126.95924434840931%2C%2037.59545024466215%5D%2C%20%5B126.95842779914786%2C%2037.592356673207824%5D%2C%20%5B126.960424902266%2C%2037.58868913291801%5D%2C%20%5B126.96048802632431%2C%2037.587202077053746%5D%2C%20%5B126.95879970726017%2C%2037.58189826471162%5D%2C%20%5B126.96177754536156%2C%2037.57970124256911%5D%2C%20%5B126.95789326971087%2C%2037.57793453336025%5D%2C%20%5B126.95565425846463%2C%2037.576080790881456%5D%2C%20%5B126.96873633279075%2C%2037.56313604690827%5D%2C%20%5B126.97169209525231%2C%2037.55921654641677%5D%2C%20%5B126.96900073076728%2C%2037.55850929094393%5D%2C%20%5B126.96570855677983%2C%2037.556512377492325%5D%2C%20%5B126.96358226710812%2C%2037.55605635475154%5D%2C%20%5B126.96080686210321%2C%2037.55386236039188%5D%2C%20%5B126.95916768398142%2C%2037.55468176051932%5D%2C%20%5B126.94314477022111%2C%2037.5536460848349%5D%2C%20%5B126.93898161798973%2C%2037.552310003728124%5D%2C%20%5B126.92872097190046%2C%2037.556034533941734%5D%2C%20%5B126.92881397392811%2C%2037.558202848902%5D%2C%20%5B126.93034243306369%2C%2037.56054720372433%5D%2C%20%5B126.92778174854314%2C%2037.562495624023775%5D%2C%20%5B126.92189004506%2C%2037.56391798973296%5D%2C%20%5B126.90687243065778%2C%2037.57059762097416%5D%2C%20%5B126.90370105002282%2C%2037.57266722738834%5D%2C%20%5B126.90522065831053%2C%2037.57409700522574%5D%2C%20%5B126.91464724464083%2C%2037.583228529985455%5D%2C%20%5B126.91827498278953%2C%2037.58276881451649%5D%2C%20%5B126.91792000144513%2C%2037.58034997804668%5D%2C%20%5B126.92444169370404%2C%2037.581233899739914%5D%2C%20%5B126.92596484570709%2C%2037.58441659356971%5D%2C%20%5B126.9281697003186%2C%2037.584376616028365%5D%2C%20%5B126.9302171100533%2C%2037.58559126746845%5D%2C%20%5B126.92996402426377%2C%2037.58767009299767%5D%2C%20%5B126.93104958440722%2C%2037.58996937993664%5D%2C%20%5B126.93575441237547%2C%2037.593605788596975%5D%2C%20%5B126.94277481511082%2C%2037.59587806191211%5D%2C%20%5B126.94359054641505%2C%2037.60034871312552%5D%2C%20%5B126.94451473597087%2C%2037.60203195380752%5D%2C%20%5B126.94701525068315%2C%2037.602028095480975%5D%2C%20%5B126.94919787550161%2C%2037.60506379949065%5D%2C%20%5B126.9524752030572%2C%2037.60508692737045%5D%5D%5D%2C%20%22type%22%3A%20%22Polygon%22%7D%2C%20%22properties%22%3A%20%7B%22base_year%22%3A%20%222013%22%2C%20%22code%22%3A%20%2211130%22%2C%20%22name%22%3A%20%22%5Cuc11c%5Cub300%5Cubb38%5Cuad6c%22%2C%20%22name_eng%22%3A%20%22Seodaemun-gu%22%7D%2C%20%22type%22%3A%20%22Feature%22%7D%2C%20%7B%22geometry%22%3A%20%7B%22coordinates%22%3A%20%5B%5B%5B126.9738864128702%2C%2037.62949634786888%5D%2C%20%5B126.97135221665513%2C%2037.62743418897386%5D%2C%20%5B126.96164158910712%2C%2037.62569322976388%5D%2C%20%5B126.95885198650147%2C%2037.6225761621008%5D%2C%20%5B126.95427017006129%2C%2037.622033431339425%5D%2C%20%5B126.95393421039743%2C%2037.61877981567335%5D%2C%20%5B126.9528332649861%2C%2037.6161065117682%5D%2C%20%5B126.95145384404022%2C%2037.61493028446385%5D%2C%20%5B126.95249458941419%2C%2037.61333750249896%5D%2C%20%5B126.95308190738618%2C%2037.60926681659027%5D%2C%20%5B126.95187994741721%2C%2037.60600915874973%5D%2C%20%5B126.9524752030572%2C%2037.60508692737045%5D%2C%20%5B126.94919787550161%2C%2037.60506379949065%5D%2C%20%5B126.94701525068315%2C%2037.602028095480975%5D%2C%20%5B126.94451473597087%2C%2037.60203195380752%5D%2C%20%5B126.94359054641505%2C%2037.60034871312552%5D%2C%20%5B126.94277481511082%2C%2037.59587806191211%5D%2C%20%5B126.93575441237547%2C%2037.593605788596975%5D%2C%20%5B126.93104958440722%2C%2037.58996937993664%5D%2C%20%5B126.92996402426377%2C%2037.58767009299767%5D%2C%20%5B126.9302171100533%2C%2037.58559126746845%5D%2C%20%5B126.9281697003186%2C%2037.584376616028365%5D%2C%20%5B126.92596484570709%2C%2037.58441659356971%5D%2C%20%5B126.92444169370404%2C%2037.581233899739914%5D%2C%20%5B126.91792000144513%2C%2037.58034997804668%5D%2C%20%5B126.91827498278953%2C%2037.58276881451649%5D%2C%20%5B126.91464724464083%2C%2037.583228529985455%5D%2C%20%5B126.90522065831053%2C%2037.57409700522574%5D%2C%20%5B126.90373193212757%2C%2037.573123712282076%5D%2C%20%5B126.90023584510952%2C%2037.575506080437606%5D%2C%20%5B126.89738573904876%2C%2037.578668647687564%5D%2C%20%5B126.89532313269488%2C%2037.579420322822145%5D%2C%20%5B126.89150044994719%2C%2037.58202374305761%5D%2C%20%5B126.88433284773288%2C%2037.588143322880526%5D%2C%20%5B126.88715278104091%2C%2037.59100341655796%5D%2C%20%5B126.88936046370014%2C%2037.59099007316069%5D%2C%20%5B126.88753401663872%2C%2037.58829545592628%5D%2C%20%5B126.88935419108029%2C%2037.58580092310326%5D%2C%20%5B126.89349057571656%2C%2037.585662344444785%5D%2C%20%5B126.89532781702978%2C%2037.58637054299599%5D%2C%20%5B126.89905466698256%2C%2037.58582731337662%5D%2C%20%5B126.9019347597747%2C%2037.58707359614439%5D%2C%20%5B126.9010825805882%2C%2037.58986595756633%5D%2C%20%5B126.90396681003595%2C%2037.59227403419942%5D%2C%20%5B126.90321089756087%2C%2037.594542731935476%5D%2C%20%5B126.90358350094938%2C%2037.59657528019595%5D%2C%20%5B126.90235425214276%2C%2037.60036302950128%5D%2C%20%5B126.90417801431465%2C%2037.60102912046836%5D%2C%20%5B126.90396561274416%2C%2037.60721180273151%5D%2C%20%5B126.90303066177668%2C%2037.609977911401344%5D%2C%20%5B126.90548675623195%2C%2037.61601216482774%5D%2C%20%5B126.90721633741286%2C%2037.6164590533837%5D%2C%20%5B126.90935539569412%2C%2037.61912234588074%5D%2C%20%5B126.90852982623917%2C%2037.62123670148755%5D%2C%20%5B126.91081768678396%2C%2037.62338674837964%5D%2C%20%5B126.91117179533428%2C%2037.62562846875194%5D%2C%20%5B126.90862530043799%2C%2037.62973539928895%5D%2C%20%5B126.91295124779275%2C%2037.633086577991136%5D%2C%20%5B126.91232131977827%2C%2037.635879167956396%5D%2C%20%5B126.91380622398978%2C%2037.63822817856539%5D%2C%20%5B126.91455481429648%2C%2037.64150050996935%5D%2C%20%5B126.9097405206299%2C%2037.643548736416925%5D%2C%20%5B126.9104285840059%2C%2037.64469477594629%5D%2C%20%5B126.91598194662826%2C%2037.64192000919822%5D%2C%20%5B126.92335892549015%2C%2037.642768849393626%5D%2C%20%5B126.92751618877016%2C%2037.644656244616336%5D%2C%20%5B126.93099150738166%2C%2037.64717805899008%5D%2C%20%5B126.93658892420821%2C%2037.64777520545395%5D%2C%20%5B126.93914008753828%2C%2037.64914400014214%5D%2C%20%5B126.94248904852749%2C%2037.65384179343651%5D%2C%20%5B126.94571884127255%2C%2037.655369042036206%5D%2C%20%5B126.94940373004215%2C%2037.656145979585894%5D%2C%20%5B126.94982400027399%2C%2037.65461320918016%5D%2C%20%5B126.95334970767568%2C%2037.65216408903825%5D%2C%20%5B126.956473797387%2C%2037.652480737339445%5D%2C%20%5B126.9588647426878%2C%2037.6498628918019%5D%2C%20%5B126.95972824076269%2C%2037.64638504253487%5D%2C%20%5B126.96223689995006%2C%2037.64553441285544%5D%2C%20%5B126.96424221141602%2C%2037.64071627640099%5D%2C%20%5B126.96652025322855%2C%2037.640285044901944%5D%2C%20%5B126.97092373342322%2C%2037.63589354812246%5D%2C%20%5B126.97086605626453%2C%2037.633738820281394%5D%2C%20%5B126.9738864128702%2C%2037.62949634786888%5D%5D%5D%2C%20%22type%22%3A%20%22Polygon%22%7D%2C%20%22properties%22%3A%20%7B%22base_year%22%3A%20%222013%22%2C%20%22code%22%3A%20%2211120%22%2C%20%22name%22%3A%20%22%5Cuc740%5Cud3c9%5Cuad6c%22%2C%20%22name_eng%22%3A%20%22Eunpyeong-gu%22%7D%2C%20%22type%22%3A%20%22Feature%22%7D%2C%20%7B%22geometry%22%3A%20%7B%22coordinates%22%3A%20%5B%5B%5B127.10782277688129%2C%2037.61804244241069%5D%2C%20%5B127.10361952102048%2C%2037.61701182935077%5D%2C%20%5B127.10191523948123%2C%2037.61531698025357%5D%2C%20%5B127.09825969127313%2C%2037.61431077622918%5D%2C%20%5B127.09125855705382%2C%2037.61703046232404%5D%2C%20%5B127.08796048322492%2C%2037.617471883010936%5D%2C%20%5B127.08325130652017%2C%2037.61626773063051%5D%2C%20%5B127.07351243825278%2C%2037.61283660342313%5D%2C%20%5B127.07011594002495%2C%2037.6127769191002%5D%2C%20%5B127.06726783142085%2C%2037.61136014256744%5D%2C%20%5B127.06412260483201%2C%2037.6115839902766%5D%2C%20%5B127.05631594723272%2C%2037.61738373018764%5D%2C%20%5B127.05209373568619%2C%2037.62164065487782%5D%2C%20%5B127.04999984182327%2C%2037.62412061598568%5D%2C%20%5B127.04358800895609%2C%2037.62848931298715%5D%2C%20%5B127.046042857549%2C%2037.630647660209426%5D%2C%20%5B127.0471214260595%2C%2037.63407841321815%5D%2C%20%5B127.05227148282157%2C%2037.642016305290156%5D%2C%20%5B127.05704472959141%2C%2037.63797342537787%5D%2C%20%5B127.05800075220091%2C%2037.64318263878276%5D%2C%20%5B127.05640030258566%2C%2037.648142414223344%5D%2C%20%5B127.05620364700786%2C%2037.65295201497795%5D%2C%20%5B127.05366382763933%2C%2037.65780685245659%5D%2C%20%5B127.05343284205686%2C%2037.660866393548005%5D%2C%20%5B127.05093085431419%2C%2037.666308257661356%5D%2C%20%5B127.05124324520023%2C%2037.6703356616521%5D%2C%20%5B127.05259811896667%2C%2037.67463041579101%5D%2C%20%5B127.05402878877452%2C%2037.682018621183914%5D%2C%20%5B127.05288479710485%2C%2037.68423857084347%5D%2C%20%5B127.05673771202906%2C%2037.68650223136443%5D%2C%20%5B127.05893512852644%2C%2037.68678532745334%5D%2C%20%5B127.06366923747898%2C%2037.68598834805241%5D%2C%20%5B127.06722106517597%2C%2037.68706409219909%5D%2C%20%5B127.07150256171397%2C%2037.69158365999211%5D%2C%20%5B127.07502582169255%2C%2037.691675325399515%5D%2C%20%5B127.07945174893383%2C%2037.693602239076704%5D%2C%20%5B127.0838752703195%2C%2037.69359534202034%5D%2C%20%5B127.08640047239444%2C%2037.69122798275615%5D%2C%20%5B127.08834747450551%2C%2037.68753106067129%5D%2C%20%5B127.09706391309695%2C%2037.686383719372294%5D%2C%20%5B127.09839746601683%2C%2037.682954904948026%5D%2C%20%5B127.09481040538887%2C%2037.678799295731295%5D%2C%20%5B127.0939394572467%2C%2037.676403111386776%5D%2C%20%5B127.09572273018789%2C%2037.673837879820674%5D%2C%20%5B127.09657954289648%2C%2037.670746511824845%5D%2C%20%5B127.09767362583241%2C%2037.67002252402865%5D%2C%20%5B127.0980220884148%2C%2037.66742967749355%5D%2C%20%5B127.09621282296045%2C%2037.66347990019021%5D%2C%20%5B127.09845931549125%2C%2037.659077182069595%5D%2C%20%5B127.0978618070161%2C%2037.656734861475485%5D%2C%20%5B127.08845241642267%2C%2037.65271564775536%5D%2C%20%5B127.09496093471334%2C%2037.65209266377008%5D%2C%20%5B127.09618835483448%2C%2037.65001330395237%5D%2C%20%5B127.09440766298717%2C%2037.64713490473045%5D%2C%20%5B127.09686381732382%2C%2037.642772590812655%5D%2C%20%5B127.10024317327698%2C%2037.642337895238754%5D%2C%20%5B127.10266382494892%2C%2037.64291284604662%5D%2C%20%5B127.11014084969742%2C%2037.641850613893396%5D%2C%20%5B127.11406637789241%2C%2037.63742154695932%5D%2C%20%5B127.1144974746579%2C%2037.632439003890255%5D%2C%20%5B127.11309628774731%2C%2037.627803407908374%5D%2C%20%5B127.10737639048635%2C%2037.62412346388371%5D%2C%20%5B127.10736111050278%2C%2037.62243873312504%5D%2C%20%5B127.10561964188106%2C%2037.620112931875134%5D%2C%20%5B127.10782277688129%2C%2037.61804244241069%5D%5D%5D%2C%20%22type%22%3A%20%22Polygon%22%7D%2C%20%22properties%22%3A%20%7B%22base_year%22%3A%20%222013%22%2C%20%22code%22%3A%20%2211110%22%2C%20%22name%22%3A%20%22%5Cub178%5Cuc6d0%5Cuad6c%22%2C%20%22name_eng%22%3A%20%22Nowon-gu%22%7D%2C%20%22type%22%3A%20%22Feature%22%7D%2C%20%7B%22geometry%22%3A%20%7B%22coordinates%22%3A%20%5B%5B%5B127.05288479710485%2C%2037.68423857084347%5D%2C%20%5B127.05402878877452%2C%2037.682018621183914%5D%2C%20%5B127.05259811896667%2C%2037.67463041579101%5D%2C%20%5B127.05124324520023%2C%2037.6703356616521%5D%2C%20%5B127.05093085431419%2C%2037.666308257661356%5D%2C%20%5B127.05343284205686%2C%2037.660866393548005%5D%2C%20%5B127.05366382763933%2C%2037.65780685245659%5D%2C%20%5B127.05620364700786%2C%2037.65295201497795%5D%2C%20%5B127.05640030258566%2C%2037.648142414223344%5D%2C%20%5B127.05800075220091%2C%2037.64318263878276%5D%2C%20%5B127.05704472959141%2C%2037.63797342537787%5D%2C%20%5B127.05227148282157%2C%2037.642016305290156%5D%2C%20%5B127.0471214260595%2C%2037.63407841321815%5D%2C%20%5B127.046042857549%2C%2037.630647660209426%5D%2C%20%5B127.04358800895609%2C%2037.62848931298715%5D%2C%20%5B127.04058571489718%2C%2037.6311245692538%5D%2C%20%5B127.03905574421407%2C%2037.63395360172076%5D%2C%20%5B127.03660759925259%2C%2037.63506293914692%5D%2C%20%5B127.03477664182829%2C%2037.63884292238491%5D%2C%20%5B127.02950136469548%2C%2037.64228467033725%5D%2C%20%5B127.0265542519312%2C%2037.644688649276304%5D%2C%20%5B127.02233660280599%2C%2037.64628067142158%5D%2C%20%5B127.01772305897457%2C%2037.64631597694605%5D%2C%20%5B127.01534913067235%2C%2037.64765266597785%5D%2C%20%5B127.01465935892466%2C%2037.64943687496812%5D%2C%20%5B127.01599412132472%2C%2037.65623256113309%5D%2C%20%5B127.01726703299362%2C%2037.65880555518138%5D%2C%20%5B127.01776269066357%2C%2037.66391319760785%5D%2C%20%5B127.02062116141389%2C%2037.667173575971205%5D%2C%20%5B127.01873683359163%2C%2037.66988242479123%5D%2C%20%5B127.0159718440919%2C%2037.67258796420281%5D%2C%20%5B127.01401600772708%2C%2037.67653037200686%5D%2C%20%5B127.01073060671976%2C%2037.67694372299732%5D%2C%20%5B127.01039666042071%2C%2037.681894589603594%5D%2C%20%5B127.01103947380624%2C%2037.684405447624954%5D%2C%20%5B127.01017954927539%2C%2037.686333239654594%5D%2C%20%5B127.0109997247323%2C%2037.691942369792514%5D%2C%20%5B127.01405303313638%2C%2037.69546278140397%5D%2C%20%5B127.01645586375106%2C%2037.69548055092485%5D%2C%20%5B127.01802453368332%2C%2037.698275937456124%5D%2C%20%5B127.02143522814708%2C%2037.698589417759045%5D%2C%20%5B127.02419558273166%2C%2037.69682256792619%5D%2C%20%5B127.02700292435075%2C%2037.69665589205863%5D%2C%20%5B127.03018866626446%2C%2037.69776745888886%5D%2C%20%5B127.03132724235057%2C%2037.69621818994332%5D%2C%20%5B127.03183574218306%2C%2037.69340418484943%5D%2C%20%5B127.03328657751797%2C%2037.69010729962784%5D%2C%20%5B127.0345286215439%2C%2037.688986544260594%5D%2C%20%5B127.0379422140845%2C%2037.68943836856245%5D%2C%20%5B127.04383030416193%2C%2037.692565730249534%5D%2C%20%5B127.04510703173885%2C%2037.690951514278055%5D%2C%20%5B127.04772506731972%2C%2037.68962174626068%5D%2C%20%5B127.05108189294938%2C%2037.69116379209157%5D%2C%20%5B127.05288479710485%2C%2037.68423857084347%5D%5D%5D%2C%20%22type%22%3A%20%22Polygon%22%7D%2C%20%22properties%22%3A%20%7B%22base_year%22%3A%20%222013%22%2C%20%22code%22%3A%20%2211100%22%2C%20%22name%22%3A%20%22%5Cub3c4%5Cubd09%5Cuad6c%22%2C%20%22name_eng%22%3A%20%22Dobong-gu%22%7D%2C%20%22type%22%3A%20%22Feature%22%7D%2C%20%7B%22geometry%22%3A%20%7B%22coordinates%22%3A%20%5B%5B%5B127.01039666042071%2C%2037.681894589603594%5D%2C%20%5B127.01073060671976%2C%2037.67694372299732%5D%2C%20%5B127.01401600772708%2C%2037.67653037200686%5D%2C%20%5B127.0159718440919%2C%2037.67258796420281%5D%2C%20%5B127.01873683359163%2C%2037.66988242479123%5D%2C%20%5B127.02062116141389%2C%2037.667173575971205%5D%2C%20%5B127.01776269066357%2C%2037.66391319760785%5D%2C%20%5B127.01726703299362%2C%2037.65880555518138%5D%2C%20%5B127.01599412132472%2C%2037.65623256113309%5D%2C%20%5B127.01465935892466%2C%2037.64943687496812%5D%2C%20%5B127.01534913067235%2C%2037.64765266597785%5D%2C%20%5B127.01772305897457%2C%2037.64631597694605%5D%2C%20%5B127.02233660280599%2C%2037.64628067142158%5D%2C%20%5B127.0265542519312%2C%2037.644688649276304%5D%2C%20%5B127.02950136469548%2C%2037.64228467033725%5D%2C%20%5B127.03477664182829%2C%2037.63884292238491%5D%2C%20%5B127.03660759925259%2C%2037.63506293914692%5D%2C%20%5B127.03905574421407%2C%2037.63395360172076%5D%2C%20%5B127.04058571489718%2C%2037.6311245692538%5D%2C%20%5B127.04358800895609%2C%2037.62848931298715%5D%2C%20%5B127.04999984182327%2C%2037.62412061598568%5D%2C%20%5B127.05209373568619%2C%2037.62164065487782%5D%2C%20%5B127.04887981022048%2C%2037.61973841113549%5D%2C%20%5B127.0460676006384%2C%2037.615885647801704%5D%2C%20%5B127.0419720518426%2C%2037.612838591864076%5D%2C%20%5B127.03892400992301%2C%2037.609715611023816%5D%2C%20%5B127.03251659844592%2C%2037.60634705009134%5D%2C%20%5B127.03229982090541%2C%2037.609536104167034%5D%2C%20%5B127.02851994524015%2C%2037.60987827182396%5D%2C%20%5B127.02433990415497%2C%2037.60847763545628%5D%2C%20%5B127.02136282940177%2C%2037.610961475137174%5D%2C%20%5B127.01685658093551%2C%2037.61280115359516%5D%2C%20%5B127.0128154749523%2C%2037.613652243470256%5D%2C%20%5B127.01060611893628%2C%2037.615741236385354%5D%2C%20%5B127.00960949401902%2C%2037.61822603840364%5D%2C%20%5B127.00997935126598%2C%2037.62111906051553%5D%2C%20%5B127.00210238658002%2C%2037.622984514557714%5D%2C%20%5B126.99867431516041%2C%2037.626297613391166%5D%2C%20%5B126.99614706382866%2C%2037.62719717129899%5D%2C%20%5B126.99529660787617%2C%2037.62923863577322%5D%2C%20%5B126.9933714170822%2C%2037.62922019292486%5D%2C%20%5B126.9877052521691%2C%2037.63265610340949%5D%2C%20%5B126.98672705513869%2C%2037.63377641288196%5D%2C%20%5B126.98826481934299%2C%2037.637416984207924%5D%2C%20%5B126.98537069512379%2C%2037.64080296617396%5D%2C%20%5B126.987065858581%2C%2037.64320008084445%5D%2C%20%5B126.98580395043626%2C%2037.64699767714015%5D%2C%20%5B126.9832621473545%2C%2037.64947328029498%5D%2C%20%5B126.9817452676551%2C%2037.65209769387776%5D%2C%20%5B126.98205504313285%2C%2037.653797128044495%5D%2C%20%5B126.98709809733522%2C%2037.65651691642121%5D%2C%20%5B126.99031779354014%2C%2037.661013121145366%5D%2C%20%5B126.99494735642686%2C%2037.66223870806347%5D%2C%20%5B126.99581225370686%2C%2037.6651171428027%5D%2C%20%5B126.99622950422442%2C%2037.669428820661516%5D%2C%20%5B126.99506026831365%2C%2037.674827885285765%5D%2C%20%5B126.99384134064161%2C%2037.67665247641944%5D%2C%20%5B126.9959894573757%2C%2037.67754299691771%5D%2C%20%5B127.00000021675876%2C%2037.68100582640454%5D%2C%20%5B127.00566931208934%2C%2037.68228507374621%5D%2C%20%5B127.01039666042071%2C%2037.681894589603594%5D%5D%5D%2C%20%22type%22%3A%20%22Polygon%22%7D%2C%20%22properties%22%3A%20%7B%22base_year%22%3A%20%222013%22%2C%20%22code%22%3A%20%2211090%22%2C%20%22name%22%3A%20%22%5Cuac15%5Cubd81%5Cuad6c%22%2C%20%22name_eng%22%3A%20%22Gangbuk-gu%22%7D%2C%20%22type%22%3A%20%22Feature%22%7D%2C%20%7B%22geometry%22%3A%20%7B%22coordinates%22%3A%20%5B%5B%5B126.977175406416%2C%2037.62859715400388%5D%2C%20%5B126.9794090069433%2C%2037.63071544568365%5D%2C%20%5B126.98360012419735%2C%2037.631915771386076%5D%2C%20%5B126.98672705513869%2C%2037.63377641288196%5D%2C%20%5B126.9877052521691%2C%2037.63265610340949%5D%2C%20%5B126.9933714170822%2C%2037.62922019292486%5D%2C%20%5B126.99529660787617%2C%2037.62923863577322%5D%2C%20%5B126.99614706382866%2C%2037.62719717129899%5D%2C%20%5B126.99867431516041%2C%2037.626297613391166%5D%2C%20%5B127.00210238658002%2C%2037.622984514557714%5D%2C%20%5B127.00997935126598%2C%2037.62111906051553%5D%2C%20%5B127.00960949401902%2C%2037.61822603840364%5D%2C%20%5B127.01060611893628%2C%2037.615741236385354%5D%2C%20%5B127.0128154749523%2C%2037.613652243470256%5D%2C%20%5B127.01685658093551%2C%2037.61280115359516%5D%2C%20%5B127.02136282940177%2C%2037.610961475137174%5D%2C%20%5B127.02433990415497%2C%2037.60847763545628%5D%2C%20%5B127.02851994524015%2C%2037.60987827182396%5D%2C%20%5B127.03229982090541%2C%2037.609536104167034%5D%2C%20%5B127.03251659844592%2C%2037.60634705009134%5D%2C%20%5B127.03892400992301%2C%2037.609715611023816%5D%2C%20%5B127.0419720518426%2C%2037.612838591864076%5D%2C%20%5B127.0460676006384%2C%2037.615885647801704%5D%2C%20%5B127.04887981022048%2C%2037.61973841113549%5D%2C%20%5B127.05209373568619%2C%2037.62164065487782%5D%2C%20%5B127.05631594723272%2C%2037.61738373018764%5D%2C%20%5B127.06412260483201%2C%2037.6115839902766%5D%2C%20%5B127.06726783142085%2C%2037.61136014256744%5D%2C%20%5B127.07011594002495%2C%2037.6127769191002%5D%2C%20%5B127.07351243825278%2C%2037.61283660342313%5D%2C%20%5B127.07382707099227%2C%2037.60401928986419%5D%2C%20%5B127.07257736686556%2C%2037.60654335765868%5D%2C%20%5B127.07069716820665%2C%2037.60653037341939%5D%2C%20%5B127.07084342033339%2C%2037.60407877132597%5D%2C%20%5B127.06753185518703%2C%2037.602724214598744%5D%2C%20%5B127.06424828533608%2C%2037.60234356864383%5D%2C%20%5B127.0612685122857%2C%2037.59823077263369%5D%2C%20%5B127.059485363799%2C%2037.598743571420485%5D%2C%20%5B127.05413734593897%2C%2037.5971595374718%5D%2C%20%5B127.05238061017225%2C%2037.598312271275574%5D%2C%20%5B127.04975439355248%2C%2037.59349421284317%5D%2C%20%5B127.0461318196879%2C%2037.593514180513594%5D%2C%20%5B127.042705222094%2C%2037.59239437593391%5D%2C%20%5B127.04116895171082%2C%2037.58847599306138%5D%2C%20%5B127.0384945038446%2C%2037.587129138658426%5D%2C%20%5B127.03121630347839%2C%2037.57957997701485%5D%2C%20%5B127.02527254528003%2C%2037.57524616245249%5D%2C%20%5B127.02395698453867%2C%2037.576068086896726%5D%2C%20%5B127.02039107536422%2C%2037.575771872553595%5D%2C%20%5B127.01849412471284%2C%2037.57904760334465%5D%2C%20%5B127.01678966486051%2C%2037.57943162455397%5D%2C%20%5B127.01094467951529%2C%2037.57765758282494%5D%2C%20%5B127.00914513999258%2C%2037.57928387879304%5D%2C%20%5B127.00896672237498%2C%2037.582512606964876%5D%2C%20%5B127.00803641804285%2C%2037.5841154647404%5D%2C%20%5B127.00453322588274%2C%2037.58626325611708%5D%2C%20%5B127.00304474231643%2C%2037.58959898679736%5D%2C%20%5B126.99774058571116%2C%2037.58944568945197%5D%2C%20%5B126.99647930158565%2C%2037.58845217708608%5D%2C%20%5B126.99348293358314%2C%2037.588565457216156%5D%2C%20%5B126.98858114244759%2C%2037.58971272682123%5D%2C%20%5B126.98596926877026%2C%2037.59105697466976%5D%2C%20%5B126.98411250331745%2C%2037.59305007059415%5D%2C%20%5B126.98366752610544%2C%2037.596350797276386%5D%2C%20%5B126.98700989661556%2C%2037.59664611897289%5D%2C%20%5B126.98984276495587%2C%2037.59842301677683%5D%2C%20%5B126.9880021251863%2C%2037.60434406739665%5D%2C%20%5B126.98906118629816%2C%2037.60778324866486%5D%2C%20%5B126.98879865992384%2C%2037.6118927319756%5D%2C%20%5B126.9849070918475%2C%2037.61390303132951%5D%2C%20%5B126.98297129719916%2C%2037.61996223346171%5D%2C%20%5B126.98130955822086%2C%2037.621781567952816%5D%2C%20%5B126.98162508963613%2C%2037.626412913357804%5D%2C%20%5B126.97877284074367%2C%2037.62605559220399%5D%2C%20%5B126.977175406416%2C%2037.62859715400388%5D%5D%5D%2C%20%22type%22%3A%20%22Polygon%22%7D%2C%20%22properties%22%3A%20%7B%22base_year%22%3A%20%222013%22%2C%20%22code%22%3A%20%2211080%22%2C%20%22name%22%3A%20%22%5Cuc131%5Cubd81%5Cuad6c%22%2C%20%22name_eng%22%3A%20%22Seongbuk-gu%22%7D%2C%20%22type%22%3A%20%22Feature%22%7D%2C%20%7B%22geometry%22%3A%20%7B%22coordinates%22%3A%20%5B%5B%5B127.07351243825278%2C%2037.61283660342313%5D%2C%20%5B127.08325130652017%2C%2037.61626773063051%5D%2C%20%5B127.08796048322492%2C%2037.617471883010936%5D%2C%20%5B127.09125855705382%2C%2037.61703046232404%5D%2C%20%5B127.09825969127313%2C%2037.61431077622918%5D%2C%20%5B127.10191523948123%2C%2037.61531698025357%5D%2C%20%5B127.10361952102048%2C%2037.61701182935077%5D%2C%20%5B127.10782277688129%2C%2037.61804244241069%5D%2C%20%5B127.11345331993296%2C%2037.617863842655304%5D%2C%20%5B127.11916337651404%2C%2037.615000227833356%5D%2C%20%5B127.1187755615964%2C%2037.61339189160851%5D%2C%20%5B127.11970006573152%2C%2037.60891483985411%5D%2C%20%5B127.11876125411283%2C%2037.606109446640644%5D%2C%20%5B127.12043057261968%2C%2037.60482121408794%5D%2C%20%5B127.1201246020114%2C%2037.60178457598188%5D%2C%20%5B127.11594480655864%2C%2037.59717030173888%5D%2C%20%5B127.1161657841268%2C%2037.5962121213837%5D%2C%20%5B127.12048134936907%2C%2037.59221917979044%5D%2C%20%5B127.11993709114493%2C%2037.5912110652886%5D%2C%20%5B127.11547153661459%2C%2037.590528329194775%5D%2C%20%5B127.11264015185725%2C%2037.58640964166709%5D%2C%20%5B127.11144053497418%2C%2037.58186897928644%5D%2C%20%5B127.10355419751173%2C%2037.58101570870827%5D%2C%20%5B127.10488038804347%2C%2037.57896712496416%5D%2C%20%5B127.10478332632734%2C%2037.575507303239235%5D%2C%20%5B127.10316405057817%2C%2037.57293156986855%5D%2C%20%5B127.10304174249214%2C%2037.57076342290955%5D%2C%20%5B127.1015990771266%2C%2037.56973288819573%5D%2C%20%5B127.09327554832984%2C%2037.566762290300666%5D%2C%20%5B127.08553261581505%2C%2037.56856310839328%5D%2C%20%5B127.08068541280403%2C%2037.56906425519017%5D%2C%20%5B127.08029626481297%2C%2037.57521980955321%5D%2C%20%5B127.07912345005859%2C%2037.57855657914261%5D%2C%20%5B127.07327401376529%2C%2037.585954498442064%5D%2C%20%5B127.07152840437725%2C%2037.593413161750675%5D%2C%20%5B127.07216156147413%2C%2037.59537631888819%5D%2C%20%5B127.07457336676376%2C%2037.5983180561341%5D%2C%20%5B127.07481016030349%2C%2037.60000012932336%5D%2C%20%5B127.07382707099227%2C%2037.60401928986419%5D%2C%20%5B127.07351243825278%2C%2037.61283660342313%5D%5D%5D%2C%20%22type%22%3A%20%22Polygon%22%7D%2C%20%22properties%22%3A%20%7B%22base_year%22%3A%20%222013%22%2C%20%22code%22%3A%20%2211070%22%2C%20%22name%22%3A%20%22%5Cuc911%5Cub791%5Cuad6c%22%2C%20%22name_eng%22%3A%20%22Jungnang-gu%22%7D%2C%20%22type%22%3A%20%22Feature%22%7D%2C%20%7B%22geometry%22%3A%20%7B%22coordinates%22%3A%20%5B%5B%5B127.02527254528003%2C%2037.57524616245249%5D%2C%20%5B127.03121630347839%2C%2037.57957997701485%5D%2C%20%5B127.0384945038446%2C%2037.587129138658426%5D%2C%20%5B127.04116895171082%2C%2037.58847599306138%5D%2C%20%5B127.042705222094%2C%2037.59239437593391%5D%2C%20%5B127.0461318196879%2C%2037.593514180513594%5D%2C%20%5B127.04975439355248%2C%2037.59349421284317%5D%2C%20%5B127.05238061017225%2C%2037.598312271275574%5D%2C%20%5B127.05413734593897%2C%2037.5971595374718%5D%2C%20%5B127.059485363799%2C%2037.598743571420485%5D%2C%20%5B127.0612685122857%2C%2037.59823077263369%5D%2C%20%5B127.06424828533608%2C%2037.60234356864383%5D%2C%20%5B127.06753185518703%2C%2037.602724214598744%5D%2C%20%5B127.07084342033339%2C%2037.60407877132597%5D%2C%20%5B127.07069716820665%2C%2037.60653037341939%5D%2C%20%5B127.07257736686556%2C%2037.60654335765868%5D%2C%20%5B127.07382707099227%2C%2037.60401928986419%5D%2C%20%5B127.07481016030349%2C%2037.60000012932336%5D%2C%20%5B127.07457336676376%2C%2037.5983180561341%5D%2C%20%5B127.07216156147413%2C%2037.59537631888819%5D%2C%20%5B127.07152840437725%2C%2037.593413161750675%5D%2C%20%5B127.07327401376529%2C%2037.585954498442064%5D%2C%20%5B127.07912345005859%2C%2037.57855657914261%5D%2C%20%5B127.08029626481297%2C%2037.57521980955321%5D%2C%20%5B127.08068541280403%2C%2037.56906425519017%5D%2C%20%5B127.07421053024362%2C%2037.55724769712085%5D%2C%20%5B127.07287485628252%2C%2037.55777591771644%5D%2C%20%5B127.06151678590773%2C%2037.55942885203987%5D%2C%20%5B127.06031059899311%2C%2037.55992251180729%5D%2C%20%5B127.05005601081567%2C%2037.567577612590846%5D%2C%20%5B127.0442866611438%2C%2037.57022476304866%5D%2C%20%5B127.04003329296518%2C%2037.57010227772625%5D%2C%20%5B127.03483042272745%2C%2037.567549767306716%5D%2C%20%5B127.03182413083377%2C%2037.56712900013391%5D%2C%20%5B127.02547266349976%2C%2037.568943552237734%5D%2C%20%5B127.02527254528003%2C%2037.57524616245249%5D%5D%5D%2C%20%22type%22%3A%20%22Polygon%22%7D%2C%20%22properties%22%3A%20%7B%22base_year%22%3A%20%222013%22%2C%20%22code%22%3A%20%2211060%22%2C%20%22name%22%3A%20%22%5Cub3d9%5Cub300%5Cubb38%5Cuad6c%22%2C%20%22name_eng%22%3A%20%22Dongdaemun-gu%22%7D%2C%20%22type%22%3A%20%22Feature%22%7D%2C%20%7B%22geometry%22%3A%20%7B%22coordinates%22%3A%20%5B%5B%5B127.08068541280403%2C%2037.56906425519017%5D%2C%20%5B127.08553261581505%2C%2037.56856310839328%5D%2C%20%5B127.09327554832984%2C%2037.566762290300666%5D%2C%20%5B127.1015990771266%2C%2037.56973288819573%5D%2C%20%5B127.10304174249214%2C%2037.57076342290955%5D%2C%20%5B127.10627148043552%2C%2037.568124945986824%5D%2C%20%5B127.10545359063936%2C%2037.56685230388649%5D%2C%20%5B127.10407152037101%2C%2037.55958871940823%5D%2C%20%5B127.10325742736646%2C%2037.5572251707506%5D%2C%20%5B127.11270952006532%2C%2037.55702358575743%5D%2C%20%5B127.11519584981606%2C%2037.557533180704915%5D%2C%20%5B127.11600943681239%2C%2037.55580061507081%5D%2C%20%5B127.11600200349189%2C%2037.55053147511706%5D%2C%20%5B127.11418412219375%2C%2037.54474592090681%5D%2C%20%5B127.1116764203608%2C%2037.540669955324965%5D%2C%20%5B127.10484130265957%2C%2037.53120327509912%5D%2C%20%5B127.10087519791962%2C%2037.524841220167055%5D%2C%20%5B127.0943611414465%2C%2037.523984206117525%5D%2C%20%5B127.08639455667742%2C%2037.52161824624356%5D%2C%20%5B127.07968915919895%2C%2037.52077294752823%5D%2C%20%5B127.07496309841329%2C%2037.52091052765938%5D%2C%20%5B127.0690698130372%2C%2037.522279423505026%5D%2C%20%5B127.05867359288398%2C%2037.52629974922568%5D%2C%20%5B127.06896218881212%2C%2037.544361436565524%5D%2C%20%5B127.07580697427795%2C%2037.556641581290656%5D%2C%20%5B127.07421053024362%2C%2037.55724769712085%5D%2C%20%5B127.08068541280403%2C%2037.56906425519017%5D%5D%5D%2C%20%22type%22%3A%20%22Polygon%22%7D%2C%20%22properties%22%3A%20%7B%22base_year%22%3A%20%222013%22%2C%20%22code%22%3A%20%2211050%22%2C%20%22name%22%3A%20%22%5Cuad11%5Cuc9c4%5Cuad6c%22%2C%20%22name_eng%22%3A%20%22Gwangjin-gu%22%7D%2C%20%22type%22%3A%20%22Feature%22%7D%2C%20%7B%22geometry%22%3A%20%7B%22coordinates%22%3A%20%5B%5B%5B127.02547266349976%2C%2037.568943552237734%5D%2C%20%5B127.03182413083377%2C%2037.56712900013391%5D%2C%20%5B127.03483042272745%2C%2037.567549767306716%5D%2C%20%5B127.04003329296518%2C%2037.57010227772625%5D%2C%20%5B127.0442866611438%2C%2037.57022476304866%5D%2C%20%5B127.05005601081567%2C%2037.567577612590846%5D%2C%20%5B127.06031059899311%2C%2037.55992251180729%5D%2C%20%5B127.06151678590773%2C%2037.55942885203987%5D%2C%20%5B127.07287485628252%2C%2037.55777591771644%5D%2C%20%5B127.07421053024362%2C%2037.55724769712085%5D%2C%20%5B127.07580697427795%2C%2037.556641581290656%5D%2C%20%5B127.06896218881212%2C%2037.544361436565524%5D%2C%20%5B127.05867359288398%2C%2037.52629974922568%5D%2C%20%5B127.05116490008963%2C%2037.52975116557232%5D%2C%20%5B127.04903802830752%2C%2037.53140496708317%5D%2C%20%5B127.04806779588436%2C%2037.52970198575087%5D%2C%20%5B127.0319617044248%2C%2037.536064291470424%5D%2C%20%5B127.0269608080842%2C%2037.53484752757724%5D%2C%20%5B127.02302831890559%2C%2037.53231899582663%5D%2C%20%5B127.01689265453608%2C%2037.536101393926174%5D%2C%20%5B127.01157414590769%2C%2037.53677688273679%5D%2C%20%5B127.01043978345277%2C%2037.53905983303592%5D%2C%20%5B127.01070894177482%2C%2037.54118048964762%5D%2C%20%5B127.01172101406588%2C%2037.545252245650516%5D%2C%20%5B127.01376082027429%2C%2037.54571276061997%5D%2C%20%5B127.01889368846282%2C%2037.55057696424215%5D%2C%20%5B127.01951516360089%2C%2037.55318470254581%5D%2C%20%5B127.02174792168286%2C%2037.55473509405241%5D%2C%20%5B127.02496143707425%2C%2037.555070476260596%5D%2C%20%5B127.0257913546443%2C%2037.558352834264504%5D%2C%20%5B127.02836991434461%2C%2037.56019645010606%5D%2C%20%5B127.02881029425372%2C%2037.56219283885279%5D%2C%20%5B127.02571971403893%2C%2037.56237200595601%5D%2C%20%5B127.02547266349976%2C%2037.568943552237734%5D%5D%5D%2C%20%22type%22%3A%20%22Polygon%22%7D%2C%20%22properties%22%3A%20%7B%22base_year%22%3A%20%222013%22%2C%20%22code%22%3A%20%2211040%22%2C%20%22name%22%3A%20%22%5Cuc131%5Cub3d9%5Cuad6c%22%2C%20%22name_eng%22%3A%20%22Seongdong-gu%22%7D%2C%20%22type%22%3A%20%22Feature%22%7D%2C%20%7B%22geometry%22%3A%20%7B%22coordinates%22%3A%20%5B%5B%5B127.01070894177482%2C%2037.54118048964762%5D%2C%20%5B127.01043978345277%2C%2037.53905983303592%5D%2C%20%5B127.01157414590769%2C%2037.53677688273679%5D%2C%20%5B127.01689265453608%2C%2037.536101393926174%5D%2C%20%5B127.02302831890559%2C%2037.53231899582663%5D%2C%20%5B127.01397119667513%2C%2037.52503988289669%5D%2C%20%5B127.01022186960886%2C%2037.522020085671926%5D%2C%20%5B127.00818058911564%2C%2037.51877313923874%5D%2C%20%5B127.00583392114271%2C%2037.516905128452926%5D%2C%20%5B127.00011962020382%2C%2037.513901653034374%5D%2C%20%5B126.99148001917875%2C%2037.50990503427709%5D%2C%20%5B126.98948242685965%2C%2037.5108780134613%5D%2C%20%5B126.98458580602838%2C%2037.51070333105394%5D%2C%20%5B126.98223807916081%2C%2037.509314966770326%5D%2C%20%5B126.96670111119346%2C%2037.50997579058433%5D%2C%20%5B126.95950268374823%2C%2037.51249532165974%5D%2C%20%5B126.95551848909955%2C%2037.514736123015844%5D%2C%20%5B126.95249990298159%2C%2037.51722500741813%5D%2C%20%5B126.95003825019774%2C%2037.520781022055274%5D%2C%20%5B126.9488066464266%2C%2037.52424913252661%5D%2C%20%5B126.94566733083212%2C%2037.526617542453366%5D%2C%20%5B126.94717864071288%2C%2037.53213495568077%5D%2C%20%5B126.95340780191557%2C%2037.533494726370755%5D%2C%20%5B126.95926437828754%2C%2037.53897908363236%5D%2C%20%5B126.9605977865388%2C%2037.542661954880806%5D%2C%20%5B126.96231305253527%2C%2037.543511558047456%5D%2C%20%5B126.96401856825223%2C%2037.54584596959762%5D%2C%20%5B126.96604189284825%2C%2037.546894141748815%5D%2C%20%5B126.96448570553055%2C%2037.548705692021635%5D%2C%20%5B126.96782902931233%2C%2037.55132047039716%5D%2C%20%5B126.97427174983227%2C%2037.55109017579016%5D%2C%20%5B126.97859017732588%2C%2037.550336476582174%5D%2C%20%5B126.97925452152829%2C%2037.552184137181925%5D%2C%20%5B126.98262900956787%2C%2037.5506055959842%5D%2C%20%5B126.98584427779701%2C%2037.55023778139842%5D%2C%20%5B126.98752996903328%2C%2037.55094818807139%5D%2C%20%5B126.9899124474417%2C%2037.54869376545355%5D%2C%20%5B126.99238536723166%2C%2037.54862980831976%5D%2C%20%5B126.99742220893982%2C%2037.544438365587226%5D%2C%20%5B127.00062378484931%2C%2037.54713274618077%5D%2C%20%5B127.00478682371764%2C%2037.54680216333233%5D%2C%20%5B127.00632779182564%2C%2037.54757707053058%5D%2C%20%5B127.00694507580798%2C%2037.5433832956489%5D%2C%20%5B127.00936066823724%2C%2037.54101133407434%5D%2C%20%5B127.01070894177482%2C%2037.54118048964762%5D%5D%5D%2C%20%22type%22%3A%20%22Polygon%22%7D%2C%20%22properties%22%3A%20%7B%22base_year%22%3A%20%222013%22%2C%20%22code%22%3A%20%2211030%22%2C%20%22name%22%3A%20%22%5Cuc6a9%5Cuc0b0%5Cuad6c%22%2C%20%22name_eng%22%3A%20%22Yongsan-gu%22%7D%2C%20%22type%22%3A%20%22Feature%22%7D%2C%20%7B%22geometry%22%3A%20%7B%22coordinates%22%3A%20%5B%5B%5B127.02547266349976%2C%2037.568943552237734%5D%2C%20%5B127.02571971403893%2C%2037.56237200595601%5D%2C%20%5B127.02881029425372%2C%2037.56219283885279%5D%2C%20%5B127.02836991434461%2C%2037.56019645010606%5D%2C%20%5B127.0257913546443%2C%2037.558352834264504%5D%2C%20%5B127.02496143707425%2C%2037.555070476260596%5D%2C%20%5B127.02174792168286%2C%2037.55473509405241%5D%2C%20%5B127.01951516360089%2C%2037.55318470254581%5D%2C%20%5B127.01889368846282%2C%2037.55057696424215%5D%2C%20%5B127.01376082027429%2C%2037.54571276061997%5D%2C%20%5B127.01172101406588%2C%2037.545252245650516%5D%2C%20%5B127.01070894177482%2C%2037.54118048964762%5D%2C%20%5B127.00936066823724%2C%2037.54101133407434%5D%2C%20%5B127.00694507580798%2C%2037.5433832956489%5D%2C%20%5B127.00632779182564%2C%2037.54757707053058%5D%2C%20%5B127.00478682371764%2C%2037.54680216333233%5D%2C%20%5B127.00062378484931%2C%2037.54713274618077%5D%2C%20%5B126.99742220893982%2C%2037.544438365587226%5D%2C%20%5B126.99238536723166%2C%2037.54862980831976%5D%2C%20%5B126.9899124474417%2C%2037.54869376545355%5D%2C%20%5B126.98752996903328%2C%2037.55094818807139%5D%2C%20%5B126.98584427779701%2C%2037.55023778139842%5D%2C%20%5B126.98262900956787%2C%2037.5506055959842%5D%2C%20%5B126.97925452152829%2C%2037.552184137181925%5D%2C%20%5B126.97859017732588%2C%2037.550336476582174%5D%2C%20%5B126.97427174983227%2C%2037.55109017579016%5D%2C%20%5B126.96782902931233%2C%2037.55132047039716%5D%2C%20%5B126.96448570553055%2C%2037.548705692021635%5D%2C%20%5B126.96380145704283%2C%2037.55254525759954%5D%2C%20%5B126.96519694864509%2C%2037.55362533505407%5D%2C%20%5B126.96358226710812%2C%2037.55605635475154%5D%2C%20%5B126.96570855677983%2C%2037.556512377492325%5D%2C%20%5B126.96900073076728%2C%2037.55850929094393%5D%2C%20%5B126.97169209525231%2C%2037.55921654641677%5D%2C%20%5B126.96873633279075%2C%2037.56313604690827%5D%2C%20%5B126.97114791678374%2C%2037.56539818101368%5D%2C%20%5B126.97500684322326%2C%2037.566406971064836%5D%2C%20%5B126.97990305661519%2C%2037.5664536437083%5D%2C%20%5B126.9910070921652%2C%2037.565312022428806%5D%2C%20%5B126.99879870609924%2C%2037.56591346564579%5D%2C%20%5B127.00372480409301%2C%2037.56679519621814%5D%2C%20%5B127.01786686709805%2C%2037.56701276414023%5D%2C%20%5B127.02250839667563%2C%2037.56892943928301%5D%2C%20%5B127.02547266349976%2C%2037.568943552237734%5D%5D%5D%2C%20%22type%22%3A%20%22Polygon%22%7D%2C%20%22properties%22%3A%20%7B%22base_year%22%3A%20%222013%22%2C%20%22code%22%3A%20%2211020%22%2C%20%22name%22%3A%20%22%5Cuc911%5Cuad6c%22%2C%20%22name_eng%22%3A%20%22Jung-gu%22%7D%2C%20%22type%22%3A%20%22Feature%22%7D%2C%20%7B%22geometry%22%3A%20%7B%22coordinates%22%3A%20%5B%5B%5B126.9738864128702%2C%2037.62949634786888%5D%2C%20%5B126.977175406416%2C%2037.62859715400388%5D%2C%20%5B126.97877284074367%2C%2037.62605559220399%5D%2C%20%5B126.98162508963613%2C%2037.626412913357804%5D%2C%20%5B126.98130955822086%2C%2037.621781567952816%5D%2C%20%5B126.98297129719916%2C%2037.61996223346171%5D%2C%20%5B126.9849070918475%2C%2037.61390303132951%5D%2C%20%5B126.98879865992384%2C%2037.6118927319756%5D%2C%20%5B126.98906118629816%2C%2037.60778324866486%5D%2C%20%5B126.9880021251863%2C%2037.60434406739665%5D%2C%20%5B126.98984276495587%2C%2037.59842301677683%5D%2C%20%5B126.98700989661556%2C%2037.59664611897289%5D%2C%20%5B126.98366752610544%2C%2037.596350797276386%5D%2C%20%5B126.98411250331745%2C%2037.59305007059415%5D%2C%20%5B126.98596926877026%2C%2037.59105697466976%5D%2C%20%5B126.98858114244759%2C%2037.58971272682123%5D%2C%20%5B126.99348293358314%2C%2037.588565457216156%5D%2C%20%5B126.99647930158565%2C%2037.58845217708608%5D%2C%20%5B126.99774058571116%2C%2037.58944568945197%5D%2C%20%5B127.00304474231643%2C%2037.58959898679736%5D%2C%20%5B127.00453322588274%2C%2037.58626325611708%5D%2C%20%5B127.00803641804285%2C%2037.5841154647404%5D%2C%20%5B127.00896672237498%2C%2037.582512606964876%5D%2C%20%5B127.00914513999258%2C%2037.57928387879304%5D%2C%20%5B127.01094467951529%2C%2037.57765758282494%5D%2C%20%5B127.01678966486051%2C%2037.57943162455397%5D%2C%20%5B127.01849412471284%2C%2037.57904760334465%5D%2C%20%5B127.02039107536422%2C%2037.575771872553595%5D%2C%20%5B127.02395698453867%2C%2037.576068086896726%5D%2C%20%5B127.02527254528003%2C%2037.57524616245249%5D%2C%20%5B127.02547266349976%2C%2037.568943552237734%5D%2C%20%5B127.02250839667563%2C%2037.56892943928301%5D%2C%20%5B127.01786686709805%2C%2037.56701276414023%5D%2C%20%5B127.00372480409301%2C%2037.56679519621814%5D%2C%20%5B126.99879870609924%2C%2037.56591346564579%5D%2C%20%5B126.9910070921652%2C%2037.565312022428806%5D%2C%20%5B126.97990305661519%2C%2037.5664536437083%5D%2C%20%5B126.97500684322326%2C%2037.566406971064836%5D%2C%20%5B126.97114791678374%2C%2037.56539818101368%5D%2C%20%5B126.96873633279075%2C%2037.56313604690827%5D%2C%20%5B126.95565425846463%2C%2037.576080790881456%5D%2C%20%5B126.95789326971087%2C%2037.57793453336025%5D%2C%20%5B126.96177754536156%2C%2037.57970124256911%5D%2C%20%5B126.95879970726017%2C%2037.58189826471162%5D%2C%20%5B126.96048802632431%2C%2037.587202077053746%5D%2C%20%5B126.960424902266%2C%2037.58868913291801%5D%2C%20%5B126.95842779914786%2C%2037.592356673207824%5D%2C%20%5B126.95924434840931%2C%2037.59545024466215%5D%2C%20%5B126.95619178283661%2C%2037.59575826218021%5D%2C%20%5B126.95484771718951%2C%2037.59761368186209%5D%2C%20%5B126.95564117002459%2C%2037.601827148276776%5D%2C%20%5B126.95480868778256%2C%2037.60381765067903%5D%2C%20%5B126.9524752030572%2C%2037.60508692737045%5D%2C%20%5B126.95187994741721%2C%2037.60600915874973%5D%2C%20%5B126.95308190738618%2C%2037.60926681659027%5D%2C%20%5B126.95249458941419%2C%2037.61333750249896%5D%2C%20%5B126.95145384404022%2C%2037.61493028446385%5D%2C%20%5B126.9528332649861%2C%2037.6161065117682%5D%2C%20%5B126.95393421039743%2C%2037.61877981567335%5D%2C%20%5B126.95427017006129%2C%2037.622033431339425%5D%2C%20%5B126.95885198650147%2C%2037.6225761621008%5D%2C%20%5B126.96164158910712%2C%2037.62569322976388%5D%2C%20%5B126.97135221665513%2C%2037.62743418897386%5D%2C%20%5B126.9738864128702%2C%2037.62949634786888%5D%5D%5D%2C%20%22type%22%3A%20%22Polygon%22%7D%2C%20%22properties%22%3A%20%7B%22base_year%22%3A%20%222013%22%2C%20%22code%22%3A%20%2211010%22%2C%20%22name%22%3A%20%22%5Cuc885%5Cub85c%5Cuad6c%22%2C%20%22name_eng%22%3A%20%22Jongno-gu%22%7D%2C%20%22type%22%3A%20%22Feature%22%7D%5D%2C%20%22type%22%3A%20%22FeatureCollection%22%7D%29%3B%0A%0A%20%20%20%20%20%20%20%20%0A%20%20%20%20%0A%20%20%20%20var%20color_map_911747f7fc2f456b9c00c51f8c4b7a14%20%3D%20%7B%7D%3B%0A%0A%20%20%20%20%0A%20%20%20%20color_map_911747f7fc2f456b9c00c51f8c4b7a14.color%20%3D%20d3.scale.threshold%28%29%0A%20%20%20%20%20%20%20%20%20%20%20%20%20%20.domain%28%5B39.55902306648575%2C%2039.58681932342908%2C%2039.61461558037241%2C%2039.64241183731574%2C%2039.67020809425907%2C%2039.6980043512024%2C%2039.725800608145725%2C%2039.75359686508906%2C%2039.781393122032384%2C%2039.80918937897572%2C%2039.83698563591904%2C%2039.864781892862375%2C%2039.8925781498057%2C%2039.92037440674903%2C%2039.94817066369236%2C%2039.97596692063569%2C%2040.00376317757902%2C%2040.03155943452235%2C%2040.05935569146568%2C%2040.08715194840901%2C%2040.11494820535234%2C%2040.14274446229567%2C%2040.170540719239%2C%2040.198336976182325%2C%2040.22613323312566%2C%2040.253929490068984%2C%2040.28172574701232%2C%2040.30952200395564%2C%2040.337318260898975%2C%2040.3651145178423%2C%2040.39291077478563%2C%2040.42070703172896%2C%2040.44850328867229%2C%2040.47629954561562%2C%2040.50409580255895%2C%2040.53189205950228%2C%2040.55968831644561%2C%2040.58748457338894%2C%2040.61528083033227%2C%2040.6430770872756%2C%2040.670873344218926%2C%2040.69866960116226%2C%2040.726465858105584%2C%2040.75426211504892%2C%2040.78205837199224%2C%2040.809854628935575%2C%2040.8376508858789%2C%2040.865447142822234%2C%2040.89324339976556%2C%2040.92103965670889%2C%2040.94883591365222%2C%2040.97663217059555%2C%2041.00442842753888%2C%2041.03222468448221%2C%2041.06002094142554%2C%2041.08781719836887%2C%2041.1156134553122%2C%2041.143409712255526%2C%2041.17120596919886%2C%2041.199002226142184%2C%2041.22679848308552%2C%2041.25459474002884%2C%2041.282390996972175%2C%2041.3101872539155%2C%2041.337983510858834%2C%2041.36577976780216%2C%2041.39357602474549%2C%2041.42137228168882%2C%2041.44916853863215%2C%2041.47696479557548%2C%2041.50476105251881%2C%2041.53255730946214%2C%2041.56035356640547%2C%2041.5881498233488%2C%2041.615946080292126%2C%2041.64374233723546%2C%2041.671538594178784%2C%2041.69933485112212%2C%2041.72713110806544%2C%2041.754927365008776%2C%2041.7827236219521%2C%2041.810519878895434%2C%2041.83831613583876%2C%2041.86611239278209%2C%2041.89390864972542%2C%2041.92170490666875%2C%2041.949501163612084%2C%2041.97729742055541%2C%2042.00509367749874%2C%2042.03288993444207%2C%2042.0606861913854%2C%2042.088482448328726%2C%2042.11627870527206%2C%2042.144074962215385%2C%2042.17187121915872%2C%2042.19966747610204%2C%2042.227463733045376%2C%2042.2552599899887%2C%2042.283056246932034%2C%2042.31085250387536%2C%2042.33864876081869%2C%2042.36644501776202%2C%2042.39424127470535%2C%2042.42203753164868%2C%2042.44983378859201%2C%2042.47763004553534%2C%2042.50542630247867%2C%2042.533222559422%2C%2042.561018816365326%2C%2042.58881507330866%2C%2042.616611330251985%2C%2042.64440758719532%2C%2042.67220384413864%2C%2042.700000101081976%2C%2042.7277963580253%2C%2042.755592614968634%2C%2042.78338887191196%2C%2042.81118512885529%2C%2042.83898138579862%2C%2042.86677764274195%2C%2042.894573899685284%2C%2042.92237015662861%2C%2042.950166413571935%2C%2042.97796267051527%2C%2043.0057589274586%2C%2043.033555184401926%2C%2043.06135144134526%2C%2043.089147698288585%2C%2043.11694395523192%2C%2043.14474021217524%2C%2043.172536469118576%2C%2043.2003327260619%2C%2043.228128983005234%2C%2043.25592523994856%2C%2043.28372149689189%2C%2043.31151775383522%2C%2043.33931401077855%2C%2043.367110267721884%2C%2043.39490652466521%2C%2043.42270278160854%2C%2043.45049903855187%2C%2043.4782952954952%2C%2043.50609155243853%2C%2043.53388780938186%2C%2043.561684066325185%2C%2043.58948032326852%2C%2043.61727658021184%2C%2043.645072837155176%2C%2043.6728690940985%2C%2043.700665351041835%2C%2043.72846160798516%2C%2043.75625786492849%2C%2043.78405412187182%2C%2043.81185037881515%2C%2043.839646635758484%2C%2043.86744289270181%2C%2043.895239149645136%2C%2043.92303540658847%2C%2043.9508316635318%2C%2043.97862792047513%2C%2044.00642417741846%2C%2044.034220434361785%2C%2044.06201669130512%2C%2044.08981294824844%2C%2044.117609205191776%2C%2044.1454054621351%2C%2044.173201719078435%2C%2044.20099797602176%2C%2044.22879423296509%2C%2044.25659048990842%2C%2044.28438674685175%2C%2044.312183003795084%2C%2044.33997926073841%2C%2044.36777551768174%2C%2044.39557177462507%2C%2044.4233680315684%2C%2044.45116428851173%2C%2044.47896054545506%2C%2044.506756802398385%2C%2044.53455305934172%2C%2044.562349316285044%2C%2044.59014557322838%2C%2044.6179418301717%2C%2044.645738087115035%2C%2044.67353434405836%2C%2044.70133060100169%2C%2044.72912685794502%2C%2044.75692311488835%2C%2044.78471937183168%2C%2044.81251562877501%2C%2044.840311885718336%2C%2044.86810814266167%2C%2044.895904399605%2C%2044.92370065654833%2C%2044.95149691349166%2C%2044.979293170434985%2C%2045.00708942737832%2C%2045.034885684321644%2C%2045.06268194126498%2C%2045.0904781982083%2C%2045.118274455151635%2C%2045.14607071209496%2C%2045.17386696903829%2C%2045.20166322598162%2C%2045.22945948292495%2C%2045.257255739868285%2C%2045.28505199681161%2C%2045.312848253754936%2C%2045.34064451069827%2C%2045.3684407676416%2C%2045.39623702458493%2C%2045.42403328152826%2C%2045.451829538471586%2C%2045.47962579541492%2C%2045.507422052358244%2C%2045.53521830930158%2C%2045.5630145662449%2C%2045.590810823188235%2C%2045.61860708013156%2C%2045.646403337074894%2C%2045.67419959401822%2C%2045.70199585096155%2C%2045.729792107904885%2C%2045.75758836484821%2C%2045.78538462179154%2C%2045.81318087873487%2C%2045.8409771356782%2C%2045.86877339262153%2C%2045.89656964956486%2C%2045.924365906508186%2C%2045.95216216345152%2C%2045.979958420394844%2C%2046.00775467733818%2C%2046.0355509342815%2C%2046.063347191224835%2C%2046.09114344816816%2C%2046.118939705111494%2C%2046.14673596205482%2C%2046.17453221899815%2C%2046.20232847594148%2C%2046.23012473288481%2C%2046.257920989828136%2C%2046.28571724677147%2C%2046.3135135037148%2C%2046.34130976065813%2C%2046.36910601760146%2C%2046.396902274544786%2C%2046.42469853148812%2C%2046.452494788431444%2C%2046.48029104537478%2C%2046.5080873023181%2C%2046.535883559261435%2C%2046.56367981620476%2C%2046.591476073148094%2C%2046.61927233009142%2C%2046.64706858703475%2C%2046.674864843978085%2C%2046.70266110092141%2C%2046.730457357864736%2C%2046.75825361480807%2C%2046.7860498717514%2C%2046.81384612869473%2C%2046.84164238563806%2C%2046.869438642581386%2C%2046.89723489952472%2C%2046.925031156468044%2C%2046.95282741341138%2C%2046.9806236703547%2C%2047.008419927298036%2C%2047.03621618424136%2C%2047.064012441184694%2C%2047.09180869812802%2C%2047.11960495507135%2C%2047.147401212014685%2C%2047.17519746895801%2C%2047.20299372590134%2C%2047.23078998284467%2C%2047.258586239788%2C%2047.28638249673133%2C%2047.31417875367466%2C%2047.341975010617986%2C%2047.36977126756132%2C%2047.397567524504645%2C%2047.42536378144798%2C%2047.4531600383913%2C%2047.480956295334636%2C%2047.50875255227796%2C%2047.536548809221294%2C%2047.56434506616462%2C%2047.59214132310795%2C%2047.619937580051285%2C%2047.64773383699461%2C%2047.67553009393794%2C%2047.70332635088127%2C%2047.7311226078246%2C%2047.75891886476793%2C%2047.78671512171126%2C%2047.814511378654586%2C%2047.84230763559792%2C%2047.870103892541245%2C%2047.89790014948458%2C%2047.9256964064279%2C%2047.953492663371236%2C%2047.98128892031456%2C%2048.009085177257894%2C%2048.03688143420122%2C%2048.06467769114455%2C%2048.092473948087886%2C%2048.12027020503121%2C%2048.14806646197454%2C%2048.17586271891787%2C%2048.2036589758612%2C%2048.23145523280453%2C%2048.259251489747854%2C%2048.28704774669119%2C%2048.31484400363452%2C%2048.342640260577845%2C%2048.37043651752118%2C%2048.3982327744645%2C%2048.426029031407836%2C%2048.45382528835116%2C%2048.481621545294495%2C%2048.50941780223782%2C%2048.53721405918115%2C%2048.56501031612448%2C%2048.59280657306781%2C%2048.62060283001114%2C%2048.64839908695447%2C%2048.6761953438978%2C%2048.70399160084113%2C%2048.731787857784454%2C%2048.75958411472779%2C%2048.78738037167112%2C%2048.815176628614445%2C%2048.84297288555778%2C%2048.8707691425011%2C%2048.898565399444436%2C%2048.92636165638776%2C%2048.954157913331095%2C%2048.98195417027442%2C%2049.00975042721775%2C%2049.037546684161086%2C%2049.06534294110441%2C%2049.09313919804774%2C%2049.12093545499107%2C%2049.1487317119344%2C%2049.17652796887773%2C%2049.20432422582106%2C%2049.23212048276439%2C%2049.25991673970772%2C%2049.287712996651045%2C%2049.31550925359438%2C%2049.343305510537704%2C%2049.371101767481036%2C%2049.39889802442436%2C%2049.426694281367695%2C%2049.45449053831102%2C%2049.48228679525435%2C%2049.510083052197686%2C%2049.53787930914101%2C%2049.56567556608434%2C%2049.59347182302767%2C%2049.621268079971%2C%2049.64906433691433%2C%2049.676860593857654%2C%2049.70465685080099%2C%2049.73245310774432%2C%2049.760249364687645%2C%2049.78804562163098%2C%2049.815841878574304%2C%2049.84363813551764%2C%2049.87143439246096%2C%2049.899230649404295%2C%2049.92702690634762%2C%2049.95482316329095%2C%2049.98261942023428%2C%2050.01041567717761%2C%2050.03821193412094%2C%2050.06600819106427%2C%2050.0938044480076%2C%2050.12160070495093%2C%2050.149396961894254%2C%2050.17719321883759%2C%2050.20498947578092%2C%2050.232785732724246%2C%2050.26058198966758%2C%2050.288378246610904%2C%2050.31617450355424%2C%2050.34397076049756%2C%2050.371767017440895%2C%2050.39956327438422%2C%2050.427359531327554%2C%2050.455155788270886%2C%2050.48295204521421%2C%2050.51074830215754%2C%2050.53854455910087%2C%2050.5663408160442%2C%2050.59413707298753%2C%2050.62193332993086%2C%2050.64972958687419%2C%2050.67752584381752%2C%2050.705322100760846%2C%2050.73311835770418%2C%2050.760914614647504%2C%2050.78871087159084%2C%2050.81650712853416%2C%2050.844303385477495%2C%2050.87209964242082%2C%2050.899895899364154%2C%2050.92769215630749%2C%2050.95548841325081%2C%2050.98328467019414%2C%2051.01108092713747%2C%2051.0388771840808%2C%2051.06667344102413%2C%2051.094469697967455%2C%2051.12226595491079%2C%2051.15006221185412%2C%2051.177858468797446%2C%2051.20565472574078%2C%2051.233450982684104%2C%2051.26124723962744%2C%2051.28904349657076%2C%2051.316839753514095%2C%2051.34463601045742%2C%2051.372432267400754%2C%2051.40022852434408%2C%2051.42802478128741%2C%2051.45582103823074%2C%2051.48361729517407%2C%2051.5114135521174%2C%2051.53920980906073%2C%2051.567006066004055%2C%2051.59480232294739%2C%2051.62259857989072%2C%2051.650394836834046%2C%2051.67819109377738%2C%2051.705987350720704%2C%2051.73378360766404%2C%2051.76157986460736%2C%2051.789376121550696%2C%2051.81717237849402%2C%2051.844968635437354%2C%2051.87276489238069%2C%2051.90056114932401%2C%2051.92835740626734%2C%2051.95615366321067%2C%2051.983949920154004%2C%2052.01174617709733%2C%2052.03954243404066%2C%2052.06733869098399%2C%2052.09513494792732%2C%2052.122931204870646%2C%2052.15072746181397%2C%2052.178523718757305%2C%2052.20631997570064%2C%2052.23411623264396%2C%2052.261912489587296%2C%2052.28970874653062%2C%2052.317505003473954%2C%2052.34530126041729%2C%2052.37309751736061%2C%2052.40089377430394%2C%2052.42869003124727%2C%2052.456486288190604%2C%2052.48428254513393%2C%2052.512078802077255%2C%2052.53987505902059%2C%2052.56767131596392%2C%2052.595467572907246%2C%2052.62326382985058%2C%2052.651060086793905%2C%2052.67885634373724%2C%2052.70665260068056%2C%2052.734448857623896%2C%2052.76224511456722%2C%2052.790041371510554%2C%2052.81783762845388%2C%2052.84563388539721%2C%2052.87343014234054%2C%2052.90122639928387%2C%2052.929022656227204%2C%2052.95681891317053%2C%2052.984615170113855%2C%2053.01241142705719%2C%2053.04020768400052%2C%2053.068003940943846%2C%2053.09580019788717%2C%2053.123596454830505%2C%2053.15139271177384%2C%2053.17918896871716%2C%2053.206985225660496%2C%2053.23478148260382%2C%2053.262577739547154%2C%2053.29037399649048%2C%2053.31817025343381%2C%2053.34596651037714%2C%2053.37376276732047%2C%2053.401559024263804%2C%2053.42935528120713%5D%29%0A%20%20%20%20%20%20%20%20%20%20%20%20%20%20.range%28%5B%27%23ffffb2ff%27%2C%20%27%23ffffb2ff%27%2C%20%27%23ffffb2ff%27%2C%20%27%23ffffb2ff%27%2C%20%27%23ffffb2ff%27%2C%20%27%23ffffb2ff%27%2C%20%27%23ffffb2ff%27%2C%20%27%23ffffb2ff%27%2C%20%27%23ffffb2ff%27%2C%20%27%23ffffb2ff%27%2C%20%27%23ffffb2ff%27%2C%20%27%23ffffb2ff%27%2C%20%27%23ffffb2ff%27%2C%20%27%23ffffb2ff%27%2C%20%27%23ffffb2ff%27%2C%20%27%23ffffb2ff%27%2C%20%27%23ffffb2ff%27%2C%20%27%23ffffb2ff%27%2C%20%27%23ffffb2ff%27%2C%20%27%23ffffb2ff%27%2C%20%27%23ffffb2ff%27%2C%20%27%23ffffb2ff%27%2C%20%27%23ffffb2ff%27%2C%20%27%23ffffb2ff%27%2C%20%27%23ffffb2ff%27%2C%20%27%23ffffb2ff%27%2C%20%27%23ffffb2ff%27%2C%20%27%23ffffb2ff%27%2C%20%27%23ffffb2ff%27%2C%20%27%23ffffb2ff%27%2C%20%27%23ffffb2ff%27%2C%20%27%23ffffb2ff%27%2C%20%27%23ffffb2ff%27%2C%20%27%23ffffb2ff%27%2C%20%27%23ffffb2ff%27%2C%20%27%23ffffb2ff%27%2C%20%27%23ffffb2ff%27%2C%20%27%23ffffb2ff%27%2C%20%27%23ffffb2ff%27%2C%20%27%23ffffb2ff%27%2C%20%27%23ffffb2ff%27%2C%20%27%23ffffb2ff%27%2C%20%27%23ffffb2ff%27%2C%20%27%23ffffb2ff%27%2C%20%27%23ffffb2ff%27%2C%20%27%23ffffb2ff%27%2C%20%27%23ffffb2ff%27%2C%20%27%23ffffb2ff%27%2C%20%27%23ffffb2ff%27%2C%20%27%23ffffb2ff%27%2C%20%27%23ffffb2ff%27%2C%20%27%23ffffb2ff%27%2C%20%27%23ffffb2ff%27%2C%20%27%23ffffb2ff%27%2C%20%27%23ffffb2ff%27%2C%20%27%23ffffb2ff%27%2C%20%27%23ffffb2ff%27%2C%20%27%23ffffb2ff%27%2C%20%27%23ffffb2ff%27%2C%20%27%23ffffb2ff%27%2C%20%27%23ffffb2ff%27%2C%20%27%23ffffb2ff%27%2C%20%27%23ffffb2ff%27%2C%20%27%23ffffb2ff%27%2C%20%27%23ffffb2ff%27%2C%20%27%23ffffb2ff%27%2C%20%27%23ffffb2ff%27%2C%20%27%23ffffb2ff%27%2C%20%27%23ffffb2ff%27%2C%20%27%23ffffb2ff%27%2C%20%27%23ffffb2ff%27%2C%20%27%23ffffb2ff%27%2C%20%27%23ffffb2ff%27%2C%20%27%23ffffb2ff%27%2C%20%27%23ffffb2ff%27%2C%20%27%23ffffb2ff%27%2C%20%27%23ffffb2ff%27%2C%20%27%23ffffb2ff%27%2C%20%27%23ffffb2ff%27%2C%20%27%23ffffb2ff%27%2C%20%27%23ffffb2ff%27%2C%20%27%23ffffb2ff%27%2C%20%27%23ffffb2ff%27%2C%20%27%23ffffb2ff%27%2C%20%27%23fed976ff%27%2C%20%27%23fed976ff%27%2C%20%27%23fed976ff%27%2C%20%27%23fed976ff%27%2C%20%27%23fed976ff%27%2C%20%27%23fed976ff%27%2C%20%27%23fed976ff%27%2C%20%27%23fed976ff%27%2C%20%27%23fed976ff%27%2C%20%27%23fed976ff%27%2C%20%27%23fed976ff%27%2C%20%27%23fed976ff%27%2C%20%27%23fed976ff%27%2C%20%27%23fed976ff%27%2C%20%27%23fed976ff%27%2C%20%27%23fed976ff%27%2C%20%27%23fed976ff%27%2C%20%27%23fed976ff%27%2C%20%27%23fed976ff%27%2C%20%27%23fed976ff%27%2C%20%27%23fed976ff%27%2C%20%27%23fed976ff%27%2C%20%27%23fed976ff%27%2C%20%27%23fed976ff%27%2C%20%27%23fed976ff%27%2C%20%27%23fed976ff%27%2C%20%27%23fed976ff%27%2C%20%27%23fed976ff%27%2C%20%27%23fed976ff%27%2C%20%27%23fed976ff%27%2C%20%27%23fed976ff%27%2C%20%27%23fed976ff%27%2C%20%27%23fed976ff%27%2C%20%27%23fed976ff%27%2C%20%27%23fed976ff%27%2C%20%27%23fed976ff%27%2C%20%27%23fed976ff%27%2C%20%27%23fed976ff%27%2C%20%27%23fed976ff%27%2C%20%27%23fed976ff%27%2C%20%27%23fed976ff%27%2C%20%27%23fed976ff%27%2C%20%27%23fed976ff%27%2C%20%27%23fed976ff%27%2C%20%27%23fed976ff%27%2C%20%27%23fed976ff%27%2C%20%27%23fed976ff%27%2C%20%27%23fed976ff%27%2C%20%27%23fed976ff%27%2C%20%27%23fed976ff%27%2C%20%27%23fed976ff%27%2C%20%27%23fed976ff%27%2C%20%27%23fed976ff%27%2C%20%27%23fed976ff%27%2C%20%27%23fed976ff%27%2C%20%27%23fed976ff%27%2C%20%27%23fed976ff%27%2C%20%27%23fed976ff%27%2C%20%27%23fed976ff%27%2C%20%27%23fed976ff%27%2C%20%27%23fed976ff%27%2C%20%27%23fed976ff%27%2C%20%27%23fed976ff%27%2C%20%27%23fed976ff%27%2C%20%27%23fed976ff%27%2C%20%27%23fed976ff%27%2C%20%27%23fed976ff%27%2C%20%27%23fed976ff%27%2C%20%27%23fed976ff%27%2C%20%27%23fed976ff%27%2C%20%27%23fed976ff%27%2C%20%27%23fed976ff%27%2C%20%27%23fed976ff%27%2C%20%27%23fed976ff%27%2C%20%27%23fed976ff%27%2C%20%27%23fed976ff%27%2C%20%27%23fed976ff%27%2C%20%27%23fed976ff%27%2C%20%27%23fed976ff%27%2C%20%27%23fed976ff%27%2C%20%27%23fed976ff%27%2C%20%27%23fed976ff%27%2C%20%27%23fed976ff%27%2C%20%27%23feb24cff%27%2C%20%27%23feb24cff%27%2C%20%27%23feb24cff%27%2C%20%27%23feb24cff%27%2C%20%27%23feb24cff%27%2C%20%27%23feb24cff%27%2C%20%27%23feb24cff%27%2C%20%27%23feb24cff%27%2C%20%27%23feb24cff%27%2C%20%27%23feb24cff%27%2C%20%27%23feb24cff%27%2C%20%27%23feb24cff%27%2C%20%27%23feb24cff%27%2C%20%27%23feb24cff%27%2C%20%27%23feb24cff%27%2C%20%27%23feb24cff%27%2C%20%27%23feb24cff%27%2C%20%27%23feb24cff%27%2C%20%27%23feb24cff%27%2C%20%27%23feb24cff%27%2C%20%27%23feb24cff%27%2C%20%27%23feb24cff%27%2C%20%27%23feb24cff%27%2C%20%27%23feb24cff%27%2C%20%27%23feb24cff%27%2C%20%27%23feb24cff%27%2C%20%27%23feb24cff%27%2C%20%27%23feb24cff%27%2C%20%27%23feb24cff%27%2C%20%27%23feb24cff%27%2C%20%27%23feb24cff%27%2C%20%27%23feb24cff%27%2C%20%27%23feb24cff%27%2C%20%27%23feb24cff%27%2C%20%27%23feb24cff%27%2C%20%27%23feb24cff%27%2C%20%27%23feb24cff%27%2C%20%27%23feb24cff%27%2C%20%27%23feb24cff%27%2C%20%27%23feb24cff%27%2C%20%27%23feb24cff%27%2C%20%27%23feb24cff%27%2C%20%27%23feb24cff%27%2C%20%27%23feb24cff%27%2C%20%27%23feb24cff%27%2C%20%27%23feb24cff%27%2C%20%27%23feb24cff%27%2C%20%27%23feb24cff%27%2C%20%27%23feb24cff%27%2C%20%27%23feb24cff%27%2C%20%27%23feb24cff%27%2C%20%27%23feb24cff%27%2C%20%27%23feb24cff%27%2C%20%27%23feb24cff%27%2C%20%27%23feb24cff%27%2C%20%27%23feb24cff%27%2C%20%27%23feb24cff%27%2C%20%27%23feb24cff%27%2C%20%27%23feb24cff%27%2C%20%27%23feb24cff%27%2C%20%27%23feb24cff%27%2C%20%27%23feb24cff%27%2C%20%27%23feb24cff%27%2C%20%27%23feb24cff%27%2C%20%27%23feb24cff%27%2C%20%27%23feb24cff%27%2C%20%27%23feb24cff%27%2C%20%27%23feb24cff%27%2C%20%27%23feb24cff%27%2C%20%27%23feb24cff%27%2C%20%27%23feb24cff%27%2C%20%27%23feb24cff%27%2C%20%27%23feb24cff%27%2C%20%27%23feb24cff%27%2C%20%27%23feb24cff%27%2C%20%27%23feb24cff%27%2C%20%27%23feb24cff%27%2C%20%27%23feb24cff%27%2C%20%27%23feb24cff%27%2C%20%27%23feb24cff%27%2C%20%27%23feb24cff%27%2C%20%27%23feb24cff%27%2C%20%27%23feb24cff%27%2C%20%27%23fd8d3cff%27%2C%20%27%23fd8d3cff%27%2C%20%27%23fd8d3cff%27%2C%20%27%23fd8d3cff%27%2C%20%27%23fd8d3cff%27%2C%20%27%23fd8d3cff%27%2C%20%27%23fd8d3cff%27%2C%20%27%23fd8d3cff%27%2C%20%27%23fd8d3cff%27%2C%20%27%23fd8d3cff%27%2C%20%27%23fd8d3cff%27%2C%20%27%23fd8d3cff%27%2C%20%27%23fd8d3cff%27%2C%20%27%23fd8d3cff%27%2C%20%27%23fd8d3cff%27%2C%20%27%23fd8d3cff%27%2C%20%27%23fd8d3cff%27%2C%20%27%23fd8d3cff%27%2C%20%27%23fd8d3cff%27%2C%20%27%23fd8d3cff%27%2C%20%27%23fd8d3cff%27%2C%20%27%23fd8d3cff%27%2C%20%27%23fd8d3cff%27%2C%20%27%23fd8d3cff%27%2C%20%27%23fd8d3cff%27%2C%20%27%23fd8d3cff%27%2C%20%27%23fd8d3cff%27%2C%20%27%23fd8d3cff%27%2C%20%27%23fd8d3cff%27%2C%20%27%23fd8d3cff%27%2C%20%27%23fd8d3cff%27%2C%20%27%23fd8d3cff%27%2C%20%27%23fd8d3cff%27%2C%20%27%23fd8d3cff%27%2C%20%27%23fd8d3cff%27%2C%20%27%23fd8d3cff%27%2C%20%27%23fd8d3cff%27%2C%20%27%23fd8d3cff%27%2C%20%27%23fd8d3cff%27%2C%20%27%23fd8d3cff%27%2C%20%27%23fd8d3cff%27%2C%20%27%23fd8d3cff%27%2C%20%27%23fd8d3cff%27%2C%20%27%23fd8d3cff%27%2C%20%27%23fd8d3cff%27%2C%20%27%23fd8d3cff%27%2C%20%27%23fd8d3cff%27%2C%20%27%23fd8d3cff%27%2C%20%27%23fd8d3cff%27%2C%20%27%23fd8d3cff%27%2C%20%27%23fd8d3cff%27%2C%20%27%23fd8d3cff%27%2C%20%27%23fd8d3cff%27%2C%20%27%23fd8d3cff%27%2C%20%27%23fd8d3cff%27%2C%20%27%23fd8d3cff%27%2C%20%27%23fd8d3cff%27%2C%20%27%23fd8d3cff%27%2C%20%27%23fd8d3cff%27%2C%20%27%23fd8d3cff%27%2C%20%27%23fd8d3cff%27%2C%20%27%23fd8d3cff%27%2C%20%27%23fd8d3cff%27%2C%20%27%23fd8d3cff%27%2C%20%27%23fd8d3cff%27%2C%20%27%23fd8d3cff%27%2C%20%27%23fd8d3cff%27%2C%20%27%23fd8d3cff%27%2C%20%27%23fd8d3cff%27%2C%20%27%23fd8d3cff%27%2C%20%27%23fd8d3cff%27%2C%20%27%23fd8d3cff%27%2C%20%27%23fd8d3cff%27%2C%20%27%23fd8d3cff%27%2C%20%27%23fd8d3cff%27%2C%20%27%23fd8d3cff%27%2C%20%27%23fd8d3cff%27%2C%20%27%23fd8d3cff%27%2C%20%27%23fd8d3cff%27%2C%20%27%23fd8d3cff%27%2C%20%27%23fd8d3cff%27%2C%20%27%23fd8d3cff%27%2C%20%27%23fd8d3cff%27%2C%20%27%23f03b20ff%27%2C%20%27%23f03b20ff%27%2C%20%27%23f03b20ff%27%2C%20%27%23f03b20ff%27%2C%20%27%23f03b20ff%27%2C%20%27%23f03b20ff%27%2C%20%27%23f03b20ff%27%2C%20%27%23f03b20ff%27%2C%20%27%23f03b20ff%27%2C%20%27%23f03b20ff%27%2C%20%27%23f03b20ff%27%2C%20%27%23f03b20ff%27%2C%20%27%23f03b20ff%27%2C%20%27%23f03b20ff%27%2C%20%27%23f03b20ff%27%2C%20%27%23f03b20ff%27%2C%20%27%23f03b20ff%27%2C%20%27%23f03b20ff%27%2C%20%27%23f03b20ff%27%2C%20%27%23f03b20ff%27%2C%20%27%23f03b20ff%27%2C%20%27%23f03b20ff%27%2C%20%27%23f03b20ff%27%2C%20%27%23f03b20ff%27%2C%20%27%23f03b20ff%27%2C%20%27%23f03b20ff%27%2C%20%27%23f03b20ff%27%2C%20%27%23f03b20ff%27%2C%20%27%23f03b20ff%27%2C%20%27%23f03b20ff%27%2C%20%27%23f03b20ff%27%2C%20%27%23f03b20ff%27%2C%20%27%23f03b20ff%27%2C%20%27%23f03b20ff%27%2C%20%27%23f03b20ff%27%2C%20%27%23f03b20ff%27%2C%20%27%23f03b20ff%27%2C%20%27%23f03b20ff%27%2C%20%27%23f03b20ff%27%2C%20%27%23f03b20ff%27%2C%20%27%23f03b20ff%27%2C%20%27%23f03b20ff%27%2C%20%27%23f03b20ff%27%2C%20%27%23f03b20ff%27%2C%20%27%23f03b20ff%27%2C%20%27%23f03b20ff%27%2C%20%27%23f03b20ff%27%2C%20%27%23f03b20ff%27%2C%20%27%23f03b20ff%27%2C%20%27%23f03b20ff%27%2C%20%27%23f03b20ff%27%2C%20%27%23f03b20ff%27%2C%20%27%23f03b20ff%27%2C%20%27%23f03b20ff%27%2C%20%27%23f03b20ff%27%2C%20%27%23f03b20ff%27%2C%20%27%23f03b20ff%27%2C%20%27%23f03b20ff%27%2C%20%27%23f03b20ff%27%2C%20%27%23f03b20ff%27%2C%20%27%23f03b20ff%27%2C%20%27%23f03b20ff%27%2C%20%27%23f03b20ff%27%2C%20%27%23f03b20ff%27%2C%20%27%23f03b20ff%27%2C%20%27%23f03b20ff%27%2C%20%27%23f03b20ff%27%2C%20%27%23f03b20ff%27%2C%20%27%23f03b20ff%27%2C%20%27%23f03b20ff%27%2C%20%27%23f03b20ff%27%2C%20%27%23f03b20ff%27%2C%20%27%23f03b20ff%27%2C%20%27%23f03b20ff%27%2C%20%27%23f03b20ff%27%2C%20%27%23f03b20ff%27%2C%20%27%23f03b20ff%27%2C%20%27%23f03b20ff%27%2C%20%27%23f03b20ff%27%2C%20%27%23f03b20ff%27%2C%20%27%23f03b20ff%27%2C%20%27%23f03b20ff%27%2C%20%27%23f03b20ff%27%2C%20%27%23bd0026ff%27%2C%20%27%23bd0026ff%27%2C%20%27%23bd0026ff%27%2C%20%27%23bd0026ff%27%2C%20%27%23bd0026ff%27%2C%20%27%23bd0026ff%27%2C%20%27%23bd0026ff%27%2C%20%27%23bd0026ff%27%2C%20%27%23bd0026ff%27%2C%20%27%23bd0026ff%27%2C%20%27%23bd0026ff%27%2C%20%27%23bd0026ff%27%2C%20%27%23bd0026ff%27%2C%20%27%23bd0026ff%27%2C%20%27%23bd0026ff%27%2C%20%27%23bd0026ff%27%2C%20%27%23bd0026ff%27%2C%20%27%23bd0026ff%27%2C%20%27%23bd0026ff%27%2C%20%27%23bd0026ff%27%2C%20%27%23bd0026ff%27%2C%20%27%23bd0026ff%27%2C%20%27%23bd0026ff%27%2C%20%27%23bd0026ff%27%2C%20%27%23bd0026ff%27%2C%20%27%23bd0026ff%27%2C%20%27%23bd0026ff%27%2C%20%27%23bd0026ff%27%2C%20%27%23bd0026ff%27%2C%20%27%23bd0026ff%27%2C%20%27%23bd0026ff%27%2C%20%27%23bd0026ff%27%2C%20%27%23bd0026ff%27%2C%20%27%23bd0026ff%27%2C%20%27%23bd0026ff%27%2C%20%27%23bd0026ff%27%2C%20%27%23bd0026ff%27%2C%20%27%23bd0026ff%27%2C%20%27%23bd0026ff%27%2C%20%27%23bd0026ff%27%2C%20%27%23bd0026ff%27%2C%20%27%23bd0026ff%27%2C%20%27%23bd0026ff%27%2C%20%27%23bd0026ff%27%2C%20%27%23bd0026ff%27%2C%20%27%23bd0026ff%27%2C%20%27%23bd0026ff%27%2C%20%27%23bd0026ff%27%2C%20%27%23bd0026ff%27%2C%20%27%23bd0026ff%27%2C%20%27%23bd0026ff%27%2C%20%27%23bd0026ff%27%2C%20%27%23bd0026ff%27%2C%20%27%23bd0026ff%27%2C%20%27%23bd0026ff%27%2C%20%27%23bd0026ff%27%2C%20%27%23bd0026ff%27%2C%20%27%23bd0026ff%27%2C%20%27%23bd0026ff%27%2C%20%27%23bd0026ff%27%2C%20%27%23bd0026ff%27%2C%20%27%23bd0026ff%27%2C%20%27%23bd0026ff%27%2C%20%27%23bd0026ff%27%2C%20%27%23bd0026ff%27%2C%20%27%23bd0026ff%27%2C%20%27%23bd0026ff%27%2C%20%27%23bd0026ff%27%2C%20%27%23bd0026ff%27%2C%20%27%23bd0026ff%27%2C%20%27%23bd0026ff%27%2C%20%27%23bd0026ff%27%2C%20%27%23bd0026ff%27%2C%20%27%23bd0026ff%27%2C%20%27%23bd0026ff%27%2C%20%27%23bd0026ff%27%2C%20%27%23bd0026ff%27%2C%20%27%23bd0026ff%27%2C%20%27%23bd0026ff%27%2C%20%27%23bd0026ff%27%2C%20%27%23bd0026ff%27%2C%20%27%23bd0026ff%27%2C%20%27%23bd0026ff%27%2C%20%27%23bd0026ff%27%5D%29%3B%0A%20%20%20%20%0A%0A%20%20%20%20color_map_911747f7fc2f456b9c00c51f8c4b7a14.x%20%3D%20d3.scale.linear%28%29%0A%20%20%20%20%20%20%20%20%20%20%20%20%20%20.domain%28%5B39.55902306648575%2C%2053.42935528120713%5D%29%0A%20%20%20%20%20%20%20%20%20%20%20%20%20%20.range%28%5B0%2C%20400%5D%29%3B%0A%0A%20%20%20%20color_map_911747f7fc2f456b9c00c51f8c4b7a14.legend%20%3D%20L.control%28%7Bposition%3A%20%27topright%27%7D%29%3B%0A%20%20%20%20color_map_911747f7fc2f456b9c00c51f8c4b7a14.legend.onAdd%20%3D%20function%20%28map%29%20%7Bvar%20div%20%3D%20L.DomUtil.create%28%27div%27%2C%20%27legend%27%29%3B%20return%20div%7D%3B%0A%20%20%20%20color_map_911747f7fc2f456b9c00c51f8c4b7a14.legend.addTo%28map_e2619d05067546b889c2e3baf759fbae%29%3B%0A%0A%20%20%20%20color_map_911747f7fc2f456b9c00c51f8c4b7a14.xAxis%20%3D%20d3.svg.axis%28%29%0A%20%20%20%20%20%20%20%20.scale%28color_map_911747f7fc2f456b9c00c51f8c4b7a14.x%29%0A%20%20%20%20%20%20%20%20.orient%28%22top%22%29%0A%20%20%20%20%20%20%20%20.tickSize%281%29%0A%20%20%20%20%20%20%20%20.tickValues%28%5B39.55902306648575%2C%2041.87074510227265%2C%2044.18246713805954%2C%2046.494189173846436%2C%2048.80591120963334%2C%2051.11763324542024%2C%2053.42935528120713%5D%29%3B%0A%0A%20%20%20%20color_map_911747f7fc2f456b9c00c51f8c4b7a14.svg%20%3D%20d3.select%28%22.legend.leaflet-control%22%29.append%28%22svg%22%29%0A%20%20%20%20%20%20%20%20.attr%28%22id%22%2C%20%27legend%27%29%0A%20%20%20%20%20%20%20%20.attr%28%22width%22%2C%20450%29%0A%20%20%20%20%20%20%20%20.attr%28%22height%22%2C%2040%29%3B%0A%0A%20%20%20%20color_map_911747f7fc2f456b9c00c51f8c4b7a14.g%20%3D%20color_map_911747f7fc2f456b9c00c51f8c4b7a14.svg.append%28%22g%22%29%0A%20%20%20%20%20%20%20%20.attr%28%22class%22%2C%20%22key%22%29%0A%20%20%20%20%20%20%20%20.attr%28%22transform%22%2C%20%22translate%2825%2C16%29%22%29%3B%0A%0A%20%20%20%20color_map_911747f7fc2f456b9c00c51f8c4b7a14.g.selectAll%28%22rect%22%29%0A%20%20%20%20%20%20%20%20.data%28color_map_911747f7fc2f456b9c00c51f8c4b7a14.color.range%28%29.map%28function%28d%2C%20i%29%20%7B%0A%20%20%20%20%20%20%20%20%20%20return%20%7B%0A%20%20%20%20%20%20%20%20%20%20%20%20x0%3A%20i%20%3F%20color_map_911747f7fc2f456b9c00c51f8c4b7a14.x%28color_map_911747f7fc2f456b9c00c51f8c4b7a14.color.domain%28%29%5Bi%20-%201%5D%29%20%3A%20color_map_911747f7fc2f456b9c00c51f8c4b7a14.x.range%28%29%5B0%5D%2C%0A%20%20%20%20%20%20%20%20%20%20%20%20x1%3A%20i%20%3C%20color_map_911747f7fc2f456b9c00c51f8c4b7a14.color.domain%28%29.length%20%3F%20color_map_911747f7fc2f456b9c00c51f8c4b7a14.x%28color_map_911747f7fc2f456b9c00c51f8c4b7a14.color.domain%28%29%5Bi%5D%29%20%3A%20color_map_911747f7fc2f456b9c00c51f8c4b7a14.x.range%28%29%5B1%5D%2C%0A%20%20%20%20%20%20%20%20%20%20%20%20z%3A%20d%0A%20%20%20%20%20%20%20%20%20%20%7D%3B%0A%20%20%20%20%20%20%20%20%7D%29%29%0A%20%20%20%20%20%20.enter%28%29.append%28%22rect%22%29%0A%20%20%20%20%20%20%20%20.attr%28%22height%22%2C%2010%29%0A%20%20%20%20%20%20%20%20.attr%28%22x%22%2C%20function%28d%29%20%7B%20return%20d.x0%3B%20%7D%29%0A%20%20%20%20%20%20%20%20.attr%28%22width%22%2C%20function%28d%29%20%7B%20return%20d.x1%20-%20d.x0%3B%20%7D%29%0A%20%20%20%20%20%20%20%20.style%28%22fill%22%2C%20function%28d%29%20%7B%20return%20d.z%3B%20%7D%29%3B%0A%0A%20%20%20%20color_map_911747f7fc2f456b9c00c51f8c4b7a14.g.call%28color_map_911747f7fc2f456b9c00c51f8c4b7a14.xAxis%29.append%28%22text%22%29%0A%20%20%20%20%20%20%20%20.attr%28%22class%22%2C%20%22caption%22%29%0A%20%20%20%20%20%20%20%20.attr%28%22y%22%2C%2021%29%0A%20%20%20%20%20%20%20%20.text%28%27PM10%27%29%3B%0A%20%20%20%20%0A%20%20%20%20%20%20%20%20%20%20%20%20var%20marker_d1314eafbd544bc78b4fb95f1d31a1f1%20%3D%20L.marker%28%0A%20%20%20%20%20%20%20%20%20%20%20%20%20%20%20%20%5B37.54603534421011%2C%20127.1485551047795%5D%2C%0A%20%20%20%20%20%20%20%20%20%20%20%20%20%20%20%20%7B%7D%0A%20%20%20%20%20%20%20%20%20%20%20%20%29.addTo%28map_e2619d05067546b889c2e3baf759fbae%29%3B%0A%20%20%20%20%20%20%20%20%0A%20%20%20%20%0A%20%20%20%20%20%20%20%20%20%20%20%20var%20icon_22f48dc4907b4431a8825dcb43e2fff7%20%3D%20L.AwesomeMarkers.icon%28%0A%20%20%20%20%20%20%20%20%20%20%20%20%20%20%20%20%7B%22extraClasses%22%3A%20%22fa-rotate-0%22%2C%20%22icon%22%3A%20%22info-sign%22%2C%20%22iconColor%22%3A%20%22white%22%2C%20%22markerColor%22%3A%20%22green%22%2C%20%22prefix%22%3A%20%22glyphicon%22%7D%0A%20%20%20%20%20%20%20%20%20%20%20%20%29%3B%0A%20%20%20%20%20%20%20%20%20%20%20%20marker_d1314eafbd544bc78b4fb95f1d31a1f1.setIcon%28icon_22f48dc4907b4431a8825dcb43e2fff7%29%3B%0A%20%20%20%20%20%20%20%20%0A%20%20%20%20%0A%20%20%20%20%20%20%20%20var%20popup_ecafc9b29b8248c692bf2538665f9149%20%3D%20L.popup%28%7B%22maxWidth%22%3A%20%22100%25%22%7D%29%3B%0A%0A%20%20%20%20%20%20%20%20%0A%20%20%20%20%20%20%20%20%20%20%20%20var%20html_61b48c853d414178a402350d9143714c%20%3D%20%24%28%60%3Cdiv%20id%3D%22html_61b48c853d414178a402350d9143714c%22%20style%3D%22width%3A%20100.0%25%3B%20height%3A%20100.0%25%3B%22%3E%EA%B0%95%EB%8F%99%EA%B5%AC%3C/div%3E%60%29%5B0%5D%3B%0A%20%20%20%20%20%20%20%20%20%20%20%20popup_ecafc9b29b8248c692bf2538665f9149.setContent%28html_61b48c853d414178a402350d9143714c%29%3B%0A%20%20%20%20%20%20%20%20%0A%0A%20%20%20%20%20%20%20%20marker_d1314eafbd544bc78b4fb95f1d31a1f1.bindPopup%28popup_ecafc9b29b8248c692bf2538665f9149%29%0A%20%20%20%20%20%20%20%20%3B%0A%0A%20%20%20%20%20%20%20%20%0A%20%20%20%20%0A%20%20%20%20%0A%20%20%20%20%20%20%20%20%20%20%20%20var%20marker_c578db10cdc943e4a0353690e4f0afce%20%3D%20L.marker%28%0A%20%20%20%20%20%20%20%20%20%20%20%20%20%20%20%20%5B37.50153720559772%2C%20127.11604933857016%5D%2C%0A%20%20%20%20%20%20%20%20%20%20%20%20%20%20%20%20%7B%7D%0A%20%20%20%20%20%20%20%20%20%20%20%20%29.addTo%28map_e2619d05067546b889c2e3baf759fbae%29%3B%0A%20%20%20%20%20%20%20%20%0A%20%20%20%20%0A%20%20%20%20%20%20%20%20%20%20%20%20var%20icon_d8fad5cea82d4c3cb9c2cde4ba6c5725%20%3D%20L.AwesomeMarkers.icon%28%0A%20%20%20%20%20%20%20%20%20%20%20%20%20%20%20%20%7B%22extraClasses%22%3A%20%22fa-rotate-0%22%2C%20%22icon%22%3A%20%22info-sign%22%2C%20%22iconColor%22%3A%20%22white%22%2C%20%22markerColor%22%3A%20%22green%22%2C%20%22prefix%22%3A%20%22glyphicon%22%7D%0A%20%20%20%20%20%20%20%20%20%20%20%20%29%3B%0A%20%20%20%20%20%20%20%20%20%20%20%20marker_c578db10cdc943e4a0353690e4f0afce.setIcon%28icon_d8fad5cea82d4c3cb9c2cde4ba6c5725%29%3B%0A%20%20%20%20%20%20%20%20%0A%20%20%20%20%0A%20%20%20%20%20%20%20%20var%20popup_1be130bfbedc4fbf8463384e8e06915d%20%3D%20L.popup%28%7B%22maxWidth%22%3A%20%22100%25%22%7D%29%3B%0A%0A%20%20%20%20%20%20%20%20%0A%20%20%20%20%20%20%20%20%20%20%20%20var%20html_c25f6960394c4da092cd592cda2b7a4c%20%3D%20%24%28%60%3Cdiv%20id%3D%22html_c25f6960394c4da092cd592cda2b7a4c%22%20style%3D%22width%3A%20100.0%25%3B%20height%3A%20100.0%25%3B%22%3E%EC%86%A1%ED%8C%8C%EA%B5%AC%3C/div%3E%60%29%5B0%5D%3B%0A%20%20%20%20%20%20%20%20%20%20%20%20popup_1be130bfbedc4fbf8463384e8e06915d.setContent%28html_c25f6960394c4da092cd592cda2b7a4c%29%3B%0A%20%20%20%20%20%20%20%20%0A%0A%20%20%20%20%20%20%20%20marker_c578db10cdc943e4a0353690e4f0afce.bindPopup%28popup_1be130bfbedc4fbf8463384e8e06915d%29%0A%20%20%20%20%20%20%20%20%3B%0A%0A%20%20%20%20%20%20%20%20%0A%20%20%20%20%0A%20%20%20%20%0A%20%20%20%20%20%20%20%20%20%20%20%20var%20marker_88b2fb752dfd472dac802f650acc1f7a%20%3D%20L.marker%28%0A%20%20%20%20%20%20%20%20%20%20%20%20%20%20%20%20%5B37.49592432012847%2C%20127.06919256346944%5D%2C%0A%20%20%20%20%20%20%20%20%20%20%20%20%20%20%20%20%7B%7D%0A%20%20%20%20%20%20%20%20%20%20%20%20%29.addTo%28map_e2619d05067546b889c2e3baf759fbae%29%3B%0A%20%20%20%20%20%20%20%20%0A%20%20%20%20%0A%20%20%20%20%20%20%20%20%20%20%20%20var%20icon_c5c2f768a4934229b2b3abee51b1e8cc%20%3D%20L.AwesomeMarkers.icon%28%0A%20%20%20%20%20%20%20%20%20%20%20%20%20%20%20%20%7B%22extraClasses%22%3A%20%22fa-rotate-0%22%2C%20%22icon%22%3A%20%22info-sign%22%2C%20%22iconColor%22%3A%20%22white%22%2C%20%22markerColor%22%3A%20%22green%22%2C%20%22prefix%22%3A%20%22glyphicon%22%7D%0A%20%20%20%20%20%20%20%20%20%20%20%20%29%3B%0A%20%20%20%20%20%20%20%20%20%20%20%20marker_88b2fb752dfd472dac802f650acc1f7a.setIcon%28icon_c5c2f768a4934229b2b3abee51b1e8cc%29%3B%0A%20%20%20%20%20%20%20%20%0A%20%20%20%20%0A%20%20%20%20%20%20%20%20var%20popup_178b20c332b340b4b2eb1b8a33659bb8%20%3D%20L.popup%28%7B%22maxWidth%22%3A%20%22100%25%22%7D%29%3B%0A%0A%20%20%20%20%20%20%20%20%0A%20%20%20%20%20%20%20%20%20%20%20%20var%20html_073345ef35cb48f0946c44d1025c0392%20%3D%20%24%28%60%3Cdiv%20id%3D%22html_073345ef35cb48f0946c44d1025c0392%22%20style%3D%22width%3A%20100.0%25%3B%20height%3A%20100.0%25%3B%22%3E%EA%B0%95%EB%82%A8%EA%B5%AC%3C/div%3E%60%29%5B0%5D%3B%0A%20%20%20%20%20%20%20%20%20%20%20%20popup_178b20c332b340b4b2eb1b8a33659bb8.setContent%28html_073345ef35cb48f0946c44d1025c0392%29%3B%0A%20%20%20%20%20%20%20%20%0A%0A%20%20%20%20%20%20%20%20marker_88b2fb752dfd472dac802f650acc1f7a.bindPopup%28popup_178b20c332b340b4b2eb1b8a33659bb8%29%0A%20%20%20%20%20%20%20%20%3B%0A%0A%20%20%20%20%20%20%20%20%0A%20%20%20%20%0A%20%20%20%20%0A%20%20%20%20%20%20%20%20%20%20%20%20var%20marker_6ad7fbaf4bb54edd9e6d3677a3bac5c7%20%3D%20L.marker%28%0A%20%20%20%20%20%20%20%20%20%20%20%20%20%20%20%20%5B37.47539459056922%2C%20127.04033283617416%5D%2C%0A%20%20%20%20%20%20%20%20%20%20%20%20%20%20%20%20%7B%7D%0A%20%20%20%20%20%20%20%20%20%20%20%20%29.addTo%28map_e2619d05067546b889c2e3baf759fbae%29%3B%0A%20%20%20%20%20%20%20%20%0A%20%20%20%20%0A%20%20%20%20%20%20%20%20%20%20%20%20var%20icon_cf143cd0698c4b32ae85cb55847d3c29%20%3D%20L.AwesomeMarkers.icon%28%0A%20%20%20%20%20%20%20%20%20%20%20%20%20%20%20%20%7B%22extraClasses%22%3A%20%22fa-rotate-0%22%2C%20%22icon%22%3A%20%22info-sign%22%2C%20%22iconColor%22%3A%20%22white%22%2C%20%22markerColor%22%3A%20%22green%22%2C%20%22prefix%22%3A%20%22glyphicon%22%7D%0A%20%20%20%20%20%20%20%20%20%20%20%20%29%3B%0A%20%20%20%20%20%20%20%20%20%20%20%20marker_6ad7fbaf4bb54edd9e6d3677a3bac5c7.setIcon%28icon_cf143cd0698c4b32ae85cb55847d3c29%29%3B%0A%20%20%20%20%20%20%20%20%0A%20%20%20%20%0A%20%20%20%20%20%20%20%20var%20popup_518e0cf1554e4be3bf79d59034c67347%20%3D%20L.popup%28%7B%22maxWidth%22%3A%20%22100%25%22%7D%29%3B%0A%0A%20%20%20%20%20%20%20%20%0A%20%20%20%20%20%20%20%20%20%20%20%20var%20html_681d7f91654f4b74b905b8f0959a0adf%20%3D%20%24%28%60%3Cdiv%20id%3D%22html_681d7f91654f4b74b905b8f0959a0adf%22%20style%3D%22width%3A%20100.0%25%3B%20height%3A%20100.0%25%3B%22%3E%EC%84%9C%EC%B4%88%EA%B5%AC%3C/div%3E%60%29%5B0%5D%3B%0A%20%20%20%20%20%20%20%20%20%20%20%20popup_518e0cf1554e4be3bf79d59034c67347.setContent%28html_681d7f91654f4b74b905b8f0959a0adf%29%3B%0A%20%20%20%20%20%20%20%20%0A%0A%20%20%20%20%20%20%20%20marker_6ad7fbaf4bb54edd9e6d3677a3bac5c7.bindPopup%28popup_518e0cf1554e4be3bf79d59034c67347%29%0A%20%20%20%20%20%20%20%20%3B%0A%0A%20%20%20%20%20%20%20%20%0A%20%20%20%20%0A%20%20%20%20%0A%20%20%20%20%20%20%20%20%20%20%20%20var%20marker_258160bc06de43e78c56a4eb33a95dec%20%3D%20L.marker%28%0A%20%20%20%20%20%20%20%20%20%20%20%20%20%20%20%20%5B37.46266780314721%2C%20126.9461408366268%5D%2C%0A%20%20%20%20%20%20%20%20%20%20%20%20%20%20%20%20%7B%7D%0A%20%20%20%20%20%20%20%20%20%20%20%20%29.addTo%28map_e2619d05067546b889c2e3baf759fbae%29%3B%0A%20%20%20%20%20%20%20%20%0A%20%20%20%20%0A%20%20%20%20%20%20%20%20%20%20%20%20var%20icon_e5a390c4ce7e450284466a6ddb8c04ec%20%3D%20L.AwesomeMarkers.icon%28%0A%20%20%20%20%20%20%20%20%20%20%20%20%20%20%20%20%7B%22extraClasses%22%3A%20%22fa-rotate-0%22%2C%20%22icon%22%3A%20%22info-sign%22%2C%20%22iconColor%22%3A%20%22white%22%2C%20%22markerColor%22%3A%20%22green%22%2C%20%22prefix%22%3A%20%22glyphicon%22%7D%0A%20%20%20%20%20%20%20%20%20%20%20%20%29%3B%0A%20%20%20%20%20%20%20%20%20%20%20%20marker_258160bc06de43e78c56a4eb33a95dec.setIcon%28icon_e5a390c4ce7e450284466a6ddb8c04ec%29%3B%0A%20%20%20%20%20%20%20%20%0A%20%20%20%20%0A%20%20%20%20%20%20%20%20var%20popup_efeb75e5c8c44dfeb5a308779e375e10%20%3D%20L.popup%28%7B%22maxWidth%22%3A%20%22100%25%22%7D%29%3B%0A%0A%20%20%20%20%20%20%20%20%0A%20%20%20%20%20%20%20%20%20%20%20%20var%20html_4cf2ee98dc8b448ca3676dae9f6a4a92%20%3D%20%24%28%60%3Cdiv%20id%3D%22html_4cf2ee98dc8b448ca3676dae9f6a4a92%22%20style%3D%22width%3A%20100.0%25%3B%20height%3A%20100.0%25%3B%22%3E%EA%B4%80%EC%95%85%EA%B5%AC%3C/div%3E%60%29%5B0%5D%3B%0A%20%20%20%20%20%20%20%20%20%20%20%20popup_efeb75e5c8c44dfeb5a308779e375e10.setContent%28html_4cf2ee98dc8b448ca3676dae9f6a4a92%29%3B%0A%20%20%20%20%20%20%20%20%0A%0A%20%20%20%20%20%20%20%20marker_258160bc06de43e78c56a4eb33a95dec.bindPopup%28popup_efeb75e5c8c44dfeb5a308779e375e10%29%0A%20%20%20%20%20%20%20%20%3B%0A%0A%20%20%20%20%20%20%20%20%0A%20%20%20%20%0A%20%20%20%20%0A%20%20%20%20%20%20%20%20%20%20%20%20var%20marker_f635ddb4a87f43c589173c41094f0231%20%3D%20L.marker%28%0A%20%20%20%20%20%20%20%20%20%20%20%20%20%20%20%20%5B37.49489318534813%2C%20126.94624923687596%5D%2C%0A%20%20%20%20%20%20%20%20%20%20%20%20%20%20%20%20%7B%7D%0A%20%20%20%20%20%20%20%20%20%20%20%20%29.addTo%28map_e2619d05067546b889c2e3baf759fbae%29%3B%0A%20%20%20%20%20%20%20%20%0A%20%20%20%20%0A%20%20%20%20%20%20%20%20%20%20%20%20var%20icon_4f23f9fa7f40482ea9da7ae95b2e29b3%20%3D%20L.AwesomeMarkers.icon%28%0A%20%20%20%20%20%20%20%20%20%20%20%20%20%20%20%20%7B%22extraClasses%22%3A%20%22fa-rotate-0%22%2C%20%22icon%22%3A%20%22info-sign%22%2C%20%22iconColor%22%3A%20%22white%22%2C%20%22markerColor%22%3A%20%22green%22%2C%20%22prefix%22%3A%20%22glyphicon%22%7D%0A%20%20%20%20%20%20%20%20%20%20%20%20%29%3B%0A%20%20%20%20%20%20%20%20%20%20%20%20marker_f635ddb4a87f43c589173c41094f0231.setIcon%28icon_4f23f9fa7f40482ea9da7ae95b2e29b3%29%3B%0A%20%20%20%20%20%20%20%20%0A%20%20%20%20%0A%20%20%20%20%20%20%20%20var%20popup_e6f1506d17704c1ba829358fd15956af%20%3D%20L.popup%28%7B%22maxWidth%22%3A%20%22100%25%22%7D%29%3B%0A%0A%20%20%20%20%20%20%20%20%0A%20%20%20%20%20%20%20%20%20%20%20%20var%20html_5c35f1bdc5ea45709a3b671e7541ff52%20%3D%20%24%28%60%3Cdiv%20id%3D%22html_5c35f1bdc5ea45709a3b671e7541ff52%22%20style%3D%22width%3A%20100.0%25%3B%20height%3A%20100.0%25%3B%22%3E%EB%8F%99%EC%9E%91%EA%B5%AC%3C/div%3E%60%29%5B0%5D%3B%0A%20%20%20%20%20%20%20%20%20%20%20%20popup_e6f1506d17704c1ba829358fd15956af.setContent%28html_5c35f1bdc5ea45709a3b671e7541ff52%29%3B%0A%20%20%20%20%20%20%20%20%0A%0A%20%20%20%20%20%20%20%20marker_f635ddb4a87f43c589173c41094f0231.bindPopup%28popup_e6f1506d17704c1ba829358fd15956af%29%0A%20%20%20%20%20%20%20%20%3B%0A%0A%20%20%20%20%20%20%20%20%0A%20%20%20%20%0A%20%20%20%20%0A%20%20%20%20%20%20%20%20%20%20%20%20var%20marker_9be8dc40db534c96821c77d6c13da7dd%20%3D%20L.marker%28%0A%20%20%20%20%20%20%20%20%20%20%20%20%20%20%20%20%5B37.5147774253757%2C%20126.9170319632601%5D%2C%0A%20%20%20%20%20%20%20%20%20%20%20%20%20%20%20%20%7B%7D%0A%20%20%20%20%20%20%20%20%20%20%20%20%29.addTo%28map_e2619d05067546b889c2e3baf759fbae%29%3B%0A%20%20%20%20%20%20%20%20%0A%20%20%20%20%0A%20%20%20%20%20%20%20%20%20%20%20%20var%20icon_41e34c082df24b278ab05c0268d959a5%20%3D%20L.AwesomeMarkers.icon%28%0A%20%20%20%20%20%20%20%20%20%20%20%20%20%20%20%20%7B%22extraClasses%22%3A%20%22fa-rotate-0%22%2C%20%22icon%22%3A%20%22info-sign%22%2C%20%22iconColor%22%3A%20%22white%22%2C%20%22markerColor%22%3A%20%22green%22%2C%20%22prefix%22%3A%20%22glyphicon%22%7D%0A%20%20%20%20%20%20%20%20%20%20%20%20%29%3B%0A%20%20%20%20%20%20%20%20%20%20%20%20marker_9be8dc40db534c96821c77d6c13da7dd.setIcon%28icon_41e34c082df24b278ab05c0268d959a5%29%3B%0A%20%20%20%20%20%20%20%20%0A%20%20%20%20%0A%20%20%20%20%20%20%20%20var%20popup_72df92d758dc4761b51d65d2675d72bc%20%3D%20L.popup%28%7B%22maxWidth%22%3A%20%22100%25%22%7D%29%3B%0A%0A%20%20%20%20%20%20%20%20%0A%20%20%20%20%20%20%20%20%20%20%20%20var%20html_b7afa9f7ae2f4d7ab8cf29fb394ce084%20%3D%20%24%28%60%3Cdiv%20id%3D%22html_b7afa9f7ae2f4d7ab8cf29fb394ce084%22%20style%3D%22width%3A%20100.0%25%3B%20height%3A%20100.0%25%3B%22%3E%EC%98%81%EB%93%B1%ED%8F%AC%EA%B5%AC%3C/div%3E%60%29%5B0%5D%3B%0A%20%20%20%20%20%20%20%20%20%20%20%20popup_72df92d758dc4761b51d65d2675d72bc.setContent%28html_b7afa9f7ae2f4d7ab8cf29fb394ce084%29%3B%0A%20%20%20%20%20%20%20%20%0A%0A%20%20%20%20%20%20%20%20marker_9be8dc40db534c96821c77d6c13da7dd.bindPopup%28popup_72df92d758dc4761b51d65d2675d72bc%29%0A%20%20%20%20%20%20%20%20%3B%0A%0A%20%20%20%20%20%20%20%20%0A%20%20%20%20%0A%20%20%20%20%0A%20%20%20%20%20%20%20%20%20%20%20%20var%20marker_f020281eff0a48438f5a6e28e8b5ea44%20%3D%20L.marker%28%0A%20%20%20%20%20%20%20%20%20%20%20%20%20%20%20%20%5B37.45739625586435%2C%20126.90319084419176%5D%2C%0A%20%20%20%20%20%20%20%20%20%20%20%20%20%20%20%20%7B%7D%0A%20%20%20%20%20%20%20%20%20%20%20%20%29.addTo%28map_e2619d05067546b889c2e3baf759fbae%29%3B%0A%20%20%20%20%20%20%20%20%0A%20%20%20%20%0A%20%20%20%20%20%20%20%20%20%20%20%20var%20icon_4047fc12e7ed49e38219a1a673696bc8%20%3D%20L.AwesomeMarkers.icon%28%0A%20%20%20%20%20%20%20%20%20%20%20%20%20%20%20%20%7B%22extraClasses%22%3A%20%22fa-rotate-0%22%2C%20%22icon%22%3A%20%22info-sign%22%2C%20%22iconColor%22%3A%20%22white%22%2C%20%22markerColor%22%3A%20%22green%22%2C%20%22prefix%22%3A%20%22glyphicon%22%7D%0A%20%20%20%20%20%20%20%20%20%20%20%20%29%3B%0A%20%20%20%20%20%20%20%20%20%20%20%20marker_f020281eff0a48438f5a6e28e8b5ea44.setIcon%28icon_4047fc12e7ed49e38219a1a673696bc8%29%3B%0A%20%20%20%20%20%20%20%20%0A%20%20%20%20%0A%20%20%20%20%20%20%20%20var%20popup_edfe3d80874a42b8aa7081325b05e997%20%3D%20L.popup%28%7B%22maxWidth%22%3A%20%22100%25%22%7D%29%3B%0A%0A%20%20%20%20%20%20%20%20%0A%20%20%20%20%20%20%20%20%20%20%20%20var%20html_c8cf072079ac48b5a0477505b93c0e0e%20%3D%20%24%28%60%3Cdiv%20id%3D%22html_c8cf072079ac48b5a0477505b93c0e0e%22%20style%3D%22width%3A%20100.0%25%3B%20height%3A%20100.0%25%3B%22%3E%EA%B8%88%EC%B2%9C%EA%B5%AC%3C/div%3E%60%29%5B0%5D%3B%0A%20%20%20%20%20%20%20%20%20%20%20%20popup_edfe3d80874a42b8aa7081325b05e997.setContent%28html_c8cf072079ac48b5a0477505b93c0e0e%29%3B%0A%20%20%20%20%20%20%20%20%0A%0A%20%20%20%20%20%20%20%20marker_f020281eff0a48438f5a6e28e8b5ea44.bindPopup%28popup_edfe3d80874a42b8aa7081325b05e997%29%0A%20%20%20%20%20%20%20%20%3B%0A%0A%20%20%20%20%20%20%20%20%0A%20%20%20%20%0A%20%20%20%20%0A%20%20%20%20%20%20%20%20%20%20%20%20var%20marker_4467d15a479a434ea15719ac71fb2ff4%20%3D%20L.marker%28%0A%20%20%20%20%20%20%20%20%20%20%20%20%20%20%20%20%5B37.492718637064456%2C%20126.86006342425016%5D%2C%0A%20%20%20%20%20%20%20%20%20%20%20%20%20%20%20%20%7B%7D%0A%20%20%20%20%20%20%20%20%20%20%20%20%29.addTo%28map_e2619d05067546b889c2e3baf759fbae%29%3B%0A%20%20%20%20%20%20%20%20%0A%20%20%20%20%0A%20%20%20%20%20%20%20%20%20%20%20%20var%20icon_2c71d6b331174a018a08148c3d5c75cf%20%3D%20L.AwesomeMarkers.icon%28%0A%20%20%20%20%20%20%20%20%20%20%20%20%20%20%20%20%7B%22extraClasses%22%3A%20%22fa-rotate-0%22%2C%20%22icon%22%3A%20%22info-sign%22%2C%20%22iconColor%22%3A%20%22white%22%2C%20%22markerColor%22%3A%20%22green%22%2C%20%22prefix%22%3A%20%22glyphicon%22%7D%0A%20%20%20%20%20%20%20%20%20%20%20%20%29%3B%0A%20%20%20%20%20%20%20%20%20%20%20%20marker_4467d15a479a434ea15719ac71fb2ff4.setIcon%28icon_2c71d6b331174a018a08148c3d5c75cf%29%3B%0A%20%20%20%20%20%20%20%20%0A%20%20%20%20%0A%20%20%20%20%20%20%20%20var%20popup_4a20d55a32c9481c8db47308340933d2%20%3D%20L.popup%28%7B%22maxWidth%22%3A%20%22100%25%22%7D%29%3B%0A%0A%20%20%20%20%20%20%20%20%0A%20%20%20%20%20%20%20%20%20%20%20%20var%20html_12157188e03c45d7a4adc979929ea549%20%3D%20%24%28%60%3Cdiv%20id%3D%22html_12157188e03c45d7a4adc979929ea549%22%20style%3D%22width%3A%20100.0%25%3B%20height%3A%20100.0%25%3B%22%3E%EA%B5%AC%EB%A1%9C%EA%B5%AC%3C/div%3E%60%29%5B0%5D%3B%0A%20%20%20%20%20%20%20%20%20%20%20%20popup_4a20d55a32c9481c8db47308340933d2.setContent%28html_12157188e03c45d7a4adc979929ea549%29%3B%0A%20%20%20%20%20%20%20%20%0A%0A%20%20%20%20%20%20%20%20marker_4467d15a479a434ea15719ac71fb2ff4.bindPopup%28popup_4a20d55a32c9481c8db47308340933d2%29%0A%20%20%20%20%20%20%20%20%3B%0A%0A%20%20%20%20%20%20%20%20%0A%20%20%20%20%0A%20%20%20%20%0A%20%20%20%20%20%20%20%20%20%20%20%20var%20marker_29b1b76ca1c84c26a01a686930c0f88a%20%3D%20L.marker%28%0A%20%20%20%20%20%20%20%20%20%20%20%20%20%20%20%20%5B37.56279718952193%2C%20126.82942564443596%5D%2C%0A%20%20%20%20%20%20%20%20%20%20%20%20%20%20%20%20%7B%7D%0A%20%20%20%20%20%20%20%20%20%20%20%20%29.addTo%28map_e2619d05067546b889c2e3baf759fbae%29%3B%0A%20%20%20%20%20%20%20%20%0A%20%20%20%20%0A%20%20%20%20%20%20%20%20%20%20%20%20var%20icon_b2ac61e7ed594f0b9106c945be659b59%20%3D%20L.AwesomeMarkers.icon%28%0A%20%20%20%20%20%20%20%20%20%20%20%20%20%20%20%20%7B%22extraClasses%22%3A%20%22fa-rotate-0%22%2C%20%22icon%22%3A%20%22info-sign%22%2C%20%22iconColor%22%3A%20%22white%22%2C%20%22markerColor%22%3A%20%22green%22%2C%20%22prefix%22%3A%20%22glyphicon%22%7D%0A%20%20%20%20%20%20%20%20%20%20%20%20%29%3B%0A%20%20%20%20%20%20%20%20%20%20%20%20marker_29b1b76ca1c84c26a01a686930c0f88a.setIcon%28icon_b2ac61e7ed594f0b9106c945be659b59%29%3B%0A%20%20%20%20%20%20%20%20%0A%20%20%20%20%0A%20%20%20%20%20%20%20%20var%20popup_05549abd2e0e4fc3993c15ec1da1371b%20%3D%20L.popup%28%7B%22maxWidth%22%3A%20%22100%25%22%7D%29%3B%0A%0A%20%20%20%20%20%20%20%20%0A%20%20%20%20%20%20%20%20%20%20%20%20var%20html_c8eef54b36654a158e32fc952f0bc79b%20%3D%20%24%28%60%3Cdiv%20id%3D%22html_c8eef54b36654a158e32fc952f0bc79b%22%20style%3D%22width%3A%20100.0%25%3B%20height%3A%20100.0%25%3B%22%3E%EA%B0%95%EC%84%9C%EA%B5%AC%3C/div%3E%60%29%5B0%5D%3B%0A%20%20%20%20%20%20%20%20%20%20%20%20popup_05549abd2e0e4fc3993c15ec1da1371b.setContent%28html_c8eef54b36654a158e32fc952f0bc79b%29%3B%0A%20%20%20%20%20%20%20%20%0A%0A%20%20%20%20%20%20%20%20marker_29b1b76ca1c84c26a01a686930c0f88a.bindPopup%28popup_05549abd2e0e4fc3993c15ec1da1371b%29%0A%20%20%20%20%20%20%20%20%3B%0A%0A%20%20%20%20%20%20%20%20%0A%20%20%20%20%0A%20%20%20%20%0A%20%20%20%20%20%20%20%20%20%20%20%20var%20marker_72d1ce61413141d6aebb31d2dcf80225%20%3D%20L.marker%28%0A%20%20%20%20%20%20%20%20%20%20%20%20%20%20%20%20%5B37.52412314589164%2C%20126.85875840886744%5D%2C%0A%20%20%20%20%20%20%20%20%20%20%20%20%20%20%20%20%7B%7D%0A%20%20%20%20%20%20%20%20%20%20%20%20%29.addTo%28map_e2619d05067546b889c2e3baf759fbae%29%3B%0A%20%20%20%20%20%20%20%20%0A%20%20%20%20%0A%20%20%20%20%20%20%20%20%20%20%20%20var%20icon_94c7a7f440124867b7e8314097e57d2f%20%3D%20L.AwesomeMarkers.icon%28%0A%20%20%20%20%20%20%20%20%20%20%20%20%20%20%20%20%7B%22extraClasses%22%3A%20%22fa-rotate-0%22%2C%20%22icon%22%3A%20%22info-sign%22%2C%20%22iconColor%22%3A%20%22white%22%2C%20%22markerColor%22%3A%20%22green%22%2C%20%22prefix%22%3A%20%22glyphicon%22%7D%0A%20%20%20%20%20%20%20%20%20%20%20%20%29%3B%0A%20%20%20%20%20%20%20%20%20%20%20%20marker_72d1ce61413141d6aebb31d2dcf80225.setIcon%28icon_94c7a7f440124867b7e8314097e57d2f%29%3B%0A%20%20%20%20%20%20%20%20%0A%20%20%20%20%0A%20%20%20%20%20%20%20%20var%20popup_74e607a115d34ecb85aee5b18e841d33%20%3D%20L.popup%28%7B%22maxWidth%22%3A%20%22100%25%22%7D%29%3B%0A%0A%20%20%20%20%20%20%20%20%0A%20%20%20%20%20%20%20%20%20%20%20%20var%20html_a59b5c42117a41f69f79be454c4d4450%20%3D%20%24%28%60%3Cdiv%20id%3D%22html_a59b5c42117a41f69f79be454c4d4450%22%20style%3D%22width%3A%20100.0%25%3B%20height%3A%20100.0%25%3B%22%3E%EC%96%91%EC%B2%9C%EA%B5%AC%3C/div%3E%60%29%5B0%5D%3B%0A%20%20%20%20%20%20%20%20%20%20%20%20popup_74e607a115d34ecb85aee5b18e841d33.setContent%28html_a59b5c42117a41f69f79be454c4d4450%29%3B%0A%20%20%20%20%20%20%20%20%0A%0A%20%20%20%20%20%20%20%20marker_72d1ce61413141d6aebb31d2dcf80225.bindPopup%28popup_74e607a115d34ecb85aee5b18e841d33%29%0A%20%20%20%20%20%20%20%20%3B%0A%0A%20%20%20%20%20%20%20%20%0A%20%20%20%20%0A%20%20%20%20%0A%20%20%20%20%20%20%20%20%20%20%20%20var%20marker_7a638e9c640f4052adec03c83f4e54fe%20%3D%20L.marker%28%0A%20%20%20%20%20%20%20%20%20%20%20%20%20%20%20%20%5B37.55738043266695%2C%20126.9127728952868%5D%2C%0A%20%20%20%20%20%20%20%20%20%20%20%20%20%20%20%20%7B%7D%0A%20%20%20%20%20%20%20%20%20%20%20%20%29.addTo%28map_e2619d05067546b889c2e3baf759fbae%29%3B%0A%20%20%20%20%20%20%20%20%0A%20%20%20%20%0A%20%20%20%20%20%20%20%20%20%20%20%20var%20icon_de601a7499ab4107b8d5c791ad269aff%20%3D%20L.AwesomeMarkers.icon%28%0A%20%20%20%20%20%20%20%20%20%20%20%20%20%20%20%20%7B%22extraClasses%22%3A%20%22fa-rotate-0%22%2C%20%22icon%22%3A%20%22info-sign%22%2C%20%22iconColor%22%3A%20%22white%22%2C%20%22markerColor%22%3A%20%22green%22%2C%20%22prefix%22%3A%20%22glyphicon%22%7D%0A%20%20%20%20%20%20%20%20%20%20%20%20%29%3B%0A%20%20%20%20%20%20%20%20%20%20%20%20marker_7a638e9c640f4052adec03c83f4e54fe.setIcon%28icon_de601a7499ab4107b8d5c791ad269aff%29%3B%0A%20%20%20%20%20%20%20%20%0A%20%20%20%20%0A%20%20%20%20%20%20%20%20var%20popup_826387ae444940519741259bd51fae75%20%3D%20L.popup%28%7B%22maxWidth%22%3A%20%22100%25%22%7D%29%3B%0A%0A%20%20%20%20%20%20%20%20%0A%20%20%20%20%20%20%20%20%20%20%20%20var%20html_83bc7f3eefe749468e526612c5b24184%20%3D%20%24%28%60%3Cdiv%20id%3D%22html_83bc7f3eefe749468e526612c5b24184%22%20style%3D%22width%3A%20100.0%25%3B%20height%3A%20100.0%25%3B%22%3E%EB%A7%88%ED%8F%AC%EA%B5%AC%3C/div%3E%60%29%5B0%5D%3B%0A%20%20%20%20%20%20%20%20%20%20%20%20popup_826387ae444940519741259bd51fae75.setContent%28html_83bc7f3eefe749468e526612c5b24184%29%3B%0A%20%20%20%20%20%20%20%20%0A%0A%20%20%20%20%20%20%20%20marker_7a638e9c640f4052adec03c83f4e54fe.bindPopup%28popup_826387ae444940519741259bd51fae75%29%0A%20%20%20%20%20%20%20%20%3B%0A%0A%20%20%20%20%20%20%20%20%0A%20%20%20%20%0A%20%20%20%20%0A%20%20%20%20%20%20%20%20%20%20%20%20var%20marker_542a096c556f4012810a904c20ece142%20%3D%20L.marker%28%0A%20%20%20%20%20%20%20%20%20%20%20%20%20%20%20%20%5B37.57869846554929%2C%20126.93769657263756%5D%2C%0A%20%20%20%20%20%20%20%20%20%20%20%20%20%20%20%20%7B%7D%0A%20%20%20%20%20%20%20%20%20%20%20%20%29.addTo%28map_e2619d05067546b889c2e3baf759fbae%29%3B%0A%20%20%20%20%20%20%20%20%0A%20%20%20%20%0A%20%20%20%20%20%20%20%20%20%20%20%20var%20icon_57840ec54b2b4a9baa59e7566c095a03%20%3D%20L.AwesomeMarkers.icon%28%0A%20%20%20%20%20%20%20%20%20%20%20%20%20%20%20%20%7B%22extraClasses%22%3A%20%22fa-rotate-0%22%2C%20%22icon%22%3A%20%22info-sign%22%2C%20%22iconColor%22%3A%20%22white%22%2C%20%22markerColor%22%3A%20%22green%22%2C%20%22prefix%22%3A%20%22glyphicon%22%7D%0A%20%20%20%20%20%20%20%20%20%20%20%20%29%3B%0A%20%20%20%20%20%20%20%20%20%20%20%20marker_542a096c556f4012810a904c20ece142.setIcon%28icon_57840ec54b2b4a9baa59e7566c095a03%29%3B%0A%20%20%20%20%20%20%20%20%0A%20%20%20%20%0A%20%20%20%20%20%20%20%20var%20popup_475aa50199c34250bbf5306df21d51f5%20%3D%20L.popup%28%7B%22maxWidth%22%3A%20%22100%25%22%7D%29%3B%0A%0A%20%20%20%20%20%20%20%20%0A%20%20%20%20%20%20%20%20%20%20%20%20var%20html_2574daf83eae4a9f89e44cff386c1cfa%20%3D%20%24%28%60%3Cdiv%20id%3D%22html_2574daf83eae4a9f89e44cff386c1cfa%22%20style%3D%22width%3A%20100.0%25%3B%20height%3A%20100.0%25%3B%22%3E%EC%84%9C%EB%8C%80%EB%AC%B8%EA%B5%AC%3C/div%3E%60%29%5B0%5D%3B%0A%20%20%20%20%20%20%20%20%20%20%20%20popup_475aa50199c34250bbf5306df21d51f5.setContent%28html_2574daf83eae4a9f89e44cff386c1cfa%29%3B%0A%20%20%20%20%20%20%20%20%0A%0A%20%20%20%20%20%20%20%20marker_542a096c556f4012810a904c20ece142.bindPopup%28popup_475aa50199c34250bbf5306df21d51f5%29%0A%20%20%20%20%20%20%20%20%3B%0A%0A%20%20%20%20%20%20%20%20%0A%20%20%20%20%0A%20%20%20%20%0A%20%20%20%20%20%20%20%20%20%20%20%20var%20marker_a05194ffc5594532a4df21ec16f0abb3%20%3D%20L.marker%28%0A%20%20%20%20%20%20%20%20%20%20%20%20%20%20%20%20%5B37.61463484593399%2C%20126.92910963030154%5D%2C%0A%20%20%20%20%20%20%20%20%20%20%20%20%20%20%20%20%7B%7D%0A%20%20%20%20%20%20%20%20%20%20%20%20%29.addTo%28map_e2619d05067546b889c2e3baf759fbae%29%3B%0A%20%20%20%20%20%20%20%20%0A%20%20%20%20%0A%20%20%20%20%20%20%20%20%20%20%20%20var%20icon_2f318b124e8546d48e2355d454e55a7f%20%3D%20L.AwesomeMarkers.icon%28%0A%20%20%20%20%20%20%20%20%20%20%20%20%20%20%20%20%7B%22extraClasses%22%3A%20%22fa-rotate-0%22%2C%20%22icon%22%3A%20%22info-sign%22%2C%20%22iconColor%22%3A%20%22white%22%2C%20%22markerColor%22%3A%20%22green%22%2C%20%22prefix%22%3A%20%22glyphicon%22%7D%0A%20%20%20%20%20%20%20%20%20%20%20%20%29%3B%0A%20%20%20%20%20%20%20%20%20%20%20%20marker_a05194ffc5594532a4df21ec16f0abb3.setIcon%28icon_2f318b124e8546d48e2355d454e55a7f%29%3B%0A%20%20%20%20%20%20%20%20%0A%20%20%20%20%0A%20%20%20%20%20%20%20%20var%20popup_6b6f62f8849947d99a22e1f7e376f0cf%20%3D%20L.popup%28%7B%22maxWidth%22%3A%20%22100%25%22%7D%29%3B%0A%0A%20%20%20%20%20%20%20%20%0A%20%20%20%20%20%20%20%20%20%20%20%20var%20html_2dc1f77f79034d7baad1d7094a9fa4b1%20%3D%20%24%28%60%3Cdiv%20id%3D%22html_2dc1f77f79034d7baad1d7094a9fa4b1%22%20style%3D%22width%3A%20100.0%25%3B%20height%3A%20100.0%25%3B%22%3E%EC%9D%80%ED%8F%89%EA%B5%AC%3C/div%3E%60%29%5B0%5D%3B%0A%20%20%20%20%20%20%20%20%20%20%20%20popup_6b6f62f8849947d99a22e1f7e376f0cf.setContent%28html_2dc1f77f79034d7baad1d7094a9fa4b1%29%3B%0A%20%20%20%20%20%20%20%20%0A%0A%20%20%20%20%20%20%20%20marker_a05194ffc5594532a4df21ec16f0abb3.bindPopup%28popup_6b6f62f8849947d99a22e1f7e376f0cf%29%0A%20%20%20%20%20%20%20%20%3B%0A%0A%20%20%20%20%20%20%20%20%0A%20%20%20%20%0A%20%20%20%20%0A%20%20%20%20%20%20%20%20%20%20%20%20var%20marker_5496aaba6f704a1393fb55d3e354550a%20%3D%20L.marker%28%0A%20%20%20%20%20%20%20%20%20%20%20%20%20%20%20%20%5B37.65248119082207%2C%20127.079042741807%5D%2C%0A%20%20%20%20%20%20%20%20%20%20%20%20%20%20%20%20%7B%7D%0A%20%20%20%20%20%20%20%20%20%20%20%20%29.addTo%28map_e2619d05067546b889c2e3baf759fbae%29%3B%0A%20%20%20%20%20%20%20%20%0A%20%20%20%20%0A%20%20%20%20%20%20%20%20%20%20%20%20var%20icon_5e08fec9ccee4c5a9d6bc8ef1a6409a3%20%3D%20L.AwesomeMarkers.icon%28%0A%20%20%20%20%20%20%20%20%20%20%20%20%20%20%20%20%7B%22extraClasses%22%3A%20%22fa-rotate-0%22%2C%20%22icon%22%3A%20%22info-sign%22%2C%20%22iconColor%22%3A%20%22white%22%2C%20%22markerColor%22%3A%20%22green%22%2C%20%22prefix%22%3A%20%22glyphicon%22%7D%0A%20%20%20%20%20%20%20%20%20%20%20%20%29%3B%0A%20%20%20%20%20%20%20%20%20%20%20%20marker_5496aaba6f704a1393fb55d3e354550a.setIcon%28icon_5e08fec9ccee4c5a9d6bc8ef1a6409a3%29%3B%0A%20%20%20%20%20%20%20%20%0A%20%20%20%20%0A%20%20%20%20%20%20%20%20var%20popup_818c821f930648f99cbb1b722a97a1c2%20%3D%20L.popup%28%7B%22maxWidth%22%3A%20%22100%25%22%7D%29%3B%0A%0A%20%20%20%20%20%20%20%20%0A%20%20%20%20%20%20%20%20%20%20%20%20var%20html_c2b21ca1183e4c9a9a92d3e1d85b2a30%20%3D%20%24%28%60%3Cdiv%20id%3D%22html_c2b21ca1183e4c9a9a92d3e1d85b2a30%22%20style%3D%22width%3A%20100.0%25%3B%20height%3A%20100.0%25%3B%22%3E%EB%85%B8%EC%9B%90%EA%B5%AC%3C/div%3E%60%29%5B0%5D%3B%0A%20%20%20%20%20%20%20%20%20%20%20%20popup_818c821f930648f99cbb1b722a97a1c2.setContent%28html_c2b21ca1183e4c9a9a92d3e1d85b2a30%29%3B%0A%20%20%20%20%20%20%20%20%0A%0A%20%20%20%20%20%20%20%20marker_5496aaba6f704a1393fb55d3e354550a.bindPopup%28popup_818c821f930648f99cbb1b722a97a1c2%29%0A%20%20%20%20%20%20%20%20%3B%0A%0A%20%20%20%20%20%20%20%20%0A%20%20%20%20%0A%20%20%20%20%0A%20%20%20%20%20%20%20%20%20%20%20%20var%20marker_7a495aa3384c4edc8577b0fe5f5859cb%20%3D%20L.marker%28%0A%20%20%20%20%20%20%20%20%20%20%20%20%20%20%20%20%5B37.6635393653731%2C%20127.03409015073817%5D%2C%0A%20%20%20%20%20%20%20%20%20%20%20%20%20%20%20%20%7B%7D%0A%20%20%20%20%20%20%20%20%20%20%20%20%29.addTo%28map_e2619d05067546b889c2e3baf759fbae%29%3B%0A%20%20%20%20%20%20%20%20%0A%20%20%20%20%0A%20%20%20%20%20%20%20%20%20%20%20%20var%20icon_b57ff3800b914f8e8983f21aa3377df9%20%3D%20L.AwesomeMarkers.icon%28%0A%20%20%20%20%20%20%20%20%20%20%20%20%20%20%20%20%7B%22extraClasses%22%3A%20%22fa-rotate-0%22%2C%20%22icon%22%3A%20%22info-sign%22%2C%20%22iconColor%22%3A%20%22white%22%2C%20%22markerColor%22%3A%20%22green%22%2C%20%22prefix%22%3A%20%22glyphicon%22%7D%0A%20%20%20%20%20%20%20%20%20%20%20%20%29%3B%0A%20%20%20%20%20%20%20%20%20%20%20%20marker_7a495aa3384c4edc8577b0fe5f5859cb.setIcon%28icon_b57ff3800b914f8e8983f21aa3377df9%29%3B%0A%20%20%20%20%20%20%20%20%0A%20%20%20%20%0A%20%20%20%20%20%20%20%20var%20popup_40868345f5644629a565881cc0d2b8e1%20%3D%20L.popup%28%7B%22maxWidth%22%3A%20%22100%25%22%7D%29%3B%0A%0A%20%20%20%20%20%20%20%20%0A%20%20%20%20%20%20%20%20%20%20%20%20var%20html_e838bfda0f6345609db1cae91b1710aa%20%3D%20%24%28%60%3Cdiv%20id%3D%22html_e838bfda0f6345609db1cae91b1710aa%22%20style%3D%22width%3A%20100.0%25%3B%20height%3A%20100.0%25%3B%22%3E%EB%8F%84%EB%B4%89%EA%B5%AC%3C/div%3E%60%29%5B0%5D%3B%0A%20%20%20%20%20%20%20%20%20%20%20%20popup_40868345f5644629a565881cc0d2b8e1.setContent%28html_e838bfda0f6345609db1cae91b1710aa%29%3B%0A%20%20%20%20%20%20%20%20%0A%0A%20%20%20%20%20%20%20%20marker_7a495aa3384c4edc8577b0fe5f5859cb.bindPopup%28popup_40868345f5644629a565881cc0d2b8e1%29%0A%20%20%20%20%20%20%20%20%3B%0A%0A%20%20%20%20%20%20%20%20%0A%20%20%20%20%0A%20%20%20%20%0A%20%20%20%20%20%20%20%20%20%20%20%20var%20marker_1ee8580cd3ea4cc69f6e295ea4135671%20%3D%20L.marker%28%0A%20%20%20%20%20%20%20%20%20%20%20%20%20%20%20%20%5B37.64431606191877%2C%20127.01691950167064%5D%2C%0A%20%20%20%20%20%20%20%20%20%20%20%20%20%20%20%20%7B%7D%0A%20%20%20%20%20%20%20%20%20%20%20%20%29.addTo%28map_e2619d05067546b889c2e3baf759fbae%29%3B%0A%20%20%20%20%20%20%20%20%0A%20%20%20%20%0A%20%20%20%20%20%20%20%20%20%20%20%20var%20icon_a260d694662b4a93a3e2ea6a7d3c6948%20%3D%20L.AwesomeMarkers.icon%28%0A%20%20%20%20%20%20%20%20%20%20%20%20%20%20%20%20%7B%22extraClasses%22%3A%20%22fa-rotate-0%22%2C%20%22icon%22%3A%20%22info-sign%22%2C%20%22iconColor%22%3A%20%22white%22%2C%20%22markerColor%22%3A%20%22green%22%2C%20%22prefix%22%3A%20%22glyphicon%22%7D%0A%20%20%20%20%20%20%20%20%20%20%20%20%29%3B%0A%20%20%20%20%20%20%20%20%20%20%20%20marker_1ee8580cd3ea4cc69f6e295ea4135671.setIcon%28icon_a260d694662b4a93a3e2ea6a7d3c6948%29%3B%0A%20%20%20%20%20%20%20%20%0A%20%20%20%20%0A%20%20%20%20%20%20%20%20var%20popup_93ef9e12ffcd4c3886e1cea2c3fc66d4%20%3D%20L.popup%28%7B%22maxWidth%22%3A%20%22100%25%22%7D%29%3B%0A%0A%20%20%20%20%20%20%20%20%0A%20%20%20%20%20%20%20%20%20%20%20%20var%20html_4549689ac7984daea23b7c1529b834f7%20%3D%20%24%28%60%3Cdiv%20id%3D%22html_4549689ac7984daea23b7c1529b834f7%22%20style%3D%22width%3A%20100.0%25%3B%20height%3A%20100.0%25%3B%22%3E%EA%B0%95%EB%B6%81%EA%B5%AC%3C/div%3E%60%29%5B0%5D%3B%0A%20%20%20%20%20%20%20%20%20%20%20%20popup_93ef9e12ffcd4c3886e1cea2c3fc66d4.setContent%28html_4549689ac7984daea23b7c1529b834f7%29%3B%0A%20%20%20%20%20%20%20%20%0A%0A%20%20%20%20%20%20%20%20marker_1ee8580cd3ea4cc69f6e295ea4135671.bindPopup%28popup_93ef9e12ffcd4c3886e1cea2c3fc66d4%29%0A%20%20%20%20%20%20%20%20%3B%0A%0A%20%20%20%20%20%20%20%20%0A%20%20%20%20%0A%20%20%20%20%0A%20%20%20%20%20%20%20%20%20%20%20%20var%20marker_2d69ea50832943f0b6dfd1c2ac4bf41b%20%3D%20L.marker%28%0A%20%20%20%20%20%20%20%20%20%20%20%20%20%20%20%20%5B37.60451128766722%2C%20127.02550123870412%5D%2C%0A%20%20%20%20%20%20%20%20%20%20%20%20%20%20%20%20%7B%7D%0A%20%20%20%20%20%20%20%20%20%20%20%20%29.addTo%28map_e2619d05067546b889c2e3baf759fbae%29%3B%0A%20%20%20%20%20%20%20%20%0A%20%20%20%20%0A%20%20%20%20%20%20%20%20%20%20%20%20var%20icon_42ce03c4784343d1b1a89a85a16895e3%20%3D%20L.AwesomeMarkers.icon%28%0A%20%20%20%20%20%20%20%20%20%20%20%20%20%20%20%20%7B%22extraClasses%22%3A%20%22fa-rotate-0%22%2C%20%22icon%22%3A%20%22info-sign%22%2C%20%22iconColor%22%3A%20%22white%22%2C%20%22markerColor%22%3A%20%22green%22%2C%20%22prefix%22%3A%20%22glyphicon%22%7D%0A%20%20%20%20%20%20%20%20%20%20%20%20%29%3B%0A%20%20%20%20%20%20%20%20%20%20%20%20marker_2d69ea50832943f0b6dfd1c2ac4bf41b.setIcon%28icon_42ce03c4784343d1b1a89a85a16895e3%29%3B%0A%20%20%20%20%20%20%20%20%0A%20%20%20%20%0A%20%20%20%20%20%20%20%20var%20popup_0891183daaca4ecebd5152b19aad3eee%20%3D%20L.popup%28%7B%22maxWidth%22%3A%20%22100%25%22%7D%29%3B%0A%0A%20%20%20%20%20%20%20%20%0A%20%20%20%20%20%20%20%20%20%20%20%20var%20html_0003c255ce8c4d619b7465b40194e71c%20%3D%20%24%28%60%3Cdiv%20id%3D%22html_0003c255ce8c4d619b7465b40194e71c%22%20style%3D%22width%3A%20100.0%25%3B%20height%3A%20100.0%25%3B%22%3E%EC%84%B1%EB%B6%81%EA%B5%AC%3C/div%3E%60%29%5B0%5D%3B%0A%20%20%20%20%20%20%20%20%20%20%20%20popup_0891183daaca4ecebd5152b19aad3eee.setContent%28html_0003c255ce8c4d619b7465b40194e71c%29%3B%0A%20%20%20%20%20%20%20%20%0A%0A%20%20%20%20%20%20%20%20marker_2d69ea50832943f0b6dfd1c2ac4bf41b.bindPopup%28popup_0891183daaca4ecebd5152b19aad3eee%29%0A%20%20%20%20%20%20%20%20%3B%0A%0A%20%20%20%20%20%20%20%20%0A%20%20%20%20%0A%20%20%20%20%0A%20%20%20%20%20%20%20%20%20%20%20%20var%20marker_f136d30baa8f4ebc92582d84b45d3eef%20%3D%20L.marker%28%0A%20%20%20%20%20%20%20%20%20%20%20%20%20%20%20%20%5B37.59240236635568%2C%20127.09600487687317%5D%2C%0A%20%20%20%20%20%20%20%20%20%20%20%20%20%20%20%20%7B%7D%0A%20%20%20%20%20%20%20%20%20%20%20%20%29.addTo%28map_e2619d05067546b889c2e3baf759fbae%29%3B%0A%20%20%20%20%20%20%20%20%0A%20%20%20%20%0A%20%20%20%20%20%20%20%20%20%20%20%20var%20icon_dc815be38e644b44aa473b4d74e29a39%20%3D%20L.AwesomeMarkers.icon%28%0A%20%20%20%20%20%20%20%20%20%20%20%20%20%20%20%20%7B%22extraClasses%22%3A%20%22fa-rotate-0%22%2C%20%22icon%22%3A%20%22info-sign%22%2C%20%22iconColor%22%3A%20%22white%22%2C%20%22markerColor%22%3A%20%22green%22%2C%20%22prefix%22%3A%20%22glyphicon%22%7D%0A%20%20%20%20%20%20%20%20%20%20%20%20%29%3B%0A%20%20%20%20%20%20%20%20%20%20%20%20marker_f136d30baa8f4ebc92582d84b45d3eef.setIcon%28icon_dc815be38e644b44aa473b4d74e29a39%29%3B%0A%20%20%20%20%20%20%20%20%0A%20%20%20%20%0A%20%20%20%20%20%20%20%20var%20popup_7a589cba64454d748235564beafa9b9f%20%3D%20L.popup%28%7B%22maxWidth%22%3A%20%22100%25%22%7D%29%3B%0A%0A%20%20%20%20%20%20%20%20%0A%20%20%20%20%20%20%20%20%20%20%20%20var%20html_57f7f8bd168c48338532e38d1c884f85%20%3D%20%24%28%60%3Cdiv%20id%3D%22html_57f7f8bd168c48338532e38d1c884f85%22%20style%3D%22width%3A%20100.0%25%3B%20height%3A%20100.0%25%3B%22%3E%EC%A4%91%EB%9E%91%EA%B5%AC%3C/div%3E%60%29%5B0%5D%3B%0A%20%20%20%20%20%20%20%20%20%20%20%20popup_7a589cba64454d748235564beafa9b9f.setContent%28html_57f7f8bd168c48338532e38d1c884f85%29%3B%0A%20%20%20%20%20%20%20%20%0A%0A%20%20%20%20%20%20%20%20marker_f136d30baa8f4ebc92582d84b45d3eef.bindPopup%28popup_7a589cba64454d748235564beafa9b9f%29%0A%20%20%20%20%20%20%20%20%3B%0A%0A%20%20%20%20%20%20%20%20%0A%20%20%20%20%0A%20%20%20%20%0A%20%20%20%20%20%20%20%20%20%20%20%20var%20marker_262c1f388533411bafc47987d0f22b93%20%3D%20L.marker%28%0A%20%20%20%20%20%20%20%20%20%20%20%20%20%20%20%20%5B37.58189552738976%2C%20127.05297897904202%5D%2C%0A%20%20%20%20%20%20%20%20%20%20%20%20%20%20%20%20%7B%7D%0A%20%20%20%20%20%20%20%20%20%20%20%20%29.addTo%28map_e2619d05067546b889c2e3baf759fbae%29%3B%0A%20%20%20%20%20%20%20%20%0A%20%20%20%20%0A%20%20%20%20%20%20%20%20%20%20%20%20var%20icon_95aed51fdbea495990427c914e316d7b%20%3D%20L.AwesomeMarkers.icon%28%0A%20%20%20%20%20%20%20%20%20%20%20%20%20%20%20%20%7B%22extraClasses%22%3A%20%22fa-rotate-0%22%2C%20%22icon%22%3A%20%22info-sign%22%2C%20%22iconColor%22%3A%20%22white%22%2C%20%22markerColor%22%3A%20%22green%22%2C%20%22prefix%22%3A%20%22glyphicon%22%7D%0A%20%20%20%20%20%20%20%20%20%20%20%20%29%3B%0A%20%20%20%20%20%20%20%20%20%20%20%20marker_262c1f388533411bafc47987d0f22b93.setIcon%28icon_95aed51fdbea495990427c914e316d7b%29%3B%0A%20%20%20%20%20%20%20%20%0A%20%20%20%20%0A%20%20%20%20%20%20%20%20var%20popup_2f7e949074dc4ee19b9815778b749538%20%3D%20L.popup%28%7B%22maxWidth%22%3A%20%22100%25%22%7D%29%3B%0A%0A%20%20%20%20%20%20%20%20%0A%20%20%20%20%20%20%20%20%20%20%20%20var%20html_2bfc957b16754df19e82f9a9af8ea22d%20%3D%20%24%28%60%3Cdiv%20id%3D%22html_2bfc957b16754df19e82f9a9af8ea22d%22%20style%3D%22width%3A%20100.0%25%3B%20height%3A%20100.0%25%3B%22%3E%EB%8F%99%EB%8C%80%EB%AC%B8%EA%B5%AC%3C/div%3E%60%29%5B0%5D%3B%0A%20%20%20%20%20%20%20%20%20%20%20%20popup_2f7e949074dc4ee19b9815778b749538.setContent%28html_2bfc957b16754df19e82f9a9af8ea22d%29%3B%0A%20%20%20%20%20%20%20%20%0A%0A%20%20%20%20%20%20%20%20marker_262c1f388533411bafc47987d0f22b93.bindPopup%28popup_2f7e949074dc4ee19b9815778b749538%29%0A%20%20%20%20%20%20%20%20%3B%0A%0A%20%20%20%20%20%20%20%20%0A%20%20%20%20%0A%20%20%20%20%0A%20%20%20%20%20%20%20%20%20%20%20%20var%20marker_676330bbf9c4410584516bd5ff03df9e%20%3D%20L.marker%28%0A%20%20%20%20%20%20%20%20%20%20%20%20%20%20%20%20%5B37.54576818521889%2C%20127.0873415148482%5D%2C%0A%20%20%20%20%20%20%20%20%20%20%20%20%20%20%20%20%7B%7D%0A%20%20%20%20%20%20%20%20%20%20%20%20%29.addTo%28map_e2619d05067546b889c2e3baf759fbae%29%3B%0A%20%20%20%20%20%20%20%20%0A%20%20%20%20%0A%20%20%20%20%20%20%20%20%20%20%20%20var%20icon_3da2c3c8c22a49f2b179f27936e8494d%20%3D%20L.AwesomeMarkers.icon%28%0A%20%20%20%20%20%20%20%20%20%20%20%20%20%20%20%20%7B%22extraClasses%22%3A%20%22fa-rotate-0%22%2C%20%22icon%22%3A%20%22info-sign%22%2C%20%22iconColor%22%3A%20%22white%22%2C%20%22markerColor%22%3A%20%22green%22%2C%20%22prefix%22%3A%20%22glyphicon%22%7D%0A%20%20%20%20%20%20%20%20%20%20%20%20%29%3B%0A%20%20%20%20%20%20%20%20%20%20%20%20marker_676330bbf9c4410584516bd5ff03df9e.setIcon%28icon_3da2c3c8c22a49f2b179f27936e8494d%29%3B%0A%20%20%20%20%20%20%20%20%0A%20%20%20%20%0A%20%20%20%20%20%20%20%20var%20popup_7385fc89353743b3a86600993107e58c%20%3D%20L.popup%28%7B%22maxWidth%22%3A%20%22100%25%22%7D%29%3B%0A%0A%20%20%20%20%20%20%20%20%0A%20%20%20%20%20%20%20%20%20%20%20%20var%20html_efc95a19294f4593aa315ea29ccb888f%20%3D%20%24%28%60%3Cdiv%20id%3D%22html_efc95a19294f4593aa315ea29ccb888f%22%20style%3D%22width%3A%20100.0%25%3B%20height%3A%20100.0%25%3B%22%3E%EA%B4%91%EC%A7%84%EA%B5%AC%3C/div%3E%60%29%5B0%5D%3B%0A%20%20%20%20%20%20%20%20%20%20%20%20popup_7385fc89353743b3a86600993107e58c.setContent%28html_efc95a19294f4593aa315ea29ccb888f%29%3B%0A%20%20%20%20%20%20%20%20%0A%0A%20%20%20%20%20%20%20%20marker_676330bbf9c4410584516bd5ff03df9e.bindPopup%28popup_7385fc89353743b3a86600993107e58c%29%0A%20%20%20%20%20%20%20%20%3B%0A%0A%20%20%20%20%20%20%20%20%0A%20%20%20%20%0A%20%20%20%20%0A%20%20%20%20%20%20%20%20%20%20%20%20var%20marker_c676a27f939f40f2b97ac58766afdc5b%20%3D%20L.marker%28%0A%20%20%20%20%20%20%20%20%20%20%20%20%20%20%20%20%5B37.54826225613717%2C%20127.04312337886536%5D%2C%0A%20%20%20%20%20%20%20%20%20%20%20%20%20%20%20%20%7B%7D%0A%20%20%20%20%20%20%20%20%20%20%20%20%29.addTo%28map_e2619d05067546b889c2e3baf759fbae%29%3B%0A%20%20%20%20%20%20%20%20%0A%20%20%20%20%0A%20%20%20%20%20%20%20%20%20%20%20%20var%20icon_7ebde50f91d748f9987cf5958cb00e46%20%3D%20L.AwesomeMarkers.icon%28%0A%20%20%20%20%20%20%20%20%20%20%20%20%20%20%20%20%7B%22extraClasses%22%3A%20%22fa-rotate-0%22%2C%20%22icon%22%3A%20%22info-sign%22%2C%20%22iconColor%22%3A%20%22white%22%2C%20%22markerColor%22%3A%20%22green%22%2C%20%22prefix%22%3A%20%22glyphicon%22%7D%0A%20%20%20%20%20%20%20%20%20%20%20%20%29%3B%0A%20%20%20%20%20%20%20%20%20%20%20%20marker_c676a27f939f40f2b97ac58766afdc5b.setIcon%28icon_7ebde50f91d748f9987cf5958cb00e46%29%3B%0A%20%20%20%20%20%20%20%20%0A%20%20%20%20%0A%20%20%20%20%20%20%20%20var%20popup_1367a9d1ceb34e0eadd4206889595ec7%20%3D%20L.popup%28%7B%22maxWidth%22%3A%20%22100%25%22%7D%29%3B%0A%0A%20%20%20%20%20%20%20%20%0A%20%20%20%20%20%20%20%20%20%20%20%20var%20html_92d50bf57cd744669c8b44d642e67b94%20%3D%20%24%28%60%3Cdiv%20id%3D%22html_92d50bf57cd744669c8b44d642e67b94%22%20style%3D%22width%3A%20100.0%25%3B%20height%3A%20100.0%25%3B%22%3E%EC%84%B1%EB%8F%99%EA%B5%AC%3C/div%3E%60%29%5B0%5D%3B%0A%20%20%20%20%20%20%20%20%20%20%20%20popup_1367a9d1ceb34e0eadd4206889595ec7.setContent%28html_92d50bf57cd744669c8b44d642e67b94%29%3B%0A%20%20%20%20%20%20%20%20%0A%0A%20%20%20%20%20%20%20%20marker_c676a27f939f40f2b97ac58766afdc5b.bindPopup%28popup_1367a9d1ceb34e0eadd4206889595ec7%29%0A%20%20%20%20%20%20%20%20%3B%0A%0A%20%20%20%20%20%20%20%20%0A%20%20%20%20%0A%20%20%20%20%0A%20%20%20%20%20%20%20%20%20%20%20%20var%20marker_3f353593fda54e7dbc86d633797d04cf%20%3D%20L.marker%28%0A%20%20%20%20%20%20%20%20%20%20%20%20%20%20%20%20%5B37.53074955197613%2C%20126.98434782486883%5D%2C%0A%20%20%20%20%20%20%20%20%20%20%20%20%20%20%20%20%7B%7D%0A%20%20%20%20%20%20%20%20%20%20%20%20%29.addTo%28map_e2619d05067546b889c2e3baf759fbae%29%3B%0A%20%20%20%20%20%20%20%20%0A%20%20%20%20%0A%20%20%20%20%20%20%20%20%20%20%20%20var%20icon_1f92cac191dc4c4ea4560838856aa327%20%3D%20L.AwesomeMarkers.icon%28%0A%20%20%20%20%20%20%20%20%20%20%20%20%20%20%20%20%7B%22extraClasses%22%3A%20%22fa-rotate-0%22%2C%20%22icon%22%3A%20%22info-sign%22%2C%20%22iconColor%22%3A%20%22white%22%2C%20%22markerColor%22%3A%20%22green%22%2C%20%22prefix%22%3A%20%22glyphicon%22%7D%0A%20%20%20%20%20%20%20%20%20%20%20%20%29%3B%0A%20%20%20%20%20%20%20%20%20%20%20%20marker_3f353593fda54e7dbc86d633797d04cf.setIcon%28icon_1f92cac191dc4c4ea4560838856aa327%29%3B%0A%20%20%20%20%20%20%20%20%0A%20%20%20%20%0A%20%20%20%20%20%20%20%20var%20popup_595e0c31835243e3a92c57b0b5506a01%20%3D%20L.popup%28%7B%22maxWidth%22%3A%20%22100%25%22%7D%29%3B%0A%0A%20%20%20%20%20%20%20%20%0A%20%20%20%20%20%20%20%20%20%20%20%20var%20html_2b561ecbba1c4380a96f81091ad04bef%20%3D%20%24%28%60%3Cdiv%20id%3D%22html_2b561ecbba1c4380a96f81091ad04bef%22%20style%3D%22width%3A%20100.0%25%3B%20height%3A%20100.0%25%3B%22%3E%EC%9A%A9%EC%82%B0%EA%B5%AC%3C/div%3E%60%29%5B0%5D%3B%0A%20%20%20%20%20%20%20%20%20%20%20%20popup_595e0c31835243e3a92c57b0b5506a01.setContent%28html_2b561ecbba1c4380a96f81091ad04bef%29%3B%0A%20%20%20%20%20%20%20%20%0A%0A%20%20%20%20%20%20%20%20marker_3f353593fda54e7dbc86d633797d04cf.bindPopup%28popup_595e0c31835243e3a92c57b0b5506a01%29%0A%20%20%20%20%20%20%20%20%3B%0A%0A%20%20%20%20%20%20%20%20%0A%20%20%20%20%0A%20%20%20%20%0A%20%20%20%20%20%20%20%20%20%20%20%20var%20marker_6affebcd4bf74ae981bdb342d170d7ae%20%3D%20L.marker%28%0A%20%20%20%20%20%20%20%20%20%20%20%20%20%20%20%20%5B37.554977443156034%2C%20126.99619628068092%5D%2C%0A%20%20%20%20%20%20%20%20%20%20%20%20%20%20%20%20%7B%7D%0A%20%20%20%20%20%20%20%20%20%20%20%20%29.addTo%28map_e2619d05067546b889c2e3baf759fbae%29%3B%0A%20%20%20%20%20%20%20%20%0A%20%20%20%20%0A%20%20%20%20%20%20%20%20%20%20%20%20var%20icon_16982eac31d74e4a90d993ca45eb50c4%20%3D%20L.AwesomeMarkers.icon%28%0A%20%20%20%20%20%20%20%20%20%20%20%20%20%20%20%20%7B%22extraClasses%22%3A%20%22fa-rotate-0%22%2C%20%22icon%22%3A%20%22info-sign%22%2C%20%22iconColor%22%3A%20%22white%22%2C%20%22markerColor%22%3A%20%22green%22%2C%20%22prefix%22%3A%20%22glyphicon%22%7D%0A%20%20%20%20%20%20%20%20%20%20%20%20%29%3B%0A%20%20%20%20%20%20%20%20%20%20%20%20marker_6affebcd4bf74ae981bdb342d170d7ae.setIcon%28icon_16982eac31d74e4a90d993ca45eb50c4%29%3B%0A%20%20%20%20%20%20%20%20%0A%20%20%20%20%0A%20%20%20%20%20%20%20%20var%20popup_9e8a590ac7084c9f8e632e1c46b9647a%20%3D%20L.popup%28%7B%22maxWidth%22%3A%20%22100%25%22%7D%29%3B%0A%0A%20%20%20%20%20%20%20%20%0A%20%20%20%20%20%20%20%20%20%20%20%20var%20html_4fcfae319e604a1596a3b51f9e6a4f33%20%3D%20%24%28%60%3Cdiv%20id%3D%22html_4fcfae319e604a1596a3b51f9e6a4f33%22%20style%3D%22width%3A%20100.0%25%3B%20height%3A%20100.0%25%3B%22%3E%EC%A4%91%EA%B5%AC%3C/div%3E%60%29%5B0%5D%3B%0A%20%20%20%20%20%20%20%20%20%20%20%20popup_9e8a590ac7084c9f8e632e1c46b9647a.setContent%28html_4fcfae319e604a1596a3b51f9e6a4f33%29%3B%0A%20%20%20%20%20%20%20%20%0A%0A%20%20%20%20%20%20%20%20marker_6affebcd4bf74ae981bdb342d170d7ae.bindPopup%28popup_9e8a590ac7084c9f8e632e1c46b9647a%29%0A%20%20%20%20%20%20%20%20%3B%0A%0A%20%20%20%20%20%20%20%20%0A%20%20%20%20%0A%20%20%20%20%0A%20%20%20%20%20%20%20%20%20%20%20%20var%20marker_d749d37696f94cfa82cb5ccd070aa6a5%20%3D%20L.marker%28%0A%20%20%20%20%20%20%20%20%20%20%20%20%20%20%20%20%5B37.596316197388575%2C%20126.98846325377%5D%2C%0A%20%20%20%20%20%20%20%20%20%20%20%20%20%20%20%20%7B%7D%0A%20%20%20%20%20%20%20%20%20%20%20%20%29.addTo%28map_e2619d05067546b889c2e3baf759fbae%29%3B%0A%20%20%20%20%20%20%20%20%0A%20%20%20%20%0A%20%20%20%20%20%20%20%20%20%20%20%20var%20icon_b5850f8cef7a46c8a3d844bab5ddda56%20%3D%20L.AwesomeMarkers.icon%28%0A%20%20%20%20%20%20%20%20%20%20%20%20%20%20%20%20%7B%22extraClasses%22%3A%20%22fa-rotate-0%22%2C%20%22icon%22%3A%20%22info-sign%22%2C%20%22iconColor%22%3A%20%22white%22%2C%20%22markerColor%22%3A%20%22green%22%2C%20%22prefix%22%3A%20%22glyphicon%22%7D%0A%20%20%20%20%20%20%20%20%20%20%20%20%29%3B%0A%20%20%20%20%20%20%20%20%20%20%20%20marker_d749d37696f94cfa82cb5ccd070aa6a5.setIcon%28icon_b5850f8cef7a46c8a3d844bab5ddda56%29%3B%0A%20%20%20%20%20%20%20%20%0A%20%20%20%20%0A%20%20%20%20%20%20%20%20var%20popup_13c1301904904097867d632d2dac21ad%20%3D%20L.popup%28%7B%22maxWidth%22%3A%20%22100%25%22%7D%29%3B%0A%0A%20%20%20%20%20%20%20%20%0A%20%20%20%20%20%20%20%20%20%20%20%20var%20html_727019ff80d2415e8147ec00c580860b%20%3D%20%24%28%60%3Cdiv%20id%3D%22html_727019ff80d2415e8147ec00c580860b%22%20style%3D%22width%3A%20100.0%25%3B%20height%3A%20100.0%25%3B%22%3E%EC%A2%85%EB%A1%9C%EA%B5%AC%3C/div%3E%60%29%5B0%5D%3B%0A%20%20%20%20%20%20%20%20%20%20%20%20popup_13c1301904904097867d632d2dac21ad.setContent%28html_727019ff80d2415e8147ec00c580860b%29%3B%0A%20%20%20%20%20%20%20%20%0A%0A%20%20%20%20%20%20%20%20marker_d749d37696f94cfa82cb5ccd070aa6a5.bindPopup%28popup_13c1301904904097867d632d2dac21ad%29%0A%20%20%20%20%20%20%20%20%3B%0A%0A%20%20%20%20%20%20%20%20%0A%20%20%20%20%0A%3C/script%3E onload=\"this.contentDocument.open();this.contentDocument.write(    decodeURIComponent(this.getAttribute('data-html')));this.contentDocument.close();\" allowfullscreen webkitallowfullscreen mozallowfullscreen></iframe></div></div>"
      ],
      "text/plain": [
       "<folium.folium.Map at 0x7faa1c95cbe0>"
      ]
     },
     "execution_count": 44,
     "metadata": {},
     "output_type": "execute_result"
    }
   ],
   "source": [
    "import folium\n",
    "from folium import Choropleth\n",
    "# Initialize the map:\n",
    "center = [37.541, 126.986]\n",
    "m = folium.Map(location=center, tiles=\"OpenStreetMap\", zoom_start=11)\n",
    "\n",
    "Choropleth(\n",
    "    geo_data=state_geo,\n",
    "    name='PM10',\n",
    "    data=df_geo.loc[df_geo['date'] == date],\n",
    "    columns=['measureName', 'PM10'],\n",
    "    key_on='feature.properties.name',\n",
    "    fill_color='YlOrRd',   # https://github.com/dsc/colorbrewer-python\n",
    "    fill_opacity=0.6,\n",
    "    line_opacity=0.3,\n",
    "    color = 'gray',\n",
    "    legend_name = 'PM10'\n",
    ").add_to(m)\n",
    "for i, row in center_locations.iterrows():\n",
    "    folium.Marker(location=(row['Y'], row['X']), popup=row['NAME'], \n",
    "                  icon=folium.Icon(color='green')).add_to(m)\n",
    "m"
   ]
  },
  {
   "cell_type": "code",
   "execution_count": null,
   "id": "b771f883-3a11-43bc-9418-03a3f856aa9c",
   "metadata": {},
   "outputs": [],
   "source": [
    "import numpy as np\n",
    "import pandas as pd\n",
    "import matplotlib.pyplot as plt\n",
    "import seaborn as sns"
   ]
  },
  {
   "cell_type": "markdown",
   "id": "27ba4154-4b84-480b-81a0-71c34fd95ce8",
   "metadata": {},
   "source": [
    "# Excercise\n",
    "\n",
    "our goal is to predict the seoul air qualitiy, use the airpollution data to do following process \n",
    "\n",
    "## Data\n",
    "\n",
    "`df_seoul` contains following information from year 2018 - 2020\n",
    "\n",
    "|column|meanings|\n",
    "|---|---|\n",
    "|district|district (Gu) name of seoul |\n",
    "|date| date format '%Y-%m-%d %H'|\n",
    "|SO2| air pollutants: SO2 |\n",
    "|CO| air pollutants: CO |\n",
    "|O3| air pollutants: O3 |\n",
    "|NO2| air pollutants: NO2 |\n",
    "|PM10| air pollutants: PM10 |\n",
    "|PM25| air pollutants: PM25 |\n",
    "|PM10_AQI| PM10 calculated by AQI function |\n",
    "|PM25_AQI| PM25 calculated by AQI function |\n",
    "|temperature| temperature of each Gu and each timestamp |\n",
    "|precipitation| precipitation of each Gu and each timestamp |\n",
    "|windSpeed| wind speed of each Gu and each timestamp |\n",
    "|windDirection| wind direction of each Gu and each timestamp |\n",
    "|humidity| humidity of each Gu and each timestamp |\n",
    "|spotAtmosphericPressure| spot atmospheric pressure of each Gu and each timestamp |\n",
    "|groundTemperature| ground temperature of each Gu and each timestamp |"
   ]
  },
  {
   "cell_type": "markdown",
   "id": "8a044602-376e-4340-af85-1a7bb6dab854",
   "metadata": {},
   "source": [
    "**TODO 1**: use `pd.read_csv` function read the data from path `./data/airpollution/df_seoul.tsv`, `.tsv` is tab splitted data, you may need to use `sep` argument."
   ]
  },
  {
   "cell_type": "code",
   "execution_count": null,
   "id": "f6cbdcb0-148b-46b3-a1ec-a3df332b997e",
   "metadata": {},
   "outputs": [],
   "source": [
    "# read data\n",
    "path = \"./data/airpollution/df_seoul.tsv\"\n",
    "df = ???\n",
    "df.head()"
   ]
  },
  {
   "cell_type": "markdown",
   "id": "45e9de04-6735-428c-8d18-33df15317442",
   "metadata": {},
   "source": [
    "## Convert AQI to categorical Values\n",
    "\n",
    "- https://www.airnow.gov/aqi/aqi-basics/\n",
    "- https://en.wikipedia.org/wiki/Air_quality_index\n",
    "\n",
    "### AQI Table\n",
    "|Daily AQI Color|Levels of Concern|Values of Index|Description of Air Quality\n",
    "|---|---|---|---\n",
    "|Green|Good|0 to 50|Air quality is satisfactory, and air pollution poses little or no risk.\n",
    "|Yellow|Moderate|51 to 100|Air quality is acceptable. However, there may be a risk for some people, particularly those who are unusually sensitive to air pollution.\n",
    "|Orange|Unhealthy for Sensitive Groups|101 to 150|Members of sensitive groups may experience health effects. The general public is less likely to be affected.\n",
    "|Red|Unhealthy|151 to 200|Some members of the general public may experience health effects; members of sensitive groups may experience more serious health effects.\n",
    "|Purple|Very Unhealthy|201 to 300|Health alert: The risk of health effects is increased for everyone.\n",
    "|Maroon|Hazardous|301 and higher|Health warning of emergency conditions: everyone is more likely to be affected."
   ]
  },
  {
   "cell_type": "markdown",
   "id": "9a6dd20b-d2ac-4d6d-afc4-9339b082928d",
   "metadata": {},
   "source": [
    "**TODO 2**: implement `get_aqi_cate` by the AQI table, apply the `get_aqi_cate` to `PM10_AQI` and `PM25_AQI` columns, save it to `df` named by `PM10_AQI_CATE` and `PM25_AQI_CATE` separately(e.g. `df[column_name] = values`). \n",
    "\n",
    "```python\n",
    "# pseudo code:\n",
    "def get_aqi_cate(c): \n",
    "    \"\"\"\n",
    "    0 to 50 -> 0 \n",
    "    51 to 100 -> 1\n",
    "    101 to 150 -> 2\n",
    "    151 to 200 -> 3\n",
    "    201 to 300 -> 4\n",
    "    301 and higher -> 5\n",
    "    smaller than 0 -> -1\n",
    "    \"\"\"\n",
    "```"
   ]
  },
  {
   "cell_type": "code",
   "execution_count": null,
   "id": "c87e0511-500c-438f-9539-8ac98eceb134",
   "metadata": {},
   "outputs": [],
   "source": [
    "def get_aqi_cate(c):\n",
    "    \"\"\"\n",
    "    0 to 50 -> 0 \n",
    "    51 to 100 -> 1\n",
    "    101 to 150 -> 2\n",
    "    151 to 200 -> 3\n",
    "    201 to 300 -> 4\n",
    "    301 and higher -> 5\n",
    "    smaller than 0 -> -1\n",
    "    \"\"\"\n",
    "    ???"
   ]
  },
  {
   "cell_type": "code",
   "execution_count": null,
   "id": "b11198d2-80b2-4cde-b05d-e20c8f3f56cc",
   "metadata": {},
   "outputs": [],
   "source": [
    "# Apply the to PM10_AQI and PM25_AQI\n",
    "df[\"PM10_AQI_CATE\"] = ???\n",
    "df[\"PM25_AQI_CATE\"] = ???"
   ]
  },
  {
   "cell_type": "markdown",
   "id": "4e58ca02-e3fb-4d46-85df-8cf3cd3ccd25",
   "metadata": {},
   "source": [
    "**TODO 3**: plot the distribution of categories(`PM10_AQI_CATE`, `PM25_AQI_CATE`), you can use `sns.countplot` giving `x=target_col`, `data=df`, `ax=ax` as arguments"
   ]
  },
  {
   "cell_type": "code",
   "execution_count": null,
   "id": "277e5082-4583-456f-86b7-112fc07aaff2",
   "metadata": {},
   "outputs": [],
   "source": [
    "fig, axes = plt.subplots(1, 2, figsize=(12, 6))\n",
    "for ax, target_col in zip(axes.flatten(), [\"PM10_AQI_CATE\", \"PM25_AQI_CATE\"]):\n",
    "    \n",
    "    # TODO 3\n",
    "    ???\n",
    "    # --------------------------------------------------\n",
    "    ax.set_title(f\"{target_col}\", fontsize=12)\n",
    "    ax.set_xlabel(f\"{target_col.split('_')[0]} categories\", fontsize=12)\n",
    "    ax.set_ylabel(\"count\", fontsize=12)\n",
    "fig.suptitle(\"AQI Seoul Category Count Plot\", fontsize=14)\n",
    "plt.tight_layout()\n",
    "plt.show()"
   ]
  },
  {
   "cell_type": "markdown",
   "id": "c9882005-38fd-4815-865a-96851ccb49ab",
   "metadata": {},
   "source": [
    "## Encode district to numeric values\n",
    "\n",
    "**TODO 4**: implement a dictionary to `gu2idx` that map unique Gu in `df['district']` to a single integer value. Apply the `gu2idx.get` method to `district` column.\n",
    "\n",
    "```\n",
    "# example of gu2idx \n",
    "gu2idx = {\n",
    "    '강남구': 0,\n",
    "    '강동구': 1, \n",
    "    ...\n",
    "    '중구': 22,\n",
    "    ...\n",
    "}\n",
    "```"
   ]
  },
  {
   "cell_type": "code",
   "execution_count": null,
   "id": "3d90dcc6-3c18-4848-a647-42b01b6ccede",
   "metadata": {},
   "outputs": [],
   "source": [
    "gu2idx = ???"
   ]
  },
  {
   "cell_type": "code",
   "execution_count": null,
   "id": "a52a9a02-8d77-49e8-93ec-8ab6248af814",
   "metadata": {},
   "outputs": [],
   "source": [
    "# apply it to district\n",
    "df[\"district\"] = ???"
   ]
  }
 ],
 "metadata": {
  "kernelspec": {
   "display_name": "Python 3",
   "language": "python",
   "name": "python3"
  },
  "language_info": {
   "codemirror_mode": {
    "name": "ipython",
    "version": 3
   },
   "file_extension": ".py",
   "mimetype": "text/x-python",
   "name": "python",
   "nbconvert_exporter": "python",
   "pygments_lexer": "ipython3",
   "version": "3.8.10"
  }
 },
 "nbformat": 4,
 "nbformat_minor": 5
}
